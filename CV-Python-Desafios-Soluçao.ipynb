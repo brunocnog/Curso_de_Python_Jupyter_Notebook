{
 "cells": [
  {
   "cell_type": "markdown",
   "id": "986f4677",
   "metadata": {},
   "source": [
    "<font size=6 color='darkblue'><b>Curso em Vídeo - Curso de Python 3.0</b></font>\n",
    "<p>Jupyter Notebook criado por Bruno C. Nogueira.</p>"
   ]
  },
  {
   "cell_type": "markdown",
   "id": "4cc2f92e",
   "metadata": {},
   "source": [
    "<p>Este notebook foi criado com o objetivo de reunir as soluções dos exercícios propostos durante o curso <b>Curso de Python 3.0</b> do professor <b>Gustavo Guanabara</b>, oferecido pelo portal <a href=\"http://www.cursoemvideo.com\">Curso em Vídeo</a> e o <a href=\"https://www.youtube.com/c/CursoemV%C3%ADdeo\">Canal Curso em Vídeo</a>. Todos os créditos das soluções apresentadas são do próprio professor.</p>"
   ]
  },
  {
   "cell_type": "markdown",
   "id": "56815eb5",
   "metadata": {},
   "source": [
    "<p>A intenção é fornecer um acesso centralizado às respostas para ajudar os novos estudantes que desejam conferir suas soluções após tentarem resolver os desafios por conta própria. É importante reforçar que consultar as soluções deve ser a última etapa no processo de aprendizado.</p>\n",
    "\n",
    "<p>O uso de Jupyter Notebooks em conjunto com o <a href=\"https://www.anaconda.com/\">Anaconda</a> é uma abordagem recomendada para experimentação interativa, mas não substitui outras ferramentas, como o PyCharm, durante a prática de programação. Além disso, é necessário ter cuidado com a execução de comandos em notebooks, uma vez que podem ter comportamentos distintos em relação a outras IDEs.</p>\n",
    "\n",
    "<p>Muitas das tags HTML usadas na criação deste material foram baseadas no conhecimento adquirido através do <a href=\"https://www.youtube.com/playlist?list=PLHz_AreHm4dlAnJ_jJtV29RFxnPHDuk9o\">Curso de HTML 5</a> do Curso em Vídeo.</p>\n",
    "\n",
    "<font color='red'><b>Atenção: Tente resolver os desafios antes de consultar as respostas, para maximizar seu aprendizado!</b></font>"
   ]
  },
  {
   "cell_type": "markdown",
   "id": "45c5c50d",
   "metadata": {},
   "source": [
    "# <font color = 'green'><a name=\"Mundo1\">Mundo 1</font>"
   ]
  },
  {
   "cell_type": "markdown",
   "id": "46934bef",
   "metadata": {
    "solution": "shown",
    "solution_first": true
   },
   "source": [
    "##  <font color = 'red'> Desafio 001 - Deixando tudo pronto</font>\n",
    "Crie um script python que leia o nome de uma pessoa e mostre uma mensagem de boas-vindas de acordo com o valor digitado.\n",
    "<p> Exemplo da mensagem: \"Olá Bruno! Prazer em te conhecer! </P>"
   ]
  },
  {
   "cell_type": "code",
   "execution_count": 2,
   "id": "c592b938",
   "metadata": {
    "ExecuteTime": {
     "end_time": "2024-09-09T12:47:04.273001Z",
     "start_time": "2024-09-09T12:47:02.486263Z"
    },
    "solution": "shown"
   },
   "outputs": [
    {
     "name": "stdout",
     "output_type": "stream",
     "text": [
      "Qual o seu nome?Bruno\n",
      "Olá Bruno ! Prazer em te conhecer!\n"
     ]
    }
   ],
   "source": [
    "nome = input('Qual o seu nome?')\n",
    "print('Olá',nome,\"!\",\"Prazer em te conhecer!\")"
   ]
  },
  {
   "cell_type": "markdown",
   "id": "27fca7c8",
   "metadata": {},
   "source": [
    "##  <font color = 'red'> Desafio 002 - Respondendo ao Usuário</font>\n",
    "Crie um script python que leia o dia, o mês e o ano de nascimento de uma pessoa e mostre uma mensagem com a fata formatada.\n",
    "<p> Exemplo da mensagem: \"Você nasceu no dia 17 de Março de 1978. </p>"
   ]
  },
  {
   "cell_type": "code",
   "execution_count": 7,
   "id": "94679449",
   "metadata": {},
   "outputs": [
    {
     "name": "stdout",
     "output_type": "stream",
     "text": [
      "Qual seu dia de nascimento? 27\n",
      "Qual seu mês de nascimento? dezembro\n",
      "Qual seu ano de nascimento? 1985\n",
      "Você nasceu no dia 27 de dezembro de 1985 .\n"
     ]
    }
   ],
   "source": [
    "dia = input('Qual seu dia de nascimento? ')\n",
    "mes = input('Qual seu mês de nascimento? ')\n",
    "ano = input('Qual seu ano de nascimento? ')\n",
    "print('Você nasceu no dia',dia,'de',mes,'de',ano,\".\")"
   ]
  },
  {
   "cell_type": "markdown",
   "id": "c6180ce9",
   "metadata": {},
   "source": [
    "##  <font color = 'red'> Desafio 003 - Somando dois números</font>\n",
    "Crie um script python que leia dois números e **tente** mostrar a soma entre eles. <p>Observação: Provavelmente você não conseguirá resolver esse desafio sem fazer uma pesquisa. Mas não se preocupe, será explicado na próxima aula.\n",
    "<p> Exemplo de saída: \"A soma é 10\" <p>"
   ]
  },
  {
   "cell_type": "code",
   "execution_count": 11,
   "id": "db5ef0e0",
   "metadata": {},
   "outputs": [
    {
     "name": "stdout",
     "output_type": "stream",
     "text": [
      "Digite um número:4\n",
      "Digite outro número:6\n",
      "A soma é 46\n"
     ]
    }
   ],
   "source": [
    "n1 = input('Digite um número:')\n",
    "n2 = input('Digite outro número:')\n",
    "s = n1 + n2\n",
    "print('A soma é', s)"
   ]
  },
  {
   "cell_type": "markdown",
   "id": "5f4984b8",
   "metadata": {},
   "source": [
    "##  <font color = 'red'> Desafio 004 - Dissecando uma Variável</font>\n",
    "Faça um programa que leia algo pelo teclado e mostre na tela o seu tipo primitivo respondendo as sequintes perguntas:\n",
    "<br>O tipo primitivo é: <br>Só tem espaços? <br>É um número?\n",
    "<br>É alfabético? <br>É alfanumérico? <br>Está em maiúscula?\n",
    "<br>Está em minúscula? <br>Está capitularizada?"
   ]
  },
  {
   "cell_type": "code",
   "execution_count": 30,
   "id": "218f32c0",
   "metadata": {},
   "outputs": [
    {
     "name": "stdout",
     "output_type": "stream",
     "text": [
      "Digite algo: Python\n",
      "O tipo primitivo é <class 'str'>:\n",
      "Só tem espaços? False\n",
      "É um número? False\n",
      "É alfabético? True\n",
      "É alfanumérico? True\n",
      "Está em maiúscula? False\n",
      "Está em minúscula? False\n",
      "Está capitularizada? True\n"
     ]
    }
   ],
   "source": [
    "a = input('Digite algo: ')\n",
    "print('O tipo primitivo é {}:'.format(type(a)))\n",
    "print('Só tem espaços? {}'.format(a.isspace()))\n",
    "print('É um número? {}'.format(a.isnumeric()))\n",
    "print('É alfabético? {}'.format(a.isalpha()))\n",
    "print('É alfanumérico? {}'.format(a.isalnum()))\n",
    "print('Está em maiúscula? {}'.format(a.isupper()))\n",
    "print('Está em minúscula? {}'.format(a.islower()))\n",
    "print('Está capitularizada? {}'.format(a.istitle()))"
   ]
  },
  {
   "cell_type": "markdown",
   "id": "f3b1c0e6",
   "metadata": {},
   "source": [
    "##  <font color = 'red'> Desafio 005 - Antecessor e Sucessor </font>\n",
    "Faça um programa que leia um número inteiro e mostra na tela seu sucessor e seu antecessor."
   ]
  },
  {
   "cell_type": "code",
   "execution_count": 34,
   "id": "eec378cb",
   "metadata": {},
   "outputs": [
    {
     "name": "stdout",
     "output_type": "stream",
     "text": [
      "Digite um número: 10\n",
      "Antes do número 10 vem o número 9 e depois número 12\n"
     ]
    }
   ],
   "source": [
    "n = int(input('Digite um número: '))\n",
    "print('Antes do número {} vem o número {} e depois número {}'.format(n, n-1, n+2 ))"
   ]
  },
  {
   "cell_type": "markdown",
   "id": "2c43f7ce",
   "metadata": {},
   "source": [
    "##  <font color = 'red'> Desafio 006 - Dobro, Triplo, Raiz Quadrada </font>\n",
    "Crie um algoritmo que leia um número e mostre o seu dobro, tripo e raiz quadrada."
   ]
  },
  {
   "cell_type": "code",
   "execution_count": 39,
   "id": "f4bba9d0",
   "metadata": {},
   "outputs": [
    {
     "name": "stdout",
     "output_type": "stream",
     "text": [
      "Digite um número: 9\n",
      "O dobro de 9 é 18, tripo é 27 e a raiz quadrada é 3.\n"
     ]
    }
   ],
   "source": [
    "n = int(input('Digite um número: '))\n",
    "print('O dobro de {} é {}, tripo é {} e a raiz quadrada é {:.0f}.'.format(n, n*2, n*3, n**(1/2)))"
   ]
  },
  {
   "cell_type": "markdown",
   "id": "e9821847",
   "metadata": {},
   "source": [
    "##  <font color = 'red'> Desafio 007 - Média Aritmética</font>\n",
    "Desenvolda um programa que leia as duas notas de um aluno, calcule e mostre sua média."
   ]
  },
  {
   "cell_type": "code",
   "execution_count": 45,
   "id": "aa3503f6",
   "metadata": {},
   "outputs": [
    {
     "name": "stdout",
     "output_type": "stream",
     "text": [
      "Digite a primeira nota: 5\n",
      "Digite a segunda nota: 10\n",
      "A média da primeira nota, 5.0 com a segunda nota, 10.0 é 7.5 \n"
     ]
    }
   ],
   "source": [
    "nota1 = float(input('Digite a primeira nota: '))\n",
    "nota2 = float(input('Digite a segunda nota: '))\n",
    "media = (nota1 + nota2) / 2\n",
    "print('A média da primeira nota, {} com a segunda nota, {} é {} '.format(nota1, nota2, (media)))"
   ]
  },
  {
   "cell_type": "markdown",
   "id": "9b16246d",
   "metadata": {},
   "source": [
    "##  <font color = 'red'> Desafio 008 - Conversor de Medidas </font>\n",
    "Escreva um programa que leia um valor em metros e o exiba convertido em centímetros e milímetros."
   ]
  },
  {
   "cell_type": "code",
   "execution_count": 46,
   "id": "fc260b92",
   "metadata": {},
   "outputs": [
    {
     "name": "stdout",
     "output_type": "stream",
     "text": [
      "Digite o valor em metros a ser convertido: 1\n",
      "1.0 m é igual a 100.0cm ou 1000.0mm\n"
     ]
    }
   ],
   "source": [
    "metros = float(input('Digite o valor em metros a ser convertido: '))\n",
    "cent = metros * 100\n",
    "mili = metros * 1000\n",
    "print('{} m é igual a {}cm ou {}mm'.format(metros, cent, mili))"
   ]
  },
  {
   "cell_type": "markdown",
   "id": "9d5abe7d",
   "metadata": {},
   "source": [
    "##  <font color = 'red'> Desafio 009 - Tabuada </font>\n",
    "Faça um programa que leia um número inteiro qualquer e mostra na tela a sua tabuada. (Tente fazer o mais bonito possível)."
   ]
  },
  {
   "cell_type": "code",
   "execution_count": 57,
   "id": "e9b4b582",
   "metadata": {},
   "outputs": [
    {
     "name": "stdout",
     "output_type": "stream",
     "text": [
      "Qual a tabuada de: 5\n",
      " \n",
      "Tabuada de 5\n",
      " 5 x 1  = 5 \n",
      " 5 x 2  = 10\n",
      " 5 x 3  = 15\n",
      " 5 x 4  = 20\n",
      " 5 x 5  = 25\n",
      " 5 x 6  = 30\n",
      " 5 x 7  = 35\n",
      " 5 x 8  = 40\n",
      " 5 x 9  = 45\n",
      " 5 x 10 = 50\n"
     ]
    }
   ],
   "source": [
    "n = int(input('Qual a tabuada de: '))\n",
    "print(' ')\n",
    "n1 =  n * 1\n",
    "n2 =  n * 2\n",
    "n3 =  n * 3\n",
    "n4 =  n * 4\n",
    "n5 =  n * 5\n",
    "n6 =  n * 6\n",
    "n7 =  n * 7\n",
    "n8 =  n * 8\n",
    "n9 =  n * 9\n",
    "n10 = n * 10\n",
    "print('Tabuada de {}'.format(n))\n",
    "print('{:>2} x {:<2} = {:<2}'.format(n, 1, n1))\n",
    "print('{:>2} x {:<2} = {:<2}'.format(n, 2, n2))\n",
    "print('{:>2} x {:<2} = {:<2}'.format(n, 3, n3))\n",
    "print('{:>2} x {:<2} = {:<2}'.format(n, 4, n4))\n",
    "print('{:>2} x {:<2} = {:<2}'.format(n, 5, n5))\n",
    "print('{:>2} x {:<2} = {:<2}'.format(n, 6, n6))\n",
    "print('{:>2} x {:<2} = {:<2}'.format(n, 7, n7))\n",
    "print('{:>2} x {:<2} = {:<2}'.format(n, 8, n8))\n",
    "print('{:>2} x {:<2} = {:<2}'.format(n, 9, n9))\n",
    "print('{:>2} x {:>2} = {:<2}'.format(n, 10, n10))\n"
   ]
  },
  {
   "cell_type": "markdown",
   "id": "348ab8cd",
   "metadata": {},
   "source": [
    "##  <font color = 'red'> Desafio 010 - Conversor de Moedas</font>\n",
    "Crie um programa que leia quanto dinheiro uma pessoa tem na carteira e mostre quantos dólares ela pode comprar. <br> Considere UDS 1 = R$ 3,27"
   ]
  },
  {
   "cell_type": "code",
   "execution_count": 64,
   "id": "351a85f0",
   "metadata": {},
   "outputs": [
    {
     "name": "stdout",
     "output_type": "stream",
     "text": [
      "Digite quantos reais você tem: 6.54\n",
      "Com 6.54 reais você pode comprar 2.0 dolares.\n"
     ]
    }
   ],
   "source": [
    "real = float(input('Digite quantos reais você tem: '))\n",
    "dolar = real / 3.27\n",
    "print('Com {} reais você pode comprar {} dolares.'.format(real, dolar))"
   ]
  },
  {
   "cell_type": "markdown",
   "id": "8c60bae6",
   "metadata": {},
   "source": [
    "##  <font color = 'red'> Desafio 011 - Pintando Parede </font>\n",
    "Faça um programa que leia a largura e a altura de uma parede em metros, calcule a sua área e a quantidade de tinta necessária para pintá-la, sabendo que cada litro de tinta, pinta uma área de 2m²."
   ]
  },
  {
   "cell_type": "code",
   "execution_count": 69,
   "id": "f7cdf6b5",
   "metadata": {},
   "outputs": [
    {
     "name": "stdout",
     "output_type": "stream",
     "text": [
      "Digite a largura da parede em metros: 1\n",
      "Digite a altura da parede em metros: 3\n",
      "Uma parede de 1.0m de largura por 3.0m de altura tem uma área de 3.0m².\n",
      "Logo será necessário 1.5 litros de tinta para pinta-la.\n"
     ]
    }
   ],
   "source": [
    "lar = float(input('Digite a largura da parede em metros: '))\n",
    "alt = float(input('Digite a altura da parede em metros: '))\n",
    "area = lar * alt\n",
    "tinta = (area / 2)\n",
    "print('Uma parede de {}m de largura por {}m de altura tem uma área de {}m².'.format(lar, alt, area))\n",
    "print('Logo será necessário {} litros de tinta para pinta-la.'.format(tinta))"
   ]
  },
  {
   "cell_type": "markdown",
   "id": "e9c79442",
   "metadata": {},
   "source": [
    "##  <font color = 'red'> Desafio 012 - Calculando Descontos</font>\n",
    "Faça um algoritmo que leia o preço de um produto e mostre seu novo preço, com 5% de desconto."
   ]
  },
  {
   "cell_type": "code",
   "execution_count": 71,
   "id": "2ece1d0b",
   "metadata": {},
   "outputs": [
    {
     "name": "stdout",
     "output_type": "stream",
     "text": [
      "Digite o preço do produto: 50\n",
      "O valor do produto com 5% de desconto é 47.5\n"
     ]
    }
   ],
   "source": [
    "p = float(input('Digite o preço do produto: '))\n",
    "desc = p - (p * 0.05)\n",
    "print('O valor do produto com 5% de desconto é {}'.format(desc))"
   ]
  },
  {
   "cell_type": "markdown",
   "id": "0ddcabf2",
   "metadata": {},
   "source": [
    "##  <font color = 'red'> Desafio 013 - Reajuste Salarial </font>\n",
    "Faça um algorítmo que leia o salário de um funcionário e mostre seu novo salário, com 15% de aumento."
   ]
  },
  {
   "cell_type": "code",
   "execution_count": 5,
   "id": "55b298f6",
   "metadata": {},
   "outputs": [
    {
     "name": "stdout",
     "output_type": "stream",
     "text": [
      "Digite o seu salário: 50\n",
      "Seu novo salário é 57.5\n"
     ]
    }
   ],
   "source": [
    "s = float(input('Digite o seu salário: '))\n",
    "a = s + (s * 0.15)\n",
    "print('Seu novo salário é {}'.format(a))"
   ]
  },
  {
   "cell_type": "markdown",
   "id": "1113369e",
   "metadata": {},
   "source": [
    "##  <font color = 'red'> Desafio 014 - Conversor de Temperaturas </font>\n",
    "Escreva um programa que converta uma temperatura digitada em °C em °F."
   ]
  },
  {
   "cell_type": "code",
   "execution_count": 3,
   "id": "ea8364d8",
   "metadata": {},
   "outputs": [
    {
     "name": "stdout",
     "output_type": "stream",
     "text": [
      "Informe a temperatura em °C: 45\n",
      "A temperatura de 45.0 °C corresponde a 113.0 em °F.\n"
     ]
    }
   ],
   "source": [
    "c = float(input('Informe a temperatura em °C: '))\n",
    "f = ((9 * c) / 5) + 32\n",
    "#se quiser utilizar a ordem de precedência não precisa coloar os ()\n",
    "#logo a variável f pode ficar: f = 9 * c / 5 + 32\n",
    "print('A temperatura de {} °C corresponde a {} em °F.'.format(c, f))"
   ]
  },
  {
   "cell_type": "markdown",
   "id": "c197084e",
   "metadata": {},
   "source": [
    "##  <font color = 'red'> Desafio 015 - Aluguel de Carro</font>\n",
    "Escreva um programa que pergunte a quantidade de Km percorridos por um carro alugado e a quantidade de dias pelos quais ele foi alugado. Calcule o preço a pagar, sabendo que o carro custa 60,00 reais por dia e 0,15 centavos por Km rodado."
   ]
  },
  {
   "cell_type": "code",
   "execution_count": 11,
   "id": "c68a43a1",
   "metadata": {},
   "outputs": [
    {
     "name": "stdout",
     "output_type": "stream",
     "text": [
      "Quantos km o carro percorreu? 350\n",
      "Por quantos dias o carro foi alugado? 3\n",
      "O carro percorreu 350.0 por 3 dias. O valor do aluguel é R$232.50\n"
     ]
    }
   ],
   "source": [
    "km = float(input('Quantos km o carro percorreu? '))\n",
    "dias = int(input('Por quantos dias o carro foi alugado? '))\n",
    "pr = (km * 0.15) + (dias * 60)\n",
    "print('O carro percorreu {} por {} dias. O valor do aluguel é R${:.2f}'.format(km, dias, pr))"
   ]
  },
  {
   "cell_type": "markdown",
   "id": "eee8b8b5",
   "metadata": {},
   "source": [
    "##  <font color = 'red'> Desafio 016 - Quebrando um número</font>\n",
    "Crie um programa que leia um número Real qualquer pelo teclado e mostre na tela a sua porção inteira.</br>\n",
    "Ex.: Digite um número: 6.127. O número 6.127 tem a parte inteira 6."
   ]
  },
  {
   "cell_type": "code",
   "execution_count": 23,
   "id": "6cb5486e",
   "metadata": {},
   "outputs": [
    {
     "name": "stdout",
     "output_type": "stream",
     "text": [
      "Digite um valor: 34.421\n",
      "O número 34.421 tem a parte inteira 34.0.\n"
     ]
    }
   ],
   "source": [
    "#sem importar uma biblioteca\n",
    "n = float(input('Digite um valor: '))\n",
    "inteiro = n // 1\n",
    "print('O número {} tem a parte inteira {}.'.format(n, inteiro))"
   ]
  },
  {
   "cell_type": "code",
   "execution_count": 20,
   "id": "3c0be161",
   "metadata": {},
   "outputs": [
    {
     "name": "stdout",
     "output_type": "stream",
     "text": [
      "Digite um valor: 6.127\n",
      "O número 6.127 tem a parte inteira 6.\n"
     ]
    }
   ],
   "source": [
    "#sem importar uma biblioteca e usando a função int\n",
    "n = float(input('Digite um valor: '))\n",
    "print('O número {} tem a parte inteira {}.'.format(n, int(n)))"
   ]
  },
  {
   "cell_type": "code",
   "execution_count": 17,
   "id": "ac27f428",
   "metadata": {},
   "outputs": [
    {
     "name": "stdout",
     "output_type": "stream",
     "text": [
      "Digite um valor: 6.127\n",
      "O número 6.127 tem a parte inteira 6.0.\n"
     ]
    }
   ],
   "source": [
    "#importando toda biblioteca\n",
    "import math\n",
    "n = float(input('Digite um valor: '))\n",
    "print('O número {} tem a parte inteira {:.1f}.'.format(n, math.trunc(n)))"
   ]
  },
  {
   "cell_type": "code",
   "execution_count": 19,
   "id": "8ea4725c",
   "metadata": {},
   "outputs": [
    {
     "name": "stdout",
     "output_type": "stream",
     "text": [
      "Digite um valor: 6.127\n",
      "O número 6.127 tem a parte inteira 6.0.\n"
     ]
    }
   ],
   "source": [
    "#importando só a função trunc\n",
    "from math import trunc\n",
    "n = float(input('Digite um valor: '))\n",
    "print('O número {} tem a parte inteira {:.1f}.'.format(n, trunc(n)))"
   ]
  },
  {
   "cell_type": "markdown",
   "id": "0b18b6e7",
   "metadata": {},
   "source": [
    "##  <font color = 'red'> Desafio 017 - Catetos e Hipotenusa</font>\n",
    "Faça um programa que leia o comprimento do cateto oposto e do cateto adjacente de um triângulo retângulo, calcula e mostre o comprimento da hipotenusa."
   ]
  },
  {
   "cell_type": "code",
   "execution_count": 30,
   "id": "036bfda5",
   "metadata": {},
   "outputs": [
    {
     "name": "stdout",
     "output_type": "stream",
     "text": [
      "Digite o valor do cateto oposto: 3\n",
      "Digite o valor do cateto adjacente: 4\n",
      "O valor da hipotenusa vale: 5.0 \n"
     ]
    }
   ],
   "source": [
    "#o quadrado da hipotenusa é igual à soma dos quadrados dos catetos.\n",
    "#Sem importar uma biblioteca\n",
    "copt = float(input('Digite o valor do cateto oposto: '))\n",
    "cadj = float(input('Digite o valor do cateto adjacente: '))\n",
    "hipo = ((copt**2) + (cadj**2)) ** (1/2)\n",
    "print('O valor da hipotenusa vale: {:.2f} '.format(hipo))"
   ]
  },
  {
   "cell_type": "code",
   "execution_count": 32,
   "id": "719fd421",
   "metadata": {},
   "outputs": [
    {
     "name": "stdout",
     "output_type": "stream",
     "text": [
      "Digite o valor do cateto oposto: 3\n",
      "Digite o valor do cateto adjacente: 4\n",
      "O valor da hipotenusa vale: 5.00 \n"
     ]
    }
   ],
   "source": [
    "#Importando somente a função hypot da biblioteca math\n",
    "from math import hypot\n",
    "copt = float(input('Digite o valor do cateto oposto: '))\n",
    "cadj = float(input('Digite o valor do cateto adjacente: '))\n",
    "hipo = hypot(copt, cadj)\n",
    "print('O valor da hipotenusa vale: {:.2f} '.format(hipo))"
   ]
  },
  {
   "cell_type": "markdown",
   "id": "bcb877cb",
   "metadata": {},
   "source": [
    "##  <font color = 'red'> Desafio 018 - Seno, Cosseno e Tangente</font>\n",
    "Faça um programa que leia um ângulo qualquer e mostre na tela o valor do seno, cosseno e tangente desse ângulo."
   ]
  },
  {
   "cell_type": "code",
   "execution_count": 35,
   "id": "716b4f5d",
   "metadata": {},
   "outputs": [
    {
     "name": "stdout",
     "output_type": "stream",
     "text": [
      "Digite o valor do ângulo: 30\n",
      "O âgulo de 30.0 tem o seno de 0.50, cosseno de 0.87 e tangente de 0.58\n"
     ]
    }
   ],
   "source": [
    "#Importanto somente as funções sin, cos e tan da biblioteca math\n",
    "from math import sin, cos, tan, radians\n",
    "ang = float(input('Digite o valor do ângulo: '))\n",
    "seno = sin(radians(ang))\n",
    "cosseno = cos(radians(ang))\n",
    "tangente = tan(radians(ang))\n",
    "print('O âgulo de {} tem o seno de {:.2f}, cosseno de {:.2f} e tangente de {:.2f}'.format(ang, seno, cosseno, tangente))"
   ]
  },
  {
   "cell_type": "markdown",
   "id": "9c2b0aa3",
   "metadata": {},
   "source": [
    "##  <font color = 'red'> Desafio 019 - Sorteando um item na lista</font>\n",
    "Um professor quer sortear um dos seus quatro alunos para apagar o quadro. Faça um programa que ajude ele, lendo o nome deles e escrevendo o nome do escolhido."
   ]
  },
  {
   "cell_type": "code",
   "execution_count": 39,
   "id": "c91bad37",
   "metadata": {},
   "outputs": [
    {
     "name": "stdout",
     "output_type": "stream",
     "text": [
      "Primeiro aluno: A\n",
      "Segundo aluno: B\n",
      "Terceiro aluno: C\n",
      "Quarto aluno: D\n",
      "O aluno escolhido foi B\n"
     ]
    }
   ],
   "source": [
    "#Importar somente a função choice da biblioteca random\n",
    "#Não é necessário declarar que é uma string, mas será usado.\n",
    "from random import choice\n",
    "a1 = str(input('Primeiro aluno: '))\n",
    "a2 = str(input('Segundo aluno: '))\n",
    "a3 = str(input('Terceiro aluno: '))\n",
    "a4 = str(input('Quarto aluno: '))\n",
    "#lista em python fica entre []\n",
    "lista = [a1, a2, a3, a4]\n",
    "aluno = choice(lista)\n",
    "print('O aluno escolhido foi {}'.format(aluno))"
   ]
  },
  {
   "cell_type": "markdown",
   "id": "bf4255c6",
   "metadata": {},
   "source": [
    "##  <font color = 'red'> Desafio 020 Sorteando uma ordem na lista</font>\n",
    "O mesmo professor do desafio anterior quer sortear a ordem de apresentaão de trabalhos dos alunos. Faça um programa que leia o nome dos quatro alunos e mostre a ordem sorteada."
   ]
  },
  {
   "cell_type": "code",
   "execution_count": 46,
   "id": "4dd6e0d3",
   "metadata": {},
   "outputs": [
    {
     "name": "stdout",
     "output_type": "stream",
     "text": [
      "Primeiro aluno: A\n",
      "Segundo aluno: B\n",
      "Terceiro aluno: C\n",
      "Quarto aluno: D\n",
      "A ordem de apresentação sera: \n",
      "['C', 'B', 'D', 'A']\n"
     ]
    }
   ],
   "source": [
    "from random import shuffle\n",
    "a1 = str(input('Primeiro aluno: '))\n",
    "a2 = str(input('Segundo aluno: '))\n",
    "a3 = str(input('Terceiro aluno: '))\n",
    "a4 = str(input('Quarto aluno: '))\n",
    "lista = [a1, a2, a3, a4]\n",
    "shuffle(lista)\n",
    "print('A ordem de apresentação sera: ')\n",
    "print(lista)"
   ]
  },
  {
   "cell_type": "markdown",
   "id": "ac5eddb8",
   "metadata": {},
   "source": [
    "##  <font color = 'red'> Desafio 021 Tocando um MP3</font>\n",
    "Faça um programa em Python que abra e reproduza o áudio de um arquivo MP3."
   ]
  },
  {
   "cell_type": "code",
   "execution_count": 51,
   "id": "7c60399e",
   "metadata": {},
   "outputs": [
    {
     "name": "stdout",
     "output_type": "stream",
     "text": [
      "Collecting pygame\n",
      "  Downloading pygame-2.1.2-cp38-cp38-win_amd64.whl (8.4 MB)\n",
      "Installing collected packages: pygame\n",
      "Successfully installed pygame-2.1.2\n"
     ]
    }
   ],
   "source": [
    " !pip3 install pygame"
   ]
  },
  {
   "cell_type": "code",
   "execution_count": 2,
   "id": "e2a22ae6",
   "metadata": {},
   "outputs": [
    {
     "data": {
      "text/plain": [
       "<Event(4352-AudioDeviceAdded {'which': 1, 'iscapture': 0})>"
      ]
     },
     "execution_count": 2,
     "metadata": {},
     "output_type": "execute_result"
    }
   ],
   "source": [
    "import pygame\n",
    "pygame.init()\n",
    "pygame.mixer.music.load(r'C:\\Users\\Bruno\\Downloads\\alok.mp3')\n",
    "pygame.mixer.music.play()\n",
    "#pygame.event.wait(): para parar a música quando ela terminar\n",
    "pygame.event.wait()"
   ]
  },
  {
   "cell_type": "code",
   "execution_count": 3,
   "id": "997aa362",
   "metadata": {},
   "outputs": [],
   "source": [
    "#para interromper a música\n",
    "pygame.mixer.music.stop()"
   ]
  },
  {
   "cell_type": "markdown",
   "id": "385a89f7",
   "metadata": {},
   "source": [
    "##  <font color = 'red'> Desafio 022 - Analisador de Textos</font>\n",
    "Crie um programa que leia o nome completo de uma pessoa e mostre:\n",
    "<br> O nome com todas as letras maiúsculas; </br>\n",
    "<br> O nome com todas as letras minúsculas; </br>\n",
    "<br> Quantas letras ao todo (sem considerar espaços); e </br>\n",
    "<br> Quantas letras tem o primeiro nome. </br>"
   ]
  },
  {
   "cell_type": "code",
   "execution_count": 16,
   "id": "a859a813",
   "metadata": {},
   "outputs": [
    {
     "name": "stdout",
     "output_type": "stream",
     "text": [
      "Digite seu nome completo:  Bruno \n",
      " BRUNO \n",
      " bruno \n",
      "O nome Bruno possui 5 letras.\n",
      "O primeiro nome possui 5 letras.\n"
     ]
    }
   ],
   "source": [
    "nome = input('Digite seu nome completo: ')\n",
    "print(nome.upper())\n",
    "print(nome.lower())\n",
    "nnome = nome.replace(' ', '')\n",
    "n1nome = nome.split()\n",
    "\n",
    "print('O nome {} possui {} letras.'.format(nome.strip(), len(nnome)))\n",
    "print('O primeiro nome possui {} letras.'.format(len(n1nome[0])))"
   ]
  },
  {
   "cell_type": "markdown",
   "id": "72e3d9d2",
   "metadata": {},
   "source": [
    "##  <font color = 'red'> Desafio 023 - Separando dígitos de um número </font>\n",
    "Faça um programa que leia um número de 0 a 9999 e mostra na tela cada um dos digitos separados. </br>\n",
    "- Ex.: Digite um número: 1834\n",
    " - unidade: 4\n",
    " - dezena: 3\n",
    " - centena 8\n",
    " - milhar: 1"
   ]
  },
  {
   "cell_type": "code",
   "execution_count": 1,
   "id": "1bbac099",
   "metadata": {},
   "outputs": [
    {
     "name": "stdout",
     "output_type": "stream",
     "text": [
      "Informe um número: 1234\n",
      "Analisando o número 1234.\n",
      "Unidade: 4.\n",
      "Dezenna: 3.\n",
      "Centena: 2.\n",
      "Milhar 1.\n"
     ]
    }
   ],
   "source": [
    "#resolvendo por meio de string. \n",
    "#Contudo essa forma gera um erro se não for usado os 4 dígitos. Teste e confira.\n",
    "num = int(input('Informe um número: '))\n",
    "n = str(num)\n",
    "print(f'Analisando o número {num}.')\n",
    "print(f'Unidade: {n[3]}.')\n",
    "print(f'Dezenna: {n[2]}.')\n",
    "print(f'Centena: {n[1]}.')\n",
    "print(f'Milhar {n[0]}.')"
   ]
  },
  {
   "cell_type": "code",
   "execution_count": 46,
   "id": "f5822193",
   "metadata": {},
   "outputs": [
    {
     "name": "stdout",
     "output_type": "stream",
     "text": [
      "Informe um número: 234467\n",
      "Analisando o número 234467\n",
      "Unidade: 7\n",
      "Dezena: 6\n",
      "Centena: 4\n",
      "Milhar 4\n"
     ]
    }
   ],
   "source": [
    "#resolvendo de forma matemática\n",
    "num = int(input('Informe um número: '))\n",
    "u = (num // 1) % 10\n",
    "d = (num // 10) % 10\n",
    "c = (num // 100) % 10\n",
    "m = (num // 1000) % 10\n",
    "print(f'Analisando o número {num}')\n",
    "print(f'Unidade: {u}')\n",
    "print(f'Dezena: {d}')\n",
    "print(f'Centena: {c}')\n",
    "print(f'Milhar {m}')"
   ]
  },
  {
   "cell_type": "markdown",
   "id": "d4339216",
   "metadata": {},
   "source": [
    "## <font color = 'red'> Desafio 024 - Verificando as primeiras letras de um texto </font>\n",
    "Crie um programa que leia o nome de uma cidade e diga se ela começa ou não com o nome \"SANTO\"."
   ]
  },
  {
   "cell_type": "code",
   "execution_count": 8,
   "id": "41965aad",
   "metadata": {},
   "outputs": [
    {
     "name": "stdout",
     "output_type": "stream",
     "text": [
      "Digite o nome de uma cidade:kjfa sdflja sdflja sljfa sjfd\n",
      "False\n"
     ]
    }
   ],
   "source": [
    "cid = str(input('Digite o nome de uma cidade:')).strip()\n",
    "#strip() retira os espaços\n",
    "print(cid[:5].upper() == 'SANTO')\n",
    "#upper() altera a string para maiúsculo.\n",
    "#poderia altarar a string para lower()"
   ]
  },
  {
   "cell_type": "markdown",
   "id": "978b16d4",
   "metadata": {},
   "source": [
    "##  <font color = 'red'> Desafio 025 -  Procurando uma string dentro de outra </font>\n",
    "Crie um programa que leia o nome de uma pessoa e diga se ala tem \"SILVA\" no nome."
   ]
  },
  {
   "cell_type": "code",
   "execution_count": 39,
   "id": "65ecbeb0",
   "metadata": {},
   "outputs": [
    {
     "name": "stdout",
     "output_type": "stream",
     "text": [
      "Digite seu nome:    Silva\n",
      "O nome que você digitou foi: SILVA.\n",
      "Existe Silva nesse nome?: True\n"
     ]
    }
   ],
   "source": [
    "nome = str(input('Digite seu nome: ' )).strip().upper()\n",
    "#ou nome = str(input('Digite seu nome: ' )).strip()\n",
    "print(f'O nome que você digitou foi: {nome}.')\n",
    "print(f'Existe Silva nesse nome?: {\"SILVA\" in nome}')\n",
    "#ou print(f'Existe Silva nesse nome?: {\"SILVA\" in nome.upper()}')\n",
    "#poderia altarar a string para lower()"
   ]
  },
  {
   "cell_type": "markdown",
   "id": "989db55b",
   "metadata": {},
   "source": [
    "##  <font color = 'red'> Desafio 026 - Primeira e última ocorrência de uma string </font>\n",
    "Faça um programa que leia uma frase pelo teclado e mostre:\n",
    "<br>Quantas vezes aparece a letra \"A\"</br>\n",
    "<br>Em que posição ela aparece a primeira vez</br>\n",
    "<br>Em que posição ela aparece a última vez</br>"
   ]
  },
  {
   "cell_type": "code",
   "execution_count": 66,
   "id": "272c2443",
   "metadata": {},
   "outputs": [
    {
     "name": "stdout",
     "output_type": "stream",
     "text": [
      "Digite uma frase: Arara Azul\n",
      "A letra A aparece 4 vezes.\n",
      "A letra A aparece pela primeira vez na posição 1.\n",
      "A letra A aparece pela última vez na posição 7.\n"
     ]
    }
   ],
   "source": [
    "frase = str(input('Digite uma frase: ')).upper().strip()\n",
    "#a = frase.count('A')\n",
    "print(f'A letra A aparece {frase.count(\"A\")} vezes.')\n",
    "print(f'A letra A aparece pela primeira vez na posição {frase.find(\"A\")+1}.')\n",
    "print(f'A letra A aparece pela última vez na posição {frase.rfind(\"A\")+1}.')"
   ]
  },
  {
   "cell_type": "markdown",
   "id": "ff521acd",
   "metadata": {},
   "source": [
    "##  <font color = 'red'> Desafio 027 - Primeiro e último nome de uma pessoa </font>\n",
    "Faça um programa que leia o nome completo de uma pessoa, mostrando em seguida o primeiro e o último nome separadamente.</p>\n",
    "Ex.: Ana Maria de Souza\n",
    "<br>Primeiro: Ana</br>\n",
    "<br>Último: Souza</br>"
   ]
  },
  {
   "cell_type": "code",
   "execution_count": 77,
   "id": "6b56957f",
   "metadata": {},
   "outputs": [
    {
     "name": "stdout",
     "output_type": "stream",
     "text": [
      "Digite seu nome compleo: Bruno C Nogueira\n",
      "Primeiro nome: Bruno\n",
      "Último nome: Nogueira\n"
     ]
    }
   ],
   "source": [
    "nome = str(input('Digite seu nome compleo: ')).strip().split()\n",
    "print(f'Primeiro nome: {nome[0]}')\n",
    "print(f'Último nome: {nome[-1]}')"
   ]
  },
  {
   "cell_type": "markdown",
   "id": "305aa471",
   "metadata": {},
   "source": [
    "##  <font color = 'red'> Desafio 028 - Jogo da Adivinhação </font>\n",
    "Escreva um programa que faça o computador \"pensar' em um número inteiro entre 0 e 5 e peça para o usuário tentar descobrir qual foi o número escolhido pelo computador. </P>\n",
    "O programa deverá escrever na tela se o usuário venceu ou perdeu."
   ]
  },
  {
   "cell_type": "code",
   "execution_count": 104,
   "id": "673ee3cf",
   "metadata": {},
   "outputs": [
    {
     "name": "stdout",
     "output_type": "stream",
     "text": [
      "-=--=--=--=--=--=--=--=--=--=--=--=--=--=--=--=--=--=--=--=--=--=--=--=--=--=--=--=--=--=-\n",
      "Vou pensar em um número entre 0 e 5. Tente adivinhar...\n",
      "-=--=--=--=--=--=--=--=--=--=--=--=--=--=--=--=--=--=--=--=--=--=--=--=--=--=--=--=--=--=-\n",
      "Em que número eu pensei? 4\n",
      "PROCESSANDO...\n",
      "GANHEI! Eu pensei no número 0 e não no número 4!\n"
     ]
    }
   ],
   "source": [
    "#import random, time\n",
    "from random import randint\n",
    "from time import sleep\n",
    "\n",
    "print('-=-'*30)\n",
    "print('Vou pensar em um número entre 0 e 5. Tente adivinhar...')\n",
    "print('-=-'*30)\n",
    "\n",
    "computador = random.randint(0, 5)\n",
    "jogador = int(input('Em que número eu pensei? '))\n",
    "print('PROCESSANDO...')\n",
    "sleep(2)\n",
    "if jogador == computador:\n",
    "    print(f'PARABÉNS! Você conseguiu me vencer!')\n",
    "else:\n",
    "    print(f'GANHEI! Eu pensei no número {computador} e não no número {jogador}!')\n"
   ]
  },
  {
   "cell_type": "markdown",
   "id": "e20e9365",
   "metadata": {},
   "source": [
    "##  <font color = 'red'> Desafio 029 - Radar eletrônico</font>\n",
    "Escreva um programa que leia a velocidade de um carro. </p>\n",
    "Se ele ultrapassar 80km/h, mostre uma mensagem dizendo que ele foi multado.</p>\n",
    "A multa vai custar R$ 7,00 por cada km acima do limite."
   ]
  },
  {
   "cell_type": "code",
   "execution_count": 3,
   "id": "21bd3d3b",
   "metadata": {
    "ExecuteTime": {
     "end_time": "2024-09-09T15:46:25.298696Z",
     "start_time": "2024-09-09T15:46:21.693174Z"
    }
   },
   "outputs": [
    {
     "name": "stdout",
     "output_type": "stream",
     "text": [
      "Qual é a velocidade do carro? \n"
     ]
    },
    {
     "ename": "ValueError",
     "evalue": "could not convert string to float: ''",
     "output_type": "error",
     "traceback": [
      "\u001b[1;31m---------------------------------------------------------------------------\u001b[0m",
      "\u001b[1;31mValueError\u001b[0m                                Traceback (most recent call last)",
      "Cell \u001b[1;32mIn[3], line 1\u001b[0m\n\u001b[1;32m----> 1\u001b[0m veloc \u001b[38;5;241m=\u001b[39m \u001b[38;5;28;43mfloat\u001b[39;49m\u001b[43m(\u001b[49m\u001b[38;5;28;43minput\u001b[39;49m\u001b[43m(\u001b[49m\u001b[38;5;124;43m'\u001b[39;49m\u001b[38;5;124;43mQual é a velocidade do carro? \u001b[39;49m\u001b[38;5;124;43m'\u001b[39;49m\u001b[43m)\u001b[49m\u001b[43m)\u001b[49m\n\u001b[0;32m      2\u001b[0m multa \u001b[38;5;241m=\u001b[39m (veloc \u001b[38;5;241m-\u001b[39m \u001b[38;5;241m80\u001b[39m) \u001b[38;5;241m*\u001b[39m \u001b[38;5;241m7\u001b[39m\n\u001b[0;32m      3\u001b[0m \u001b[38;5;28;01mif\u001b[39;00m veloc \u001b[38;5;241m>\u001b[39m \u001b[38;5;241m80\u001b[39m:\n",
      "\u001b[1;31mValueError\u001b[0m: could not convert string to float: ''"
     ]
    }
   ],
   "source": [
    "veloc = float(input('Qual é a velocidade do carro? '))\n",
    "multa = (veloc - 80) * 7\n",
    "if veloc > 80:\n",
    "            print('Atenção. O limite de velocidade é 80km/h.')\n",
    "            print(f'Você estava dirigindo a {veloc:.0f}km/h')\n",
    "            print(f'Vovê foi multado em R${multa:.2f}.')\n",
    "else:\n",
    "    print('Você está dentro do limite de velocidade. Parabéns!')"
   ]
  },
  {
   "cell_type": "markdown",
   "id": "3cb71456",
   "metadata": {},
   "source": [
    "##  <font color = 'red'> Desafio 030 - Par ou ímpar </font>\n",
    "Crie um programa que leia um número inteiro e mostre na tela se ele é PAR ou ÍMPAR."
   ]
  },
  {
   "cell_type": "code",
   "execution_count": 3,
   "id": "8326754d",
   "metadata": {},
   "outputs": [
    {
     "name": "stdout",
     "output_type": "stream",
     "text": [
      "Digite um número: 5788\n",
      "O número 5788 é par!\n"
     ]
    }
   ],
   "source": [
    "n = int(input('Digite um número: '))\n",
    "#O resto da divisão por 2 tem que ser zero par ser par e 1 para ser ímpar.\n",
    "if n % 2 == 0: \n",
    "    print(f'O número {n} é par!')\n",
    "else:\n",
    "    print(f'O número {n} é impar!')"
   ]
  },
  {
   "cell_type": "markdown",
   "id": "63914cb1",
   "metadata": {},
   "source": [
    "##  <font color = 'red'> Desafio 031 - Custo da Viagem </font>\n",
    "Desenvolva um programa que pergunte a distância de uma viagem em Km. </p>\n",
    "Calcule o preço da passagem, cobrando 0,50 centavos por Km para viagens de até 200km e 0,45 centavos para viagens mais longas."
   ]
  },
  {
   "cell_type": "code",
   "execution_count": 18,
   "id": "caf73f44",
   "metadata": {},
   "outputs": [
    {
     "name": "stdout",
     "output_type": "stream",
     "text": [
      "Qual a distância da sua viagem: 500\n",
      "O preço da passagem para 500km é R$225.00\n"
     ]
    }
   ],
   "source": [
    "dist = float(input('Qual a distância da sua viagem: '))\n",
    "if dist <= 200:\n",
    "    passagem = dist * 0.50\n",
    "else:\n",
    "    passagem = dist * 0.45\n",
    "    \n",
    "#passagem = dist * 0.50 if dist <= 200 else dist * 0.45\n",
    "print(f'O preço da passagem para {dist:.0f}km é R${passagem:.2f}')"
   ]
  },
  {
   "cell_type": "markdown",
   "id": "aa47db6e",
   "metadata": {},
   "source": [
    "##  <font color = 'red'> Desafio 032 - Ano Bissexto </font>\n",
    "Faça um programa que leia um ano qualquer e mostre se ele é BISSEXTO."
   ]
  },
  {
   "cell_type": "code",
   "execution_count": 28,
   "id": "64f6bf12",
   "metadata": {},
   "outputs": [
    {
     "name": "stdout",
     "output_type": "stream",
     "text": [
      "Digite o ano para verificar se é Bissexto. Para o ano atual selecione 0. 0\n",
      "O ano 2022 não é Bissexto.\n"
     ]
    }
   ],
   "source": [
    "from datetime import date\n",
    "\n",
    "ano = int(input('Digite o ano para verificar se é Bissexto. Para o ano atual selecione 0. '))\n",
    "if ano == 0:\n",
    "    ano = date.today().year\n",
    "if ano % 4 == 0 and ano % 100 != 0 or ano % 400 == 0:\n",
    "    print(f'O ano {ano} é Bissexto.')\n",
    "else:\n",
    "    print(f'O ano {ano} não é Bissexto.')"
   ]
  },
  {
   "cell_type": "markdown",
   "id": "6090d26e",
   "metadata": {},
   "source": [
    "##  <font color = 'red'> Desafio 033 - Maior e menor valores </font>\n",
    "Faça um programa que leia três números e mostre qual é o maior e qual é o menor."
   ]
  },
  {
   "cell_type": "code",
   "execution_count": 29,
   "id": "eab26ef2",
   "metadata": {},
   "outputs": [
    {
     "name": "stdout",
     "output_type": "stream",
     "text": [
      "Digite o primeiro número: 30\n",
      "Digite o segundo número: 10\n",
      "Digite o terceiro número: 20\n",
      "O maior número é 30.\n",
      "O menor número é 10.\n"
     ]
    }
   ],
   "source": [
    "n1 = int(input('Digite o primeiro número: '))\n",
    "n2 = int(input('Digite o segundo número: '))\n",
    "n3 = int(input('Digite o terceiro número: '))\n",
    "\n",
    "if n1 > n2 and n1 > n3:\n",
    "    maior = n1\n",
    "if n2 > n1 and n2 > n3:\n",
    "    maior = n2\n",
    "if n3 > n1 and n3 > n2:\n",
    "    maior = n3\n",
    "if n1 < n2 and n1 < n3:\n",
    "    menor = n1\n",
    "if n2 < n1 and n2 < n3:\n",
    "    menor = n2\n",
    "if n3 < n1 and n3 < n2:\n",
    "    menor = n3\n",
    "    \n",
    "print(f'O maior número é {maior}.')\n",
    "print(f'O menor número é {menor}.')"
   ]
  },
  {
   "cell_type": "code",
   "execution_count": 32,
   "id": "88b06cc7",
   "metadata": {},
   "outputs": [
    {
     "name": "stdout",
     "output_type": "stream",
     "text": [
      "Digite o primeiro número: 5\n",
      "Digite o segundo número: 6\n",
      "Digite o terceiro número: 7\n",
      "O maior número é 7.\n",
      "O menor número é 5.\n"
     ]
    }
   ],
   "source": [
    "#outra forma de resolver o exercício acima\n",
    "n4 = int(input('Digite o primeiro número: '))\n",
    "n5 = int(input('Digite o segundo número: '))\n",
    "n6 = int(input('Digite o terceiro número: '))\n",
    "\n",
    "maior = n4\n",
    "if n5 > n4 and n5 > n6:\n",
    "    maior = n5\n",
    "if n6 > n4 and n6 > n5:\n",
    "    maior = n6\n",
    "    \n",
    "menor = n4\n",
    "if n5 < n4 and n5 < n6:\n",
    "    menor = n5\n",
    "if n6 < n4 and n6 < n5:\n",
    "    menor = n6\n",
    "\n",
    "print(f'O maior número é {maior}.')\n",
    "print(f'O menor número é {menor}.')"
   ]
  },
  {
   "cell_type": "markdown",
   "id": "211f7045",
   "metadata": {},
   "source": [
    "##  <font color = 'red'> Desafio 034 - Aumentos múltiplos </font>\n",
    "Escreva um programa que pergunte o salário de um funcionário e calcule o valor do seu aumento.</P>\n",
    "Para salários superiores a R$ 1.250,00, calcule um aumento de 10%.\n",
    "Para os inferiores ou iguais, o aumento é de 15%."
   ]
  },
  {
   "cell_type": "code",
   "execution_count": 42,
   "id": "536b515b",
   "metadata": {},
   "outputs": [
    {
     "name": "stdout",
     "output_type": "stream",
     "text": [
      "Informe o seu salário: 5000\n",
      "Seu salário é de R$5000.00. Você recebeu um aumento de 10%.\n",
      "Seu novo salário é de R$5500.00\n"
     ]
    }
   ],
   "source": [
    "salario = float(input('Informe o seu salário: '))\n",
    "\n",
    "if salario > 1250:\n",
    "    promo = str('10%')\n",
    "    aumento = salario * 0.10\n",
    "    novo = salario + aumento\n",
    "else:\n",
    "    promo = str('15%')\n",
    "    aumento = salario * 0.15\n",
    "    novo = salario + aumento\n",
    "\n",
    "print(f'Seu salário é de R${salario:.2f}. Você recebeu um aumento de {promo}.')\n",
    "print(f'Seu novo salário é de R${novo:.2f}')"
   ]
  },
  {
   "cell_type": "markdown",
   "id": "6ff7c033",
   "metadata": {},
   "source": [
    "##  <font color = 'red'> Desafio 035 -  Analisando Triângulo v1.0 </font>\n",
    "Desenvolva um programa que leia o comprimeiro de três retas e diga ao usuário se elas podem ou não formar um triângulo."
   ]
  },
  {
   "cell_type": "code",
   "execution_count": 44,
   "id": "39395a6d",
   "metadata": {},
   "outputs": [
    {
     "name": "stdout",
     "output_type": "stream",
     "text": [
      "Digite a primeira reta: 2\n",
      "Digite a segunda reta: 4\n",
      "Digite a terceira reta: 6\n",
      "Com as retas 2.0, 4.0 e 6.0 não é possível formar um triâgulo.\n"
     ]
    }
   ],
   "source": [
    "r1 = float(input('Digite a primeira reta: '))\n",
    "r2 = float(input('Digite a segunda reta: '))\n",
    "r3 = float(input('Digite a terceira reta: '))\n",
    "\n",
    "if r1 < r2 + r3 and r2 < r1 + r3 and r3 < r1 + r2:\n",
    "    print(f'Com as retas {r1}, {r2} e {r3} é possível formar um triâgulo.')\n",
    "else:\n",
    "    print(f'Com as retas {r1}, {r2} e {r3} não é possível formar um triâgulo.')\n",
    "          "
   ]
  },
  {
   "cell_type": "markdown",
   "id": "088a8291",
   "metadata": {},
   "source": [
    "# <font color = 'green'><a name=\"Mundo2\">Mundo 2</font>"
   ]
  },
  {
   "cell_type": "markdown",
   "id": "3e7220de",
   "metadata": {},
   "source": [
    "##  <font color = 'red'> Desafio 036 - Aprovando Empréstimo</font>\n",
    "Escreva um programa para aprovar o emprétimo bancário para a compra de uma casa. \n",
    "O programa vai perguntar o valor da casa, o salário do comprador e em quantos anos ele vai pagar.\n",
    "Calcule o valor da prestação mensal, sabendo que ela não pode exceder 30% do salário ou o empréstimo será negado"
   ]
  },
  {
   "cell_type": "code",
   "execution_count": 2,
   "id": "98b0171c",
   "metadata": {},
   "outputs": [
    {
     "name": "stdout",
     "output_type": "stream",
     "text": [
      "Digite o valor da casa: 80000\n",
      "Digite o salário do comprador: 1600\n",
      "Digite os anos de financiamento:  7\n",
      "Empréstimo Negado!\n",
      "Uma casa de R$80000.00 em 7 anos terá uma prestação de 952.38 mensais.\n"
     ]
    }
   ],
   "source": [
    "vcasa = float(input('Digite o valor da casa: '))\n",
    "salario = float(input('Digite o salário do comprador: '))\n",
    "anos = int(input('Digite os anos de financiamento:  '))\n",
    "parcela = (vcasa / (anos * 12))\n",
    "teto = salario * 0.3\n",
    "\n",
    "if parcela <= teto:\n",
    "    print('Parabéns seu empréstimo foi Aprovado!')\n",
    "    print(f'Uma casa de R${vcasa:.2f} em 7 anos terá uma prestação de {parcela:.2f} mensais.')\n",
    "else:\n",
    "    print('Empréstimo Negado!')\n",
    "    print(f'Uma casa de R${vcasa:.2f} em 7 anos terá uma prestação de {parcela:.2f} mensais.')\n"
   ]
  },
  {
   "cell_type": "markdown",
   "id": "96d42aaf",
   "metadata": {},
   "source": [
    "##  <font color = 'red'> Desafio 037 - Conversor de Bases Numéricas</font>\n",
    "Escreva um programa que leia um número inteiro qualquer e peça para o usuário escolher qual será a base de conversão:\n",
    "- 1 para binário\n",
    "- 2 para octal\n",
    "- 3 para hexadecimal"
   ]
  },
  {
   "cell_type": "code",
   "execution_count": 15,
   "id": "c2696aaa",
   "metadata": {},
   "outputs": [
    {
     "name": "stdout",
     "output_type": "stream",
     "text": [
      "Digite um número inteiro: 444\n",
      "Deseja converter para qual base:\n",
      "[ 1 ] Converter para binário.\n",
      "[ 2 ] Converter para binário.\n",
      "[ 3 ] Converter para binário.\n",
      "Digite sua opção: 5\n",
      "Opção inválida. Tente novamente.\n"
     ]
    }
   ],
   "source": [
    "n = int(input('Digite um número inteiro: '))\n",
    "\n",
    "print('''Deseja converter para qual base:\n",
    "[ 1 ] Converter para binário.\n",
    "[ 2 ] Converter para binário.\n",
    "[ 3 ] Converter para binário.''')\n",
    "base = int(input('Digite sua opção: '))\n",
    "\n",
    "if base == 1:\n",
    "    print(f'{n} convertido para Binário é igual a {bin(n)[2:]}.')\n",
    "elif base == 2:\n",
    "    print(f'{n} convertido para Octal é igual a {oct(n)[2:]}.')\n",
    "elif base == 3:\n",
    "    print(f'{n} convertido para Hexadecimal é igual a {hex(n)[2:]}.')\n",
    "else:\n",
    "    print('Opção inválida. Tente novamente.')"
   ]
  },
  {
   "cell_type": "markdown",
   "id": "d07a844e",
   "metadata": {},
   "source": [
    "##  <font color = 'red'> Desafio 038 - Comparando números</font>\n",
    "Escreva um programa que leia dois números inteiros e compare-os, motrando na tela uma mensagem:\n",
    "- O primeiro valor é maior.\n",
    "- O segundo valor é maior.\n",
    "- Não existe valor maior, os dois são iguais."
   ]
  },
  {
   "cell_type": "code",
   "execution_count": 18,
   "id": "7620f37a",
   "metadata": {},
   "outputs": [
    {
     "name": "stdout",
     "output_type": "stream",
     "text": [
      "Digite o primeiro número: 5\n",
      "Digite o segundo número: 5\n",
      "Os dois valores são iguais.\n"
     ]
    }
   ],
   "source": [
    "n1 = int(input('Digite o primeiro número: '))\n",
    "n2 = int(input('Digite o segundo número: '))\n",
    "\n",
    "if n1 > n2:\n",
    "    print('O primeiro número é maior.')\n",
    "elif n2 > n1:\n",
    "    print('O segundo número é maior.')\n",
    "else:\n",
    "    print('Os dois números são iguais.')"
   ]
  },
  {
   "cell_type": "markdown",
   "id": "04474ebc",
   "metadata": {},
   "source": [
    "##  <font color = 'red'> Desafio 039 - Alistamento Militar</font>\n",
    "Faça um programa que leia o ano de nascimento de um jovem e informe, de  acordo com sua idade:\n",
    "- Se ele ainda vai se alistar no serviço militar.\n",
    "- Se é a hora de se alistar.\n",
    "- Se já passou do tempo do alistamento.\n",
    "\n",
    "Seu programa também deverá mostrar o tempo que falta ou que passou do prazo."
   ]
  },
  {
   "cell_type": "code",
   "execution_count": 36,
   "id": "c019e6ea",
   "metadata": {},
   "outputs": [
    {
     "name": "stdout",
     "output_type": "stream",
     "text": [
      "Ano de nascimento: 2004\n",
      "Você nasceu em 2004, tem 18 anos de idade em 2022.\n",
      "Você deve se alistar esse ano.\n"
     ]
    }
   ],
   "source": [
    "from datetime import date\n",
    "\n",
    "nasc = int(input('Ano de nascimento: '))\n",
    "ano = date.today().year\n",
    "idade = ano - nasc\n",
    "alistamento = 18 - idade\n",
    "if nasc <= ano:\n",
    "    if idade < 18:\n",
    "        print(f'Você nasceu em {nasc}, tem {idade} anos de idade em {ano}.')\n",
    "        print(f'Ainda faltam {alistamento} para seu alistamento.')\n",
    "        print(f'Você deve se alistar em {ano + alistamento}')\n",
    "    elif idade == 18:\n",
    "        print(f'Você nasceu em {nasc}, tem {idade} anos de idade em {ano}.')\n",
    "        print(f'Você deve se alistar esse ano.')\n",
    "    elif idade > 18:\n",
    "        print(f'Você nasceu em {nasc}, tem {idade} anos de idade em {ano}.')\n",
    "        print(f'Já passaram {(alistamento) * -1} anos da data de alistamento.')\n",
    "        print(f'Procure a junta militar.')\n",
    "else:\n",
    "    print(f'Você é do futuro? Digite um ano válido!')"
   ]
  },
  {
   "cell_type": "markdown",
   "id": "c58838de",
   "metadata": {},
   "source": [
    "##  <font color = 'red'> Desafio 040 - Aquele clássico da Média</font>\n",
    "\n",
    "Crie um programa que leia duas notas de um aluno e calcule sua média, mostrando uma mensagem no final, de acordo com a média atingida.\n",
    "- Média abaixo de 5.0: REPROVADO\n",
    "- Média entre 5.0 e 6.9: RECUPERAÇÃO\n",
    "- Média 7.0 ou superior: APROVADO"
   ]
  },
  {
   "cell_type": "code",
   "execution_count": 19,
   "id": "9e3d85c4",
   "metadata": {
    "ExecuteTime": {
     "end_time": "2024-09-11T17:25:54.134414Z",
     "start_time": "2024-09-11T17:25:44.928471Z"
    }
   },
   "outputs": [
    {
     "name": "stdout",
     "output_type": "stream",
     "text": [
      "Primeira nota: 6.32\n",
      "Segunda nota: 7.45\n",
      "Tirando 6.3 e 7.5, a média do aluno é 6.9\n",
      "O aluno está em RECUPERÃO.\n"
     ]
    }
   ],
   "source": [
    "nota1 = float(input('Primeira nota: '))\n",
    "nota2 = float(input('Segunda nota: '))\n",
    "media = (nota1 + nota2) / 2\n",
    "\n",
    "print(f\"Tirando {nota1:.1f} e {nota2:.1f}, a média do aluno é {media:.1f}\")\n",
    "if 7 > media >= 5:\n",
    "    print('O aluno está em RECUPERÃO.')\n",
    "elif media < 5:\n",
    "    print('O aluno está em REPROVADO.')\n",
    "elif media >= 7:\n",
    "    print('O aluno está em APROVADO.')"
   ]
  },
  {
   "cell_type": "markdown",
   "id": "2a707f3b",
   "metadata": {},
   "source": [
    "##  <font color = 'red'> Desafio 041 - Categorias por idade</font>\n",
    "\n",
    "A Confederação Nacional de Natação precisa de um programa que leia o ano de nascimento de um atleta e mostre sua categoria, de acordo com a idade:\n",
    "- Até 9 anos: MIRIM\n",
    "- Até 14 anos: INFANTIL\n",
    "- Até 19 anos: JUNIOR\n",
    "- Até 20 anos: SÊNIOR\n",
    "- Acima: MASTER"
   ]
  },
  {
   "cell_type": "code",
   "execution_count": 23,
   "id": "1b78964d",
   "metadata": {
    "ExecuteTime": {
     "end_time": "2024-09-11T17:31:51.814143Z",
     "start_time": "2024-09-11T17:31:50.252458Z"
    }
   },
   "outputs": [
    {
     "name": "stdout",
     "output_type": "stream",
     "text": [
      "Ano de Nascimento: 2020\n",
      "O atleta tem 4 anos\n",
      "Classificação: MIRIM\n"
     ]
    }
   ],
   "source": [
    "from datetime import date\n",
    "\n",
    "atual = date.today().year\n",
    "nascimento = int(input('Ano de Nascimento: '))\n",
    "idade = atual - nascimento\n",
    "\n",
    "print(f'O atleta tem {idade} anos')\n",
    "if idade <= 9:\n",
    "    print('Classificação: MIRIM')\n",
    "elif idade <= 14:\n",
    "    print('Classificação: INFANTIL')\n",
    "elif idade <= 19:\n",
    "    print('Classificação: JUNIOR')\n",
    "elif idade <= 25:\n",
    "    print('Classificação: SÊNIOR')\n",
    "else:\n",
    "    print('Classificação: MASTER')"
   ]
  },
  {
   "cell_type": "markdown",
   "id": "275f45d7",
   "metadata": {},
   "source": [
    "##  <font color = 'red'> Desafio 042 - Analisando Triângulos v2.0</font>\n",
    "\n",
    "Refaça o DESAFIO 035  dos tri^ngulos, acrescentando o recurso de mostrar que tipo de triângulo será formado:\n",
    " - Equilátero: todos os lados iguais;\n",
    " - Isósceles: dois lados iguais;\n",
    " - Escaleno: todos os lados diferentes."
   ]
  },
  {
   "cell_type": "code",
   "execution_count": 13,
   "id": "720c2dc7",
   "metadata": {
    "ExecuteTime": {
     "end_time": "2024-09-11T17:16:29.125094Z",
     "start_time": "2024-09-11T17:16:27.024692Z"
    }
   },
   "outputs": [
    {
     "name": "stdout",
     "output_type": "stream",
     "text": [
      "Primeiro seguimento: 4\n",
      "Segundo seguimento: 2\n",
      "Terceiro seguimento: 4\n",
      "Os seguimentos acima PODEM FORMAR um triângulo ISÓSCELES\n"
     ]
    }
   ],
   "source": [
    "r1 = float(input('Primeiro seguimento: '))\n",
    "r2 = float(input('Segundo seguimento: '))\n",
    "r3 = float(input('Terceiro seguimento: '))\n",
    "if r1 < r2 + r3 and r2 < r1 + r3 and r3< r1 + r2:\n",
    "    print('Os seguimentos acima PODEM FORMAR um triângulo ', end='')\n",
    "    if r1 == r2 == r3:\n",
    "        print('EQUILÁTERO')\n",
    "    elif r1 != r2 != r3 != r1:\n",
    "        print('ESCALENO')\n",
    "    else:\n",
    "        print('ISÓSCELES')\n",
    "else:\n",
    "    print('Os seguimentos acima NÃO PODEM FORMAR um triângulo!')"
   ]
  },
  {
   "cell_type": "markdown",
   "id": "317a4509",
   "metadata": {},
   "source": [
    "##  <font color = 'red'> Desafio 043 -  Índice de Massa Corporal (IMC)</font>\n",
    "\n",
    "Desenvolva uma lógica que leia o peso e a altura de uma pessoa, calcule e mostre seu IMC de acrodo com a tabela abaixo:\n",
    "- Abaixo de 18.5: Abaixo do peso\n",
    "- Entre 18.5 e 25: Peso ideal\n",
    "- Entre 25 e 30: Sobrepeso\n",
    "- Entre 30 e 40: Obesidade\n",
    "- Acima de 40: Obsesidade mórbida"
   ]
  },
  {
   "cell_type": "code",
   "execution_count": 24,
   "id": "b30c06a9",
   "metadata": {
    "ExecuteTime": {
     "end_time": "2024-09-11T17:41:45.719035Z",
     "start_time": "2024-09-11T17:41:34.694309Z"
    }
   },
   "outputs": [
    {
     "name": "stdout",
     "output_type": "stream",
     "text": [
      "Qual é o seu peso em Kg? 70\n",
      "Qual é a sua altura em métros?1.69\n",
      "O IMC desta pessoa é de 24.51\n",
      "PARABÉNS, você está na faixa de PESO NORMAL.\n"
     ]
    }
   ],
   "source": [
    "peso = float(input('Qual é o seu peso em Kg? '))\n",
    "altura = float(input('Qual é a sua altura em métros?' ))\n",
    "imc = peso / (altura ** 2)\n",
    "print(f'O IMC desta pessoa é de {imc:.2f}')\n",
    "\n",
    "if imc < 18.5:\n",
    "    print('Você está ABAIXO DO PESO normal.')\n",
    "elif 18.5 <= imc < 25:\n",
    "    print('PARABÉNS, você está na faixa de PESO NORMAL.')\n",
    "elif 25 <= imc < 30:\n",
    "    print('Você está em SOBREPESO.')\n",
    "elif 30 <= imc < 40:\n",
    "    print('Você está em OBESIDADE.')\n",
    "elif imc >= 40:\n",
    "    print('Você está em OBESIDADE MÓRBIDA, cuidado!')"
   ]
  },
  {
   "cell_type": "markdown",
   "id": "e99d3af0",
   "metadata": {},
   "source": [
    "##  <font color = 'red'> Desafio 044 - Gerenciador de Pagamentos</font>\n",
    "\n",
    "Elabore um programa que calcule o valor a ser pago por um produto, considerando o seu preço normal e condição de pagamento:\n",
    "- à vista dinheiro: 10% de desconto;\n",
    "- à vista cartão: 5% de desconto;\n",
    "- em até 2x no cartão: preço normal;\n",
    "- em 3x ou mais no cartão: 20% de juros"
   ]
  },
  {
   "cell_type": "code",
   "execution_count": 43,
   "id": "1bbe5a6c",
   "metadata": {
    "ExecuteTime": {
     "end_time": "2024-09-11T18:26:11.362170Z",
     "start_time": "2024-09-11T18:26:07.137904Z"
    }
   },
   "outputs": [
    {
     "name": "stdout",
     "output_type": "stream",
     "text": [
      "============LOJAS GUANABARA=============\n",
      "Preço das compras: R$1000\n",
      " FORMAS DE PAGAMENTO\n",
      "[ 1 ] à vista dinheiro\n",
      "[ 2 ] à vista cartão\n",
      "[ 3 ] 2x no cartão\n",
      "[ 4 ] 3x ou mais no cartão\n",
      "Digite a forma de pagamento: 7\n",
      "Opção de pagamento inválida. Tente novamente!\n",
      "Sua compra de R$1000.00 vai custar R$1000.00 no final.\n"
     ]
    }
   ],
   "source": [
    "loja = \"LOJAS GUANABARA\"\n",
    "print(f'{loja:=^40}')\n",
    "\n",
    "preco = float(input('Preço das compras: R$'))\n",
    "print(''' FORMAS DE PAGAMENTO\n",
    "[ 1 ] à vista dinheiro\n",
    "[ 2 ] à vista cartão\n",
    "[ 3 ] 2x no cartão\n",
    "[ 4 ] 3x ou mais no cartão''')\n",
    "\n",
    "op = int(input('Digite a forma de pagamento: '))\n",
    "if op == 1:\n",
    "    total  = preco - (preco * 10 /100)\n",
    "elif op == 2:\n",
    "    total  = preco - (preco * 5 /100)\n",
    "elif op == 3:\n",
    "    total  = preco\n",
    "    parcela = total / 2\n",
    "    print(f'Sua compra será parcelada em 2x de R${parcela:.2f} SEM JUROS.')\n",
    "elif op == 4:\n",
    "    total = preco + (preco * 20 / 100)\n",
    "    totparc = int(input('Informe o número de parcelas: '))\n",
    "    parcela = total / totparc\n",
    "    print(f'Sua compra será parcelada em {totparc}x de R${parcela:.2f} COM JUROS')\n",
    "else:\n",
    "    total = preco\n",
    "    print(f'Opção de pagamento inválida. Tente novamente!')\n",
    "print(f'Sua compra de R${preco:.2f} vai custar R${total:.2f} no final.')\n"
   ]
  },
  {
   "cell_type": "markdown",
   "id": "5bd5bb70",
   "metadata": {},
   "source": [
    "##  <font color = 'red'> Desafio 045 - GAME  Pedra Papel e Tesoura</font>\n",
    "\n",
    "Crie um programa que faça o computador jogar Jokenpô com você."
   ]
  },
  {
   "cell_type": "code",
   "execution_count": 55,
   "id": "9a3e5cb6",
   "metadata": {
    "ExecuteTime": {
     "end_time": "2024-09-11T18:58:32.714991Z",
     "start_time": "2024-09-11T18:58:29.455126Z"
    }
   },
   "outputs": [
    {
     "name": "stdout",
     "output_type": "stream",
     "text": [
      "Suas opções:\n",
      "[ 0 ] PEDRA\n",
      "[ 1 ] PAPEL\n",
      "[ 2 ] TESOURA\n",
      "Faça a sua jogada: 3\n",
      "JOGADA INVÁLIDA\n"
     ]
    }
   ],
   "source": [
    "from random import randint\n",
    "from time import sleep\n",
    "\n",
    "itens = ('Pedra', 'Papel', 'Tesoura')\n",
    "computador = randint(0, 2)\n",
    "print('''Suas opções:\n",
    "[ 0 ] PEDRA\n",
    "[ 1 ] PAPEL\n",
    "[ 2 ] TESOURA''')\n",
    "jogador = int(input('Faça a sua jogada: '))\n",
    "\n",
    "\n",
    "if 0 >= jogador < 3:    \n",
    "\n",
    "    print('JO')\n",
    "    sleep(1)\n",
    "    print('KEN')\n",
    "    sleep(1)\n",
    "    print('PO!!!')\n",
    "    sleep(1)\n",
    "\n",
    "    print('-=' * 11)\n",
    "    print(f'Computador jogou {itens[computador]}')\n",
    "    print(f'Você jogou {itens[jogador]}')\n",
    "    print('-=' * 11)\n",
    "\n",
    "    if computador == 0: # computador jogou PEDRA\n",
    "        if jogador == 0:\n",
    "            print('EMPATE')\n",
    "        elif jogador == 1:\n",
    "            print('JOGADOR VENCE')\n",
    "        elif jogador == 2:\n",
    "            print('COMPUTADOR VENCE')       \n",
    "    elif computador == 1: # computador jogou PAPEL\n",
    "        if jogador == 0:\n",
    "            print('COMPUTADOR VENCE')\n",
    "        elif jogador == 1:\n",
    "            print('EMPATE')\n",
    "        elif jogador == 2:\n",
    "            print('JOGADOR VENCE')\n",
    "    elif computador == 2: # computador jogou TESOURA\n",
    "        if jogador == 0:\n",
    "            print('JOGADOR VENCE')\n",
    "        elif jogador == 1:\n",
    "            print('COMPUTADOR VENCE')\n",
    "        elif jogador == 2:\n",
    "            print('EMPATE')\n",
    "else:\n",
    "    print('JOGADA INVÁLIDA')\n",
    "    "
   ]
  },
  {
   "cell_type": "markdown",
   "id": "ae192e0c",
   "metadata": {},
   "source": [
    "##  <font color = 'red'> Desafio 046 - Contagem regressiva</font>\n",
    "\n",
    "Faça um programa que mostre na tela uma contagem regressiva para o estouro de fogos de artifício, indo de 10 té 0, com uma pausa de 1 segundo entre eles."
   ]
  },
  {
   "cell_type": "code",
   "execution_count": 2,
   "id": "bf202e76",
   "metadata": {
    "ExecuteTime": {
     "end_time": "2024-09-12T13:43:54.885741Z",
     "start_time": "2024-09-12T13:43:43.874908Z"
    }
   },
   "outputs": [
    {
     "name": "stdout",
     "output_type": "stream",
     "text": [
      "10\n",
      "9\n",
      "8\n",
      "7\n",
      "6\n",
      "5\n",
      "4\n",
      "3\n",
      "2\n",
      "1\n",
      "0\n",
      "BUM!BUM!BUM!\n"
     ]
    }
   ],
   "source": [
    "from time import sleep\n",
    "\n",
    "for cont in range(10, -1, -1):\n",
    "    print(cont)\n",
    "    sleep(1)\n",
    "print('BUM!' 'BUM!' 'BUM!')\n"
   ]
  },
  {
   "cell_type": "markdown",
   "id": "3ae62bf0",
   "metadata": {},
   "source": [
    "##  <font color = 'red'> Desafio 047 - Contagem de pares</font>\n",
    "\n",
    "Crie um programa que mostre na tela todos os números pares que estão no intervaldo entre 1 e 50."
   ]
  },
  {
   "cell_type": "code",
   "execution_count": 10,
   "id": "20705cb6",
   "metadata": {
    "ExecuteTime": {
     "end_time": "2024-09-12T13:53:53.774690Z",
     "start_time": "2024-09-12T13:53:53.770000Z"
    }
   },
   "outputs": [
    {
     "name": "stdout",
     "output_type": "stream",
     "text": [
      "..2 ..4 ..6 ..8 ..10 ..12 ..14 ..16 ..18 ..20 ..22 ..24 ..26 ..28 ..30 ..32 ..34 ..36 ..38 ..40 ..42 ..44 ..46 ..48 ..50 Acabou.\n"
     ]
    }
   ],
   "source": [
    "for n in range(1, 51):\n",
    "    # O print abaixo foi adicionado para verificar que são feitas \n",
    "    # duas iterações sem apresentar valor.\n",
    "    print('.', end='') \n",
    "    if n % 2 ==0:\n",
    "        print(n, end=' ')\n",
    "print('Acabou.')\n"
   ]
  },
  {
   "cell_type": "code",
   "execution_count": 11,
   "id": "a0272cd8",
   "metadata": {
    "ExecuteTime": {
     "end_time": "2024-09-12T13:55:26.938599Z",
     "start_time": "2024-09-12T13:55:26.933345Z"
    }
   },
   "outputs": [
    {
     "name": "stdout",
     "output_type": "stream",
     "text": [
      ".2 .4 .6 .8 .10 .12 .14 .16 .18 .20 .22 .24 .26 .28 .30 .32 .34 .36 .38 .40 .42 .44 .46 .48 .50 Acabou.\n"
     ]
    }
   ],
   "source": [
    "# Alterado o inicio e passo do laço para diminuir a qtd de iterações.\n",
    "for n in range(2, 51, 2): \n",
    "    print('.', end='') \n",
    "    if n % 2 ==0:\n",
    "        print(n, end=' ')\n",
    "print('Acabou.')\n"
   ]
  },
  {
   "cell_type": "markdown",
   "id": "d6a6cb62",
   "metadata": {},
   "source": [
    "##  <font color = 'red'> Desafio 048 - Soma ímpares múltiplos de três</font>\n",
    "\n",
    "Faça um programa que calcule a soma entre todos os números ímpares que são múltiplos de três e que se encontram no intervalo de 1 até 500."
   ]
  },
  {
   "cell_type": "code",
   "execution_count": 21,
   "id": "19415089",
   "metadata": {
    "ExecuteTime": {
     "end_time": "2024-09-12T14:06:58.838377Z",
     "start_time": "2024-09-12T14:06:58.832922Z"
    }
   },
   "outputs": [
    {
     "name": "stdout",
     "output_type": "stream",
     "text": [
      "A soma de todos os 83 valores solicitados é 20667.\n"
     ]
    }
   ],
   "source": [
    "soma = 0 # Acumulador\n",
    "cont = 0 # Contador\n",
    "for c in range(1, 501, 2):\n",
    "    if c % 3 == 0:\n",
    "        cont += 1 # cont += 1 é igual a cont = cont + 1\n",
    "        soma += c # soma += c é igual a soma = soma + c\n",
    "print(f'A soma de todos os {cont} valores solicitados é {soma}.')\n"
   ]
  },
  {
   "cell_type": "markdown",
   "id": "4fe7a434",
   "metadata": {},
   "source": [
    "##  <font color = 'red'> Desafio 049 - Tabuada v.2.0</font>\n",
    "Refaça o DESAFIO 9, mostrando a tabuada de um número que o usuário escolher, so que agora utilizando um laço <code>for</code>.\n",
    "\n",
    "\n"
   ]
  },
  {
   "cell_type": "code",
   "execution_count": 36,
   "id": "a7e93c81",
   "metadata": {
    "ExecuteTime": {
     "end_time": "2024-09-12T15:11:25.266547Z",
     "start_time": "2024-09-12T15:11:23.922794Z"
    }
   },
   "outputs": [
    {
     "name": "stdout",
     "output_type": "stream",
     "text": [
      "Digite um número para ver sua tabuada: 6\n",
      "6 x 0 = 0\n",
      "6 x 1 = 6\n",
      "6 x 2 = 12\n",
      "6 x 3 = 18\n",
      "6 x 4 = 24\n",
      "6 x 5 = 30\n",
      "6 x 6 = 36\n",
      "6 x 7 = 42\n",
      "6 x 8 = 48\n",
      "6 x 9 = 54\n",
      "6 x 10 = 60\n"
     ]
    }
   ],
   "source": [
    "num = int(input(\"Digite um número para ver sua tabuada: \"))\n",
    "for c in range(0, 11):\n",
    "    print(f'{num} x {c} = {num * c}')"
   ]
  },
  {
   "cell_type": "markdown",
   "id": "795e0532",
   "metadata": {},
   "source": [
    "##  <font color = 'red'> Desafio 050 - Soma dos pares</font>\n",
    "\n",
    "Desenvolta um programa que leia seis números inteiros e mostre a soma apenas daqueles que forem pares. Se o valor digitado por ímpar, desconsidere-o."
   ]
  },
  {
   "cell_type": "code",
   "execution_count": 48,
   "id": "32786366",
   "metadata": {
    "ExecuteTime": {
     "end_time": "2024-09-12T15:33:19.367269Z",
     "start_time": "2024-09-12T15:33:14.271874Z"
    }
   },
   "outputs": [
    {
     "name": "stdout",
     "output_type": "stream",
     "text": [
      "Digite o 1° valor:1\n",
      "Digite o 2° valor:2\n",
      "Digite o 3° valor:3\n",
      "Digite o 4° valor:4\n",
      "Digite o 5° valor:5\n",
      "Digite o 6° valor:6\n",
      "Você digitou 3 números PARES e a soma deles foi 12.\n"
     ]
    }
   ],
   "source": [
    "soma = 0 # Acumulador\n",
    "cont = 0 # Contador\n",
    "for c in range(1, 7):\n",
    "    num = int(input(f'Digite o {c}° valor:' ))    \n",
    "    if num % 2 == 0:\n",
    "        soma += num\n",
    "        cont += 1\n",
    "if cont == 0:\n",
    "    print(f'Você não digitou nenhum número par.')\n",
    "elif cont == 1:\n",
    "    print(f'Você digitou {cont} número PAR que foi {soma}.')\n",
    "elif cont > 1:\n",
    "    print(f'Você digitou {cont} números PARES e a soma deles foi {soma}.')\n"
   ]
  },
  {
   "cell_type": "markdown",
   "id": "430a3663",
   "metadata": {},
   "source": [
    "##  <font color = 'red'> Desafio 051 - Progressão Aritmética</font>\n",
    "\n",
    "Desenvolva um programa que leia o primeiro termo e a razão de uma PA . No final, mostre os 10 primeiros termos dessa progressão."
   ]
  },
  {
   "cell_type": "code",
   "execution_count": 73,
   "id": "fbf33385",
   "metadata": {
    "ExecuteTime": {
     "end_time": "2024-09-12T16:08:35.705102Z",
     "start_time": "2024-09-12T16:08:30.701396Z"
    }
   },
   "outputs": [
    {
     "name": "stdout",
     "output_type": "stream",
     "text": [
      "========================================\n",
      "========= 10 TERMOS DE UMA PA ==========\n",
      "========================================\n",
      "Primeiro Termo: 25\n",
      "Razão: 5\n",
      "25 --> 30 --> 35 --> 40 --> 45 --> 50 --> 55 --> 60 --> 65 --> 70 --> ACABOU!\n"
     ]
    }
   ],
   "source": [
    "titulo = ' 10 TERMOS DE UMA PA '\n",
    "print('='*40)\n",
    "print(f'{titulo:=^40}')\n",
    "print('='*40)\n",
    "\n",
    "n = int(input(f'Primeiro Termo: '))\n",
    "r = int(input(f'Razão: '))\n",
    "dec = n + (10 - 1) * r\n",
    "for c in range(n, dec + r, r):\n",
    "    print(c, end=' --> ')\n",
    "print('ACABOU!')"
   ]
  },
  {
   "cell_type": "markdown",
   "id": "0af10e36",
   "metadata": {},
   "source": [
    "##  <font color = 'red'> Desafio 052 - Números primos</font>\n",
    "\n",
    "Faça um programa que leia um número inteiro e diga se ele é ou não um número primo."
   ]
  },
  {
   "cell_type": "code",
   "execution_count": 96,
   "id": "33c6a456",
   "metadata": {
    "ExecuteTime": {
     "end_time": "2024-09-12T16:33:21.869564Z",
     "start_time": "2024-09-12T16:33:19.826633Z"
    }
   },
   "outputs": [
    {
     "name": "stdout",
     "output_type": "stream",
     "text": [
      "Digite um número: 55\n",
      "\u001b[33m 1\u001b[31m 2\u001b[31m 3\u001b[31m 4\u001b[33m 5\u001b[31m 6\u001b[31m 7\u001b[31m 8\u001b[31m 9\u001b[31m 10\u001b[33m 11\u001b[31m 12\u001b[31m 13\u001b[31m 14\u001b[31m 15\u001b[31m 16\u001b[31m 17\u001b[31m 18\u001b[31m 19\u001b[31m 20\u001b[31m 21\u001b[31m 22\u001b[31m 23\u001b[31m 24\u001b[31m 25\u001b[31m 26\u001b[31m 27\u001b[31m 28\u001b[31m 29\u001b[31m 30\u001b[31m 31\u001b[31m 32\u001b[31m 33\u001b[31m 34\u001b[31m 35\u001b[31m 36\u001b[31m 37\u001b[31m 38\u001b[31m 39\u001b[31m 40\u001b[31m 41\u001b[31m 42\u001b[31m 43\u001b[31m 44\u001b[31m 45\u001b[31m 46\u001b[31m 47\u001b[31m 48\u001b[31m 49\u001b[31m 50\u001b[31m 51\u001b[31m 52\u001b[31m 53\u001b[31m 54\u001b[33m 55\n",
      "\u001b[mO número 55 foi divisível 4° vezes.\n",
      "E por isso ele NÃO É PRIMO!\n"
     ]
    }
   ],
   "source": [
    "cont = 0 # Contador\n",
    "num = int(input(f'Digite um número: '))\n",
    "for c in range(1, num + 1):\n",
    "    if num % c == 0:\n",
    "        print('\\033[33m', end=' ')\n",
    "        cont += 1\n",
    "    else:\n",
    "        print('\\033[31m', end=' ')\n",
    "    print(c, end='')\n",
    "print(f'\\n\\033[mO número {num} foi divisível {cont}° vezes.')\n",
    "if cont == 2:\n",
    "    print(f'E por isso ele É PRIMO!')\n",
    "else:\n",
    "    print(f'E por isso ele NÃO É PRIMO!')"
   ]
  },
  {
   "cell_type": "markdown",
   "id": "cb81738b",
   "metadata": {},
   "source": [
    "##  <font color = 'red'> Desafio 053 - Detector de Palíndromo </font>\n",
    "\n",
    "Crie um programa que leia uma frase qualquer e diga se ela é um palíndro, desconsiderado os espaços.\n",
    "Exemplos re palíndromo:\n",
    " - ANA\n",
    " - ARARA\n",
    " - APOS A SOPA\n",
    " - A SACADA DA CASA\n",
    " - A TORRE DA DERROTA\n",
    " - O LOBO AMA O BOLO\n",
    " - ANOTARAM A DATA DA MARATONA"
   ]
  },
  {
   "cell_type": "code",
   "execution_count": 111,
   "id": "6fdf9e43",
   "metadata": {
    "ExecuteTime": {
     "end_time": "2024-09-12T17:03:08.443702Z",
     "start_time": "2024-09-12T17:03:05.861937Z"
    }
   },
   "outputs": [
    {
     "name": "stdout",
     "output_type": "stream",
     "text": [
      "Digite uma frase: nogueira\n",
      "O inverso de NOGUEIRA é ARIEUGON\n",
      "A frase digitada não é um palíndromo!\n"
     ]
    }
   ],
   "source": [
    "# strip() retira os espaços antes e depois\n",
    "# upper() deixa todas as letras maiúsculas\n",
    "frase = str(input(f'Digite uma frase: ')).strip().upper()\n",
    "\n",
    "# split() separa as palavras\n",
    "palavras = frase.split()\n",
    "\n",
    "# join() agrupa as palavras\n",
    "junto = ''.join(palavras)\n",
    "\n",
    "inverso = ''\n",
    "for letra in range(len(junto) - 1, -1, -1):\n",
    "    inverso += junto[letra]\n",
    "print(f'O inverso de {junto} é {inverso}')\n",
    "if inverso == junto:\n",
    "    print('Temos um palíndromo!')\n",
    "else:\n",
    "    print('A frase digitada não é um palíndromo!')\n"
   ]
  },
  {
   "cell_type": "markdown",
   "id": "8ac2a4f2",
   "metadata": {},
   "source": [
    "Fazendo o desafio 053 utilizando fatiamento."
   ]
  },
  {
   "cell_type": "code",
   "execution_count": 114,
   "id": "9a08899f",
   "metadata": {
    "ExecuteTime": {
     "end_time": "2024-09-12T17:08:45.558861Z",
     "start_time": "2024-09-12T17:08:44.342353Z"
    }
   },
   "outputs": [
    {
     "name": "stdout",
     "output_type": "stream",
     "text": [
      "Digite uma frase: arara\n",
      "O inverso de ARARA é ARARA\n",
      "Temos um palíndromo!\n"
     ]
    }
   ],
   "source": [
    "frase = str(input(f'Digite uma frase: ')).strip().upper()\n",
    "\n",
    "palavras = frase.split()\n",
    "\n",
    "junto = ''.join(palavras)\n",
    "\n",
    "inverso = junto[::-1] # Usando fatiamento\n",
    "# o primeiro : diz que vai começar no início e \n",
    "# o segundo : diz que vai até o fim. \n",
    "# O -1 diz que vai fazer isso de trás para frente\n",
    "\n",
    "print(f'O inverso de {junto} é {inverso}')\n",
    "if inverso == junto:\n",
    "    print('Temos um palíndromo!')\n",
    "else:\n",
    "    print('A frase digitada não é um palíndromo!')"
   ]
  },
  {
   "cell_type": "markdown",
   "id": "4e275be9",
   "metadata": {},
   "source": [
    "##  <font color = 'red'> Desafio 054 - Grupo da Maior Idade</font>\n",
    "\n",
    "Crie um programa que leia o ano de nascimento de sete pessoas. No final, mostre quantas pessoas ainda não atingiram a maioridade e quantas já são maiores."
   ]
  },
  {
   "cell_type": "code",
   "execution_count": 120,
   "id": "e6341d2f",
   "metadata": {
    "ExecuteTime": {
     "end_time": "2024-09-12T17:34:09.173810Z",
     "start_time": "2024-09-12T17:25:25.252980Z"
    }
   },
   "outputs": [
    {
     "name": "stdout",
     "output_type": "stream",
     "text": [
      "Em que anos a 1 pessoa nasceu?2000\n",
      "Em que anos a 2 pessoa nasceu?1970\n",
      "Em que anos a 3 pessoa nasceu?2005\n",
      "Em que anos a 4 pessoa nasceu?1990\n",
      "Em que anos a 5 pessoa nasceu?2010\n",
      "Em que anos a 6 pessoa nasceu?1960\n",
      "Em que anos a 7 pessoa nasceu?1940\n",
      "Ao todo tivemos 5 pessoas maiores de idade\n",
      "E também tivemos 2 pessoas menor de idade\n"
     ]
    }
   ],
   "source": [
    "from datetime import date\n",
    "\n",
    "atual = date.today().year\n",
    "totMaior = 0\n",
    "totMenor = 0\n",
    "for pess in range(1, 8):\n",
    "    nasc = int(input(f'Em que anos a {pess} pessoa nasceu?'))\n",
    "    idade = atual - nasc\n",
    "    if idade >= 21:\n",
    "        totMaior += 1\n",
    "    else:\n",
    "        totMenor += 1\n",
    "print(f'Ao todo tivemos {totMaior} pessoas maiores de idade')\n",
    "print(f'E também tivemos {totMenor} pessoas menor de idade')\n"
   ]
  },
  {
   "cell_type": "markdown",
   "id": "d9b3ed5b",
   "metadata": {},
   "source": [
    "##  <font color = 'red'> Desafio 055 - Maior e Menor da sequência</font>\n",
    "\n",
    "Faça um programa que leia o peso de cinco pessoas. No final, mostre qual foi o maior e o menor peso lidos."
   ]
  },
  {
   "cell_type": "code",
   "execution_count": 121,
   "id": "ca33f008",
   "metadata": {
    "ExecuteTime": {
     "end_time": "2024-09-12T17:44:29.870483Z",
     "start_time": "2024-09-12T17:43:42.962443Z"
    }
   },
   "outputs": [
    {
     "name": "stdout",
     "output_type": "stream",
     "text": [
      "Peso da 1ª pessoa: 80\n",
      "Peso da 2ª pessoa: 65.5\n",
      "Peso da 3ª pessoa: 45.9\n",
      "Peso da 4ª pessoa: 55\n",
      "Peso da 5ª pessoa: 110.5\n",
      "O maior peso lido foi de 110.5kg\n",
      "O menor peso lido foi de 45.9kg\n"
     ]
    }
   ],
   "source": [
    "maior = 0\n",
    "menor = 0\n",
    "for p in range(1, 6):\n",
    "    peso = float(input(f'Peso da {p}ª pessoa: '))\n",
    "    if p == 1:\n",
    "        maior = peso\n",
    "        menor = peso\n",
    "    else:\n",
    "        if peso > maior:\n",
    "            maior = peso\n",
    "        if peso < menor:\n",
    "            menor = peso\n",
    "print(f'O maior peso lido foi de {maior}kg')\n",
    "print(f'O menor peso lido foi de {menor}kg')\n"
   ]
  },
  {
   "cell_type": "markdown",
   "id": "3f9337b0",
   "metadata": {},
   "source": [
    "##  <font color = 'red'> Desafio 056 - Analisador Completo</font>\n",
    "\n",
    "Desenvolva um programa que leia o nome, idade e sexo de 4 pessoas. No final do programa, mostre:\n",
    "- A média de idade do grupo.\n",
    "- Qual é o nome do homem mais velho.\n",
    "- Quantas mulheres têm menos de 20 anos."
   ]
  },
  {
   "cell_type": "code",
   "execution_count": 125,
   "id": "4791c7b6",
   "metadata": {
    "ExecuteTime": {
     "end_time": "2024-09-12T18:04:01.426346Z",
     "start_time": "2024-09-12T18:03:23.826376Z"
    }
   },
   "outputs": [
    {
     "name": "stdout",
     "output_type": "stream",
     "text": [
      "----- 1ª PESSOA -----\n",
      "Nome: Jéssica\n",
      "Idade: 23\n",
      "Sexo [M/F]F\n",
      "----- 2ª PESSOA -----\n",
      "Nome: Cláudio\n",
      "Idade: 12\n",
      "Sexo [M/F]m\n",
      "----- 3ª PESSOA -----\n",
      "Nome: Pedro\n",
      "Idade: 75\n",
      "Sexo [M/F]m\n",
      "----- 4ª PESSOA -----\n",
      "Nome: Maria\n",
      "Idade: 15\n",
      "Sexo [M/F]f\n",
      "A média de idade do grupo é de 31.25 anos.\n",
      "O home mais velho tem 75 e se chama Pedro.\n",
      "Ao todo são 1 com menos de 20 anos.\n"
     ]
    }
   ],
   "source": [
    "somaIdade = 0\n",
    "mediaIdade = 0\n",
    "maiorIdadeHomem = 0\n",
    "nomeVelho = ''\n",
    "totMulher20 = 0\n",
    "for p in range(1, 5):\n",
    "    print(f'----- {p}ª PESSOA -----')\n",
    "    nome = str(input('Nome: ')).strip()\n",
    "    idade = int(input('Idade: '))\n",
    "    sexo = str(input('Sexo [M/F]')).strip().upper()    \n",
    "    somaIdade += idade\n",
    "    # if p = 1 and sexo in 'Mm':\n",
    "    if p == 1 and sexo == 'M':\n",
    "        maiorIdadeHomem = idade\n",
    "        nomeVelho = nome\n",
    "    # if sexo in 'Mm' and idade > maiorIdadeHomem:   \n",
    "    if sexo == 'M' and idade > maiorIdadeHomem:\n",
    "        maiorIdadeHomem = idade\n",
    "        nomeVelho = nome\n",
    "    # if sexo in 'Ff' and idade < 20:\n",
    "    if sexo == 'F' and idade < 20:\n",
    "        totMulher20 += 1\n",
    "mediaIdade = somaIdade / 4\n",
    "print(f'A média de idade do grupo é de {mediaIdade} anos.')\n",
    "print(f'O home mais velho tem {maiorIdadeHomem} e se chama {nomeVelho}.')\n",
    "print(f'Ao todo são {totMulher20} com menos de 20 anos.')\n"
   ]
  },
  {
   "cell_type": "markdown",
   "id": "d262a335",
   "metadata": {},
   "source": [
    "##  <font color = 'red'> Desafio 057 - Validação de Dados</font>\n",
    "\n",
    "Faça um programa que leia o sexo de uma pessoa, mas só aceite os valores 'M' ou 'F'. Caso esteja errado, peça a digitação novamente até ter um valor correto."
   ]
  },
  {
   "cell_type": "code",
   "execution_count": 126,
   "id": "8e296084",
   "metadata": {
    "ExecuteTime": {
     "end_time": "2024-09-12T18:12:15.436200Z",
     "start_time": "2024-09-12T18:11:58.818659Z"
    }
   },
   "outputs": [
    {
     "name": "stdout",
     "output_type": "stream",
     "text": [
      "Informe seu sexo: [M/F]a\n",
      "Dados inválidos. Por favor, informe seu sexo: b\n",
      "Dados inválidos. Por favor, informe seu sexo: laksjdlkf\n",
      "Dados inválidos. Por favor, informe seu sexo: jasldjflksjf\n",
      "Dados inválidos. Por favor, informe seu sexo: macarrao\n",
      "Sexo M registrado com sucesso.\n"
     ]
    }
   ],
   "source": [
    "sexo = str(input('Informe seu sexo: [M/F]')).strip().upper()[0] # [0] só pega a primeira letra\n",
    "while sexo not in 'MF':\n",
    "    sexo = str(input('Dados inválidos. Por favor, informe seu sexo: ')).strip().upper()[0]\n",
    "print(f'Sexo {sexo} registrado com sucesso.')    "
   ]
  },
  {
   "cell_type": "markdown",
   "id": "cd3e8492",
   "metadata": {},
   "source": [
    "##  <font color = 'red'> Desafio 058 - Jogo da Adivinhação</font>\n",
    "Melhore o jogo do DESAFIO 028 onde o computador vai \"pensar\" em um número entre 0 e 10. Só que agora o jogador vai tentar adicinhar até acertar, mostrado no final quantos palpites foram necessário para vencer."
   ]
  },
  {
   "cell_type": "code",
   "execution_count": 132,
   "id": "583990f3",
   "metadata": {
    "ExecuteTime": {
     "end_time": "2024-09-12T18:26:19.973754Z",
     "start_time": "2024-09-12T18:26:12.476910Z"
    }
   },
   "outputs": [
    {
     "name": "stdout",
     "output_type": "stream",
     "text": [
      "Sou seu computador... Acabei de pesar em um número entre 0 e 10.\n",
      "Será que você consegue adicinhar qual foi?\n",
      "Qual é o seu palpite? 6\n",
      "Menos... Tente mais uma vez\n",
      "Qual é o seu palpite? 2\n",
      "Mais... Tente mais uma vez.\n",
      "Qual é o seu palpite? 5\n",
      "Acertou com 3 tentativas. Parabéns!\n"
     ]
    }
   ],
   "source": [
    "from random import randint\n",
    "\n",
    "computador = randint(0, 10)\n",
    "print('Sou seu computador... Acabei de pesar em um número entre 0 e 10.')\n",
    "print('Será que você consegue adicinhar qual foi?')\n",
    "acertou = False\n",
    "palpites = 0 # Contador\n",
    "while not acertou:\n",
    "    jogador = int(input('Qual é o seu palpite? '))\n",
    "    palpites += 1\n",
    "    if jogador == computador:\n",
    "        acertou = True\n",
    "    else:\n",
    "        if jogador < computador:\n",
    "            print('Mais... Tente mais uma vez.')\n",
    "        elif jogador > computador:\n",
    "            print('Menos... Tente mais uma vez')\n",
    "print(f'Acertou com {palpites} tentativas. Parabéns!')"
   ]
  },
  {
   "cell_type": "markdown",
   "id": "cc48e7fb",
   "metadata": {},
   "source": [
    "##  <font color = 'red'> Desafio 059 - Criando um Menu de Opções</font>\n",
    "\n",
    "Crie um programa que leia dois valores e mostre o seguinte memun para o usuário:\n",
    "\n",
    "- [1] somar\n",
    "- [2] multiplicar\n",
    "- [3] maior\n",
    "- [4] novos números\n",
    "- [5] sair do programa\n",
    "\n",
    "Seu programa deverá realizar a operação solicitada em cada caso."
   ]
  },
  {
   "cell_type": "code",
   "execution_count": 134,
   "id": "55a9c0e9",
   "metadata": {
    "ExecuteTime": {
     "end_time": "2024-09-12T18:43:49.660211Z",
     "start_time": "2024-09-12T18:42:45.963430Z"
    }
   },
   "outputs": [
    {
     "name": "stdout",
     "output_type": "stream",
     "text": [
      "Primeiro valor: 7\n",
      "Segundo valor: 8\n",
      "\n",
      "    [1] somar\n",
      "    [2] multiplicar\n",
      "    [3] maior\n",
      "    [4] novos números\n",
      "    [5] sair do programa\n",
      ">>>>>> Qual é a sua opção? 3\n",
      "Entre 7 e 8 o maior valore é 8.\n",
      "=-==-==-==-==-==-==-==-==-==-=\n",
      "\n",
      "    [1] somar\n",
      "    [2] multiplicar\n",
      "    [3] maior\n",
      "    [4] novos números\n",
      "    [5] sair do programa\n",
      ">>>>>> Qual é a sua opção? 4\n",
      "Informe os números novamente: \n",
      "Primeiro valor: 6\n",
      "Segundo valor: 0\n",
      "=-==-==-==-==-==-==-==-==-==-=\n",
      "\n",
      "    [1] somar\n",
      "    [2] multiplicar\n",
      "    [3] maior\n",
      "    [4] novos números\n",
      "    [5] sair do programa\n",
      ">>>>>> Qual é a sua opção? 2\n",
      "O resultado de 6 x 0 é 0.\n",
      "=-==-==-==-==-==-==-==-==-==-=\n",
      "\n",
      "    [1] somar\n",
      "    [2] multiplicar\n",
      "    [3] maior\n",
      "    [4] novos números\n",
      "    [5] sair do programa\n",
      ">>>>>> Qual é a sua opção? 1\n",
      "A soma entre 6 + 0 é 6.\n",
      "=-==-==-==-==-==-==-==-==-==-=\n",
      "\n",
      "    [1] somar\n",
      "    [2] multiplicar\n",
      "    [3] maior\n",
      "    [4] novos números\n",
      "    [5] sair do programa\n",
      ">>>>>> Qual é a sua opção? 5\n",
      "Finalizando...\n",
      "=-==-==-==-==-==-==-==-==-==-=\n",
      "Fim do programa! Volte sempre!\n"
     ]
    }
   ],
   "source": [
    "from time import sleep\n",
    "\n",
    "n1 = int(input('Primeiro valor: '))\n",
    "n2 = int(input('Segundo valor: '))\n",
    "op = 0\n",
    "while op != 5:\n",
    "    print('''\n",
    "    [1] somar\n",
    "    [2] multiplicar\n",
    "    [3] maior\n",
    "    [4] novos números\n",
    "    [5] sair do programa''')\n",
    "    op = int(input('>>>>>> Qual é a sua opção? '))\n",
    "    if op == 1:\n",
    "        soma = n1 + n2\n",
    "        print(f'A soma entre {n1} + {n2} é {soma}.')\n",
    "    elif op == 2:\n",
    "        produto = n1 * n2\n",
    "        print(f'O resultado de {n1} x {n2} é {produto}.')\n",
    "    elif op == 3:\n",
    "        if n1 > n2:\n",
    "            maior = n1\n",
    "        else:\n",
    "            maior = n2\n",
    "        print(f'Entre {n1} e {n2} o maior valore é {maior}.')\n",
    "    elif op == 4:\n",
    "        print('Informe os números novamente: ')\n",
    "        n1 = int(input('Primeiro valor: '))\n",
    "        n2 = int(input('Segundo valor: '))\n",
    "    elif op == 5:\n",
    "        print('Finalizando...')\n",
    "    else:\n",
    "        print('Opção inválida. Tente novamente.')\n",
    "    print('=-=' * 10)\n",
    "    sleep(1.5)\n",
    "print('Fim do programa! Volte sempre!')"
   ]
  },
  {
   "cell_type": "markdown",
   "id": "21ea4cf5",
   "metadata": {},
   "source": [
    "##  <font color = 'red'> Desafio 060 - Cálculo do Fatorial</font>\n",
    "\n",
    "Faça um programa que leia um número qualquer e mostre o seu fatorial.\n",
    "\n",
    "Ex.: 5! = 5 x 4 x 3 x 2 x 1 = 120"
   ]
  },
  {
   "cell_type": "code",
   "execution_count": 136,
   "id": "d4115f13",
   "metadata": {
    "ExecuteTime": {
     "end_time": "2024-09-12T18:47:54.194332Z",
     "start_time": "2024-09-12T18:47:51.380533Z"
    }
   },
   "outputs": [
    {
     "name": "stdout",
     "output_type": "stream",
     "text": [
      "Digite um número para calcular seu Fatorial: 5\n",
      "O fatorial de 5 é 120\n"
     ]
    }
   ],
   "source": [
    "# Usando a biblioteca math\n",
    "\n",
    "from math import factorial\n",
    "\n",
    "n = int(input('Digite um número para calcular seu Fatorial: '))\n",
    "f = factorial(n)\n",
    "print(f'O fatorial de {n} é {f}')\n"
   ]
  },
  {
   "cell_type": "code",
   "execution_count": 145,
   "id": "f39da661",
   "metadata": {
    "ExecuteTime": {
     "end_time": "2024-09-13T11:29:52.201943Z",
     "start_time": "2024-09-13T11:29:51.412699Z"
    }
   },
   "outputs": [
    {
     "name": "stdout",
     "output_type": "stream",
     "text": [
      "Digite um número para calcular seu Fatorial: 5\n",
      "Calculado 5! --> 5 x 4 x 3 x 2 x 1 = 120\n"
     ]
    }
   ],
   "source": [
    "# Contruindo a lógica para calcular o fatorial\n",
    "\n",
    "n = int(input('Digite um número para calcular seu Fatorial: '))\n",
    "#c = n\n",
    "f = 1\n",
    "print(f'Calculado {n}! --> ', end='')\n",
    "while n > 0:\n",
    "    print(f'{n}', end='')\n",
    "    print(' x ' if n > 1 else ' = ', end='')\n",
    "    f *= n\n",
    "    n -= 1\n",
    "\n",
    "print(f'{f}')\n"
   ]
  },
  {
   "cell_type": "markdown",
   "id": "04bf0339",
   "metadata": {},
   "source": [
    "##  <font color = 'red'> Desafio 061 - Progressão Aritmética</font>\n",
    "\n",
    "Refaça o DESAFIO 051, lendo o primeiro termo e a razão de uma PA, mostrando os 10 primeiros termos da progressão usando a estrutura <code>while</code>."
   ]
  },
  {
   "cell_type": "code",
   "execution_count": 151,
   "id": "7bf1c152",
   "metadata": {
    "ExecuteTime": {
     "end_time": "2024-09-13T12:06:45.978845Z",
     "start_time": "2024-09-13T12:06:44.193014Z"
    }
   },
   "outputs": [
    {
     "name": "stdout",
     "output_type": "stream",
     "text": [
      "========================================\n",
      "========= 10 TERMOS DE UMA PA ==========\n",
      "========================================\n",
      "Primeiro Termo: 0\n",
      "Razão: 5\n",
      "0 --> 5 --> 10 --> 15 --> 20 --> 25 --> 30 --> 35 --> 40 --> 45 --> ACABOU\n"
     ]
    }
   ],
   "source": [
    "titulo = ' 10 TERMOS DE UMA PA '\n",
    "print('='*40)\n",
    "print(f'{titulo:=^40}')\n",
    "print('='*40)\n",
    "\n",
    "n = int(input(f'Primeiro Termo: '))\n",
    "r = int(input(f'Razão: '))\n",
    "termo = n\n",
    "cont = 1\n",
    "while cont <= 10:\n",
    "    print(f'{termo} --> ', end='')\n",
    "    termo += r\n",
    "    cont += 1\n",
    "print('ACABOU')\n"
   ]
  },
  {
   "cell_type": "markdown",
   "id": "7162c532",
   "metadata": {},
   "source": [
    "##  <font color = 'red'> Desafio 062 - Super Progressão Aritmética v3.0</font>\n",
    "\n",
    "Melhore o DESAFIO 061, perguntado para o usuário se ele quer mostrar mais alguns termos. O programa encerra quando ele disser que quer mostrar 0 termos."
   ]
  },
  {
   "cell_type": "code",
   "execution_count": 157,
   "id": "663d5662",
   "metadata": {
    "ExecuteTime": {
     "end_time": "2024-09-13T12:56:30.036634Z",
     "start_time": "2024-09-13T12:56:15.883943Z"
    }
   },
   "outputs": [
    {
     "name": "stdout",
     "output_type": "stream",
     "text": [
      "========================================\n",
      "============ GERADOR DE PA =============\n",
      "========================================\n",
      "Primeiro Termo: 2\n",
      "Razão: 2\n",
      "2 --> 4 --> 6 --> 8 --> 10 --> 12 --> 14 --> 16 --> 18 --> 20 --> PAUSA\n",
      "Quantos termos você quer mostrar a mais?2\n",
      "22 --> 24 --> PAUSA\n",
      "Quantos termos você quer mostrar a mais?0\n",
      "Progressão finalizada com 12 termos mostrados.\n"
     ]
    }
   ],
   "source": [
    "titulo = ' GERADOR DE PA '\n",
    "print('='*40)\n",
    "print(f'{titulo:=^40}')\n",
    "print('='*40)\n",
    "\n",
    "n = int(input(f'Primeiro Termo: '))\n",
    "r = int(input(f'Razão: '))\n",
    "termo = n\n",
    "cont = 1\n",
    "total = 0\n",
    "mais = 10\n",
    "while mais != 0:\n",
    "    total += mais\n",
    "    while cont <= total:\n",
    "        print(f'{termo} --> ', end='')\n",
    "        termo += r\n",
    "        cont += 1\n",
    "    print('PAUSA')\n",
    "    mais = int(input('Quantos termos você quer mostrar a mais?' ))\n",
    "print(f'Progressão finalizada com {total} termos mostrados.')\n"
   ]
  },
  {
   "cell_type": "markdown",
   "id": "e280522d",
   "metadata": {},
   "source": [
    "##  <font color = 'red'> Desafio 063 - Sequência de Fibonacci</font>\n",
    "\n",
    "Escreva um programa que leia um número n inteiro qualquer e mostre na tela os n primeiros elementos de uma Sequência de Fibonacci.\n",
    "\n",
    "Ex.: 0 --> 1 --> 1 --> 2 --> 3 --> 5 --> 8"
   ]
  },
  {
   "cell_type": "code",
   "execution_count": 167,
   "id": "1be06ef0",
   "metadata": {
    "ExecuteTime": {
     "end_time": "2024-09-13T13:28:14.451094Z",
     "start_time": "2024-09-13T13:28:13.492142Z"
    }
   },
   "outputs": [
    {
     "name": "stdout",
     "output_type": "stream",
     "text": [
      "========================================\n",
      "======== Sequência de Fibonacci ========\n",
      "========================================\n",
      "Quantos termos você quer mostrar? 6\n",
      "~~~~~~~~~~~~~~~~~~~~~~~~~~~~~~\n",
      "0 -> 1 -> 1 -> 2 -> 3 -> 5 -> FIM\n"
     ]
    }
   ],
   "source": [
    "titulo = ' Sequência de Fibonacci '\n",
    "print('='*40)\n",
    "print(f'{titulo:=^40}')\n",
    "print('='*40)\n",
    "\n",
    "n = int(input('Quantos termos você quer mostrar? '))\n",
    "t1 = 0\n",
    "t2 = 1\n",
    "print('~'*30)\n",
    "print(f'{t1} -> {t2}', end='')\n",
    "cont = 3\n",
    "while cont <= n:    \n",
    "    t3 = t1 + t2\n",
    "    print(f' -> {t3}', end='')\n",
    "    t1 = t2\n",
    "    t2 = t3\n",
    "    cont += 1\n",
    "print(' -> FIM')\n"
   ]
  },
  {
   "cell_type": "markdown",
   "id": "8cab8a85",
   "metadata": {},
   "source": [
    "##  <font color = 'red'> Desafio 064 - Tratando vários valores</font>\n",
    "\n",
    "Crie um programa que leia vários números inteiros pelo teclado. O programa só vai parar quanto o usuário digitar o valor 999, que é a condição de parada. No final, mostre quantos números foram digitados e qual foi a soma entre eles (desconsiderando o flag)."
   ]
  },
  {
   "cell_type": "code",
   "execution_count": 172,
   "id": "7ac7b92c",
   "metadata": {
    "ExecuteTime": {
     "end_time": "2024-09-13T13:42:05.664677Z",
     "start_time": "2024-09-13T13:42:01.035730Z"
    }
   },
   "outputs": [
    {
     "name": "stdout",
     "output_type": "stream",
     "text": [
      "Digite um número [999 para parar]: 1\n",
      "Digite um número [999 para parar]: 2\n",
      "Digite um número [999 para parar]: 3\n",
      "Digite um número [999 para parar]: 999\n",
      "Você digitou 3 números e a soma entre eles foi 6\n"
     ]
    }
   ],
   "source": [
    "# num = 0\n",
    "# cont = 0 # Contador\n",
    "# soma = 0 # Acumulador\n",
    "num = cont = soma = 0\n",
    "num = int(input('Digite um número [999 para parar]: '))\n",
    "while num != 999:\n",
    "    soma += num\n",
    "    cont += 1    \n",
    "    num = int(input('Digite um número [999 para parar]: '))\n",
    "print(f'Você digitou {cont} números e a soma entre eles foi {soma}')  "
   ]
  },
  {
   "cell_type": "markdown",
   "id": "7209f5a2",
   "metadata": {},
   "source": [
    "##  <font color = 'red'> Desafio 065 - Maior e menor valores</font>\n",
    "\n",
    "Crie um programa que leia vários números inteiros pelo teclado. No final da execução, mostre a média entre todos os valores e qual foi o maior e menor valores lidos. O programa deve perguntar ao usuário se ele quer ou não continuar a digitar valores."
   ]
  },
  {
   "cell_type": "code",
   "execution_count": 179,
   "id": "d5fb3bb1",
   "metadata": {
    "ExecuteTime": {
     "end_time": "2024-09-13T14:14:59.392773Z",
     "start_time": "2024-09-13T14:14:48.471957Z"
    }
   },
   "outputs": [
    {
     "name": "stdout",
     "output_type": "stream",
     "text": [
      "Digite um número: 4\n",
      "Quer continuar? [S/N] s\n",
      "Digite um número: 2\n",
      "Quer continuar? [S/N] s\n",
      "Digite um número: 1\n",
      "Quer continuar? [S/N] s\n",
      "Digite um número: 4\n",
      "Quer continuar? [S/N] n\n",
      "Você digitou 4 números e a média foi 2.75\n",
      "O maior valor foi 4 e o menor foi 1\n"
     ]
    }
   ],
   "source": [
    "resp = str('S').upper().strip()\n",
    "soma = qtd = media = maior = menor = 0\n",
    "while resp == 'S':\n",
    "    num = int(input('Digite um número: '))\n",
    "    soma += num\n",
    "    qtd += 1\n",
    "    if qtd == 1:\n",
    "        maior = menor = num\n",
    "    else:\n",
    "        if num > maior:\n",
    "            maior = num\n",
    "        if num < menor:\n",
    "            menor = num    \n",
    "    resp = str(input('Quer continuar? [S/N] ')).upper().strip()\n",
    "media = soma / qtd\n",
    "print(f'Você digitou {qtd} números e a média foi {media}')\n",
    "print(f'O maior valor foi {maior} e o menor foi {menor}')\n"
   ]
  },
  {
   "cell_type": "markdown",
   "id": "5c973325",
   "metadata": {},
   "source": [
    "##  <font color = 'red'> Desafio 066 - Vários números com flags</font>\n",
    "\n",
    "Crie um programa que leia vários números inteiros pelo teclado. O programa só vai parar quando o usuário digitar o valor 999, que é a condição de parada. No final, mostre quantos números foram digitados e qual foi a soma entre eles (desconsiderando o flag)."
   ]
  },
  {
   "cell_type": "code",
   "execution_count": 181,
   "id": "ca6c5700",
   "metadata": {
    "ExecuteTime": {
     "end_time": "2024-09-13T16:56:27.603035Z",
     "start_time": "2024-09-13T16:56:21.877097Z"
    }
   },
   "outputs": [
    {
     "name": "stdout",
     "output_type": "stream",
     "text": [
      "Digite um valor (999 para parar): 3\n",
      "Digite um valor (999 para parar): 9\n",
      "Digite um valor (999 para parar): 1\n",
      "Digite um valor (999 para parar): 999\n",
      "A soma dos 3 valores foi 13!\n"
     ]
    }
   ],
   "source": [
    "soma = cont = 0\n",
    "while True:\n",
    "    num = int(input('Digite um valor (999 para parar): '))\n",
    "    if num == 999:\n",
    "        break\n",
    "    cont += 1\n",
    "    soma += num\n",
    "print(f'A soma dos {cont} valores foi {soma}!')"
   ]
  },
  {
   "cell_type": "markdown",
   "id": "0e2a7d6d",
   "metadata": {
    "ExecuteTime": {
     "end_time": "2024-09-11T16:44:12.803848Z",
     "start_time": "2024-09-11T16:44:12.799883Z"
    }
   },
   "source": [
    "##  <font color = 'red'> Desafio 067 - Tabuada v3.0</font>\n",
    "\n",
    "Faça um programa que mostre a tabuada de vários números, um de cada vez, para cada valor digitado pelo usuário. O programa será interrompido quando o número solicitado for negativo."
   ]
  },
  {
   "cell_type": "code",
   "execution_count": 189,
   "id": "1a8aa4ef",
   "metadata": {
    "ExecuteTime": {
     "end_time": "2024-09-13T17:16:31.433503Z",
     "start_time": "2024-09-13T17:16:25.982272Z"
    }
   },
   "outputs": [
    {
     "name": "stdout",
     "output_type": "stream",
     "text": [
      "Quer ver a tabuada de que valor?6\n",
      "------------------------------\n",
      "6 x 0 = 0\n",
      "6 x 1 = 6\n",
      "6 x 2 = 12\n",
      "6 x 3 = 18\n",
      "6 x 4 = 24\n",
      "6 x 5 = 30\n",
      "6 x 6 = 36\n",
      "6 x 7 = 42\n",
      "6 x 8 = 48\n",
      "6 x 9 = 54\n",
      "6 x 10 = 60\n",
      "------------------------------\n",
      "Quer ver a tabuada de que valor?-5\n",
      "------------------------------\n",
      "PROGRAMA TABUADA ENCERRADO. Volte Sempre!\n"
     ]
    }
   ],
   "source": [
    "while True:\n",
    "    num = int(input('Quer ver a tabuada de que valor?' ))   \n",
    "    print('-'* 30)\n",
    "    if num < 0:\n",
    "        break\n",
    "    for n in range(0, 11):        \n",
    "        print(f'{num} x {n} = {num * n}')\n",
    "    print('-'* 30)\n",
    "print('PROGRAMA TABUADA ENCERRADO. Volte Sempre!')\n",
    "        "
   ]
  },
  {
   "cell_type": "markdown",
   "id": "66ab80e0",
   "metadata": {},
   "source": [
    "##  <font color = 'red'> Desafio 068 - Jogo do Par ou Ímpar</font>\n",
    "\n",
    "Faça um programa que jogue par ou ímpar com o computador. O jogo só será interrompido quando o jogador PERDER, mostrando o total de vitórias consecutivas que ele conquistou no final do jogo."
   ]
  },
  {
   "cell_type": "code",
   "execution_count": 195,
   "id": "55f5775f",
   "metadata": {
    "ExecuteTime": {
     "end_time": "2024-09-13T17:50:05.248047Z",
     "start_time": "2024-09-13T17:49:57.291384Z"
    }
   },
   "outputs": [
    {
     "name": "stdout",
     "output_type": "stream",
     "text": [
      "Diga um valor: 3\n",
      "Par ou Ímpar? [P/I] p\n",
      "Você jogou 3 e o computador 7. Total de 10 DEU PAR\n",
      "Você VENCEU!\n",
      "Vamos jogar novamente...\n",
      "Diga um valor: 3\n",
      "Par ou Ímpar? [P/I] p\n",
      "Você jogou 3 e o computador 0. Total de 3 DEU IMPAR\n",
      "Você PERDEU!\n"
     ]
    }
   ],
   "source": [
    "from random import randint\n",
    "\n",
    "v = 0\n",
    "while True:\n",
    "    jogador = int(input('Diga um valor: '))\n",
    "    computador = randint(0, 10)\n",
    "    total = jogador + computador\n",
    "    tipo = ' '\n",
    "    while tipo not in 'PI':\n",
    "        tipo = str(input('Par ou Ímpar? [P/I] ')).strip().upper()[0]\n",
    "    print(f'Você jogou {jogador} e o computador {computador}. Total de {total} ', end='')\n",
    "    print('DEU PAR' if total % 2 == 0 else 'DEU IMPAR')\n",
    "    if tipo == 'P':\n",
    "        if total % 2 == 0:\n",
    "            print('Você VENCEU!')\n",
    "            v += 1\n",
    "        else:\n",
    "            print('Você PERDEU!')\n",
    "            break\n",
    "    elif tipo == 'I':\n",
    "        if total % 2 == 1:\n",
    "            print('Você VENCEU!')\n",
    "            v += 1\n",
    "        else:\n",
    "            print('Você PERDEU!')\n",
    "            break\n",
    "    print('Vamos jogar novamente...')"
   ]
  },
  {
   "cell_type": "markdown",
   "id": "c0b04d23",
   "metadata": {},
   "source": [
    "##  <font color = 'red'> Desafio 069 - Análise de dados do grupo</font>\n",
    "\n",
    "Crie um programa que leia a idade e o sexo de várias pessoas. A cada pessoa cadastrada, o programa deverá perguntar se o usuário quer ou não continuar. No final, mostre:\n",
    "\n",
    " - Quantas pessoas tem mais de 18 anos.\n",
    " - Quantos homens foram cadastrados.\n",
    " - Quantas mulheres tem menos de 20 anos."
   ]
  },
  {
   "cell_type": "code",
   "execution_count": 203,
   "id": "1177dd34",
   "metadata": {
    "ExecuteTime": {
     "end_time": "2024-09-13T18:09:20.197320Z",
     "start_time": "2024-09-13T18:08:35.067381Z"
    }
   },
   "outputs": [
    {
     "name": "stdout",
     "output_type": "stream",
     "text": [
      "Idade: 22\n",
      "Sexo: [M/F] m\n",
      "Quer continuar? [S/N] s\n",
      "Idade: 16\n",
      "Sexo: [M/F] f\n",
      "Quer continuar? [S/N] s\n",
      "Idade: 45\n",
      "Sexo: [M/F] f\n",
      "Quer continuar? [S/N] s\n",
      "Idade: 12\n",
      "Sexo: [M/F] m\n",
      "Quer continuar? [S/N] n\n",
      "Total de pessoas com mais de 18 anos: 2.\n",
      "Ao todos temos 2 homens cadastrados.\n",
      "E temos 1 mulheres com menos de 20 anos.\n"
     ]
    }
   ],
   "source": [
    "tot18 = totH = totM20 = 0\n",
    "while True:\n",
    "    idade = int(input('Idade: '))\n",
    "    sexo = ' '\n",
    "    while sexo not in 'MF':\n",
    "        sexo = str(input('Sexo: [M/F] ')).strip().upper()[0]\n",
    "    if idade > 18:\n",
    "        tot18 += 1\n",
    "    if sexo == 'M':\n",
    "        totH += 1\n",
    "    if sexo == 'F' and idade < 20:\n",
    "        totM20 += 1    \n",
    "    resp = ' '\n",
    "    while resp not in 'SN':\n",
    "        resp = str(input('Quer continuar? [S/N] ')).strip().upper()[0]\n",
    "    if resp == 'N':\n",
    "        break\n",
    "print(f'Total de pessoas com mais de 18 anos: {tot18}.')\n",
    "print(f'Ao todos temos {totH} homens cadastrados.')\n",
    "print(f'E temos {totM20} mulheres com menos de 20 anos.')\n"
   ]
  },
  {
   "cell_type": "markdown",
   "id": "e99f55c0",
   "metadata": {},
   "source": [
    "##  <font color = 'red'> Desafio 070 - Estatísticas de produtos</font>\n",
    "\n",
    "Crie um programa que leia o nome e o preço de vários produtos. O programa deverá perguntar se o usuário vai continuar. No final, mostre:\n",
    "\n",
    "- Qual é o total gasto na compra.\n",
    "- Quantos produtos custam mais de 1.000,00 reais\n",
    "- Qual é o nome do produto mais barato"
   ]
  },
  {
   "cell_type": "code",
   "execution_count": 211,
   "id": "48ae1c13",
   "metadata": {
    "ExecuteTime": {
     "end_time": "2024-09-13T18:51:40.969997Z",
     "start_time": "2024-09-13T18:51:12.483578Z"
    }
   },
   "outputs": [
    {
     "name": "stdout",
     "output_type": "stream",
     "text": [
      "Nome do produto: Borracha\n",
      "Preço: R$ 5\n",
      "Quer continuar? [S/N] Caneta\n",
      "Quer continuar? [S/N] s\n",
      "Nome do produto: Caneta\n",
      "Preço: R$ 10\n",
      "Quer continuar? [S/N] s\n",
      "Nome do produto: Notebook\n",
      "Preço: R$ 1500\n",
      "Quer continuar? [S/N] n\n",
      "------------ FIM DO PROGRAMA------------\n",
      "O total da compra foi R$ 1515.00.\n",
      "Temos 1 produtos custando mais de R$ 1.000,00.\n",
      "O produto mais barato foi Borracha que custa R$ 5.00.\n"
     ]
    }
   ],
   "source": [
    "total = totMil = menor = cont = 0\n",
    "barato = ''\n",
    "while True:\n",
    "    produto = str(input('Nome do produto: '))\n",
    "    preco = float(input('Preço: R$ '))\n",
    "    cont += 1\n",
    "    total += preco\n",
    "    if preco > 1000:\n",
    "        totMil += 1    \n",
    "    if cont == 1 or preco < menor:\n",
    "        menor = preco\n",
    "        barato = produto\n",
    "    resp = ' '\n",
    "    while resp not in 'SN':\n",
    "        resp = str(input('Quer continuar? [S/N] ')).strip().upper()[0]\n",
    "    if resp == 'N':\n",
    "        break\n",
    "print('{:-^40}'.format(' FIM DO PROGRAMA'))\n",
    "print(f'O total da compra foi R$ {total:.2f}.')\n",
    "print(f'Temos {totMil} produtos custando mais de R$ 1.000,00.')\n",
    "print(f'O produto mais barato foi {barato} que custa R$ {menor:.2f}.')\n"
   ]
  },
  {
   "cell_type": "markdown",
   "id": "9d0e5dd9",
   "metadata": {},
   "source": [
    "##  <font color = 'red'> Desafio 071 - Caixa Eletrônico</font>\n",
    "\n",
    "Crie um programa que simule o funcionamento de um caixa eletônico. No início, pergunte ao usuário qual será o valor a ser sacado (número inteiro) e o programa vai informar quantas cédulas de cada valor serão entregues.\n",
    "Obs.: Considere que o caixa possui cédulas de 50, 20 e 1."
   ]
  },
  {
   "cell_type": "code",
   "execution_count": 7,
   "id": "e601ea28",
   "metadata": {
    "ExecuteTime": {
     "end_time": "2024-09-26T14:01:45.094456Z",
     "start_time": "2024-09-26T14:01:42.851987Z"
    }
   },
   "outputs": [
    {
     "name": "stdout",
     "output_type": "stream",
     "text": [
      "==============================\n",
      "          BANCO CEV           \n",
      "==============================\n",
      "Que valor você que rsacar? R$122\n",
      "Total de 2 cédulas de R$50\n",
      "Total de 1 cédulas de R$20\n",
      "Total de 2 cédulas de R$1\n",
      "==============================\n",
      "Volte sempre ao BANCO CEV! Tenha um bom dia!\n"
     ]
    }
   ],
   "source": [
    "print('=' * 30)\n",
    "print('{:^30}'.format('BANCO CEV'))\n",
    "print('=' * 30)\n",
    "valor = int(input('Que valor você que rsacar? R$'))\n",
    "total = valor\n",
    "ced = 50\n",
    "totced = 0\n",
    "while True:\n",
    "    if total >= ced:\n",
    "        total -= ced\n",
    "        totced += 1\n",
    "    else:\n",
    "        if totced > 0:\n",
    "            print(f'Total de {totced} cédulas de R${ced}')\n",
    "        if ced == 50:\n",
    "            ced = 20\n",
    "        elif ced == 20:\n",
    "            ced = 10\n",
    "        elif ced == 10:\n",
    "            ced = 1\n",
    "        totced = 0\n",
    "        if total == 0:\n",
    "            break\n",
    "print('=' * 30)\n",
    "print('Volte sempre ao BANCO CEV! Tenha um bom dia!')\n"
   ]
  },
  {
   "cell_type": "markdown",
   "id": "68af501e",
   "metadata": {},
   "source": [
    "# <font color = 'green'><a name=\"Mundo3\">Mundo 3</font>"
   ]
  },
  {
   "cell_type": "markdown",
   "id": "084164be",
   "metadata": {},
   "source": [
    "##  <font color = 'red'> Desafio 072 - Número por extenso</font>\n",
    "Crie um programa que tenha uma tupla totalmente preenchida com uma contagem por extenso, de zero até vinte.</br>\n",
    "Seu programa deverá ler um número pelo teclado (entre 0 e 20) e mostra-lo por extenso."
   ]
  },
  {
   "cell_type": "code",
   "execution_count": 9,
   "id": "c5b38cb1",
   "metadata": {
    "ExecuteTime": {
     "end_time": "2024-09-26T14:26:36.353506Z",
     "start_time": "2024-09-26T14:26:28.567163Z"
    }
   },
   "outputs": [
    {
     "name": "stdout",
     "output_type": "stream",
     "text": [
      "Digite um número entre 0 e 20: 30\n",
      "Tente novamente.Digite um número entre 0 e 20: 50\n",
      "Tente novamente.Digite um número entre 0 e 20: 100\n",
      "Tente novamente.Digite um número entre 0 e 20: 5\n",
      "Você digitou o número cinco\n"
     ]
    }
   ],
   "source": [
    "cont = ('zero', 'um', 'dois', 'três', 'quatro', 'cinco', \n",
    "       'seis', 'sete', 'oito', 'nove', 'dez',\n",
    "       'onze', 'doze', 'treze', 'catorze', 'quinze',\n",
    "       'dezesseis', 'dezessete', 'dezoito', 'dezenove', 'vinte')\n",
    "while True:\n",
    "    num = int(input('Digite um número entre 0 e 20: '))\n",
    "    if 0 <= num <= 20:\n",
    "        break\n",
    "    print('Tente novamente.', end='')\n",
    "print(f'Você digitou o número {cont[num]}')\n"
   ]
  },
  {
   "cell_type": "markdown",
   "id": "84671c62",
   "metadata": {},
   "source": [
    "##  <font color = 'red'> Desafio 073 - Tuplas com Times de Futebol</font>\n",
    "Crie uma tupla preenchida com os 20 primeitos colocado da Tabela do Campeonato Brasileiro de Futebol, na ordem de colocação. Depois mostre:\n",
    "- A) Apenas os 5 primeiros colocados.\n",
    "- B) Os últimos 4 colocados da tabela.\n",
    "- C) Uma lista com os times em ordem alfabética.\n",
    "- D) Em que posição na tabela está o time da Chapecoense?"
   ]
  },
  {
   "cell_type": "code",
   "execution_count": 18,
   "id": "109c59c8",
   "metadata": {
    "ExecuteTime": {
     "end_time": "2024-09-26T14:41:47.463529Z",
     "start_time": "2024-09-26T14:41:47.457508Z"
    }
   },
   "outputs": [
    {
     "name": "stdout",
     "output_type": "stream",
     "text": [
      "-=-=-=-=-=-=-=-=-=-=-=-=-=-=-=\n",
      "Lista de Times do Brasileirão: ('Corinthians', 'Palmeiras', 'Santos', 'Grêmio', 'Cruzeiro', 'Flamento', 'Vasco', 'Chapecoense', 'Atlêtico', 'Botafogo', 'Atlêtico-PR', 'Bahia', 'São Paulo', 'Fluminense', 'Sport Recife', 'EC Vitória', 'Coritiba', 'Avaí', 'Ponte Preta', 'Atlêtico-GO')\n",
      "-=-=-=-=-=-=-=-=-=-=-=-=-=-=-=\n",
      "Os 5 primeiros são: ('Corinthians', 'Palmeiras', 'Santos', 'Grêmio', 'Cruzeiro')\n",
      "-=-=-=-=-=-=-=-=-=-=-=-=-=-=-=\n",
      "Os 4 últimos: ('Coritiba', 'Avaí', 'Ponte Preta', 'Atlêtico-GO')\n",
      "-=-=-=-=-=-=-=-=-=-=-=-=-=-=-=\n",
      "Times em ordem alfabética: ['Atlêtico', 'Atlêtico-GO', 'Atlêtico-PR', 'Avaí', 'Bahia', 'Botafogo', 'Chapecoense', 'Corinthians', 'Coritiba', 'Cruzeiro', 'EC Vitória', 'Flamento', 'Fluminense', 'Grêmio', 'Palmeiras', 'Ponte Preta', 'Santos', 'Sport Recife', 'São Paulo', 'Vasco']\n",
      "-=-=-=-=-=-=-=-=-=-=-=-=-=-=-=\n",
      "O Chapecoense está na 8ª posição\n"
     ]
    }
   ],
   "source": [
    "times = ('Corinthians', 'Palmeiras', 'Santos', 'Grêmio',\n",
    "        'Cruzeiro', 'Flamento', 'Vasco', 'Chapecoense',\n",
    "        'Atlêtico', 'Botafogo', 'Atlêtico-PR', 'Bahia',\n",
    "        'São Paulo', 'Fluminense', 'Sport Recife', 'EC Vitória',\n",
    "        'Coritiba', 'Avaí', 'Ponte Preta', 'Atlêtico-GO',\n",
    "        )\n",
    "print('-=' * 15)\n",
    "print(f'Lista de Times do Brasileirão: {times}')\n",
    "# for t in times:\n",
    "#     print(t)\n",
    "print('-=' * 15)\n",
    "print(f'Os 5 primeiros são: {times[0:5]}')\n",
    "print('-=' * 15)\n",
    "print(f'Os 4 últimos: {times[-4:]}')\n",
    "print('-=' * 15)\n",
    "print(f'Times em ordem alfabética: {sorted(times)}')\n",
    "print('-=' * 15)\n",
    "print(f'O Chapecoense está na {times.index(\"Chapecoense\")+1}ª posição')\n"
   ]
  },
  {
   "cell_type": "markdown",
   "id": "dd50363f",
   "metadata": {},
   "source": [
    "##  <font color = 'red'> Desafio 074 - Maior e menor valores em Tupla</font>\n",
    "Crie um programa que vai gerar cinco números aleatórios e colocar em uma tupla.</br>\n",
    "Depois disso, mostre a listagem de números gerados e também indique o menor e o maior valor que estão na tupla."
   ]
  },
  {
   "cell_type": "code",
   "execution_count": 26,
   "id": "37e74aec",
   "metadata": {
    "ExecuteTime": {
     "end_time": "2024-09-26T15:37:05.830692Z",
     "start_time": "2024-09-26T15:37:05.824022Z"
    }
   },
   "outputs": [
    {
     "name": "stdout",
     "output_type": "stream",
     "text": [
      "Os valores sorteados foram: 5 1 2 9 5 \n",
      "O maior valor sorteado foi 9\n",
      "O menor valor sorteado foi 1\n"
     ]
    }
   ],
   "source": [
    "from random import randint\n",
    "\n",
    "numeros = (randint(1, 10), randint(1, 10), randint(1, 10),\n",
    "          randint(1, 10), randint(1, 10))\n",
    "print('Os valores sorteados foram: ', end='')\n",
    "for n in numeros:\n",
    "    print(f'{n}', end=' ')\n",
    "print(f'\\nO maior valor sorteado foi {max(numeros)}')\n",
    "print(f'O menor valor sorteado foi {min(numeros)}')\n"
   ]
  },
  {
   "cell_type": "markdown",
   "id": "55bd65ef",
   "metadata": {},
   "source": [
    "##  <font color = 'red'> Desafio 075 - Análise de dados em uma Tupla</font>\n",
    "Desenvolva um programa que leia quatro valores pelo teclado e guarde-os em uma tupla. No final, mostre:\n",
    "- A) Quantas vezes apareceu o valor 9.\n",
    "- B) Em que posição foi digitado o primeiro valor 3.\n",
    "- C) Quais foram os números pares."
   ]
  },
  {
   "cell_type": "code",
   "execution_count": 35,
   "id": "763aa954",
   "metadata": {
    "ExecuteTime": {
     "end_time": "2024-09-26T15:53:26.693528Z",
     "start_time": "2024-09-26T15:53:23.650498Z"
    }
   },
   "outputs": [
    {
     "name": "stdout",
     "output_type": "stream",
     "text": [
      "Digite um número: 2\n",
      "Digite outro número: 4\n",
      "Digite mais um número: 5\n",
      "Digite o último número: 7\n",
      "-=-=-=-=-=-=-=-=-=-=-=-=-=-=-=-=-=-=-=-=-=-=-=-=-=-=-=-=-=-=\n",
      "Você digitou os valores (2, 4, 5, 7)\n",
      "O valor 9 apareceu 0 vezes\n",
      "O valor 3 não foi digitado em nenhuma posição\n",
      "Os valores pares digitados foram 2 4 "
     ]
    }
   ],
   "source": [
    "num = (int(input('Digite um número: ')),\n",
    "      int(input('Digite outro número: ')),\n",
    "      int(input('Digite mais um número: ')),\n",
    "      int(input('Digite o último número: ')),)\n",
    "print('-=' * 30)\n",
    "print(f'Você digitou os valores {num}.')\n",
    "print(f'O valor 9 apareceu {num.count(9)} vezes.')\n",
    "if 3 in num:\n",
    "    print(f'O valor 3 apareceu na {num.index(3)+1}ª posição.')\n",
    "else:\n",
    "    print('O valor 3 não foi digitado em nenhuma posição.')\n",
    "print('Os valores pares digitados foram ', end='')\n",
    "for n in num:\n",
    "    if n % 2 == 0:\n",
    "        print(n, end=' ')\n"
   ]
  },
  {
   "cell_type": "markdown",
   "id": "0bc865b4",
   "metadata": {},
   "source": [
    "##  <font color = 'red'> Desafio 076 - Lista de Preços com Tupla</font>\n",
    "Crie um programa que tenha uma tupla única com nomes de produtos e seus respectivos preços, na sequência.</br>\n",
    "No final, mostre uma listagem de preços, organizando os dados em forma tabular."
   ]
  },
  {
   "cell_type": "code",
   "execution_count": 39,
   "id": "b926a1db",
   "metadata": {
    "ExecuteTime": {
     "end_time": "2024-09-26T16:08:29.456635Z",
     "start_time": "2024-09-26T16:08:29.450147Z"
    }
   },
   "outputs": [
    {
     "name": "stdout",
     "output_type": "stream",
     "text": [
      "----------------------------------------\n",
      "           LISTAGEM DE PREÇOS           \n",
      "----------------------------------------\n",
      "Lápis.........................R$   1.75\n",
      "Borracha......................R$   2.00\n",
      "Caderno.......................R$  15.90\n",
      "Estojo........................R$  25.00\n",
      "Transferidor..................R$   4.20\n",
      "Compasso......................R$   9.99\n",
      "Mochila.......................R$ 120.32\n",
      "Canetas.......................R$  22.30\n",
      "Livro.........................R$  34.90\n",
      "----------------------------------------\n"
     ]
    }
   ],
   "source": [
    "listagem = ('Lápis', 1.75, \n",
    "            'Borracha', 2,\n",
    "            'Caderno', 15.90,\n",
    "            'Estojo', 25,\n",
    "            'Transferidor', 4.20,\n",
    "            'Compasso', 9.99,\n",
    "            'Mochila', 120.32,\n",
    "            'Canetas', 22.30,\n",
    "            'Livro', 34.90)\n",
    "print('-' * 40)\n",
    "print(f'{\"LISTAGEM DE PREÇOS\":^40}')\n",
    "print('-' * 40)\n",
    "for pos in range(0, len(listagem)):\n",
    "    if pos % 2 == 0:\n",
    "        print(f'{listagem[pos]:.<30}', end='')\n",
    "    else:\n",
    "        print(f'R${listagem[pos]:>7.2f}')\n",
    "print('-' * 40)"
   ]
  },
  {
   "cell_type": "markdown",
   "id": "6d529e3f",
   "metadata": {},
   "source": [
    "##  <font color = 'red'> Desafio 077 - Contando vogais em Tuplas</font>\n",
    "Crie um programa que tenha um tupla com várias palavras (não usar acentos). Depois disso, você deve mostrar, para cada palavra, quais são as suas vogais."
   ]
  },
  {
   "cell_type": "code",
   "execution_count": 40,
   "id": "8d74ff7f",
   "metadata": {
    "ExecuteTime": {
     "end_time": "2024-09-26T16:18:25.896942Z",
     "start_time": "2024-09-26T16:18:25.889438Z"
    }
   },
   "outputs": [
    {
     "name": "stdout",
     "output_type": "stream",
     "text": [
      "\n",
      "Na palavra APRENDER temos: a e e \n",
      "Na palavra PROGRAMAR temos: o a a \n",
      "Na palavra LINGUAGEM temos: i u a e \n",
      "Na palavra PYTHON temos: o \n",
      "Na palavra CURSO temos: u o \n",
      "Na palavra GRATIS temos: a i \n",
      "Na palavra ESTUDAR temos: e u a \n",
      "Na palavra PRATICAR temos: a i a \n",
      "Na palavra TRABALHAR temos: a a a \n",
      "Na palavra MERCADO temos: e a o \n",
      "Na palavra PROGRAMADOR temos: o a a o \n",
      "Na palavra FUTURO temos: u u o "
     ]
    }
   ],
   "source": [
    "palavras = ('aprender', 'programar', 'linguagem', 'python', \n",
    "            'curso', 'gratis', 'estudar', 'praticar',\n",
    "            'trabalhar', 'mercado', 'programador', 'futuro')\n",
    "for p in palavras:\n",
    "    print(f'\\nNa palavra {p.upper()} temos: ', end='')\n",
    "    for letra in p:\n",
    "        if letra.lower() in 'aeiou':\n",
    "            print(letra, end=' ')\n"
   ]
  },
  {
   "cell_type": "markdown",
   "id": "dd7c465e",
   "metadata": {},
   "source": [
    "##  <font color = 'red'> Desafio 078 - Maior e Menor valores ne Lista</font>\n",
    "Faça um programa que leia 5 valores numéricos e guarde-os em uma lista.</br>\n",
    "No final, mostre qual foi o maior e menor valores digitado e as suas respectivas posições na lista."
   ]
  },
  {
   "cell_type": "code",
   "execution_count": 43,
   "id": "0eacb5c5",
   "metadata": {
    "ExecuteTime": {
     "end_time": "2024-09-26T16:34:36.653429Z",
     "start_time": "2024-09-26T16:34:32.604841Z"
    }
   },
   "outputs": [
    {
     "name": "stdout",
     "output_type": "stream",
     "text": [
      "Digite um valor para a posição 0: 1\n",
      "Digite um valor para a posição 1: 8\n",
      "Digite um valor para a posição 2: 8\n",
      "Digite um valor para a posição 3: 2\n",
      "Digite um valor para a posição 4: 1\n",
      "-=-=-=-=-=-=-=-=-=-=-=-=-=-=-=-=-=-=-=-=-=-=-=-=-=-=-=-=-=-=\n",
      "Você digitou os valores: [1, 8, 8, 2, 1]\n",
      "O maior valor digitado foi 8 nas posições: 1... 2... \n",
      "O menor valor digitado foi 1 nas posições: 0... 4... \n"
     ]
    }
   ],
   "source": [
    "listaNum = []\n",
    "maior = 0\n",
    "menor = 0\n",
    "for c in range(0, 5):\n",
    "    listaNum.append(int(input(f'Digite um valor para a posição {c}: ')))\n",
    "    if c == 0:\n",
    "        maior = menor = listaNum[c]\n",
    "    else:\n",
    "        if listaNum[c] > maior:\n",
    "            maior = listaNum[c]\n",
    "        if listaNum[c] < menor:\n",
    "            menor = listaNum[c]\n",
    "print('-=' * 30)\n",
    "print(f'Você digitou os valores: {listaNum}')\n",
    "print(f'O maior valor digitado foi {maior} nas posições: ', end='')\n",
    "for i, v in enumerate(listaNum):\n",
    "    if v == maior:\n",
    "        print(f'{i}... ', end='')\n",
    "print()\n",
    "print(f'O menor valor digitado foi {menor} nas posições: ', end='')\n",
    "for i, v in enumerate(listaNum):\n",
    "    if v == menor:\n",
    "        print(f'{i}... ', end='')\n",
    "print()\n"
   ]
  },
  {
   "cell_type": "markdown",
   "id": "8561ec4c",
   "metadata": {},
   "source": [
    "##  <font color = 'red'> Desafio 079 - Valores únicos em uma Lista</font>\n",
    "Crie um programa onde o usuário possa digitar vários valores numéricos e cadastre-os em uma lista. Caso o número já exista la dentro, ele não será adicionado.</br>\n",
    "No final, serão exibidos todos os valores únicos, digitados, em ordem crescente."
   ]
  },
  {
   "cell_type": "code",
   "execution_count": 47,
   "id": "e6fffad6",
   "metadata": {
    "ExecuteTime": {
     "end_time": "2024-09-26T16:49:14.732229Z",
     "start_time": "2024-09-26T16:49:03.956742Z"
    }
   },
   "outputs": [
    {
     "name": "stdout",
     "output_type": "stream",
     "text": [
      "Digite um valor: 9\n",
      "Valor adicionado com sucesso...\n",
      "Quer continuar? [S/N] s\n",
      "Digite um valor: 7\n",
      "Valor adicionado com sucesso...\n",
      "Quer continuar? [S/N] s\n",
      "Digite um valor: 4\n",
      "Valor adicionado com sucesso...\n",
      "Quer continuar? [S/N] n\n",
      "-=-=-=-=-=-=-=-=-=-=-=-=-=-=-=-=-=-=-=-=-=-=-=-=-=-=-=-=-=-=\n",
      "Você digitou os valores [4, 7, 9].\n"
     ]
    }
   ],
   "source": [
    "numeros = list()\n",
    "while True:\n",
    "    n = int(input('Digite um valor: '))\n",
    "    if n not in numeros:\n",
    "        numeros.append(n)\n",
    "        print('Valor adicionado com sucesso...')\n",
    "    else:\n",
    "        print('Valor duplicado! Não vou adicionar...')\n",
    "    r = str(input('Quer continuar? [S/N] '))\n",
    "    if r in 'Nn':\n",
    "        break\n",
    "print('-=' * 30)\n",
    "numeros.sort()\n",
    "print(f'Você digitou os valores {numeros}.')\n"
   ]
  },
  {
   "cell_type": "markdown",
   "id": "cd54c615",
   "metadata": {},
   "source": [
    "##  <font color = 'red'> Desafio 080 - Lista ordenada sem repetições</font>\n",
    "Crie um programa onde o usuário possa digitar cinco valores numéricos e cadastre-os em uma lista, já na posição correta de inserção (sem usar o sort()).</br>\n",
    "No final, mostre a lista ordenada na tela."
   ]
  },
  {
   "cell_type": "code",
   "execution_count": 50,
   "id": "fdb87c53",
   "metadata": {
    "ExecuteTime": {
     "end_time": "2024-09-27T15:38:56.814143Z",
     "start_time": "2024-09-27T15:38:22.938496Z"
    }
   },
   "outputs": [
    {
     "name": "stdout",
     "output_type": "stream",
     "text": [
      "Digite um valor: 8\n",
      "Adicionado ao final da lista...\n",
      "Digite um valor: 1\n",
      "Adicionado na posição 0 da lista...\n",
      "Digite um valor: 7\n",
      "Adicionado na posição 1 da lista...\n",
      "Digite um valor: 10\n",
      "Adicionado ao final da lista...\n",
      "Digite um valor: 0\n",
      "Adicionado na posição 0 da lista...\n",
      "-=-=-=-=-=-=-=-=-=-=-=-=-=-=-=-=-=-=-=-=-=-=-=-=-=-=-=-=-=-=\n",
      "Os valores digitados em ordem foram [0, 1, 7, 8, 10]\n"
     ]
    }
   ],
   "source": [
    "lista = []\n",
    "for c in range(0, 5):\n",
    "    n = int(input('Digite um valor: '))\n",
    "    if c == 0 or n > lista[-1]:\n",
    "        lista.append(n)\n",
    "        print('Adicionado ao final da lista...')\n",
    "    else:\n",
    "        pos = 0\n",
    "        while pos < len(lista):\n",
    "            if n <= lista[pos]:\n",
    "                lista.insert(pos, n)\n",
    "                print(f'Adicionado na posição {pos} da lista...')\n",
    "                break\n",
    "            pos += 1\n",
    "print('-=' * 30)\n",
    "print(f'Os valores digitados em ordem foram {lista}')"
   ]
  },
  {
   "cell_type": "markdown",
   "id": "de01b22e",
   "metadata": {},
   "source": [
    "##  <font color = 'red'> Desafio 081 - Extraindo dados de uma lista</font>\n",
    "Crie um programa que vai ler vários números e colocar em uma lista.</br>\n",
    "Depois disso, motre:\n",
    "- A) Quantos números foram digitados.\n",
    "- B) A lista de valores, ordenada de forma decrescente.\n",
    "- C) Se o valor 5 foi digitado e está ou não na lista."
   ]
  },
  {
   "cell_type": "code",
   "execution_count": 52,
   "id": "2f73e5de",
   "metadata": {
    "ExecuteTime": {
     "end_time": "2024-09-27T15:50:22.817828Z",
     "start_time": "2024-09-27T15:50:10.092558Z"
    }
   },
   "outputs": [
    {
     "name": "stdout",
     "output_type": "stream",
     "text": [
      "Digite um valor: 3\n",
      "Quer continuar [S/N] s\n",
      "Digite um valor: 9\n",
      "Quer continuar [S/N] s\n",
      "Digite um valor: 6\n",
      "Quer continuar [S/N] s\n",
      "Digite um valor: 4\n",
      "Quer continuar [S/N] n\n",
      "-=-=-=-=-=-=-=-=-=-=-=-=-=-=-=-=-=-=-=-=-=-=-=-=-=-=-=-=-=-=\n",
      "Você digitou 4 elementos.\n",
      "Os valores em ordem decrescente são [9, 6, 4, 3].\n",
      "O valor 5 não foi encontrado na lista!\n"
     ]
    }
   ],
   "source": [
    "valores = []\n",
    "while True:\n",
    "    valores.append(int(input('Digite um valor: ')))\n",
    "    resp = str(input('Quer continuar [S/N] '))\n",
    "    if resp in 'Nn':\n",
    "        break\n",
    "print('-=' * 30)\n",
    "print(f'Você digitou {len(valores)} elementos.')\n",
    "valores.sort(reverse=True)\n",
    "print(f'Os valores em ordem decrescente são {valores}.')\n",
    "if 5 in valores:\n",
    "    print('O valor 5 faz parte da lista!')\n",
    "else:\n",
    "    print('O valor 5 não foi encontrado na lista!')"
   ]
  },
  {
   "cell_type": "markdown",
   "id": "7eef8753",
   "metadata": {},
   "source": [
    "##  <font color = 'red'> Desafio 082 - Dividindo valores em várias listas</font>\n",
    "Crie um programa que vai ler vários números e colocar em uma lista.\n",
    "\n",
    "Depois disso, crie duas listas extras que vão conter apenas os valores pares e os valores ímpares digitados, respectivamente.</br>\n",
    "\n",
    "Ao final, mostre o conteúdo das três listas geradas."
   ]
  },
  {
   "cell_type": "code",
   "execution_count": null,
   "id": "b79b30f9",
   "metadata": {},
   "outputs": [],
   "source": [
    "num = list()\n",
    "pares = list()\n",
    "impares = list()\n",
    "while True:\n",
    "    num.append(int(input('Digite um número: ')))\n",
    "    resp = str(input('Quer continuar? [S/N] '))\n",
    "    if resp in 'Nn':\n",
    "        break\n",
    "for i, v in enumerate(num):\n",
    "    if v % 2 == 0:\n",
    "        pares.append(v)\n",
    "    elif v % 2 == 1: # poderia ser um else\n",
    "        impares.append(v)\n",
    "print('-=' * 30)\n",
    "print(f'A lista completa é {num}')\n",
    "print(f'A lista de pares é {pares}')\n",
    "print(f'A lista de imperes é {pares}')\n"
   ]
  },
  {
   "cell_type": "markdown",
   "id": "0279a827",
   "metadata": {},
   "source": [
    "##  <font color = 'red'> Desafio 083 - Validando Expressões Matemáticas</font>\n",
    "Crie um programa onde o usuário digite uma expressão qualquer que use parênteses. Seu aplicativo deverá analisar se a expressão passada está com os parênteses abertos e fechados na ordem correta."
   ]
  },
  {
   "cell_type": "code",
   "execution_count": 3,
   "id": "ab992be6",
   "metadata": {
    "ExecuteTime": {
     "end_time": "2024-10-01T11:52:20.563427Z",
     "start_time": "2024-10-01T11:52:16.566445Z"
    }
   },
   "outputs": [
    {
     "name": "stdout",
     "output_type": "stream",
     "text": [
      "Digite a expressão: (a+b)(a(4+3)*2)(c\n",
      "Sua expressão está errada!\n"
     ]
    }
   ],
   "source": [
    "expr = str(input('Digite a expressão: '))\n",
    "pilha = []\n",
    "for simb in expr:\n",
    "    if simb == '(':\n",
    "        pilha.append('(')\n",
    "    elif simb == ')':\n",
    "        if len(pilha) > 0:\n",
    "            pilha.pop() # Remove o último elemento\n",
    "        else:\n",
    "            pilha.append(')')\n",
    "            break\n",
    "if len(pilha) == 0:\n",
    "    print('Sua expressão está válida!')\n",
    "else:\n",
    "    print('Sua expressão está errada!')\n"
   ]
  },
  {
   "cell_type": "markdown",
   "id": "28e529d0",
   "metadata": {},
   "source": [
    "##  <font color = 'red'> Desafio 084 - Lista composta e análise de dados</font>\n",
    "Faça um programa que leia nome e peso de várias pessoas, guardando tudo em uma lista. No final, mostre:\n",
    "- A) Quantas pessoas foram cadastradas;\n",
    "- B) Uma listagem com as pessoas mais pesadas;\n",
    "- C) Uma listagem com as pessoas mais leves;"
   ]
  },
  {
   "cell_type": "code",
   "execution_count": 10,
   "id": "bb3fd773",
   "metadata": {
    "ExecuteTime": {
     "end_time": "2024-10-01T14:11:22.766325Z",
     "start_time": "2024-10-01T14:10:47.295210Z"
    }
   },
   "outputs": [
    {
     "name": "stdout",
     "output_type": "stream",
     "text": [
      "Nome: Mario\n",
      "Peso: 90\n",
      "Quer continuar? [S/N] s\n",
      "Nome: Ana\n",
      "Peso: 75\n",
      "Quer continuar? [S/N] s\n",
      "Nome: Pedro\n",
      "Peso: 80\n",
      "Quer continuar? [S/N] s\n",
      "Nome: Maria\n",
      "Peso: 90\n",
      "Quer continuar? [S/N] S\n",
      "Nome: Clara\n",
      "Peso: 75\n",
      "Quer continuar? [S/N] n\n",
      "-=-=-=-=-=-=-=-=-=-=-=-=-=-=-=-=-=-=-=-=-=-=-=-=-=-=-=-=-=-=\n",
      "Ao todo, você cadastrou 5 pessoas.\n",
      "O maior peso foi 90.0Kg. Peso de[Mario][Maria]\n",
      "O menor peso foi 75.0Kg. Peso de[Ana][Clara]\n"
     ]
    }
   ],
   "source": [
    "temp = []\n",
    "princ = []\n",
    "mai = men = 0\n",
    "while True:\n",
    "    temp.append(str(input('Nome: ')))\n",
    "    temp.append(float(input('Peso: ')))\n",
    "    if len(princ) == 0:\n",
    "        mai = men = temp[1]\n",
    "    else:\n",
    "        if temp[1] > mai:\n",
    "            mai = temp[1]\n",
    "        if temp[1] < men:\n",
    "            men = temp[1]\n",
    "    princ.append(temp[:])\n",
    "    temp.clear()\n",
    "    resp = str(input('Quer continuar? [S/N] '))\n",
    "    if resp in 'Nn':\n",
    "        break\n",
    "print('-=' * 30)\n",
    "# print(f'Os dados foram {princ}')\n",
    "print(f'Ao todo, você cadastrou {len(princ)} pessoas.')\n",
    "print(f'O maior peso foi {mai}Kg. Peso de', end='')\n",
    "for p in princ:\n",
    "    if p[1] == mai:\n",
    "        print(f'[{p[0]}]', end='')\n",
    "print()\n",
    "print(f'O menor peso foi {men}Kg. Peso de', end='')\n",
    "for p in princ:\n",
    "    if p[1] == men:\n",
    "        print(f'[{p[0]}]', end='')\n",
    "print()\n",
    "      "
   ]
  },
  {
   "cell_type": "markdown",
   "id": "960b1cac",
   "metadata": {},
   "source": [
    "##  <font color = 'red'> Desafio 085 - Listas com pares e ímpares</font>\n",
    "Cria um programa onde o usuário possa digitar sete valores numéricos e cadastre-os em uma lista única que mantenha separados os valores pares e ímpares. No final, mostre os valores pares e ímpares em ordem crescente."
   ]
  },
  {
   "cell_type": "code",
   "execution_count": 15,
   "id": "a4688aea",
   "metadata": {
    "ExecuteTime": {
     "end_time": "2024-10-01T14:18:53.965647Z",
     "start_time": "2024-10-01T14:18:43.391896Z"
    }
   },
   "outputs": [
    {
     "name": "stdout",
     "output_type": "stream",
     "text": [
      "Digite o {c}° valor: 9\n",
      "Digite o {c}° valor: 2\n",
      "Digite o {c}° valor: 4\n",
      "Digite o {c}° valor: 8\n",
      "Digite o {c}° valor: 7\n",
      "Digite o {c}° valor: 5\n",
      "Digite o {c}° valor: 0\n",
      "-=-=-=-=-=-=-=-=-=-=-=-=-=-=-=-=-=-=-=-=-=-=-=-=-=-=-=-=-=-=\n",
      "O valores pares digitados foram: [0, 2, 4, 8]\n",
      "O valores ímpares digitados foram: [5, 7, 9]\n"
     ]
    }
   ],
   "source": [
    "num = [[], []]\n",
    "valor = 0\n",
    "for c in range(1, 8):\n",
    "    valor = int(input('Digite o {c}° valor: '))\n",
    "    if valor % 2 == 0:\n",
    "        num[0].append(valor)\n",
    "    else:\n",
    "        num[1].append(valor)\n",
    "print('-=' * 30)\n",
    "num[0].sort()\n",
    "num[1].sort()\n",
    "print(f'O valores pares digitados foram: {num[0]}')\n",
    "print(f'O valores ímpares digitados foram: {num[1]}')"
   ]
  },
  {
   "cell_type": "markdown",
   "id": "c2f263b6",
   "metadata": {},
   "source": [
    "##  <font color = 'red'> Desafio 086 - Matriz em Python</font>\n",
    "Crie um programa que crie uma matriz de dimensão 3x3 e preencha com valores lidos pelo teclado.</br>\n",
    "\n",
    "No final, mostre a matriz na tela, com a formatação correta."
   ]
  },
  {
   "cell_type": "code",
   "execution_count": 16,
   "id": "c20fd7b0",
   "metadata": {
    "ExecuteTime": {
     "end_time": "2024-10-01T14:28:58.758165Z",
     "start_time": "2024-10-01T14:28:40.023959Z"
    }
   },
   "outputs": [
    {
     "name": "stdout",
     "output_type": "stream",
     "text": [
      "Digite um valor para [0], [0]: 11\n",
      "Digite um valor para [0], [1]: 22\n",
      "Digite um valor para [0], [2]: 33\n",
      "Digite um valor para [1], [0]: 44\n",
      "Digite um valor para [1], [1]: 55\n",
      "Digite um valor para [1], [2]: 66\n",
      "Digite um valor para [2], [0]: 77\n",
      "Digite um valor para [2], [1]: 88\n",
      "Digite um valor para [2], [2]: 99\n",
      "-=-=-=-=-=-=-=-=-=-=-=-=-=-=-=-=-=-=-=-=-=-=-=-=-=-=-=-=-=-=\n",
      "[ 11  ][ 22  ][ 33  ]\n",
      "[ 44  ][ 55  ][ 66  ]\n",
      "[ 77  ][ 88  ][ 99  ]\n"
     ]
    }
   ],
   "source": [
    "matriz = [[0, 0, 0], [0, 0, 0], [0, 0, 0]]\n",
    "for l in range(0, 3):\n",
    "    for c in range(0, 3):\n",
    "        matriz[l][c] = int(input(f'Digite um valor para [{l}], [{c}]: '))\n",
    "print('-=' * 30)\n",
    "for l in range(0, 3):\n",
    "    for c in range (0, 3):\n",
    "        print(f'[{matriz[l][c]:^5}]', end='')\n",
    "    print()\n",
    "    "
   ]
  },
  {
   "cell_type": "markdown",
   "id": "d79968ea",
   "metadata": {},
   "source": [
    "##  <font color = 'red'> Desafio 087 - Mais sobre Matriz em Python </font>\n",
    "Aprimore o desafio anterior, mostra no final:\n",
    "- A) A soma de todos os valores pares digitados;\n",
    "- B) A soma dos valores da terceira coluna.\n",
    "- C) O maoior valor da segunda linha."
   ]
  },
  {
   "cell_type": "code",
   "execution_count": 17,
   "id": "7cbe638f",
   "metadata": {
    "ExecuteTime": {
     "end_time": "2024-10-01T14:41:54.508131Z",
     "start_time": "2024-10-01T14:41:44.787898Z"
    }
   },
   "outputs": [
    {
     "name": "stdout",
     "output_type": "stream",
     "text": [
      "Digite um valor para [0], [0]: 1\n",
      "Digite um valor para [0], [1]: 2\n",
      "Digite um valor para [0], [2]: 3\n",
      "Digite um valor para [1], [0]: 4\n",
      "Digite um valor para [1], [1]: 5\n",
      "Digite um valor para [1], [2]: 6\n",
      "Digite um valor para [2], [0]: 7\n",
      "Digite um valor para [2], [1]: 8\n",
      "Digite um valor para [2], [2]: 9\n",
      "-=-=-=-=-=-=-=-=-=-=-=-=-=-=-=-=-=-=-=-=-=-=-=-=-=-=-=-=-=-=\n",
      "[  1  ][  2  ][  3  ]\n",
      "[  4  ][  5  ][  6  ]\n",
      "[  7  ][  8  ][  9  ]\n",
      "-=-=-=-=-=-=-=-=-=-=-=-=-=-=-=-=-=-=-=-=-=-=-=-=-=-=-=-=-=-=\n",
      "A soma dos valores pares é 20.\n",
      "A soma dos valores da terceira coluna é 18.\n",
      "O maior valor da segunda linha é 6\n"
     ]
    }
   ],
   "source": [
    "matriz = [[0, 0, 0], [0, 0, 0], [0, 0, 0]]\n",
    "spar = mai = scol = 0\n",
    "for l in range(0, 3):\n",
    "    for c in range(0, 3):\n",
    "        matriz[l][c] = int(input(f'Digite um valor para [{l}], [{c}]: '))\n",
    "print('-=' * 30)\n",
    "for l in range(0, 3):\n",
    "    for c in range (0, 3):\n",
    "        print(f'[{matriz[l][c]:^5}]', end='')\n",
    "        if matriz[l][c] % 2 == 0:\n",
    "            spar += matriz[l][c]\n",
    "    print()\n",
    "print('-=' * 30)\n",
    "print(f'A soma dos valores pares é {spar}.')\n",
    "for l in range(0,3):\n",
    "    scol += matriz[l][2]\n",
    "print(f'A soma dos valores da terceira coluna é {scol}.')\n",
    "for c in range(0, 3):\n",
    "    if c == 0:\n",
    "        mai = matriz[1][c]\n",
    "    elif matriz[1][c] > mai:\n",
    "        mai = matriz[1][c]\n",
    "print(f'O maior valor da segunda linha é {mai}')"
   ]
  },
  {
   "cell_type": "markdown",
   "id": "54af7c4f",
   "metadata": {},
   "source": [
    "##  <font color = 'red'> Desafio 088 - Palpites para a Mega Sena</font>\n",
    "Faça um programa que ajude um jogador da MEGA SENA a criar palpites. O programa vai perguntar quantos jogos serão gerados e vai sortear 6 números entre 1 a 60 para cada jogo, cadastrando tudo em uma lista composta."
   ]
  },
  {
   "cell_type": "code",
   "execution_count": 43,
   "id": "d6b0ba86",
   "metadata": {
    "ExecuteTime": {
     "end_time": "2024-10-01T15:42:45.128095Z",
     "start_time": "2024-10-01T15:42:38.211437Z"
    }
   },
   "outputs": [
    {
     "name": "stdout",
     "output_type": "stream",
     "text": [
      "------------------------------\n",
      "      JOGA NA MEGA SENA       \n",
      "------------------------------\n",
      "Quantos jogos você quer que eu sorteie? 5\n",
      "-=-=-= SORTEANDO 5 JOGOS -=-=-=\n",
      "Jogo 1: [15, 38, 49, 52, 55, 60]\n",
      "Jogo 2: [2, 29, 32, 37, 38, 49]\n",
      "Jogo 3: [6, 9, 18, 21, 26, 44]\n",
      "Jogo 4: [4, 6, 8, 17, 20, 43]\n",
      "Jogo 5: [2, 4, 7, 25, 39, 49]\n",
      "-=-=-=-=-= BOA SORTE! -=-=-=-=-=\n"
     ]
    }
   ],
   "source": [
    "from random import randint\n",
    "from time import sleep\n",
    "\n",
    "print('-' * 30)\n",
    "print('{:^30}'.format('JOGA NA MEGA SENA'))\n",
    "print('-' * 30)\n",
    "quant = int(input('Quantos jogos você quer que eu sorteie? '))\n",
    "lista = list()\n",
    "jogos = list()\n",
    "tot = 1\n",
    "while tot <= quant:\n",
    "    cont = 0\n",
    "    while True:\n",
    "        num = randint(1, 60)\n",
    "        if num not in lista:\n",
    "            lista.append(num)\n",
    "            cont += 1\n",
    "        if cont >= 6:\n",
    "            break\n",
    "    lista.sort()\n",
    "    jogos.append(lista[:])\n",
    "    lista.clear()\n",
    "    tot += 1\n",
    "print('-=' *3, f'SORTEANDO {quant} JOGOS', '-=' * 3)\n",
    "for i, l in enumerate(jogos):\n",
    "    print(f'Jogo {i+1}: {l}')\n",
    "    sleep(1)\n",
    "print('-=' * 5, 'BOA SORTE!', '-=' * 5)\n"
   ]
  },
  {
   "cell_type": "markdown",
   "id": "9d8dda23",
   "metadata": {},
   "source": [
    "##  <font color = 'red'> Desafio 089 - Boletim com listas compostas</font>\n",
    "Crie um programa que leia nome e duas notas de vários alunos e guarde tudo em uma lista composta. No final, mostre um boletim contendo a média de cada um e permita que o usuário possa mostrar as notas de cada aluno individualmente."
   ]
  },
  {
   "cell_type": "code",
   "execution_count": 46,
   "id": "f2e5125d",
   "metadata": {
    "ExecuteTime": {
     "end_time": "2024-10-01T16:07:03.739071Z",
     "start_time": "2024-10-01T16:05:53.743765Z"
    }
   },
   "outputs": [
    {
     "name": "stdout",
     "output_type": "stream",
     "text": [
      "Nome: Ana\n",
      "Nota 1: 9.5\n",
      "Nota 2: 10\n",
      "Quer continuar? [S/N]s\n",
      "Nome: Gustavo\n",
      "Nota 1: 2.5\n",
      "Nota 2: 4\n",
      "Quer continuar? [S/N]n\n",
      "-=-=-=-=-=-=-=-=-=-=-=-=-=-=-=-=-=-=-=-=-=-=-=-=-=-=-=-=-=-=\n",
      "No  NOME         MÉDIA\n",
      "-=-=-=-=-=-=-=-=-=-=-=-=-=-=-=-=-=-=-=-=-=-=-=-=-=-=\n",
      "0   Ana            9.8\n",
      "1   Gustavo        3.2\n",
      "-----------------------------------\n",
      "Mostra notas de qual aluno? (999 interrompe): 1\n",
      "Notas de Gustavo são [2.5, 4.0]\n",
      "-----------------------------------\n",
      "Mostra notas de qual aluno? (999 interrompe): 999\n",
      "FINALIZANDO...\n",
      "<<< VOLTE SEMPRE >>>\n"
     ]
    }
   ],
   "source": [
    "ficha = list()\n",
    "while True:\n",
    "    nome = str(input('Nome: '))\n",
    "    nota1 = float(input('Nota 1: '))\n",
    "    nota2 = float(input('Nota 2: '))\n",
    "    media = (nota1 + nota2) / 2\n",
    "    ficha.append([nome, [nota1, nota2], media])\n",
    "    resp = str(input('Quer continuar? [S/N]' ))\n",
    "    if resp in 'Nn':\n",
    "        break\n",
    "print('-=' * 30)\n",
    "print(f'{\"No\":<4}{\"NOME\":<10}{\"MÉDIA\":>8}')\n",
    "print('-=' * 30)\n",
    "for i, a in enumerate(ficha):\n",
    "    print(f'{i:<4}{a[0]:<10}{a[2]:>8.1f}')\n",
    "while True:\n",
    "    print('-' * 30)\n",
    "    opc = int(input('Mostra notas de qual aluno? (999 interrompe): '))\n",
    "    if opc == 999:\n",
    "        print('FINALIZANDO...')\n",
    "        break\n",
    "    if opc <= len(ficha) -1:\n",
    "        print(f'Notas de {ficha[opc][0]} são {ficha[opc][1]}')\n",
    "print('<<< VOLTE SEMPRE >>>')"
   ]
  },
  {
   "cell_type": "markdown",
   "id": "1e6f8862",
   "metadata": {},
   "source": [
    "##  <font color = 'red'> Desafio 090 - Dicionário em Python</font>\n",
    "Faça um programa que leia nome e média de um aluno, guardando também a situação em um dicionário. No final, mostre o conteúdo da estutura na tela"
   ]
  },
  {
   "cell_type": "code",
   "execution_count": 47,
   "id": "e0529421",
   "metadata": {
    "ExecuteTime": {
     "end_time": "2024-10-01T16:42:25.452382Z",
     "start_time": "2024-10-01T16:42:15.828793Z"
    }
   },
   "outputs": [
    {
     "name": "stdout",
     "output_type": "stream",
     "text": [
      "Nome: Gustavo\n",
      "Média de Gustavo: 4.2\n",
      "-=-=-=-=-=-=-=-=-=-=-=-=-=-=-=-=-=-=-=-=-=-=-=-=-=-=-=-=-=-=\n",
      " - nome é igual a Gustavo\n",
      " - media é igual a 4.2\n",
      " - situação é igual a Reprovado\n"
     ]
    }
   ],
   "source": [
    "aluno = dict() # ou aluno = {}\n",
    "aluno['nome'] = str(input('Nome: '))\n",
    "aluno['media'] = float(input(f'Média de {aluno[\"nome\"]}: '))\n",
    "if aluno['media'] >= 7:\n",
    "    aluno['situação'] = 'Aprovado'\n",
    "elif 5 <= aluno['media'] < 7:\n",
    "    aluno['situação'] = 'Recuperação'\n",
    "else:\n",
    "    aluno['situação'] = 'Reprovado'\n",
    "print('-=' * 30)\n",
    "for k, v in aluno.items():\n",
    "    print(f' - {k} é igual a {v}')\n",
    "    "
   ]
  },
  {
   "cell_type": "markdown",
   "id": "93a20eba",
   "metadata": {},
   "source": [
    "##  <font color = 'red'> Desafio 091 - Jogo de Dados em Python</font>\n",
    "Crie um programa onde 4 jogadores joguem um dado e tenham resultados aleatórios. Guarde esses resultados em um dicionário. No final, coloque esse dicionário em ordem, sabendo que o vencedor tirou o maoior número no dado."
   ]
  },
  {
   "cell_type": "code",
   "execution_count": 57,
   "id": "52cfce66",
   "metadata": {
    "ExecuteTime": {
     "end_time": "2024-10-01T17:03:05.024608Z",
     "start_time": "2024-10-01T17:03:01.014368Z"
    }
   },
   "outputs": [
    {
     "name": "stdout",
     "output_type": "stream",
     "text": [
      "Valores sorteados: \n",
      "jogador1 tirou 1 no dado.\n",
      "jogador2 tirou 3 no dado.\n",
      "jogador3 tirou 4 no dado.\n",
      "jogador4 tirou 6 no dado.\n",
      "-=-=-=-=-=-=-=-=-=-=-=-=-=-=-=-=-=-=-=-=-=-=-=-=-=-=-=-=-=-=\n",
      "== RANKING DOS JOGADORES ==\n",
      "  1° lugar: jogador4 com 6.\n",
      "  2° lugar: jogador3 com 4.\n",
      "  3° lugar: jogador2 com 3.\n",
      "  4° lugar: jogador1 com 1.\n"
     ]
    }
   ],
   "source": [
    "from random import randint\n",
    "from time import sleep\n",
    "from operator import itemgetter\n",
    "\n",
    "jogo = {'jogador1': randint(1, 6),\n",
    "        'jogador2': randint(1, 6),\n",
    "        'jogador3': randint(1, 6),\n",
    "        'jogador4': randint(1, 6)}\n",
    "ranking = list()\n",
    "print('Valores sorteados: ')\n",
    "for k, v in jogo.items():\n",
    "    print(f'{k} tirou {v} no dado.')\n",
    "    sleep(1)\n",
    "ranking = sorted(jogo.items(), key=itemgetter(1), reverse=True)\n",
    "print('-=' * 30)\n",
    "print('== RANKING DOS JOGADORES ==')\n",
    "for i, v in enumerate(ranking):\n",
    "    print(f'  {i+1}° lugar: {v[0]} com {v[1]}.')"
   ]
  },
  {
   "cell_type": "markdown",
   "id": "08df329b",
   "metadata": {},
   "source": [
    "##  <font color = 'red'> Desafio 092 - Cadastro de Trabalhador em Python</font>\n",
    "Crie um programa que leia nome, ano de nascimento e carteira de trabalho e cadastre-os (com idade) em um dicionário se por acaso a CTPS for diferente de ZERO, o dicionários receberá também o ano de contratação e o salário. Calcule e acrescente, além da idade, com quantos anos a pessoa vai se aposentar.</br>\n",
    "(Considerar aposentadoria após 35 anos de contribuição.)"
   ]
  },
  {
   "cell_type": "code",
   "execution_count": 58,
   "id": "ff3133ff",
   "metadata": {
    "ExecuteTime": {
     "end_time": "2024-10-01T17:27:04.685337Z",
     "start_time": "2024-10-01T17:26:43.088186Z"
    }
   },
   "outputs": [
    {
     "name": "stdout",
     "output_type": "stream",
     "text": [
      "Nome: João\n",
      "Ano de Nascimento: 1995\n",
      "Carteira de Trabalho (0 não tem): 3333\n",
      "Ano de Contratação> 2000\n",
      "Salário: R$1000\n",
      "-=-=-=-=-=-=-=-=-=-=-=-=-=-=-=-=-=-=-=-=-=-=-=-=-=-=-=-=-=-=\n",
      "  - nome tem o valor João\n",
      "  - idade tem o valor 29\n",
      "  - ctps tem o valor 3333\n",
      "  - contratação tem o valor 2000\n",
      "  - salario tem o valor 1000.0\n",
      "  - aposentadoria tem o valor 40\n"
     ]
    }
   ],
   "source": [
    "from datetime import datetime\n",
    "\n",
    "dados = dict()\n",
    "dados['nome'] = str(input('Nome: '))\n",
    "nasc = int(input('Ano de Nascimento: '))\n",
    "dados['idade'] = datetime.now().year - nasc\n",
    "dados['ctps'] = int(input('Carteira de Trabalho (0 não tem): '))\n",
    "if dados['ctps'] != 0:\n",
    "    dados['contratação'] = int(input('Ano de Contratação> '))\n",
    "    dados['salario'] = float(input('Salário: R$'))\n",
    "    dados['aposentadoria'] = dados['idade'] + ((dados['contratação'] + 35) - datetime.now().year)\n",
    "print('-=' * 30)\n",
    "for k, v in dados.items():\n",
    "    print(f'  - {k} tem o valor {v}')"
   ]
  },
  {
   "cell_type": "markdown",
   "id": "32c12af6",
   "metadata": {},
   "source": [
    "##  <font color = 'red'> Desafio 093 - Cadastro de Jogador de Futebol</font>\n",
    "Crie um programa que gerencie o aproveitamento de um jogador de futebol. O programa vai ler o nome do jogador e quantas partidas ele jogou.</br>\n",
    "Depois vai ler a quantidade de gols feitos em cada partida. No final, tudo isso será guardado em um dicionário, incluindo o total de gols feitos durante o campeonato."
   ]
  },
  {
   "cell_type": "code",
   "execution_count": 60,
   "id": "a24eaa9d",
   "metadata": {
    "ExecuteTime": {
     "end_time": "2024-10-01T17:59:48.130454Z",
     "start_time": "2024-10-01T17:59:25.287663Z"
    }
   },
   "outputs": [
    {
     "name": "stdout",
     "output_type": "stream",
     "text": [
      "Nome do Jogador: Hélio\n",
      "Quantas partidas Hélio jogou? 3\n",
      "    Quantos gols na partida 0?4\n",
      "    Quantos gols na partida 1?0\n",
      "    Quantos gols na partida 2?1\n",
      "-=-=-=-=-=-=-=-=-=-=-=-=-=-=-=-=-=-=-=-=-=-=-=-=-=-=-=-=-=-=\n",
      "{'nome': 'Hélio', 'gols': [4, 0, 1], 'total': 5}\n",
      "-=-=-=-=-=-=-=-=-=-=-=-=-=-=-=-=-=-=-=-=-=-=-=-=-=-=-=-=-=-=\n",
      "O campo nome tem o valor Hélio\n",
      "O campo gols tem o valor [4, 0, 1]\n",
      "O campo total tem o valor 5\n",
      "-=-=-=-=-=-=-=-=-=-=-=-=-=-=-=-=-=-=-=-=-=-=-=-=-=-=-=-=-=-=\n",
      "O jogador Hélio jogou 3 partidas.\n",
      "    => Na partida 0, fez 4 gols.\n",
      "    => Na partida 1, fez 0 gols.\n",
      "    => Na partida 2, fez 1 gols.\n",
      "Foi um total de 5 gols.\n"
     ]
    }
   ],
   "source": [
    "jogador = dict()\n",
    "partidas = list()\n",
    "jogador['nome'] = str(input('Nome do Jogador: '))\n",
    "tot = int(input(f'Quantas partidas {jogador[\"nome\"]} jogou? '))\n",
    "for c in range(0, tot):\n",
    "    partidas.append(int(input(f'    Quantos gols na partida {c}?' )))\n",
    "jogador['gols'] = partidas[:]\n",
    "jogador['total'] = sum(partidas)\n",
    "print('-=' * 30)\n",
    "print(jogador)\n",
    "print('-=' * 30)\n",
    "for k, v in jogador.items():\n",
    "    print(f'O campo {k} tem o valor {v}')\n",
    "print('-=' * 30)\n",
    "print(f'O jogador {jogador[\"nome\"]} jogou {len(jogador[\"gols\"])} partidas.')\n",
    "for i, v in enumerate(jogador['gols']):\n",
    "    print(f'    => Na partida {i+1}, fez {v} gols.')\n",
    "print(f'Foi um total de {jogador[\"total\"]} gols.')\n"
   ]
  },
  {
   "cell_type": "markdown",
   "id": "cf5a0349",
   "metadata": {},
   "source": [
    "##  <font color = 'red'> Desafio 094 - Unindo dicionários e listas</font>\n",
    "Crie um programa que leia nome, sexo e idade de várias pessoas, guardando os dados de cada pessoa em um dicionário e todos os dicionários em uma lista. No final, mostre:\n",
    "- A) Quantas pessoas foram cadastradas.\n",
    "- B) A média de idade do grupo.\n",
    "- C) Uma lista com todas as mulheres.\n",
    "- D) Uma lista com todas as pessoas com idade acima da média."
   ]
  },
  {
   "cell_type": "code",
   "execution_count": 66,
   "id": "47849247",
   "metadata": {
    "ExecuteTime": {
     "end_time": "2024-10-02T18:47:02.901500Z",
     "start_time": "2024-10-02T18:46:43.557696Z"
    }
   },
   "outputs": [
    {
     "name": "stdout",
     "output_type": "stream",
     "text": [
      "Nome: Gustavo\n",
      "Sexo: [M/F] m\n",
      "Idade: 40\n",
      "Quer continuar? [S/N] s\n",
      "\n",
      "Nome: Maria\n",
      "Sexo: [M/F] f\n",
      "Idade: 22\n",
      "Quer continuar? [S/N] s\n",
      "\n",
      "Nome: Jéssica\n",
      "Sexo: [M/F] f\n",
      "Idade: 12\n",
      "Quer continuar? [S/N] n\n",
      "-=-=-=-=-=-=-=-=-=-=-=-=-=-=-=-=-=-=-=-=-=-=-=-=-=-=-=-=-=-=\n",
      "A) Ao todo temos 3 pessoas cadastradas\n",
      "B) A média de idade é de 24.67 anos.\n",
      "C) As mulheres cadastradas foram Maria Jéssica "
     ]
    }
   ],
   "source": [
    "galera = list()\n",
    "pessoa = dict()\n",
    "soma = media = 0\n",
    "while True:\n",
    "    pessoa.clear()\n",
    "    pessoa['nome'] = str(input(\"Nome: \"))\n",
    "    while True:\n",
    "        pessoa['sexo'] = str(input('Sexo: [M/F] ')).upper()[0]\n",
    "        if pessoa['sexo'] in 'MF':\n",
    "            break\n",
    "        print('ERRO! Por Favor, digite apenas M ou F.')\n",
    "    pessoa['idade'] = int(input(\"Idade: \"))\n",
    "    soma += pessoa['idade']\n",
    "    galera.append(pessoa.copy())\n",
    "    while True:\n",
    "        resp = str(input('Quer continuar? [S/N] ')).upper()[0]\n",
    "        if resp in 'SN':\n",
    "            break\n",
    "        print('ERRO! Responda apenas S ou N.')\n",
    "    if resp == 'N':\n",
    "        break\n",
    "    print('')\n",
    "print('-=' * 30)\n",
    "print(f'A) Ao todo temos {len(galera)} pessoas cadastradas')\n",
    "media = soma / len(galera)\n",
    "print(f'B) A média de idade é de {media:5.2f} anos.')\n",
    "print(f'C) As mulheres cadastradas foram: ', end='')\n",
    "for p in galera:\n",
    "    if p['sexo'] in 'Ff':\n",
    "        print(f'{p[\"nome\"]} ', end='')\n",
    "print()\n",
    "print('D) Lista das pessoas que estao acima da média: ')\n",
    "for p in galera:\n",
    "    if p['idade'] >= media:\n",
    "        print('    ')\n",
    "        for k, v in p.items():\n",
    "            print(f'{k} = {v}; ' end='')\n",
    "        print()"
   ]
  },
  {
   "cell_type": "markdown",
   "id": "5526aff2",
   "metadata": {},
   "source": [
    "##  <font color = 'red'> Desafio 095 - Aprimorando os Dicionários</font>\n",
    "Aprimore o Desafio 093 para que ele funcione com vários jogadores, incluindo um sistema de visualização de detalhes do aproveitamento de cada jogador.</br>\n",
    "(Use o 999 para parar o programa.)"
   ]
  },
  {
   "cell_type": "code",
   "execution_count": 13,
   "id": "1e666874",
   "metadata": {
    "ExecuteTime": {
     "end_time": "2024-10-17T16:59:19.722350Z",
     "start_time": "2024-10-17T16:08:56.530250Z"
    }
   },
   "outputs": [
    {
     "name": "stdout",
     "output_type": "stream",
     "text": [
      "Nome do Jogador: Pedro\n",
      "Quantas partidas Pedro jogou? 3\n",
      "    Quantos gols na partida 1?1\n",
      "    Quantos gols na partida 2?2\n",
      "    Quantos gols na partida 3?3\n",
      "Quer cotinuar? [S/N]s\n",
      "Nome do Jogador: Maria\n",
      "Quantas partidas Maria jogou? 4\n",
      "    Quantos gols na partida 1?5\n",
      "    Quantos gols na partida 2?3\n",
      "    Quantos gols na partida 3?4\n",
      "    Quantos gols na partida 4?1\n",
      "Quer cotinuar? [S/N]s\n",
      "Nome do Jogador: Ronaldo\n",
      "Quantas partidas Ronaldo jogou? 1\n",
      "    Quantos gols na partida 1?7\n",
      "Quer cotinuar? [S/N]n\n",
      "-=-=-=-=-=-=-=-=-=-=-=-=-=-=-=-=-=-=-=-=-=-=-=-=-=-=-=-=-=-=\n",
      "cod nome           gols           total          \n",
      "----------------------------------------\n",
      "  0 Pedro          [1, 2, 3]      6              \n",
      "  1 Maria          [5, 3, 4, 1]   13             \n",
      "  2 Ronaldo        [7]            7              \n",
      "----------------------------------------\n",
      "Mostrar dados de qual jogador? (999 para parar) 8\n",
      "Erro! Não existe jogador com código 8!\n",
      "----------------------------------------\n",
      "Mostrar dados de qual jogador? (999 para parar) 2\n",
      " -- LEVANTAMENTO DO JOGADOR Ronaldo:\n",
      "     No jogo 1 fez 7 gols.\n",
      "----------------------------------------\n",
      "Mostrar dados de qual jogador? (999 para parar) 0\n",
      " -- LEVANTAMENTO DO JOGADOR Pedro:\n",
      "     No jogo 1 fez 1 gols.\n",
      "     No jogo 2 fez 2 gols.\n",
      "     No jogo 3 fez 3 gols.\n",
      "----------------------------------------\n",
      "Mostrar dados de qual jogador? (999 para parar) 999\n",
      "<< VOLTE SEMPRE >>\n"
     ]
    }
   ],
   "source": [
    "time = list()\n",
    "jogador = dict()\n",
    "partidas = list()\n",
    "while True:\n",
    "    jogador.clear()\n",
    "    jogador['nome'] = str(input('Nome do Jogador: '))\n",
    "    tot = int(input(f'Quantas partidas {jogador[\"nome\"]} jogou? '))\n",
    "    partidas.clear()\n",
    "    for c in range(0, tot):\n",
    "        partidas.append(int(input(f'    Quantos gols na partida {c+1}?' )))\n",
    "    jogador['gols'] = partidas[:]\n",
    "    jogador['total'] = sum(partidas)\n",
    "    time.append(jogador.copy())\n",
    "    while True:\n",
    "        resp = str(input('Quer cotinuar? [S/N]')).upper()[0]\n",
    "        if resp in 'SN':\n",
    "            break\n",
    "        print('ERRO! Responda apenas S ou N.')\n",
    "    if resp == 'N':\n",
    "        break\n",
    "print('-=' * 30)\n",
    "print('cod ', end='')\n",
    "for i in jogador.keys():\n",
    "    print(f'{i:<15}', end='')\n",
    "print()\n",
    "print('-' * 40)\n",
    "for k, v in enumerate(time):\n",
    "    print(f'{k:>3} ', end='')\n",
    "    for d in v.values():\n",
    "        print(f'{str(d):<15}', end='')\n",
    "    print()\n",
    "print('-' * 40)\n",
    "while True:\n",
    "    busca = int(input('Mostrar dados de qual jogador? (999 para parar) '))\n",
    "    if busca == 999:\n",
    "        break\n",
    "    if busca >= len(time):\n",
    "        print(f'Erro! Não existe jogador com código {busca}!')\n",
    "    else:\n",
    "        print(f' -- LEVANTAMENTO DO JOGADOR {time[busca][\"nome\"]}:')\n",
    "        for i, g in enumerate(time[busca]['gols']):\n",
    "            print(f'     No jogo {i+1} fez {g} gols.')\n",
    "    print('-' * 40)\n",
    "print('<< VOLTE SEMPRE >>')\n"
   ]
  },
  {
   "cell_type": "markdown",
   "id": "475ebfc0",
   "metadata": {},
   "source": [
    "##  <font color = 'red'> Desafio 096 - Função que calcula área</font>\n",
    "Faça um programa que tenha uma função chamada área(), que receba as dimensões de um terreno retangular (largura e comprimento) e mostre a área do terreno."
   ]
  },
  {
   "cell_type": "code",
   "execution_count": 14,
   "id": "4ecbc605",
   "metadata": {
    "ExecuteTime": {
     "end_time": "2024-10-17T17:04:01.603858Z",
     "start_time": "2024-10-17T17:03:51.162386Z"
    }
   },
   "outputs": [
    {
     "name": "stdout",
     "output_type": "stream",
     "text": [
      "Controle de Terrenos\n",
      "--------------------\n",
      "LARGURA (m):5\n",
      "COMPRIMENTO (m): 4\n",
      "A área de um terreno com 5.0x4.0 é de 20.0m².\n"
     ]
    }
   ],
   "source": [
    "def area(larg, comp):\n",
    "    a = larg * comp\n",
    "    print(f'A área de um terreno com {larg} x {comp} é de {a}m².')\n",
    "    \n",
    "print('Controle de Terrenos')\n",
    "print('-' * 20)\n",
    "l = float(input('LARGURA (m):' ))\n",
    "c = float(input('COMPRIMENTO (m): '))\n",
    "area(l, c)\n"
   ]
  },
  {
   "cell_type": "markdown",
   "id": "44bb39f0",
   "metadata": {},
   "source": [
    "##  <font color = 'red'> Desafio 097 - Um print especial</font>\n",
    "Faça um programa que tenha uma função chamada escreva(), que receba um texto qualquer como parâmetro e mostre uma mensagem com tamanho adaptável.</br>\n",
    "Ex: escreva('Olá, Mundo!')</br>\n",
    "Saída:</br>\n",
    "=-=-=-===-=-=-=-=-=</br>\n",
    "Olá, Mundo!</br>\n",
    "=-=-=-===-=-=-=-=-="
   ]
  },
  {
   "cell_type": "code",
   "execution_count": 15,
   "id": "d2895b7b",
   "metadata": {
    "ExecuteTime": {
     "end_time": "2024-10-17T17:07:50.795740Z",
     "start_time": "2024-10-17T17:07:50.790133Z"
    }
   },
   "outputs": [
    {
     "name": "stdout",
     "output_type": "stream",
     "text": [
      "~~~~~~~~~~~~~~~~~~~~~\n",
      "  Gustavo Guanabara\n",
      "~~~~~~~~~~~~~~~~~~~~~\n",
      "~~~~~~~~~~~~~~~~~~~~~~~~~~~~~~\n",
      "  Curso de Python no YouTube\n",
      "~~~~~~~~~~~~~~~~~~~~~~~~~~~~~~\n",
      "~~~~~~~\n",
      "  CeV\n",
      "~~~~~~~\n"
     ]
    }
   ],
   "source": [
    "def escreva(msg):\n",
    "    tam = len(msg) + 4\n",
    "    print('~' * tam)\n",
    "    print(f'  {msg}')\n",
    "    print('~' * tam)\n",
    "\n",
    "escreva('Gustavo Guanabara')\n",
    "escreva('Curso de Python no YouTube')\n",
    "escreva('CeV')\n"
   ]
  },
  {
   "cell_type": "markdown",
   "id": "e3bdde9f",
   "metadata": {},
   "source": [
    "##  <font color = 'red'> Desafio 098- Função de Contador</font>\n",
    "Faça um programa que tenha uma função chamda contador(), que receba três parâmetros: início, fim e passo e realize a contagem.</br>\n",
    "Seu programa tem que realizar três contagens através da função criada:\n",
    "- A) De 1 até 10, de 1 em 1.\n",
    "- B) De 10 até 0, de 2 em 2.\n",
    "- C) Uma contagem personalizada."
   ]
  },
  {
   "cell_type": "code",
   "execution_count": 31,
   "id": "cfc5f3f8",
   "metadata": {
    "ExecuteTime": {
     "end_time": "2024-10-17T17:30:38.966324Z",
     "start_time": "2024-10-17T17:30:22.985931Z"
    }
   },
   "outputs": [
    {
     "name": "stdout",
     "output_type": "stream",
     "text": [
      "-=-=-=-=-=-=-=-=-=-=-=-=-=-=-=-=-=-=-=-=\n",
      "Contagem de 1 até 10 de 1 em 1.\n",
      "1 2 3 4 5 6 7 8 9 10 FIM!\n",
      "-=-=-=-=-=-=-=-=-=-=-=-=-=-=-=-=-=-=-=-=\n",
      "Contagem de 10 até 0 de 2 em 2.\n",
      "10 8 6 4 2 0 FIM!\n",
      "-=-=-=-=-=-=-=-=-=-=-=-=-=-=-=-=-=-=-=-=\n",
      "Agora é sua vez de personalizar a contagem!\n",
      "Inicio:-10\n",
      "Fim:10\n",
      "Passo:-4\n",
      "-=-=-=-=-=-=-=-=-=-=-=-=-=-=-=-=-=-=-=-=\n",
      "Contagem de -10 até 10 de 4 em 4.\n",
      "-10 -6 -2 2 6 10 FIM!\n"
     ]
    }
   ],
   "source": [
    "from time import sleep\n",
    "\n",
    "def contador(i, f, p):\n",
    "    if p < 0:\n",
    "        p *= -1\n",
    "    if p == 0:\n",
    "        p = 1\n",
    "        \n",
    "    print('-=' * 20)\n",
    "    print(f'Contagem de {i} até {f} de {p} em {p}.')\n",
    "    \n",
    "    if i < f:\n",
    "        cont = i\n",
    "        while cont <= f:\n",
    "            print(f'{cont} ', end='', flush=True)\n",
    "            sleep(0.5)\n",
    "            cont += p\n",
    "        print('FIM!')\n",
    "    else:\n",
    "        cont = i\n",
    "        while cont >= f:\n",
    "            print(f'{cont} ', end='', flush=True)\n",
    "            sleep(0.5)\n",
    "            cont -= p\n",
    "        print('FIM!')\n",
    "    \n",
    "contador(1, 10, 1)\n",
    "contador(10, 0, 2)\n",
    "print('-=' * 20)\n",
    "print('Agora é sua vez de personalizar a contagem!')\n",
    "ini = int(input('Inicio:' ))\n",
    "fim = int(input('Fim:' ))\n",
    "pas = int(input('Passo:' ))\n",
    "contador(ini, fim, pas)\n"
   ]
  },
  {
   "cell_type": "markdown",
   "id": "0ad8bb19",
   "metadata": {},
   "source": [
    "##  <font color = 'red'> Desafio 099 - Função que descobre o maior</font>\n",
    "Faça um programa que tenha uma função chamda maior(), que receba vários parâmetros com valores inteiros.</br>\n",
    "\n",
    "Seu programa tem que analisar todos os valores e dizer qual deles é maior."
   ]
  },
  {
   "cell_type": "code",
   "execution_count": 40,
   "id": "d57f371c",
   "metadata": {
    "ExecuteTime": {
     "end_time": "2024-10-17T17:42:15.866004Z",
     "start_time": "2024-10-17T17:42:12.240648Z"
    }
   },
   "outputs": [
    {
     "name": "stdout",
     "output_type": "stream",
     "text": [
      "-=-=-=-=-=-=-=-=-=-=-=-=-=-=-=-=-=-=-=-=-=-=-=-=-=-=-=-=-=-=\n",
      "Analisando os valores passador...\n",
      "2 9 4 5 7 1 Foram informado 6 valores ao todo.\n",
      "O maior valor informado foi 9.\n",
      "-=-=-=-=-=-=-=-=-=-=-=-=-=-=-=-=-=-=-=-=-=-=-=-=-=-=-=-=-=-=\n",
      "Analisando os valores passador...\n",
      "4 7 0 Foram informado 3 valores ao todo.\n",
      "O maior valor informado foi 7.\n",
      "-=-=-=-=-=-=-=-=-=-=-=-=-=-=-=-=-=-=-=-=-=-=-=-=-=-=-=-=-=-=\n",
      "Analisando os valores passador...\n",
      "1 2 Foram informado 2 valores ao todo.\n",
      "O maior valor informado foi 2.\n",
      "-=-=-=-=-=-=-=-=-=-=-=-=-=-=-=-=-=-=-=-=-=-=-=-=-=-=-=-=-=-=\n",
      "Analisando os valores passador...\n",
      "6 Foram informado 1 valores ao todo.\n",
      "O maior valor informado foi 6.\n",
      "-=-=-=-=-=-=-=-=-=-=-=-=-=-=-=-=-=-=-=-=-=-=-=-=-=-=-=-=-=-=\n",
      "Analisando os valores passador...\n",
      "Foram informado 0 valores ao todo.\n",
      "O maior valor informado foi 0.\n"
     ]
    }
   ],
   "source": [
    "from time import sleep\n",
    "\n",
    "def maior(*num):\n",
    "    cont = maior = 0\n",
    "    print('-=' * 30)\n",
    "    print('Analisando os valores passador...')\n",
    "    for valor in num:\n",
    "        print(f'{valor} ', end='', flush=True)\n",
    "        sleep(0.3)\n",
    "        if cont == 0:\n",
    "            maior = valor\n",
    "        else:\n",
    "            if valor > maior:\n",
    "                maior = valor\n",
    "        cont += 1\n",
    "    print(f'Foram informado {cont} valores ao todo.')\n",
    "    print(f'O maior valor informado foi {maior}.')\n",
    "\n",
    "maior(2, 9, 4, 5, 7, 1)\n",
    "maior(4, 7, 0)\n",
    "maior(1, 2)\n",
    "maior(6)\n",
    "maior()\n"
   ]
  },
  {
   "cell_type": "markdown",
   "id": "9361cab8",
   "metadata": {},
   "source": [
    "##  <font color = 'red'> Desafio 100 - Funções para sortear e somar</font>\n",
    "Faça um programa que tenha uma lista chamda números e duas funções chamadas sorteia() e somaPar(). A primeira função vai sortear 5 números e vai colocá-los dentro da lista e a segunda função vai mostrar a soma entre todos os valores PARES sorteados pela função anterior."
   ]
  },
  {
   "cell_type": "code",
   "execution_count": 47,
   "id": "0de89501",
   "metadata": {
    "ExecuteTime": {
     "end_time": "2024-10-17T18:39:41.259517Z",
     "start_time": "2024-10-17T18:39:39.742911Z"
    }
   },
   "outputs": [
    {
     "name": "stdout",
     "output_type": "stream",
     "text": [
      "Sorteando 5 valores da lista: 8 10 3 5 4 PRONTO\n",
      "Somando os valores pares de [8, 10, 3, 5, 4], temos 22.\n"
     ]
    }
   ],
   "source": [
    "from random import randint\n",
    "from time import sleep\n",
    "\n",
    "def sorteia(lista):\n",
    "    print('Sorteando 5 valores da lista: ', end='')\n",
    "    for cont in range(0, 5):\n",
    "        n = randint(1, 10)\n",
    "        lista.append(n)\n",
    "        print(f'{n} ', end='', flush=True)\n",
    "        sleep(0.3)\n",
    "    print('PRONTO')\n",
    "    \n",
    "def somaPar(lista):\n",
    "    soma = 0\n",
    "    for valor in lista:\n",
    "        if valor % 2 == 0:\n",
    "            soma += valor\n",
    "    print(f'Somando os valores pares de {lista}, temos {soma}.')\n",
    "        \n",
    "numeros = list()\n",
    "sorteia(numeros)\n",
    "somaPar(numeros)\n"
   ]
  },
  {
   "cell_type": "markdown",
   "id": "c5e2a812",
   "metadata": {},
   "source": [
    "##  <font color = 'red'> Desafio 101 - Funções para votação</font>\n",
    "Crie um programa que tenha uma função chamada voto() que vai receber como parâmetro o ano de nascimento de uma pessoa, retornando um valor literal indicando se uma pessoa tem voto NEGADO, OPCIONAL ou OBRIGATÓRIO nas eleições.\n",
    "\n",
    "Aqui explorado a ideia de escopo de importação."
   ]
  },
  {
   "cell_type": "code",
   "execution_count": 56,
   "id": "ccbf3ad8",
   "metadata": {
    "ExecuteTime": {
     "end_time": "2024-10-17T18:51:01.750396Z",
     "start_time": "2024-10-17T18:50:58.347896Z"
    }
   },
   "outputs": [
    {
     "name": "stdout",
     "output_type": "stream",
     "text": [
      "Em que ano você nasceu? 1971\n",
      "Com 53 anos: VOTO OBRIGATÓRIO.\n"
     ]
    }
   ],
   "source": [
    "def voto(ano):\n",
    "    from datetime import date\n",
    "    atual = date.today().year\n",
    "    idade = atual - ano\n",
    "    if idade < 16:\n",
    "        return f'Com {idade} anos: NÃO VOTA.'\n",
    "    elif 16 <= idade < 18 or idade > 65:\n",
    "        return f'Com {idade} anos: VOTO OPCIONAL.'\n",
    "    else:\n",
    "        return f'Com {idade} anos: VOTO OBRIGATÓRIO.'\n",
    "\n",
    "nasc = int(input('Em que ano você nasceu? '))\n",
    "print(voto(nasc))\n"
   ]
  },
  {
   "cell_type": "markdown",
   "id": "6ab360dd",
   "metadata": {},
   "source": [
    "##  <font color = 'red'> Desafio 102 - Função para Fatorial</font>\n",
    "Crie um programa que tenha uma função fatorial() que receba dois parâmetros: o primeiro que indique o número a calcular e o outro chamado show, que será um valor lógico (opcional) indicando se será mostrado ou não na tela o processo cálculo do fatorial."
   ]
  },
  {
   "cell_type": "code",
   "execution_count": 1,
   "id": "f214015b",
   "metadata": {
    "ExecuteTime": {
     "end_time": "2024-10-18T13:03:08.790405Z",
     "start_time": "2024-10-18T13:03:08.784332Z"
    }
   },
   "outputs": [
    {
     "name": "stdout",
     "output_type": "stream",
     "text": [
      "5 x 4 x 3 x 2 x 1 = 120\n",
      "120\n",
      "Help on function fatorial in module __main__:\n",
      "\n",
      "fatorial(n, show=False)\n",
      "    -> Calcula o Fatorial de um número.\n",
      "    :param n: O número a ser calculado.\n",
      "    :param show: (opcional) Mostra ou não a conta.\n",
      "    :return: O valor do Fatorial de um número n.\n",
      "\n"
     ]
    }
   ],
   "source": [
    "def fatorial(n, show=False):\n",
    "    \"\"\"\n",
    "    -> Calcula o Fatorial de um número.\n",
    "    :param n: O número a ser calculado.\n",
    "    :param show: (opcional) Mostra ou não a conta.\n",
    "    :return: O valor do Fatorial de um número n.\n",
    "    \"\"\"\n",
    "    f = 1\n",
    "    for c in range(n, 0, -1):\n",
    "        if show:\n",
    "            print(c, end='')\n",
    "            if c > 1:\n",
    "                print(' x ', end='')\n",
    "            else:\n",
    "                print(' = ', end='')\n",
    "        f *= c\n",
    "    return f\n",
    "\n",
    "\n",
    "print(fatorial(5, True))\n",
    "print(fatorial(5))\n",
    "help(fatorial)"
   ]
  },
  {
   "cell_type": "markdown",
   "id": "60d99f88",
   "metadata": {},
   "source": [
    "##  <font color = 'red'> Desafio 103 - Ficha do Jogador</font>\n",
    "Faça um programa que tenha uma função chamada ficha(), que receba dois parâmetros opcionais: o nome de um jogador e quantos gols ele marcou.</br>\n",
    "O programa deverá ser  capaz de mostrar a ficha do jogador, mesmo que algum dado não tenha sido informado corretamente."
   ]
  },
  {
   "cell_type": "code",
   "execution_count": 5,
   "id": "755afb0e",
   "metadata": {
    "ExecuteTime": {
     "end_time": "2024-10-18T13:12:59.110247Z",
     "start_time": "2024-10-18T13:12:52.363582Z"
    }
   },
   "outputs": [
    {
     "name": "stdout",
     "output_type": "stream",
     "text": [
      "Nome do Jogador: 0\n",
      "Número de Gols: b\n",
      "O jogador 0 fez 0 gol(s) no campeonato.\n"
     ]
    }
   ],
   "source": [
    "def ficha(jog='<desconhecido>', gol=0):\n",
    "    print(f'O jogador {jog} fez {gol} gol(s) no campeonato.')\n",
    "\n",
    "    \n",
    "n = str(input('Nome do Jogador: '))\n",
    "g = str(input('Número de Gols: '))\n",
    "if g.isnumeric():\n",
    "    g = int(g)\n",
    "else:\n",
    "    g = 0\n",
    "if n.strip() == '':\n",
    "    ficha(gol=g)\n",
    "else:\n",
    "    ficha(n, g)\n"
   ]
  },
  {
   "cell_type": "markdown",
   "id": "eba4b943",
   "metadata": {},
   "source": [
    "##  <font color = 'red'> Desafio 104 - Validando entrada de dados em Python</font>\n",
    "Crie um programa que tenha a função leiaInt(), que vai funcionar de forma semelhante à função input() do Python, só que fazendo a validação para aceitar apenas um valor numérico.</br>\n",
    "Ex: n = leiaInt('Digite um número: \")"
   ]
  },
  {
   "cell_type": "code",
   "execution_count": 8,
   "id": "7748eff4",
   "metadata": {
    "ExecuteTime": {
     "end_time": "2024-10-18T13:51:54.336497Z",
     "start_time": "2024-10-18T13:51:44.893119Z"
    }
   },
   "outputs": [
    {
     "name": "stdout",
     "output_type": "stream",
     "text": [
      "Digite um número: adfasd\n",
      "\u001b[0;31mErro! Digite um número inteiro válido.\u001b[m\n",
      "Digite um número: $\n",
      "\u001b[0;31mErro! Digite um número inteiro válido.\u001b[m\n",
      "Digite um número: 100\n",
      "Você acabou de digitar o número 100.\n"
     ]
    }
   ],
   "source": [
    "def leiaInt(msg):\n",
    "    ok = False\n",
    "    valor = 0\n",
    "    while True:\n",
    "        n = str(input(msg))\n",
    "        if n.isnumeric():\n",
    "            valor = int(n)\n",
    "            ok = True\n",
    "        else:\n",
    "            print('\\033[0;31mErro! Digite um número inteiro válido.\\033[m')\n",
    "        if ok:\n",
    "            break\n",
    "    return valor\n",
    "\n",
    "\n",
    "n = leiaInt('Digite um número: ')\n",
    "print(f'Você acabou de digitar o número {n}.')"
   ]
  },
  {
   "cell_type": "markdown",
   "id": "25cbdf37",
   "metadata": {},
   "source": [
    "##  <font color = 'red'> Desafio 105 - Analisando e gerando Dicionários</font>\n",
    "Faça um programa que tenha uma função notas() que pode receber várias notas de alunos e vai retornar um dicionário com as seguintes informações:\n",
    "- Quantidade de notas\n",
    "- A maior nota\n",
    "- A menor nota\n",
    "- A média da turma\n",
    "- A situação (opcional)\n",
    "\n",
    "Adicione também as docstrings da função."
   ]
  },
  {
   "cell_type": "code",
   "execution_count": 9,
   "id": "f959782f",
   "metadata": {
    "ExecuteTime": {
     "end_time": "2024-10-18T14:05:50.557031Z",
     "start_time": "2024-10-18T14:05:50.551420Z"
    }
   },
   "outputs": [
    {
     "name": "stdout",
     "output_type": "stream",
     "text": [
      "{'total': 3, 'maior': 5.5, 'menor': 1.5, 'media': 3.1666666666666665, 'situacao': 'RUIM'}\n",
      "Help on function notas in module __main__:\n",
      "\n",
      "notas(*n, sit=False)\n",
      "    -> Função para analisar notas e situações de vários alunos.\n",
      "    :param n: uma ou mais notas dos alunos (aceita várias notas).\n",
      "    :param sit: valor opcional, indicando se deve ou não adicionar a situação.\n",
      "    :return: dicionário com várias informações sobre a situação da turma.\n",
      "\n"
     ]
    }
   ],
   "source": [
    "def notas(*n, sit=False):\n",
    "    '''\n",
    "    -> Função para analisar notas e situações de vários alunos.\n",
    "    :param n: uma ou mais notas dos alunos (aceita várias notas).\n",
    "    :param sit: valor opcional, indicando se deve ou não adicionar a situação.\n",
    "    :return: dicionário com várias informações sobre a situação da turma.\n",
    "    '''\n",
    "    r = dict()\n",
    "    r['total'] = len(n)\n",
    "    r['maior'] = max(n)\n",
    "    r['menor'] = min(n)\n",
    "    r['media'] = sum(n) / len(n)\n",
    "    if sit:\n",
    "        if r['media'] >= 7:\n",
    "            r['situacao'] = 'BOA'\n",
    "        elif r['media'] >= 5:\n",
    "            r['situacao'] = 'REZOÁVEL'\n",
    "        else:\n",
    "            r['situacao'] = 'RUIM'\n",
    "    return r\n",
    "\n",
    "\n",
    "resp = notas(5.5, 2.5, 1.5, sit=True)\n",
    "print(resp)\n",
    "help(notas)"
   ]
  },
  {
   "cell_type": "markdown",
   "id": "d67e23c5",
   "metadata": {},
   "source": [
    "##  <font color = 'red'> Desafio 106 - Sistema interativo de ajuda em Python </font>\n",
    "Faça um minisistema que utilize o Interactive Help do Python. O usuário vai digitar o comando e o manual para aparecer. Quando o usuário digitar a palavra 'FIM', o programa se encerrará. Obs: use cores."
   ]
  },
  {
   "cell_type": "code",
   "execution_count": 23,
   "id": "fcb8f310",
   "metadata": {
    "ExecuteTime": {
     "end_time": "2024-10-18T14:48:58.706706Z",
     "start_time": "2024-10-18T14:48:49.849298Z"
    }
   },
   "outputs": [
    {
     "name": "stdout",
     "output_type": "stream",
     "text": [
      "\u001b[0;30;42m~~~~~~~~~~~~~~~~~~~~~~~~~~~\n",
      "  SISTEMA DE AJUDA PyHELP\n",
      "~~~~~~~~~~~~~~~~~~~~~~~~~~~\n",
      "\u001b[0;30;42m\u001b[mFunção ou Biblioteca > len\n",
      "\u001b[0;30;44m~~~~~~~~~~~~~~~~~~~~~~~~~~~~~~~~~~~~~~~\n",
      "  Acessando o manual do comando 'len'\n",
      "~~~~~~~~~~~~~~~~~~~~~~~~~~~~~~~~~~~~~~~\n",
      "\u001b[0;30;44m\u001b[mHelp on built-in function len in module builtins:\n",
      "\n",
      "len(obj, /)\n",
      "    Return the number of items in a container.\n",
      "\n",
      "\u001b[m\u001b[0;30;42m~~~~~~~~~~~~~~~~~~~~~~~~~~~\n",
      "  SISTEMA DE AJUDA PyHELP\n",
      "~~~~~~~~~~~~~~~~~~~~~~~~~~~\n",
      "\u001b[0;30;42m\u001b[mFunção ou Biblioteca > fim\n",
      "\u001b[0;30;41m~~~~~~~~~~~~\n",
      "  ATÉ LOGO\n",
      "~~~~~~~~~~~~\n",
      "\u001b[0;30;41m"
     ]
    }
   ],
   "source": [
    "from time import sleep\n",
    "\n",
    "c = ('\\033[m',         # 0 - sem cores\n",
    "     '\\033[0;30;41m',   # 1 - vermelho\n",
    "     '\\033[0;30;42m',   # 2 - verde\n",
    "     '\\033[0;30;43m',   # 3 - amarelo\n",
    "     '\\033[0;30;44m',   # 4 - azul\n",
    "     '\\033[0;30;45m',   # 5 - roxo\n",
    "     '\\033[7;30m'       # 6 - branco\n",
    "    )\n",
    "\n",
    "def ajuda(com):\n",
    "    titulo(f'Acessando o manual do comando \\'{com}\\'',4)\n",
    "    print(c[0], end='')\n",
    "    help(com)\n",
    "    print(c[0], end='')\n",
    "    sleep(2)\n",
    "    \n",
    "\n",
    "def titulo(msg, cor=0):\n",
    "    tam = len(msg) + 4\n",
    "    print(c[cor], end='')\n",
    "    print('~' * tam)\n",
    "    print(f'  {msg}')\n",
    "    print('~' * tam)\n",
    "    print(c[cor], end='')\n",
    "    sleep(1)\n",
    "        \n",
    "\n",
    "comando = ''\n",
    "while True:\n",
    "    titulo('SISTEMA DE AJUDA PyHELP', 2)\n",
    "    print(c[0], end='')\n",
    "    comando = str(input('Função ou Biblioteca > '))\n",
    "    if comando.upper() == 'FIM':\n",
    "        break\n",
    "    else:\n",
    "        ajuda(comando)\n",
    "titulo('ATÉ LOGO', 1)\n"
   ]
  },
  {
   "cell_type": "markdown",
   "id": "3c1d6e5a",
   "metadata": {},
   "source": [
    "##  <font color = 'red'> Desafio 107 - Exercitando módulos em Python</font>\n",
    "Crie um módulo chamado moeda.py que tenha as punções incporporadas aumentar(), diminuir( ), dobra( ) e metade( ).</br>\n",
    "\n",
    "Faça também um programa que importe esse módulo e use algumas dessas funções."
   ]
  },
  {
   "cell_type": "code",
   "execution_count": 62,
   "id": "c7e46ebc",
   "metadata": {
    "ExecuteTime": {
     "end_time": "2024-10-18T17:05:01.535568Z",
     "start_time": "2024-10-18T17:04:59.784022Z"
    }
   },
   "outputs": [
    {
     "name": "stdout",
     "output_type": "stream",
     "text": [
      "Digite um preço: R$ 200\n",
      "A metade do R$200.0 é R$100.0\n",
      "O dobro de R$200.0 é R$400.0\n",
      "Aumentando 10%, temos R$220.0\n"
     ]
    }
   ],
   "source": [
    "from ex_107 import moeda\n",
    "\n",
    "p = float(input('Digite um preço: R$ '))\n",
    "print(f'A metade do R${p} é R${moeda.metade(p)}')\n",
    "print(f'O dobro de R${p} é R${moeda.dobro(p)}')\n",
    "print(f'Aumentando 10%, temos R${moeda.aumentar(p, 10)}')"
   ]
  },
  {
   "cell_type": "markdown",
   "id": "4e9c5c21",
   "metadata": {},
   "source": [
    "##  <font color = 'red'> Desafio 108 - Formatando Moedas em Python</font>\n",
    "Adapte o código do desafio 107, criando uma função adicional chamada moeda( ) que consiga mostrar os valoes com um valor monterário formatado."
   ]
  },
  {
   "cell_type": "code",
   "execution_count": 63,
   "id": "ecae3449",
   "metadata": {
    "ExecuteTime": {
     "end_time": "2024-10-18T17:05:13.904109Z",
     "start_time": "2024-10-18T17:05:10.417262Z"
    }
   },
   "outputs": [
    {
     "name": "stdout",
     "output_type": "stream",
     "text": [
      "Digite um preço: R$ 200\n",
      "A metade do R$  200,00 é R$  100,00\n",
      "O dobro de R$  200,00 é R$  400,00\n",
      "Aumentando 10%, temos R$  220,00\n"
     ]
    }
   ],
   "source": [
    "from ex_108 import moeda\n",
    "\n",
    "p = float(input('Digite um preço: R$ '))\n",
    "print(f'A metade do {moeda.moeda(p)} é {moeda.moeda(moeda.metade(p))}')\n",
    "print(f'O dobro de {moeda.moeda(p)} é {moeda.moeda(moeda.dobro(p))}')\n",
    "print(f'Aumentando 10%, temos {moeda.moeda(moeda.aumentar(p, 10))}')"
   ]
  },
  {
   "cell_type": "markdown",
   "id": "340acd88",
   "metadata": {},
   "source": [
    "##  <font color = 'red'> Desafio 109 - Formatando Moedas em Python</font>\n",
    "Modifique as funções que foram criadas no Desafio 107 para que elas aceitem um parâmetro a mais, informando se o valor retornado por elas vai ser ou não formadado pela função modeda( ), desenvolvida no Desafio 108."
   ]
  },
  {
   "cell_type": "code",
   "execution_count": 19,
   "id": "799182b6",
   "metadata": {
    "ExecuteTime": {
     "end_time": "2024-10-21T17:40:23.286816Z",
     "start_time": "2024-10-21T17:40:22.593776Z"
    }
   },
   "outputs": [
    {
     "name": "stdout",
     "output_type": "stream",
     "text": [
      "Digite um preço: R$ 123\n",
      "A metade do R$123,00 é R$61,50\n",
      "O dobro de R$123,00 é 246.0\n",
      "Aumentando 10%, temos 135.3\n",
      "Reduzindo 13%, temos 107.01\n"
     ]
    }
   ],
   "source": [
    "from ex_109 import moeda\n",
    "\n",
    "p = float(input('Digite um preço: R$ '))\n",
    "print(f'A metade do {moeda.moeda(p)} é {moeda.metade(p, True)}')\n",
    "print(f'O dobro de {moeda.moeda(p)} é {moeda.dobro(p)}')\n",
    "print(f'Aumentando 10%, temos {moeda.aumentar(p, 10)}')\n",
    "print(f'Reduzindo 13%, temos {moeda.diminuir(p, 13)}')"
   ]
  },
  {
   "cell_type": "markdown",
   "id": "6c2ebdbe",
   "metadata": {},
   "source": [
    "##  <font color = 'red'> Desafio 110 - Reduzinda ainda mais seu programa</font>\n",
    "Adicione ao módulo moeda.py criado nos desafios anteriores, uma função chamada resumo( ), que mostre na tela algumas informações geradas pelas funções que já temos no módulo criado até aqui."
   ]
  },
  {
   "cell_type": "code",
   "execution_count": 36,
   "id": "85d65037",
   "metadata": {
    "ExecuteTime": {
     "end_time": "2024-10-21T17:55:46.174038Z",
     "start_time": "2024-10-21T17:55:44.869901Z"
    }
   },
   "outputs": [
    {
     "name": "stdout",
     "output_type": "stream",
     "text": [
      "Digite um preço: R$ 123\n",
      "------------------------------\n",
      "       RESUMO DO VALOR        \n",
      "------------------------------\n",
      "Preço analisado: \tR$123,00\n",
      "Dobro do preço: \t(246.0, True)\n",
      "Metade do preço: \t(61.5, True)\n",
      "10% de aumento: \t(135.3, True)\n",
      "5% de redução: \t(116.85, True)\n",
      "------------------------------\n"
     ]
    }
   ],
   "source": [
    "from ex_110 import moeda\n",
    "\n",
    "p = float(input('Digite um preço: R$ '))\n",
    "moeda.resumo(p)"
   ]
  },
  {
   "cell_type": "markdown",
   "id": "540e9f3a",
   "metadata": {},
   "source": [
    "##  <font color = 'red'> Desafio 111 - Transformando módulos em pacotes</font>\n",
    "Crie um pacote chamado utilidadesCeV que tenha dois módulos internos chamados moeda e dado.</br>\n",
    "\n",
    "Transfira todas as funções utilizadas no desafios 107, 108 e 109 para o primeiro pacote e mantenha tudo funcionando."
   ]
  },
  {
   "cell_type": "code",
   "execution_count": 51,
   "id": "aa620b18",
   "metadata": {
    "ExecuteTime": {
     "end_time": "2024-10-22T13:52:00.280328Z",
     "start_time": "2024-10-22T13:51:57.374743Z"
    }
   },
   "outputs": [
    {
     "name": "stdout",
     "output_type": "stream",
     "text": [
      "Digite um preço: R$ 123\n",
      "------------------------------\n",
      "       RESUMO DO VALOR        \n",
      "------------------------------\n",
      "Preço analisado: \tR$123,00\n",
      "Dobro do preço: \tR$246,00\n",
      "Metade do preço: \tR$61,50\n",
      "20% de aumento: \tR$147,60\n",
      "15% de redução: \tR$104,55\n",
      "------------------------------\n"
     ]
    }
   ],
   "source": [
    "from ex111.utilizadadeCeV import moeda, dado\n",
    "\n",
    "p = float(input('Digite um preço: R$ '))\n",
    "moeda.resumo(p, 20, 15)"
   ]
  },
  {
   "cell_type": "markdown",
   "id": "4629d46b",
   "metadata": {},
   "source": [
    "##  <font color = 'red'> Desafio 112 - Entrada de dados monetários</font>\n",
    "Dentro do pacote utilidadesCeV que criamos no Desafio 111, temos um módulo chamado dado. Crie uma função chamada leiaDinheiro( ) que seja capaz de funcionar como a função input( ), mas com a validação de dados para aceitar apenas valores que sejam monteráios."
   ]
  },
  {
   "cell_type": "code",
   "execution_count": 50,
   "id": "910a5fab",
   "metadata": {
    "ExecuteTime": {
     "end_time": "2024-10-22T13:51:23.715216Z",
     "start_time": "2024-10-22T13:51:22.316963Z"
    }
   },
   "outputs": [
    {
     "name": "stdout",
     "output_type": "stream",
     "text": [
      "Digite um preço: R$ 123\n",
      "------------------------------\n",
      "       RESUMO DO VALOR        \n",
      "------------------------------\n",
      "Preço analisado: \tR$123,00\n",
      "Dobro do preço: \tR$246,00\n",
      "Metade do preço: \tR$61,50\n",
      "35% de aumento: \tR$166,05\n",
      "22% de redução: \tR$95,94\n",
      "------------------------------\n"
     ]
    }
   ],
   "source": [
    "from ex112.utilizadadeCeV import moeda, dado\n",
    "\n",
    "p = dado.leiaDinheiro('Digite um preço: R$ ')\n",
    "moeda.resumo(p, 35, 22)"
   ]
  },
  {
   "cell_type": "markdown",
   "id": "389353fe",
   "metadata": {},
   "source": [
    "##  <font color = 'red'> Desafio 113 - Função aprofundadas em Python</font>\n",
    "Reescreva a função leiaInt que fizemos no desafio 104, incluindo agora a possibilidade da digitação de um número de tipo inválido. Aproveite e crie também uma função leiaFloat( ) com a mesma funcionalidade."
   ]
  },
  {
   "cell_type": "code",
   "execution_count": 67,
   "id": "06f70ee3",
   "metadata": {
    "ExecuteTime": {
     "end_time": "2024-10-22T14:14:41.213601Z",
     "start_time": "2024-10-22T14:14:38.432899Z"
    }
   },
   "outputs": [
    {
     "name": "stdout",
     "output_type": "stream",
     "text": [
      "Digite um número Inteiro: 9\n",
      "Digite um número Real: 9\n",
      "O valor inteiro digitado foi 9 e o real foi 9.0\n"
     ]
    }
   ],
   "source": [
    "def leiaInt(msg):\n",
    "    while True:\n",
    "        try:\n",
    "            n = int(input(msg))\n",
    "        except (ValueError, TypeError):\n",
    "            print('\\033[31mERRO: por favor, digite um número inteiro válido.\\033[m')\n",
    "            continue\n",
    "        except (KeyboardInterrupt):\n",
    "            print('\\n\\033[31mUsuário preferiu não digitar esse número.\\033[m')\n",
    "            return 0\n",
    "        else:\n",
    "            return n\n",
    "        \n",
    "\n",
    "def leiaFloat(msg):\n",
    "    while True:\n",
    "        try:\n",
    "            n = float(input(msg))\n",
    "        except (ValueError, TypeError):\n",
    "            print('\\033[31mERRO: por favor, digite um número real válido.\\033[m')\n",
    "            continue\n",
    "        except (KeyboardInterrupt):\n",
    "            print('\\n\\033[31mUsuário preferiu não digitar esse número.\\033[m')\n",
    "            return 0\n",
    "        else:\n",
    "            return n\n",
    "        \n",
    "\n",
    "n1 = leiaInt('Digite um número Inteiro: ')\n",
    "n2 = leiaFloat('Digite um número Real: ')\n",
    "print(f'O valor inteiro digitado foi {n1} e o real foi {n2}')\n"
   ]
  },
  {
   "cell_type": "markdown",
   "id": "adc3c386",
   "metadata": {},
   "source": [
    "##  <font color = 'red'> Desafio 114 - Site está acessível</font>\n",
    "Crie um código em Python que teste se o site Pudim está acessível pelo computador usado.\n",
    "(NÃO CONSEGUI RODAR ESSE EXERCÍCIO)"
   ]
  },
  {
   "cell_type": "code",
   "execution_count": 101,
   "id": "79b7b529",
   "metadata": {
    "ExecuteTime": {
     "end_time": "2024-10-22T17:19:43.096745Z",
     "start_time": "2024-10-22T17:19:41.949686Z"
    }
   },
   "outputs": [
    {
     "name": "stdout",
     "output_type": "stream",
     "text": [
      "O site Pudim não está acessível no momento.\n"
     ]
    }
   ],
   "source": [
    "# import urllib\n",
    "import urllib.request\n",
    "\n",
    "try:\n",
    "    site = urllib.request.urlopen('http://www.pudim.com.br/')\n",
    "except urllib.error.URLError:\n",
    "    print('O site Pudim não está acessível no momento.')\n",
    "else:\n",
    "    print('Consegui acessar o site Pudim com sucesso.')"
   ]
  },
  {
   "cell_type": "markdown",
   "id": "3aed11ac",
   "metadata": {},
   "source": [
    "##  <font color = 'red'> Desafio 115 - Criando um menu em Python 1/3</font>\n",
    "Crie um pequeno sistema modularizado que permita cadastrar pessoas pelo seu nome e idade em um arquivo de texto simples.</br>\n",
    "\n",
    "O sistema só vai ter 2 opções: cadastrar uma nova pessoa e listar todas as pessoas cadastradoas."
   ]
  },
  {
   "cell_type": "code",
   "execution_count": 112,
   "id": "358f392e",
   "metadata": {
    "ExecuteTime": {
     "end_time": "2024-10-22T18:02:10.074136Z",
     "start_time": "2024-10-22T18:01:50.402073Z"
    }
   },
   "outputs": [
    {
     "name": "stdout",
     "output_type": "stream",
     "text": [
      "------------------------------------------\n",
      "              MENU PRINCIPAL              \n",
      "------------------------------------------\n",
      "\u001b[33m1\u001b[m - \u001b[34mVer pessoas cadastradas\u001b[m\n",
      "\u001b[33m2\u001b[m - \u001b[34mCadastrar nova Pessoa\u001b[m\n",
      "\u001b[33m3\u001b[m - \u001b[34mSair do Sistema\u001b[m\n",
      "------------------------------------------\n",
      "Sua Opção: 1\n",
      "------------------------------------------\n",
      "                 Opção 1                  \n",
      "------------------------------------------\n",
      "------------------------------------------\n",
      "              MENU PRINCIPAL              \n",
      "------------------------------------------\n",
      "\u001b[33m1\u001b[m - \u001b[34mVer pessoas cadastradas\u001b[m\n",
      "\u001b[33m2\u001b[m - \u001b[34mCadastrar nova Pessoa\u001b[m\n",
      "\u001b[33m3\u001b[m - \u001b[34mSair do Sistema\u001b[m\n",
      "------------------------------------------\n",
      "Sua Opção: 2\n",
      "------------------------------------------\n",
      "                 Opção 2                  \n",
      "------------------------------------------\n",
      "------------------------------------------\n",
      "              MENU PRINCIPAL              \n",
      "------------------------------------------\n",
      "\u001b[33m1\u001b[m - \u001b[34mVer pessoas cadastradas\u001b[m\n",
      "\u001b[33m2\u001b[m - \u001b[34mCadastrar nova Pessoa\u001b[m\n",
      "\u001b[33m3\u001b[m - \u001b[34mSair do Sistema\u001b[m\n",
      "------------------------------------------\n",
      "Sua Opção: 5\n",
      "\u001b[31mERRO: digite uma opção válida.\u001b[m\n",
      "------------------------------------------\n",
      "              MENU PRINCIPAL              \n",
      "------------------------------------------\n",
      "\u001b[33m1\u001b[m - \u001b[34mVer pessoas cadastradas\u001b[m\n",
      "\u001b[33m2\u001b[m - \u001b[34mCadastrar nova Pessoa\u001b[m\n",
      "\u001b[33m3\u001b[m - \u001b[34mSair do Sistema\u001b[m\n",
      "------------------------------------------\n",
      "Sua Opção: 3\n",
      "------------------------------------------\n",
      "      Saindo do sistema... até logo!      \n",
      "------------------------------------------\n"
     ]
    }
   ],
   "source": [
    "from ex115.lib.interface import *\n",
    "from time import sleep\n",
    "\n",
    "while True:\n",
    "    resposta = menu(['Ver pessoas cadastradas',\n",
    "                    'Cadastrar nova Pessoa', 'Sair do Sistema'])\n",
    "    if resposta == 1:\n",
    "        cabeçalho('Opção 1')\n",
    "    elif resposta == 2:\n",
    "        cabeçalho('Opção 2')\n",
    "    elif resposta == 3:\n",
    "        cabeçalho('Saindo do sistema... até logo!')\n",
    "        break\n",
    "    else:\n",
    "        print('\\033[31mERRO: digite uma opção válida.\\033[m')\n",
    "    sleep(2)"
   ]
  },
  {
   "cell_type": "markdown",
   "id": "540e2433",
   "metadata": {
    "ExecuteTime": {
     "end_time": "2024-10-22T17:33:33.571424Z",
     "start_time": "2024-10-22T17:33:33.566685Z"
    }
   },
   "source": [
    "##  <font color = 'red'> Desafio 115 - Criando um menu em Python 2/3</font>"
   ]
  },
  {
   "cell_type": "code",
   "execution_count": 113,
   "id": "5e6e4982",
   "metadata": {
    "ExecuteTime": {
     "end_time": "2024-10-22T18:47:49.791138Z",
     "start_time": "2024-10-22T18:47:43.016722Z"
    }
   },
   "outputs": [
    {
     "name": "stdout",
     "output_type": "stream",
     "text": [
      "------------------------------------------\n",
      "              MENU PRINCIPAL              \n",
      "------------------------------------------\n",
      "\u001b[33m1\u001b[m - \u001b[34mVer pessoas cadastradas\u001b[m\n",
      "\u001b[33m2\u001b[m - \u001b[34mCadastrar nova Pessoa\u001b[m\n",
      "\u001b[33m3\u001b[m - \u001b[34mSair do Sistema\u001b[m\n",
      "------------------------------------------\n",
      "Sua Opção: 1\n",
      "------------------------------------------\n",
      "           PESSOAS CADASTRADAS            \n",
      "------------------------------------------\n",
      "Gustavo;41\n",
      "Ana;22\n",
      "Pedro;35\n",
      "Paulo;95\n",
      "JosÃ©;55\n",
      "------------------------------------------\n",
      "              MENU PRINCIPAL              \n",
      "------------------------------------------\n",
      "\u001b[33m1\u001b[m - \u001b[34mVer pessoas cadastradas\u001b[m\n",
      "\u001b[33m2\u001b[m - \u001b[34mCadastrar nova Pessoa\u001b[m\n",
      "\u001b[33m3\u001b[m - \u001b[34mSair do Sistema\u001b[m\n",
      "------------------------------------------\n",
      "Sua Opção: 3\n",
      "------------------------------------------\n",
      "      Saindo do sistema... até logo!      \n",
      "------------------------------------------\n"
     ]
    }
   ],
   "source": [
    "from ex115.lib.interface import *\n",
    "from ex115.lib.arquivo import *\n",
    "from time import sleep\n",
    "\n",
    "arq = 'cursoemvideo.txt'\n",
    "\n",
    "if not arquivoExiste(arq):\n",
    "    criarArquivo(arq)\n",
    "\n",
    "while True:\n",
    "    resposta = menu(['Ver pessoas cadastradas',\n",
    "                    'Cadastrar nova Pessoa', 'Sair do Sistema'])\n",
    "    if resposta == 1:\n",
    "        # Opção de listar o condeúdo de um arquivo.\n",
    "        lerArquivo(arq)\n",
    "    elif resposta == 2:\n",
    "        cabeçalho('Opção 2')\n",
    "    elif resposta == 3:\n",
    "        cabeçalho('Saindo do sistema... até logo!')\n",
    "        break\n",
    "    else:\n",
    "        print('\\033[31mERRO: digite uma opção válida.\\033[m')\n",
    "    sleep(2)\n"
   ]
  },
  {
   "cell_type": "markdown",
   "id": "91bd2293",
   "metadata": {},
   "source": [
    "##  <font color = 'red'> Desafio 115 - Criando um menu em Python 3/3</font>"
   ]
  },
  {
   "cell_type": "code",
   "execution_count": 114,
   "id": "7fe3c236",
   "metadata": {
    "ExecuteTime": {
     "end_time": "2024-10-23T16:54:11.795128Z",
     "start_time": "2024-10-23T16:52:30.146009Z"
    }
   },
   "outputs": [
    {
     "name": "stdout",
     "output_type": "stream",
     "text": [
      "------------------------------------------\n",
      "              MENU PRINCIPAL              \n",
      "------------------------------------------\n",
      "\u001b[33m1\u001b[m - \u001b[34mVer pessoas cadastradas\u001b[m\n",
      "\u001b[33m2\u001b[m - \u001b[34mCadastrar nova Pessoa\u001b[m\n",
      "\u001b[33m3\u001b[m - \u001b[34mSair do Sistema\u001b[m\n",
      "------------------------------------------\n",
      "Sua Opção: 1\n",
      "------------------------------------------\n",
      "           PESSOAS CADASTRADAS            \n",
      "------------------------------------------\n",
      "José;35\n",
      "Gustavo;41\n",
      "Maria;85\n",
      "\n",
      "------------------------------------------\n",
      "              MENU PRINCIPAL              \n",
      "------------------------------------------\n",
      "\u001b[33m1\u001b[m - \u001b[34mVer pessoas cadastradas\u001b[m\n",
      "\u001b[33m2\u001b[m - \u001b[34mCadastrar nova Pessoa\u001b[m\n",
      "\u001b[33m3\u001b[m - \u001b[34mSair do Sistema\u001b[m\n",
      "------------------------------------------\n",
      "Sua Opção: 3\n",
      "------------------------------------------\n",
      "      Saindo do sistema... até logo!      \n",
      "------------------------------------------\n"
     ]
    }
   ],
   "source": [
    "from ex115.lib.interface import *\n",
    "from ex115.lib.arquivo import *\n",
    "from time import sleep\n",
    "\n",
    "arq = 'cursoemvideo.txt'\n",
    "\n",
    "if not arquivoExiste(arq):\n",
    "    criarArquivo(arq)\n",
    "\n",
    "while True:\n",
    "    resposta = menu(['Ver pessoas cadastradas',\n",
    "                    'Cadastrar nova Pessoa', 'Sair do Sistema'])\n",
    "    if resposta == 1:\n",
    "        # Opção de listar o condeúdo de um arquivo.\n",
    "        lerArquivo(arq)\n",
    "    elif resposta == 2:\n",
    "        # Opção de cadastrar uma nova pessoa.\n",
    "        cabeçalho('NOVO CADASTRO')\n",
    "        nome = str(input('Nome: '))\n",
    "        idade = leiaInt('Idade: ')\n",
    "        cadastrar(arq, nome, idade)\n",
    "    elif resposta == 3:\n",
    "        cabeçalho('Saindo do sistema... até logo!')\n",
    "        break\n",
    "    else:\n",
    "        print('\\033[31mERRO: digite uma opção válida.\\033[m')\n",
    "    sleep(2)\n"
   ]
  }
 ],
 "metadata": {
  "kernelspec": {
   "display_name": "Python 3 (ipykernel)",
   "language": "python",
   "name": "python3"
  },
  "language_info": {
   "codemirror_mode": {
    "name": "ipython",
    "version": 3
   },
   "file_extension": ".py",
   "mimetype": "text/x-python",
   "name": "python",
   "nbconvert_exporter": "python",
   "pygments_lexer": "ipython3",
   "version": "3.12.4"
  },
  "toc": {
   "base_numbering": 1,
   "nav_menu": {},
   "number_sections": true,
   "sideBar": true,
   "skip_h1_title": false,
   "title_cell": "Table of Contents",
   "title_sidebar": "Contents",
   "toc_cell": false,
   "toc_position": {
    "height": "calc(100% - 180px)",
    "left": "10px",
    "top": "150px",
    "width": "307.181px"
   },
   "toc_section_display": true,
   "toc_window_display": false
  },
  "varInspector": {
   "cols": {
    "lenName": 16,
    "lenType": 16,
    "lenVar": 40
   },
   "kernels_config": {
    "python": {
     "delete_cmd_postfix": "",
     "delete_cmd_prefix": "del ",
     "library": "var_list.py",
     "varRefreshCmd": "print(var_dic_list())"
    },
    "r": {
     "delete_cmd_postfix": ") ",
     "delete_cmd_prefix": "rm(",
     "library": "var_list.r",
     "varRefreshCmd": "cat(var_dic_list()) "
    }
   },
   "types_to_exclude": [
    "module",
    "function",
    "builtin_function_or_method",
    "instance",
    "_Feature"
   ],
   "window_display": false
  }
 },
 "nbformat": 4,
 "nbformat_minor": 5
}
