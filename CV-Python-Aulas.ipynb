{
 "cells": [
  {
   "cell_type": "markdown",
   "id": "29f280d0",
   "metadata": {},
   "source": [
    "<font size=6 color='darkblue'><b>Curso em Vídeo - Curso de Python 3.0</b></font>\n",
    "<p>Jupyter Notebook criado por Bruno C. Nogueira.</p>"
   ]
  },
  {
   "cell_type": "markdown",
   "id": "21b0c79d",
   "metadata": {},
   "source": [
    "<p>Este Jupyter Notebook foi desenvolvido para complementar o aprendizado do curso <b>Curso de Python 3.0</b>, criado e ministrado pelo professor <b>Gustavo Guanabara</b> para o portal <a href=\"http://www.cursoemvideo.com\">Curso em Vídeo</a> e o <a href=\"https://www.youtube.com/c/CursoemV%C3%ADdeo\">Canal do YouTube Curso em Vídeo</a>. A iniciativa tem como objetivo reunir o conteúdo ensinado em aula em um formato interativo e prático, facilitando o acesso e a revisão de conceitos fundamentais de Python.</p>"
   ]
  },
  {
   "cell_type": "markdown",
   "id": "55dc7065",
   "metadata": {},
   "source": [
    "<p>A motivação para a criação deste material veio da minha experiência como aluno, onde percebi que a organização do conteúdo em Jupyter Notebooks pode ser uma ferramenta poderosa para reforçar o aprendizado e fornecer um suporte adicional aos novos estudantes. O uso de notebooks Jupyter, integrados ao framework <a href=\"https://www.anaconda.com/\">Anaconda</a>, é recomendado para uma abordagem prática e visual, complementando o uso de IDEs como PyCharm.</p>\n",
    "\n",
    "<p>É importante ressaltar que o uso deste Notebook é focado em consolidar o conhecimento adquirido durante as aulas, e eu incentivo fortemente que você crie seus próprios notebooks conforme avança no curso. Assim, você terá uma compreensão mais profunda dos conceitos e poderá adaptar as anotações de acordo com suas necessidades.</p>\n",
    "\n",
    "<p>Muitas das tags HTML aplicadas neste material foram aprendidas durante o <a href=\"https://www.youtube.com/playlist?list=PLHz_AreHm4dlAnJ_jJtV29RFxnPHDuk9o\">Curso de HTML 5</a>, também oferecido pelo Curso em Vídeo. Esta prática torna o notebook mais organizado e visualmente atrativo.</p>\n",
    "\n",
    "<p>Além disso, você pode acessar o notebook dedicado às soluções dos exercícios propostos:</p>\n",
    "<a href='CV-Python-Desafios-Solu%C3%A7ao.ipynb'>Soluções dos Desafios</a><br>\n",
    "<font color='red'><b>Atenção: Sempre tente resolver os desafios antes de consultar as respostas, pois isso é fundamental para um aprendizado eficaz.</b></font>"
   ]
  },
  {
   "cell_type": "markdown",
   "id": "d9a03a91",
   "metadata": {},
   "source": [
    "<b>Acesso as Playlist dos Cursos:</b>\n",
    "\n",
    "<a href=\"https://www.youtube.com/playlist?list=PLHz_AreHm4dlKP6QQCekuIPky1CiwmdI6\"> Curso de Python 3 - Mundo 1: Fundamentos </a></br>\n",
    "\n",
    "<a href=\"https://www.youtube.com/playlist?list=PLHz_AreHm4dk_nZHmxxf_J0WRAqy5Czye\"> Curso de Python 3 - Mundo 2: Estruturas de Controle</a></br>\n",
    "\n",
    "<a href=\"https://www.youtube.com/playlist?list=PLHz_AreHm4dksnH2jVTIVNviIMBVYyFnH\"> Curso de Python 3 - Mundo 3: Estruturas Compostas</a></br>\n",
    "\n",
    "<a href=\"https://www.youtube.com/playlist?list=PLHz_AreHm4dm6wYOIW20Nyg12TAjmMGT-\"> Exercícios de Python 3</a>"
   ]
  },
  {
   "cell_type": "markdown",
   "id": "5ec0d39f",
   "metadata": {},
   "source": [
    "<font size = 6; color = 'darkblue'><b> Índice </b></font>\n",
    "\n",
    "- <a href=\"#Mundo1\">Mundo 1</a>\n",
    " - <a href=\"#Aula 02 - Para que serve o Python\">Aula 02 - Para que serve o Python</a>\n",
    " - <a href=\"#Aula 04 - Primeiros comandos em Python3\">Aula 04 - Primeiros comandos em Python3</a>\n",
    " - <a href=\"#Aula 06 - Tipos Primitivos e Saída de Dados\">Aula 06 - Tipos Primitivos e Saída de Dados</a>\n",
    " - <a href=\"#Aula 07 - Operadores Aritiméticos\">Aula 07 - Operadores Aritiméticos</a>\n",
    " - <a href=\"#Aula 08 - Utilizando Módulos\">Aula 08 - Utilizando Módulos</a>\n",
    " - <a href=\"#Aula 09 - Manipulando Texto\">Aula 09 - Manipulando Texto</a>\n",
    " - <a href=\"#Aula 10 - Condições (Parte 1)\">Aula 10 - Condições (Parte 1)</a>\n",
    " - <a href=\"#Aula 11 - Cores no Terminal\">Aula 11 - Cores no Terminal</a>\n",
    "<br> </br> \n",
    "- <a href=\"#Mundo 2\">Mundo 2</a>\n",
    " - <a href=\"#Aula 12 - Condições Aninhadas\">Aula 12 - Condições Aninhadas</a>\n",
    " - <a href=\"#Aula 13 - Estrutura de Repetição (Parte 1)\">Aula 13 - Estrutura de Repetição (Parte 1)</a>\n",
    " - <a href=\"#Aula 14 - Estrutura de repetição (Parte 2)\">Aula 14 - Estrutura de repetição (Parte 2)</a>\n",
    " - <a href=\"#Aula 15 - Estrutura de Repetição (Parte 3)\">Aula 15 - Estrutura de Repetição (Parte 3)</a>\n",
    "<br> </br> \n",
    "- <a href=\"#Mundo 3\">Mundo 3</a>\n",
    " - <a href=\"#Aula 16 - Variáveis Compostas (Tuplas)\">Aula 16 - Variáveis Compostas (Tuplas)</a>\n",
    " - <a href=\"#Aula 17 - Variáveis Compostas (Listas - Parte 1)\">Aula 17 - Variáveis Compostas (Listas - Parte 1)</a>\n",
    " - <a href=\"#Aula 18 - Variáveis Compostas (Listas - Parte 2)\">Aula 18 - Variáveis Compostas (Listas - Parte 2)</a>\n",
    " - <a href=\"#Aula 19 - Variáveis Compostas (Dicionários)\">Aula 19 - Variáveis Compostas (Dicionários)</a>\n",
    " - <a href=\"#Aula 20 - Funções (Parte 1)\">Aula 20 - Funções (Parte 1)</a>\n",
    " - <a href=\"#Aula 21 - Funções (Parte 2)\">Aula 21 - Funções (Parte 2)</a>\n",
    " - <a href=\"#Aula 22 - Módulos e Pacotes\">Aula 22 - Módulos e Pacotes</a>\n",
    " - <a href=\"#Aula 23 - Tratamento de Erros e Exceções\">Aula 23 - Tratamento de Erros e Exceções</a>\n",
    "<br> </br>\n",
    "- <a href='CV-Python-Desafios-Solu%C3%A7ao.ipynb'> Solução dos Desafios</a></br>\n",
    "<font color = 'red'><b>Atenção: Tente resolver os desafios antes de verificar as repostas, só assim você irá aprender.</b></font>"
   ]
  },
  {
   "cell_type": "markdown",
   "id": "5f2736f3",
   "metadata": {},
   "source": [
    "# <font color = 'green'><a name=\"Mundo1\">Mundo 1</font>\n",
    "## <font color = 'green'><a name=\"Aula 02 - Para que serve o Python\">Aula 02 - Para que serve o Python</font>\n",
    "\n",
    "### De onde vem o Python?\n",
    "\n",
    "#### 1982\n",
    " - Amsterdam Holanda\n",
    " - Guido Van Hossum\n",
    " - Trabalhava no projeto da liguagem ABC\n",
    "\n",
    "#### 1989\n",
    " - Problema em adptar um programa em linguagem C\n",
    " - Criar uma liguagem de programação com comando simples, fácil de aprender. Simplificar a linguagem C.\n",
    " - Batizado em homenagem ao seu programa de humor favorito: Monty Python's Flying Circus\n",
    " - Foi utilizado as cobras entrelaçadas como simbolo da liguagem por conta dos livros da O'Reilly que tem sempre um animal estampado em suas capas.\n",
    " - Primeiras versos no inídio da decada de 90.\n",
    "\n",
    "#### 1995\n",
    " - Guido Van Hossum se mudou para os EUA e lançou o projeto CP4E (Computer for everybody)\n",
    " - Recebeu financiamento da DARPA\n",
    "\n",
    "#### 2001\n",
    " - Criada a Fundação Python Software Foundation (PSF)\n",
    " - Fundação sem fins lucrativos\n",
    " - Linguagem evolui de acordo com a comunidade\n",
    "\n",
    "#### 2005\n",
    " - Foi trabalhar no do Google\n",
    "\n",
    "#### 2013\n",
    " - Foi trabalhar no Dropbox\n",
    " \n",
    "### Principais Características da Liguagem Python\n",
    "\n",
    "1. Linguagem de prosósito geral: não é focado em algo específico;\n",
    "2. Linguagem é simples, fácil e intuitiva;\n",
    "3. Multiplataforma;\n",
    "4. Linguagem Open Source;\n",
    "5. Linguagem extremamente organizada;\n",
    "6. Linguagem orientada a objetos;\n",
    "7. Possui muitas bibliotecas;\n",
    "8. É uma linguagem com indendação\n",
    "\n",
    "### Zen of Python\n",
    "\n",
    "Filosofia criada por Tim Peters\n",
    "1. Bonito é melhor do que feio.\n",
    "2. Simples é melhor que complexo;\n",
    "3. Complexo é melhor que complicado;\n",
    "4. Legibilidade conta: arrume seu código;\n",
    "5. Erros nunca devem passar silenciosamente: se existem erro ele sempre será mostrado;\n",
    "6. Agora é melhor que nunca: faz agora ou você nunca vai fazer;"
   ]
  },
  {
   "cell_type": "markdown",
   "id": "a023f22d",
   "metadata": {},
   "source": [
    "## <font color = 'green'><a name=\"Aula 04 - Primeiros comandos em Python3\">Aula 04 - Primeiros comandos em Python3</font>"
   ]
  },
  {
   "cell_type": "code",
   "execution_count": 8,
   "id": "3861dfe5",
   "metadata": {},
   "outputs": [
    {
     "name": "stdout",
     "output_type": "stream",
     "text": [
      "Olá, Mundo!\n"
     ]
    }
   ],
   "source": [
    "# Primeiros Comandos.\n",
    "print (\"Olá, Mundo!\")"
   ]
  },
  {
   "cell_type": "code",
   "execution_count": 9,
   "id": "7338a502",
   "metadata": {},
   "outputs": [
    {
     "name": "stdout",
     "output_type": "stream",
     "text": [
      "Bruno Nogueira 35 70.5\n"
     ]
    }
   ],
   "source": [
    "# Criando variáveis e exibindo.\n",
    "nome = 'Bruno'\n",
    "sobrenome = 'Nogueira'\n",
    "idade = 35\n",
    "peso = 70.5\n",
    "print(nome, sobrenome, idade, peso)"
   ]
  },
  {
   "cell_type": "code",
   "execution_count": 11,
   "id": "2059eb93",
   "metadata": {},
   "outputs": [
    {
     "ename": "TypeError",
     "evalue": "can only concatenate str (not \"int\") to str",
     "output_type": "error",
     "traceback": [
      "\u001b[1;31m---------------------------------------------------------------------------\u001b[0m",
      "\u001b[1;31mTypeError\u001b[0m                                 Traceback (most recent call last)",
      "Input \u001b[1;32mIn [11]\u001b[0m, in \u001b[0;36m<cell line: 2>\u001b[1;34m()\u001b[0m\n\u001b[0;32m      1\u001b[0m \u001b[38;5;66;03m#Exibindo as variáveis com o sinal de + ao invés da ,\u001b[39;00m\n\u001b[1;32m----> 2\u001b[0m \u001b[38;5;28mprint\u001b[39m (\u001b[43mnome\u001b[49m\u001b[43m \u001b[49m\u001b[38;5;241;43m+\u001b[39;49m\u001b[43m \u001b[49m\u001b[43msobrenome\u001b[49m\u001b[43m \u001b[49m\u001b[38;5;241;43m+\u001b[39;49m\u001b[43m \u001b[49m\u001b[43midade\u001b[49m \u001b[38;5;241m+\u001b[39m peso)\n",
      "\u001b[1;31mTypeError\u001b[0m: can only concatenate str (not \"int\") to str"
     ]
    }
   ],
   "source": [
    "# Exibindo as variáveis com o sinal de + ao invés da ,\n",
    "print (nome + sobrenome + idade + peso)"
   ]
  },
  {
   "cell_type": "code",
   "execution_count": 15,
   "id": "fbb5dc8e",
   "metadata": {},
   "outputs": [
    {
     "name": "stdout",
     "output_type": "stream",
     "text": [
      "BrunoNogueira\n"
     ]
    }
   ],
   "source": [
    "# O erro acontece porque o sinal de + só funciona com strings (strings são textos).\n",
    "# Números podem ser inteiros (int) ou reais ou de ponto flutuante (float).\n",
    "# Será abordado mais detalhes sobre strigs e números na Aula 6.\n",
    "print (nome + sobrenome)"
   ]
  },
  {
   "cell_type": "code",
   "execution_count": 16,
   "id": "c3d503f2",
   "metadata": {},
   "outputs": [
    {
     "name": "stdout",
     "output_type": "stream",
     "text": [
      "Bruno Nogueira\n"
     ]
    }
   ],
   "source": [
    "# Observe que o nome e sobrenome ficaram juntos.\n",
    "# Uma solução simples para isso pode ser inserir um espaço.\n",
    "print (nome + \" \" + sobrenome)"
   ]
  },
  {
   "cell_type": "code",
   "execution_count": 17,
   "id": "23e395c9",
   "metadata": {},
   "outputs": [
    {
     "name": "stdout",
     "output_type": "stream",
     "text": [
      "Qual seu nome? Bruno\n",
      "Quantos anos você tem? 38\n",
      "Quanto você pesa? 70\n",
      "Bruno 38 70\n"
     ]
    }
   ],
   "source": [
    "# Para solicitar a entreda de dados pelo usuário, pode-se usar a função input.\n",
    "nome = input('Qual seu nome? ')\n",
    "idade = input('Quantos anos você tem? ')\n",
    "peso = input('Quanto você pesa? ')\n",
    "print(nome, idade, peso)"
   ]
  },
  {
   "cell_type": "markdown",
   "id": "5a613ded",
   "metadata": {},
   "source": [
    "## <font color = 'red'> Desafios 001 a 003 </font>\n",
    "<a href='CV-Python-Desafios-Solu%C3%A7ao.ipynb'> Solução dos Desafios</a></br>\n",
    "Atenção: Tente resolver os desafios antes de verificar as repostas, só assim você irá aprender."
   ]
  },
  {
   "cell_type": "markdown",
   "id": "5f088418",
   "metadata": {},
   "source": [
    "### Desafio 001\n",
    "Crie um script python que leia o nome de uma pessoa e mostre uma mensagem de boas-vindas de acordo com o valor digitado.\n",
    "<p> Exemplo da mensagem: \"Olá Bruno! Prazer em te conhecer! </P>"
   ]
  },
  {
   "cell_type": "markdown",
   "id": "22d5286f",
   "metadata": {},
   "source": [
    "### Desafio 002\n",
    "Crie um script python que leia o dia, o mês e o ano de nascimento de uma pessoa e mostre uma mensagem com a fata formatada.\n",
    "<p> Exemplo da mensagem: \"Você nasceu no dia 17 de Março de 1978. </p>"
   ]
  },
  {
   "cell_type": "markdown",
   "id": "781bb4a7",
   "metadata": {},
   "source": [
    "### Desafio 003\n",
    "Crie um script python que leia dois números e **tente** mostrar a soma entre eles. <p>Observação: Provavelmente você não conseguirá resolver esse desafio sem fazer uma pesquisa. Mas não se preocupe, será explicado na próxima aula.\n",
    "<p> Exemplo de saída: \"A soma é 10\" <p>"
   ]
  },
  {
   "cell_type": "markdown",
   "id": "e97f67af",
   "metadata": {},
   "source": [
    "## <font color = 'green'><a name=\"Aula 06 - Tipos Primitivos e Saída de Dados\">Aula 06 - Tipos Primitivos e Saída de Dados </font>"
   ]
  },
  {
   "cell_type": "code",
   "execution_count": 20,
   "id": "ad359b1c",
   "metadata": {},
   "outputs": [],
   "source": [
    "# Os 4 tipos primitivos mais básicos são:\n",
    "# int: números inteiros Ex: 7, -7, 0, 9875\n",
    "# float: números reais ou números de ponto flutuante Ex: 4.5, 0.086 -15,223, 7.0\n",
    "# bool: valores lógicos ou boleanos Ex: True, False (iniciais maiúsculas)\n",
    "# str: valores de carecteres ou strings Ex: 'Olá', '7.5', ' '"
   ]
  },
  {
   "cell_type": "markdown",
   "id": "e55fa44b",
   "metadata": {},
   "source": [
    "### Desafio 003\n",
    "Crie um script python que leia dois números e **tente** mostrar a soma entre eles. Exemplo de saída: \"A soma é 10\""
   ]
  },
  {
   "cell_type": "code",
   "execution_count": 24,
   "id": "7bca9982",
   "metadata": {},
   "outputs": [
    {
     "name": "stdout",
     "output_type": "stream",
     "text": [
      "Digite um número:6\n",
      "Digite outro número:4\n",
      "A soma é 64\n"
     ]
    }
   ],
   "source": [
    "# Observe que o print não mostra a soma dos números\n",
    "n1 = input('Digite um número:')\n",
    "n2 = input('Digite outro número:')\n",
    "s = n1 + n2\n",
    "print('A soma é',n1 + n2)"
   ]
  },
  {
   "cell_type": "code",
   "execution_count": 21,
   "id": "46d6cb3d",
   "metadata": {},
   "outputs": [
    {
     "name": "stdout",
     "output_type": "stream",
     "text": [
      "Digite um número: 5\n",
      "<class 'str'>\n"
     ]
    }
   ],
   "source": [
    "# Verificando o tipo primitivo (type)\n",
    "n3 = input('Digite um número: ')\n",
    "print(type(n3))"
   ]
  },
  {
   "cell_type": "code",
   "execution_count": 22,
   "id": "ae7c3afe",
   "metadata": {},
   "outputs": [],
   "source": [
    "# Observe que o type não retornou um número inteiro e sim uma string (str)"
   ]
  },
  {
   "cell_type": "code",
   "execution_count": 23,
   "id": "ca2e13e9",
   "metadata": {},
   "outputs": [
    {
     "name": "stdout",
     "output_type": "stream",
     "text": [
      "Digite um número:5\n",
      "<class 'int'>\n"
     ]
    }
   ],
   "source": [
    "# Convertendo o valor da variável para um número inteiro (int) e verificando com (type)\n",
    "n4 = int(input('Digite um número:'))\n",
    "print(type(n4))"
   ]
  },
  {
   "cell_type": "code",
   "execution_count": 25,
   "id": "84e66b23",
   "metadata": {},
   "outputs": [
    {
     "name": "stdout",
     "output_type": "stream",
     "text": [
      "Digite um número:6\n",
      "Digite outro número: 4\n",
      "A soma vale 10\n"
     ]
    }
   ],
   "source": [
    "# Corrigindo o Desafio 003\n",
    "n1 = int(input('Digite um número:'))\n",
    "n2 = int(input('Digite outro número: '))\n",
    "s = n1 + n2\n",
    "print('A soma vale', s)"
   ]
  },
  {
   "cell_type": "code",
   "execution_count": 29,
   "id": "86f54040",
   "metadata": {},
   "outputs": [
    {
     "name": "stdout",
     "output_type": "stream",
     "text": [
      "Digite um número: 6\n",
      "Digite outro número: 4\n",
      "A soma entre 6 e 4 vale 10\n",
      "A soma entre 6 e 4 vale 10\n"
     ]
    }
   ],
   "source": [
    "# Método .format()\n",
    "n1 = int(input('Digite um número: '))\n",
    "n2 = int(input('Digite outro número: '))\n",
    "s = n1 + n2\n",
    "print('A soma entre', n1,'e', n2,'vale', s)\n",
    "print('A soma entre {} e {} vale {}'.format(n1, n2, s))"
   ]
  },
  {
   "cell_type": "code",
   "execution_count": 30,
   "id": "7707f0d1",
   "metadata": {},
   "outputs": [
    {
     "name": "stdout",
     "output_type": "stream",
     "text": [
      "Digite um número: 5\n",
      "5.0\n",
      "<class 'float'>\n"
     ]
    }
   ],
   "source": [
    "# Convertendo para float\n",
    "n = float(input('Digite um número: '))\n",
    "print(n)\n",
    "print(type(n))"
   ]
  },
  {
   "cell_type": "code",
   "execution_count": 34,
   "id": "a6f95c5a",
   "metadata": {},
   "outputs": [
    {
     "name": "stdout",
     "output_type": "stream",
     "text": [
      "Digite um número: 5\n",
      "Digite um número: \n",
      "True\n",
      "<class 'bool'>\n",
      "False\n",
      "<class 'bool'>\n"
     ]
    }
   ],
   "source": [
    "# Convertendo para boleano\n",
    "nt = bool(input('Digite um número: '))\n",
    "nf = bool(input('Digite um número: '))\n",
    "print(nt)\n",
    "print(type(nt))\n",
    "print(nf)\n",
    "print(type(nf))\n",
    "# Neste caso o type verifica se existe um valor. Caso tenha, ele retorna verdadeiro (True).\n",
    "# Caso contrário ele retorna falso (False)"
   ]
  },
  {
   "cell_type": "code",
   "execution_count": 40,
   "id": "1dfd13ed",
   "metadata": {},
   "outputs": [
    {
     "name": "stdout",
     "output_type": "stream",
     "text": [
      "Digite um número: 5\n",
      "Digite uma letra: a\n",
      "Digite número e uma letra: 5a\n",
      "Digite um caracter alfa numérico: $\n",
      "True\n",
      "False\n",
      "False\n",
      "False\n"
     ]
    }
   ],
   "source": [
    "# Método .isnumeric(): retorna True, somente se a entrada for um número\n",
    "n1 = input('Digite um número: ')\n",
    "n2 = input('Digite uma letra: ')\n",
    "n3 = input('Digite número e uma letra: ')\n",
    "n4 = input('Digite um caracter especial: ')\n",
    "print(n1.isnumeric())\n",
    "print(n2.isnumeric())\n",
    "print(n3.isnumeric())\n",
    "print(n4.isnumeric())"
   ]
  },
  {
   "cell_type": "code",
   "execution_count": 41,
   "id": "454b6391",
   "metadata": {},
   "outputs": [
    {
     "name": "stdout",
     "output_type": "stream",
     "text": [
      "Digite um número: 5\n",
      "Digite uma letra: a\n",
      "Digite número e uma letra: 5a\n",
      "Digite número e uma letra: $\n",
      "False\n",
      "True\n",
      "False\n",
      "False\n"
     ]
    }
   ],
   "source": [
    "# Método .isalpha(): retorna True, somente se a entrada for uma letra\n",
    "n5 = input('Digite um número: ')\n",
    "n6 = input('Digite uma letra: ')\n",
    "n7 = input('Digite número e uma letra: ')\n",
    "n8 = input('Digite um caracter especial: ')\n",
    "print(n5.isalpha())\n",
    "print(n6.isalpha())\n",
    "print(n7.isalpha())\n",
    "print(n7.isalpha())"
   ]
  },
  {
   "cell_type": "code",
   "execution_count": 3,
   "id": "46733201",
   "metadata": {
    "ExecuteTime": {
     "end_time": "2024-09-09T13:03:00.948446Z",
     "start_time": "2024-09-09T13:02:49.404330Z"
    }
   },
   "outputs": [
    {
     "name": "stdout",
     "output_type": "stream",
     "text": [
      "Digite um número: 5\n",
      "Digite uma letra: a\n",
      "Digite número e uma letra: 5a\n",
      "Digite um caracter especial: $\n",
      "True\n",
      "True\n",
      "True\n",
      "False\n"
     ]
    }
   ],
   "source": [
    "# Método .isalnum(): retorna False, somente se a entrada for um caracter especial\n",
    "n9 = input('Digite um número: ')\n",
    "n10 = input('Digite uma letra: ')\n",
    "n11 = input('Digite número e uma letra: ')\n",
    "n12 = input('Digite um caracter especial: ')\n",
    "print(n9.isalnum())\n",
    "print(n10.isalnum())\n",
    "print(n11.isalnum())\n",
    "print(n12.isalnum())"
   ]
  },
  {
   "cell_type": "code",
   "execution_count": 44,
   "id": "51550ef1",
   "metadata": {},
   "outputs": [],
   "source": [
    "# Existem vários métodos .is\n",
    "# Mais informaões procure na documentação do Python. (Desafio 004)"
   ]
  },
  {
   "cell_type": "markdown",
   "id": "0ec361c2",
   "metadata": {},
   "source": [
    "## <font color = 'red'> Desafios 003 a 004 </font>\n",
    "<a href='CV-Python-Desafios-Solu%C3%A7ao.ipynb'> Solução dos Desafios</a></br>\n",
    "Atenção: Tente resolver os desafios antes de verificar as repostas, só assim você irá aprender."
   ]
  },
  {
   "cell_type": "markdown",
   "id": "24aba0a2",
   "metadata": {},
   "source": [
    "### Desafio 004\n",
    "Faça um programa que leia algo pelo teclado e mostre na tela o seu tipo primitivo respondendo as sequintes perguntas:\n",
    "<br>O tipo primitivo do valor é: <br>Só tem espaços? <br>É um número?\n",
    "<br>É alfabético? <br>É alfanumérico? <br>Está em maiúscula?\n",
    "<br>Está em minúscula? <br>Está capitularizada?"
   ]
  },
  {
   "cell_type": "markdown",
   "id": "3e82c10b",
   "metadata": {},
   "source": [
    "## <font color = 'green'><a name=\"Aula 07 - Operadores Aritiméticos\">Aula 07 - Operadores Aritiméticos</font>"
   ]
  },
  {
   "cell_type": "code",
   "execution_count": 48,
   "id": "81182e29",
   "metadata": {},
   "outputs": [
    {
     "data": {
      "text/plain": [
       "7"
      ]
     },
     "execution_count": 48,
     "metadata": {},
     "output_type": "execute_result"
    }
   ],
   "source": [
    "# Obs.: O Jupyter notebook é um interpretador. Ele consegue mostrar os resultados sem a necessidade de chamar a função print()\n",
    "# Para fins didáticos, iremos utilizar as funções.\n",
    "5 + 2"
   ]
  },
  {
   "cell_type": "code",
   "execution_count": 49,
   "id": "7cdffc1f",
   "metadata": {
    "scrolled": true
   },
   "outputs": [
    {
     "name": "stdout",
     "output_type": "stream",
     "text": [
      "8\n",
      "4\n",
      "12\n",
      "3.0\n"
     ]
    }
   ],
   "source": [
    "n1 = 6\n",
    "n2 = 2\n",
    "print(n1 + n2) # Soma\n",
    "print(n1 - n2) # Subtração\n",
    "print(n1 * n2) # Multiplicação\n",
    "print(n1 / n2) # Divisão "
   ]
  },
  {
   "cell_type": "code",
   "execution_count": 50,
   "id": "d01c0303",
   "metadata": {},
   "outputs": [
    {
     "name": "stdout",
     "output_type": "stream",
     "text": [
      "36\n",
      "36\n"
     ]
    }
   ],
   "source": [
    "n1 = 6\n",
    "n2 = 2\n",
    "print(n1 ** n2) # Exponenciação\n",
    "print(pow(n1,n2)) # Usando a função interna pow()"
   ]
  },
  {
   "cell_type": "code",
   "execution_count": 8,
   "id": "dec4d253",
   "metadata": {},
   "outputs": [
    {
     "name": "stdout",
     "output_type": "stream",
     "text": [
      "3\n",
      "1\n"
     ]
    }
   ],
   "source": [
    "n1 = 7\n",
    "n2 = 2\n",
    "print(n1 // n2) # Retorna o número inteiro do resultado da divisão\n",
    "print(n1 % n2)  # Retorna o número interiro do resto da divisão"
   ]
  },
  {
   "cell_type": "code",
   "execution_count": 52,
   "id": "55dee3b0",
   "metadata": {},
   "outputs": [],
   "source": [
    "# Ordem de Precedência\n",
    "# 1ª Parênteses ()\n",
    "# 2º Potências ** (Atenão: quando se usa pow se perde a ordem de precedência)\n",
    "# 3º *, /, //, %\n",
    "# 4ª + e -"
   ]
  },
  {
   "cell_type": "code",
   "execution_count": 53,
   "id": "09ff604e",
   "metadata": {},
   "outputs": [
    {
     "name": "stdout",
     "output_type": "stream",
     "text": [
      "11\n",
      "31\n",
      "243\n"
     ]
    }
   ],
   "source": [
    "# Exemplos\n",
    "n3 = 5\n",
    "n4 = 3\n",
    "n5 = 2\n",
    "n6 = 4\n",
    "print(n3 + n4 * n5)\n",
    "print(n4 * n3 + n6 ** n5)\n",
    "print(n4 * (n3 + n6) ** n5)"
   ]
  },
  {
   "cell_type": "code",
   "execution_count": 54,
   "id": "f92bc84e",
   "metadata": {},
   "outputs": [
    {
     "name": "stdout",
     "output_type": "stream",
     "text": [
      "9.0\n",
      "5.0\n",
      "3.0\n"
     ]
    }
   ],
   "source": [
    "# Raiz quadrada e cúbica\n",
    "n7 = 81\n",
    "n8 = 25\n",
    "n9 = 27\n",
    "print(n7 ** (1/2))\n",
    "print(n8 ** (1/2))\n",
    "print(n9 ** (1/3))"
   ]
  },
  {
   "cell_type": "code",
   "execution_count": 55,
   "id": "37c29a4d",
   "metadata": {},
   "outputs": [
    {
     "name": "stdout",
     "output_type": "stream",
     "text": [
      "OiOi\n",
      "====================\n"
     ]
    }
   ],
   "source": [
    "# Usando Operadores Aritméticos de outras formas\n",
    "print('Oi' + \"Oi\")\n",
    "print('=' * 20)"
   ]
  },
  {
   "cell_type": "code",
   "execution_count": 56,
   "id": "8d3c3a06",
   "metadata": {},
   "outputs": [
    {
     "name": "stdout",
     "output_type": "stream",
     "text": [
      "Qual seu nome? Bruno\n",
      "Prazer em te conhecer Bruno               !\n",
      "Prazer em te conhecer                Bruno!\n",
      "Prazer em te conhecer Bruno               !\n",
      "Prazer em te conhecer        Bruno        !\n",
      "Prazer em te conhecer =======Bruno========!\n"
     ]
    }
   ],
   "source": [
    "# Espacamento\n",
    "nome = input('Qual seu nome? ')\n",
    "print('Prazer em te conhecer {:20}!'.format(nome))\n",
    "\n",
    "# Alinhamento a direita\n",
    "print('Prazer em te conhecer {:>20}!'.format(nome))\n",
    "\n",
    "# Alinhamento a esquerda\n",
    "print('Prazer em te conhecer {:<20}!'.format(nome))\n",
    "\n",
    "# Centralizado\n",
    "print('Prazer em te conhecer {:^20}!'.format(nome))\n",
    "\n",
    "# Utilizando caracteres ou o que quizer\n",
    "print('Prazer em te conhecer {:=^20}!'.format(nome))"
   ]
  },
  {
   "cell_type": "code",
   "execution_count": 57,
   "id": "5da2d392",
   "metadata": {},
   "outputs": [
    {
     "name": "stdout",
     "output_type": "stream",
     "text": [
      "A divisão é 1.3333333333333333\n",
      "A divisão é 1.333\n"
     ]
    }
   ],
   "source": [
    "# Definindo a quantidade de casas decimais com {:.3f} (3 casas decimais)\n",
    "n1 = 4\n",
    "n2 = 3\n",
    "d = n1 / n2\n",
    "print('A divisão é {}'.format(d))\n",
    "print('A divisão é {:.3f}'.format(d))"
   ]
  },
  {
   "cell_type": "code",
   "execution_count": 58,
   "id": "a51a77bc",
   "metadata": {},
   "outputs": [
    {
     "name": "stdout",
     "output_type": "stream",
     "text": [
      "A divisão é 1.3333333333333333, arredondando 3 casas decimeis fica 1.333\n"
     ]
    }
   ],
   "source": [
    "# Adicionando dois print na mesma linha (, end='')\n",
    "print('A divisão é {}'.format(d), end='')\n",
    "print(', arredondando 3 casas decimeis fica {:.3f}'.format(d))"
   ]
  },
  {
   "cell_type": "code",
   "execution_count": 59,
   "id": "03ef5857",
   "metadata": {},
   "outputs": [
    {
     "name": "stdout",
     "output_type": "stream",
     "text": [
      "A divisão é 1.3333333333333333, arredondando, \n",
      " 3 casas decimeis fica 1.333\n"
     ]
    }
   ],
   "source": [
    "# Quenrando linha (, /n)\n",
    "print('A divisão é {}'.format(d), end='')\n",
    "print(', arredondando, \\n 3 casas decimeis fica {:.3f}'.format(d))"
   ]
  },
  {
   "cell_type": "markdown",
   "id": "f0a14a6f",
   "metadata": {},
   "source": [
    "## <font color = 'red'> Desafios 005 a 013 </font>\n",
    "<a href='CV-Python-Desafios-Solu%C3%A7ao.ipynb'> Solução dos Desafios</a></br>\n",
    "Atenção: Tente resolver os desafios antes de verificar as repostas, só assim você irá aprender."
   ]
  },
  {
   "cell_type": "markdown",
   "id": "095b9a10",
   "metadata": {},
   "source": [
    "### Desafio 005\n",
    "Faça um programa que leia um número inteiro e mostra na tela seu sucessor e seu antecessor."
   ]
  },
  {
   "cell_type": "markdown",
   "id": "f2c57a51",
   "metadata": {},
   "source": [
    "### Desafio 006\n",
    "Crie um algoritmo que leia um número e mostre o seu dobro, tripo e raiz quadrada."
   ]
  },
  {
   "cell_type": "markdown",
   "id": "987ae87e",
   "metadata": {},
   "source": [
    "### Desafio 007\n",
    "Desenvolda um programa que leia as duas notas de um aluno, calcule e mostre sua média"
   ]
  },
  {
   "cell_type": "markdown",
   "id": "d2445024",
   "metadata": {},
   "source": [
    "### Desafio 008\n",
    "Escreva um programa que leia um valor em metros e o exiba convertido em centímetros e milímetros."
   ]
  },
  {
   "cell_type": "markdown",
   "id": "6ef51463",
   "metadata": {},
   "source": [
    "### Desafio 009\n",
    "Faça um programa que leia um número inteiro qualquer e mostra na tela a sua tabuada. (Tente fazer o mais bonito possível)."
   ]
  },
  {
   "cell_type": "markdown",
   "id": "55608d27",
   "metadata": {},
   "source": [
    "### Desafio 010\n",
    "Crie um programa que leia quanto dinheiro uma pessoa tem na carteira e mostre quantos dólares ela pode comprar. <br> Considere UDS 1 = R$ 3,27"
   ]
  },
  {
   "cell_type": "markdown",
   "id": "29b2e4fe",
   "metadata": {},
   "source": [
    "### Desafio 011\n",
    "Faça um programa que leia a largura e a altura de uma parede em metros, calcule a sua área e a quantidade de tinta necessária para pintá-la, sabendo que cada litro de tinta, pinta uma área de 2m²."
   ]
  },
  {
   "cell_type": "markdown",
   "id": "e23a9937",
   "metadata": {},
   "source": [
    "### Desafio 012\n",
    "Faça um algoritmo que leia o preço de um produto e mostre seu novo preço, com 5% de desconto."
   ]
  },
  {
   "cell_type": "markdown",
   "id": "44e066f1",
   "metadata": {},
   "source": [
    "### Desafio 013\n",
    "Faça um algorítmo que leia o salário de um funcionário e mostre seu novo salário, com 15% de aumento."
   ]
  },
  {
   "cell_type": "markdown",
   "id": "6f5f6b48",
   "metadata": {},
   "source": [
    "## <font color = 'green'><a name=\"Aula 08 - Utilizando Módulos\">Aula 08 - Utilizando Módulos</font>"
   ]
  },
  {
   "cell_type": "code",
   "execution_count": 62,
   "id": "ca138a50",
   "metadata": {},
   "outputs": [
    {
     "name": "stdout",
     "output_type": "stream",
     "text": [
      "Digite um número: 81\n",
      "A raiz de 81 é i agual a 9.0\n"
     ]
    }
   ],
   "source": [
    "# Importando módulos\n",
    "import math\n",
    "\n",
    "# Pode importar uma função específica do módulo\n",
    "# from math import sqrt, floor\n",
    "\n",
    "# Calculando a raiz quadrada (sqrt)\n",
    "n = int(input('Digite um número: '))\n",
    "raiz = math.sqrt(n)\n",
    "print('A raiz de {} é i agual a {}'.format(n, raiz))"
   ]
  },
  {
   "cell_type": "code",
   "execution_count": 63,
   "id": "3c09e80a",
   "metadata": {},
   "outputs": [
    {
     "name": "stdout",
     "output_type": "stream",
     "text": [
      "Digite um número: 29\n",
      "A raiz de 29 é i agual a 5.39\n"
     ]
    }
   ],
   "source": [
    "# Ajustando as casas decimais\n",
    "n = int(input('Digite um número: '))\n",
    "raiz = math.sqrt(n)\n",
    "print('A raiz de {} é i agual a {:.2f}'.format(n, raiz))"
   ]
  },
  {
   "cell_type": "code",
   "execution_count": 64,
   "id": "412dd49d",
   "metadata": {},
   "outputs": [
    {
     "name": "stdout",
     "output_type": "stream",
     "text": [
      "Digite um número: 29\n",
      "A raiz de 29 é i agual a 6\n",
      "A raiz de 29 é i agual a 5\n"
     ]
    }
   ],
   "source": [
    "# Arredondando o resultado para cima (math.ceil)\n",
    "n = int(input('Digite um número: '))\n",
    "raiz = math.sqrt(n)\n",
    "print('A raiz de {} é i agual a {}'.format(n, math.ceil(raiz)))\n",
    "\n",
    "# Arredondando o resultado para baixo (math.floor)\n",
    "print('A raiz de {} é i agual a {}'.format(n, math.floor(raiz)))"
   ]
  },
  {
   "cell_type": "code",
   "execution_count": 65,
   "id": "5975e418",
   "metadata": {},
   "outputs": [
    {
     "name": "stdout",
     "output_type": "stream",
     "text": [
      "0.6541097208398071\n"
     ]
    }
   ],
   "source": [
    "import random\n",
    "# Por padrão a biblioteca gera números aleatórios de 0 até 1.\n",
    "num = random.random()\n",
    "print(num)"
   ]
  },
  {
   "cell_type": "code",
   "execution_count": 66,
   "id": "80c4c560",
   "metadata": {},
   "outputs": [
    {
     "name": "stdout",
     "output_type": "stream",
     "text": [
      "8\n"
     ]
    }
   ],
   "source": [
    "# Gerando um número aleatório de 1 até 10\n",
    "num = random.randint(1,10)\n",
    "print(num)"
   ]
  },
  {
   "cell_type": "markdown",
   "id": "3671a90b",
   "metadata": {},
   "source": [
    "## <font color = 'red'> Desafios 014 a 021 </font>\n",
    "<a href='CV-Python-Desafios-Solu%C3%A7ao.ipynb'> Solução dos Desafios</a></br>\n",
    "Atenção: Tente resolver os desafios antes de verificar as repostas, só assim você irá aprender."
   ]
  },
  {
   "cell_type": "markdown",
   "id": "06ff7622",
   "metadata": {},
   "source": [
    "### Desafio 014\n",
    "Escreva um programa que converta uma temperatura digitada em °C em °F."
   ]
  },
  {
   "cell_type": "markdown",
   "id": "ee3ab9cc",
   "metadata": {},
   "source": [
    "### Desafio 015\n",
    "Escreva um programa que pergunte a quantidade de Km percorridos por um carro alugado e a quantidade de dias pelos quais ele foi alugado. Calculo o preço a pagar, sabendo que o carro custa 60,00 reais por dia e 0,15 centavos por Km rodado."
   ]
  },
  {
   "cell_type": "markdown",
   "id": "f7ee13d7",
   "metadata": {},
   "source": [
    "### Desafio 016\n",
    "Crie um programa que leia um número Real qualquer pelo teclado e mostre na tela a sua porção inteira. Ex.:\n",
    "<br>Digite um número: 6.127\n",
    "<br>O número 6.127 tem a parte inteira 6."
   ]
  },
  {
   "cell_type": "markdown",
   "id": "96134612",
   "metadata": {},
   "source": [
    "### Desafio 017\n",
    "Faça um programa que leia o comprimento do cateto oposto e do cateto adjacente de um triângulo retângulo, calcula e mostre o comprimento da hipotenusa."
   ]
  },
  {
   "cell_type": "markdown",
   "id": "fc90c7fd",
   "metadata": {},
   "source": [
    "### Desafio 018\n",
    "Faa um programa que leia um ângulo qualquer e mostre na tela o valor do seno, cosseno e tangente desse ângulo."
   ]
  },
  {
   "cell_type": "markdown",
   "id": "fe505217",
   "metadata": {},
   "source": [
    "### Desafio 019\n",
    "Um professor quer sortear um dos seus quatro alunos para apagar o quadro. Faça um programa que ajude ele, lendo o nome deles e escrevendo o nome do escolhido."
   ]
  },
  {
   "cell_type": "markdown",
   "id": "48c0a7bb",
   "metadata": {},
   "source": [
    "### Desafio 020\n",
    "O mesmo professor do desafio anterior quer sortear a ordem de apresentaão de trabalhos dos alunos. Faça um programa que leia o nome dos quatro alunos e mostre a ordem sorteada."
   ]
  },
  {
   "cell_type": "markdown",
   "id": "02c3b976",
   "metadata": {},
   "source": [
    "### Desafio 021\n",
    "Faça um programa em Python que abra e reproduza o áudio de um arquivo MP3."
   ]
  },
  {
   "cell_type": "markdown",
   "id": "2ff3f8d0",
   "metadata": {},
   "source": [
    "## <font color = 'green'><a name=\"Aula 09 - Manipulando Texto\">Aula 09 - Manipulando Texto</font>"
   ]
  },
  {
   "cell_type": "markdown",
   "id": "5b09362e",
   "metadata": {},
   "source": [
    "O Python interpertra uma string como uma cadeia de caracteres.\n",
    "Para cada caractere é alocado um espaço de memória.\n",
    "Cada espaço corresponde a um número iniciado por 0.\n",
    "Ex.: Curso: C=0, u=1, r=2, s=3, o=4 ou seja 5 números de referência. Atenção: O espaço é considerado um caracter."
   ]
  },
  {
   "cell_type": "markdown",
   "id": "b46b2f5b",
   "metadata": {},
   "source": [
    "#### Técnica de Fatiamento"
   ]
  },
  {
   "cell_type": "code",
   "execution_count": 39,
   "id": "c7a5b7fa",
   "metadata": {
    "ExecuteTime": {
     "end_time": "2024-09-09T16:14:17.399334Z",
     "start_time": "2024-09-09T16:14:17.393518Z"
    }
   },
   "outputs": [
    {
     "name": "stdout",
     "output_type": "stream",
     "text": [
      "V\n",
      "Víde\n",
      "VdoPto\n",
      "Curso\n",
      "Python\n",
      "VePh\n"
     ]
    }
   ],
   "source": [
    "frase = 'Curso em Vídeo Python'\n",
    "print(frase[9]) # Selecionando um caracter\n",
    "print(frase[9:13])  # Selecionando um intervalo. O último valor não entra na seleção\n",
    "print(frase[9:21:2]) # Selecionando um intervalo, saltando conforme determinado\n",
    "print(frase[:5])  # Selecionando do início até o caracter desejado\n",
    "print(frase[15:]) # Selecionando de um ponto até o final\n",
    "print(frase[9::3]) # Selecionando de 9 até o final saltanto de 3 em 3"
   ]
  },
  {
   "cell_type": "code",
   "execution_count": 40,
   "id": "08b11cff",
   "metadata": {
    "ExecuteTime": {
     "end_time": "2024-09-09T16:14:19.928989Z",
     "start_time": "2024-09-09T16:14:19.924551Z"
    }
   },
   "outputs": [
    {
     "name": "stdout",
     "output_type": "stream",
     "text": [
      "3\n",
      "1\n"
     ]
    }
   ],
   "source": [
    "# Método count\n",
    "print(frase.count('o')) # Conta o total de 'o' na frase\n",
    "print(frase.count('o',0,13)) # Conta o total de 'o' no intervalo determinado"
   ]
  },
  {
   "cell_type": "code",
   "execution_count": 41,
   "id": "eb571174",
   "metadata": {
    "ExecuteTime": {
     "end_time": "2024-09-09T16:14:22.312310Z",
     "start_time": "2024-09-09T16:14:22.307505Z"
    }
   },
   "outputs": [
    {
     "name": "stdout",
     "output_type": "stream",
     "text": [
      "4\n",
      "11\n",
      "11\n",
      "-1\n"
     ]
    }
   ],
   "source": [
    "# Método find\n",
    "print(frase.find('o')) # Informa a posição do primeiro 'o' encontrado\n",
    "print(frase.find('deo')) # Mesmo em grupo, somente é informado a posição do primeiro caracter encontrado\n",
    "print(frase.find('d')) # Mesmo em grupo, somente é informado a posição do primeiro caracter encontrado\n",
    "print(frase.find('A')) # Se não for encontrado o caracter procurando, irá retornar -1"
   ]
  },
  {
   "cell_type": "code",
   "execution_count": 44,
   "id": "1daeaacf",
   "metadata": {
    "ExecuteTime": {
     "end_time": "2024-09-09T16:16:38.303516Z",
     "start_time": "2024-09-09T16:16:38.297290Z"
    }
   },
   "outputs": [
    {
     "name": "stdout",
     "output_type": "stream",
     "text": [
      "True\n",
      "False\n",
      "====\n",
      "True\n",
      "False\n",
      "====\n",
      "True\n",
      "False\n"
     ]
    }
   ],
   "source": [
    "# Operador in: retorna se existe (True ou False) um caracter ou cadeia de caracter dentro dentro da variável\n",
    "print('Curso' in frase)\n",
    "print('A' in frase)\n",
    "\n",
    "print(\"====\")\n",
    "\n",
    "# Função startswith(): Verifica se a string começa com uma letra\n",
    "print(frase.startswith('C'))\n",
    "print(frase.startswith('X'))\n",
    "\n",
    "print(\"====\")\n",
    "\n",
    "# Função endswith(): Verifica se a string começa com uma letra\n",
    "print(frase.endswith('n'))\n",
    "print(frase.endswith('x'))"
   ]
  },
  {
   "cell_type": "markdown",
   "id": "d72ccc8f",
   "metadata": {},
   "source": [
    "#### Técnica da Transformação"
   ]
  },
  {
   "cell_type": "code",
   "execution_count": 7,
   "id": "4d6a0457",
   "metadata": {},
   "outputs": [
    {
     "name": "stdout",
     "output_type": "stream",
     "text": [
      "Curso em Vídeo Python\n",
      "21\n",
      "Curso em Vídeo Android\n",
      "21\n"
     ]
    }
   ],
   "source": [
    "# Via de regra uma cadeia/lista de string é imutável\n",
    "# É possível mudar através de métodos mas não é possível alterar direto nos elementos\n",
    "# Método replace. Vai procurar e substituir\n",
    "print(frase)\n",
    "print(len(frase))\n",
    "print(frase.replace('Python','Android'))\n",
    "\n",
    "# Atenção: A quantidade de caracter na variável não é alterada.\n",
    "print(len(frase))"
   ]
  },
  {
   "cell_type": "code",
   "execution_count": 8,
   "id": "bdd8840e",
   "metadata": {},
   "outputs": [
    {
     "name": "stdout",
     "output_type": "stream",
     "text": [
      "CURSO EM VÍDEO PYTHON\n",
      "curso em vídeo python\n",
      "Curso em vídeo python\n",
      "Curso Em Vídeo Python\n"
     ]
    }
   ],
   "source": [
    "# Método upper(): O que já for maiúsculo é mantido. Os demais são alterados\n",
    "print(frase.upper())\n",
    "\n",
    "# Função lower(): O que já for minúsculo é mantido. Os demais são alterados.\n",
    "print(frase.lower())\n",
    "\n",
    "# Função capitalize(): Só o primeiro caracter fica maiúsculo.\n",
    "print(frase.capitalize())\n",
    "\n",
    "# Função title(): Todo caracter antes do espaço fica maiúsculo .\n",
    "print(frase.title())"
   ]
  },
  {
   "cell_type": "code",
   "execution_count": 9,
   "id": "1196617e",
   "metadata": {},
   "outputs": [
    {
     "name": "stdout",
     "output_type": "stream",
     "text": [
      "   Aprenda Python  \n",
      "19\n",
      "Aprenda Python\n",
      "19\n"
     ]
    }
   ],
   "source": [
    "# Método strip(): Remove os espaços no início e no final da string\n",
    "frase2=\"   Aprenda Python  \"\n",
    "print(frase2)\n",
    "print(len(frase2))\n",
    "print(frase2.strip())\n",
    "\n",
    "# Observe que variável é alterada com a função mas mantém a quantidade de original de caracteres.\n",
    "print(len(frase2))"
   ]
  },
  {
   "cell_type": "code",
   "execution_count": 10,
   "id": "68a594e3",
   "metadata": {},
   "outputs": [
    {
     "name": "stdout",
     "output_type": "stream",
     "text": [
      "   Aprenda Python\n",
      "Aprenda Python  \n"
     ]
    }
   ],
   "source": [
    "# Método rstrip: Remove os espaços a direita\n",
    "# Método lstrip: Remove os espaços a esquerda\n",
    "print(frase2.rstrip())\n",
    "print(frase2.lstrip())"
   ]
  },
  {
   "cell_type": "markdown",
   "id": "e2b9c519",
   "metadata": {},
   "source": [
    "#### Tecnica da Divisão"
   ]
  },
  {
   "cell_type": "code",
   "execution_count": 11,
   "id": "f225d8af",
   "metadata": {},
   "outputs": [
    {
     "name": "stdout",
     "output_type": "stream",
     "text": [
      "Curso em Vídeo Python\n",
      "['Curso', 'em', 'Vídeo', 'Python']\n"
     ]
    }
   ],
   "source": [
    "# Método split(): altera a string refazendo os índices de caracteres\n",
    "print(frase)\n",
    "print(frase.split())"
   ]
  },
  {
   "cell_type": "markdown",
   "id": "b28fef88",
   "metadata": {},
   "source": [
    "#### Tecnica da Junção"
   ]
  },
  {
   "cell_type": "code",
   "execution_count": 12,
   "id": "bfc22030",
   "metadata": {},
   "outputs": [
    {
     "name": "stdout",
     "output_type": "stream",
     "text": [
      "Curso em Vídeo Python\n",
      "C-u-r-s-o- -e-m- -V-í-d-e-o- -P-y-t-h-o-n\n"
     ]
    }
   ],
   "source": [
    "#Método join: insere caracter nos espaços\n",
    "print(frase)\n",
    "print('-'.join(frase))"
   ]
  },
  {
   "cell_type": "markdown",
   "id": "c0a63ab5",
   "metadata": {},
   "source": [
    "#### Combinando Técnicas"
   ]
  },
  {
   "cell_type": "code",
   "execution_count": 14,
   "id": "23cff2a7",
   "metadata": {},
   "outputs": [
    {
     "name": "stdout",
     "output_type": "stream",
     "text": [
      "Curso em Vídeo Python\n",
      "0\n",
      "3\n"
     ]
    }
   ],
   "source": [
    "frase = 'Curso em Vídeo Python'\n",
    "print(frase)\n",
    "print(frase.count('O'))\n",
    "print(frase.upper().count('O'))"
   ]
  },
  {
   "cell_type": "code",
   "execution_count": 15,
   "id": "1a33e902",
   "metadata": {},
   "outputs": [
    {
     "name": "stdout",
     "output_type": "stream",
     "text": [
      "   Aprenda Python  \n",
      "19\n",
      "14\n"
     ]
    }
   ],
   "source": [
    "print(frase2)\n",
    "print(len(frase2))\n",
    "print(len(frase2.strip()))"
   ]
  },
  {
   "cell_type": "code",
   "execution_count": 16,
   "id": "93d9e1e4",
   "metadata": {},
   "outputs": [
    {
     "name": "stdout",
     "output_type": "stream",
     "text": [
      "Curso em Vídeo Android\n",
      "Curso em Vídeo Python\n",
      "Curso em Vídeo Android\n"
     ]
    }
   ],
   "source": [
    "print(frase.replace('Python', 'Android'))\n",
    "print(frase)\n",
    "frase3 = frase.replace('Python', 'Android')\n",
    "print(frase3)"
   ]
  },
  {
   "cell_type": "code",
   "execution_count": 17,
   "id": "78db9725",
   "metadata": {},
   "outputs": [
    {
     "name": "stdout",
     "output_type": "stream",
     "text": [
      "9\n",
      "-1\n",
      "9\n"
     ]
    }
   ],
   "source": [
    "print(frase.find('Vídeo'))\n",
    "print(frase.find('vídeo'))\n",
    "print(frase.lower().find('vídeo'))"
   ]
  },
  {
   "cell_type": "code",
   "execution_count": 18,
   "id": "c6b26cd0",
   "metadata": {},
   "outputs": [
    {
     "name": "stdout",
     "output_type": "stream",
     "text": [
      "Curso em Vídeo Python\n",
      "['Curso', 'em', 'Vídeo', 'Python']\n",
      "s\n",
      "['Curso', 'em', 'Vídeo', 'Python']\n",
      "Python\n",
      "P\n"
     ]
    }
   ],
   "source": [
    "print(frase)\n",
    "print(frase.split())\n",
    "print(frase[3])\n",
    "dividido = frase.split()\n",
    "print(dividido)\n",
    "print(dividido[3])\n",
    "print(dividido[3][0])"
   ]
  },
  {
   "cell_type": "markdown",
   "id": "795a976a",
   "metadata": {},
   "source": [
    "## <font color = 'red'> Desafios 022 a 027 </font>\n",
    "<a href='CV-Python-Desafios-Solu%C3%A7ao.ipynb'> Solução dos Desafios</a></br>\n",
    "Atenção: Tente resolver os desafios antes de verificar as repostas, só assim você irá aprender."
   ]
  },
  {
   "cell_type": "markdown",
   "id": "18449374",
   "metadata": {},
   "source": [
    "### Desafio 022\n",
    "Crie um programa que leia o nome completo de uma pessoa e mostre:\n",
    "<br> O nome com todas as letras maiúsculas; </br>\n",
    "<br> O nome com todas as letras minúsculas; </br>\n",
    "<br> Quantas letras ao todo (sem considerar espaços); e </br>\n",
    "<br> Quantas letras tem o primeiro nome. </br>"
   ]
  },
  {
   "cell_type": "markdown",
   "id": "cb47386c",
   "metadata": {},
   "source": [
    "### Desafio 023\n",
    "Faça um programa que leia um número de 0 a 9999 e mostra na tela cada um dos digitos separados. </p>\n",
    "Ex.: Digite um número: 1834\n",
    "<br> unidade: 4 </br>\n",
    "<br> dezena: 3 </br>\n",
    "<br> centena 8 </br>\n",
    "<br> milhar: 1</br>"
   ]
  },
  {
   "cell_type": "markdown",
   "id": "60c3a4fc",
   "metadata": {},
   "source": [
    "### Desafio 024\n",
    "Crie um programa que leia o nome de uma cidade e diga se ela começa ou não com o nome \"SANTO\"."
   ]
  },
  {
   "cell_type": "markdown",
   "id": "74ee3fd2",
   "metadata": {},
   "source": [
    "### Desafio 025\n",
    "Crie um programa que leia o nome de uma pessoa e diga se ala tem \"SILVA\" no nome."
   ]
  },
  {
   "cell_type": "markdown",
   "id": "1f5b47d9",
   "metadata": {},
   "source": [
    "### Desafio 026\n",
    "Faça um programa que leia uma frase pelo teclado e mostre:\n",
    "<br>Quantas vezes aparece a letra \"A\"</br>\n",
    "<br>Em que posição ela aparece a primeira vez</br>\n",
    "<br>Em que posição ela aparece a última vez</br>"
   ]
  },
  {
   "cell_type": "markdown",
   "id": "50de97a9",
   "metadata": {},
   "source": [
    "### Desafio 027\n",
    "Faça um programa que leia o nome completo de uma pessoa, mostrando em seguida o primeiro e o último nome separadamente.</p>\n",
    "Ex.: Ana Maria de Souza\n",
    "<br>Primeiro: Ana</br>\n",
    "<br>Último: Souza</br>"
   ]
  },
  {
   "cell_type": "markdown",
   "id": "7e0365f3",
   "metadata": {},
   "source": [
    "## <font color = 'green'><a name=\"Aula 10 - Condições (Parte 1)\">Aula 10 - Condições (Parte 1)</font>"
   ]
  },
  {
   "cell_type": "markdown",
   "id": "563ea763",
   "metadata": {},
   "source": [
    "#### Comando if"
   ]
  },
  {
   "cell_type": "code",
   "execution_count": 23,
   "id": "86d640dd",
   "metadata": {},
   "outputs": [
    {
     "name": "stdout",
     "output_type": "stream",
     "text": [
      "Qual o seu nome? A\n",
      "Bom dia, A\n"
     ]
    }
   ],
   "source": [
    "# Estrutura condicional simples\n",
    "nome = str(input('Qual o seu nome? '))\n",
    "if nome == 'Bruno':\n",
    "    print('Que nome bonito!')\n",
    "print('Bom dia, {}'.format(nome))"
   ]
  },
  {
   "cell_type": "code",
   "execution_count": 26,
   "id": "1ee1712d",
   "metadata": {},
   "outputs": [
    {
     "name": "stdout",
     "output_type": "stream",
     "text": [
      "Qual o seu nome? Bruno\n",
      "Que nome bonito!\n",
      "Bom dia, Bruno\n"
     ]
    }
   ],
   "source": [
    "# Estrutura condicional composta\n",
    "nome2 = str(input('Qual o seu nome? '))\n",
    "if nome2 == 'Bruno':\n",
    "    print('Que nome bonito!')\n",
    "else:\n",
    "    print('Seu nome é tão normal!')\n",
    "print('Bom dia, {}'.format(nome2))"
   ]
  },
  {
   "cell_type": "code",
   "execution_count": 27,
   "id": "18be982e",
   "metadata": {},
   "outputs": [
    {
     "name": "stdout",
     "output_type": "stream",
     "text": [
      "Digite a primeira nota: 7\n",
      "Digite a Segunda note: 8\n",
      "A sua média foi 7.5\n",
      "Sua média foi boa. Parabéns!\n"
     ]
    }
   ],
   "source": [
    "n1 = float(input('Digite a primeira nota: '))\n",
    "n2 = float(input('Digite a Segunda note: '))\n",
    "m = (n1 + n2) / 2\n",
    "print('A sua média foi {:.1f}'.format(m))\n",
    "if m>= 6.0:\n",
    "    print('Sua média foi boa. Parabéns!')\n",
    "else:\n",
    "    print('Sua média foi ruim. Estude mais!')"
   ]
  },
  {
   "cell_type": "code",
   "execution_count": 28,
   "id": "59fd6182",
   "metadata": {},
   "outputs": [
    {
     "name": "stdout",
     "output_type": "stream",
     "text": [
      "Digite a primeira nota: 3\n",
      "Digite a Segunda note: 4\n",
      "A sua média foi 3.5\n",
      "Sua média foi ruim. Estude mais!\n"
     ]
    }
   ],
   "source": [
    "# Repetindo o exemplo acima\n",
    "n1 = float(input('Digite a primeira nota: '))\n",
    "n2 = float(input('Digite a Segunda note: '))\n",
    "m = (n1 + n2) / 2\n",
    "print('A sua média foi {:.1f}'.format(m))\n",
    "if m>= 6.0:\n",
    "    print('Sua média foi boa. Parabéns!')\n",
    "else:\n",
    "    print('Sua média foi ruim. Estude mais!')"
   ]
  },
  {
   "cell_type": "code",
   "execution_count": 32,
   "id": "91802508",
   "metadata": {},
   "outputs": [
    {
     "name": "stdout",
     "output_type": "stream",
     "text": [
      "Digite a primeira nota: 7\n",
      "Digite a segunda nota: 7\n",
      "A sua média foi 7.0. Parabéns!\n"
     ]
    }
   ],
   "source": [
    "# Estrutura condicional simplificada\n",
    "n1 = float(input('Digite a primeira nota: '))\n",
    "n2 = float(input('Digite a segunda nota: '))\n",
    "m = (n1 + n2) / 2\n",
    "print('A sua média foi {:.1f}. Parabéns!'.format(m) if m >= 6.0 else 'Sua média foi ruim. Estude mais!')"
   ]
  },
  {
   "cell_type": "code",
   "execution_count": 33,
   "id": "681efd88",
   "metadata": {},
   "outputs": [
    {
     "name": "stdout",
     "output_type": "stream",
     "text": [
      "Digite a primeira nota: 3\n",
      "Digite a segunda nota: 4\n",
      "Sua média foi ruim. Estude mais!\n"
     ]
    }
   ],
   "source": [
    "# Repetindo o exemplo acima\n",
    "n1 = float(input('Digite a primeira nota: '))\n",
    "n2 = float(input('Digite a segunda nota: '))\n",
    "m = (n1 + n2) / 2\n",
    "print('A sua média foi {:.1f}. Parabéns!'.format(m) if m >= 6.0 else 'Sua média foi ruim. Estude mais!')"
   ]
  },
  {
   "cell_type": "markdown",
   "id": "3738b575",
   "metadata": {},
   "source": [
    "## <font color = 'red'> Desafios 028 a 035 </font>\n",
    "<a href='CV-Python-Desafios-Solu%C3%A7ao.ipynb'> Solução dos Desafios</a></br>\n",
    "Atenção: Tente resolver os desafios antes de verificar as repostas, só assim você irá aprender."
   ]
  },
  {
   "cell_type": "markdown",
   "id": "8bb4cb08",
   "metadata": {},
   "source": [
    "### Desafio 028\n",
    "Escreva um programa que faça o computador \"pensar' em um número inteiro entre 0 e 5 e peça para o usuário tentar descobrir qual foi o número escolhido pelo computador. </P>\n",
    "O programa deverá escrever na tela se o usuário venceu ou perdeu."
   ]
  },
  {
   "cell_type": "markdown",
   "id": "dc7183f5",
   "metadata": {},
   "source": [
    "### Desafio 029\n",
    "Escreva um programa que leia a velocidade de um carro. </p>\n",
    "Se ele ultrapassar 80km/h, mostre uma mensagem dizendo que ele foi multado.</p>\n",
    "A multa vai custar R$ 7,00 por cada km acima do limite."
   ]
  },
  {
   "cell_type": "markdown",
   "id": "34f2dab4",
   "metadata": {},
   "source": [
    "### Desafio 030\n",
    "Crie um programa que leia um número inteiro e mostre na tela se ele é PAR ou ÍMPAR."
   ]
  },
  {
   "cell_type": "markdown",
   "id": "6fd3e875",
   "metadata": {},
   "source": [
    "### Desafio 031\n",
    "Desenvolva um programa que pergunte a distância de uma viagem em Km. </p>\n",
    "Calcule o preço da passagem, cobrando 0,50 centavos por Km para viagens de até 200km e 0,45 centavos para viagens mais longas."
   ]
  },
  {
   "cell_type": "markdown",
   "id": "791c1e7b",
   "metadata": {},
   "source": [
    "### Desafio 032\n",
    "Faça um programa que leia um ano qualquer e mostre se ele é BISSEXTO."
   ]
  },
  {
   "cell_type": "markdown",
   "id": "17fa968f",
   "metadata": {},
   "source": [
    "### Desafio 033\n",
    "Faça um programa que leia três números e mostre qual é o maior e qual é o menor."
   ]
  },
  {
   "cell_type": "markdown",
   "id": "ebc2e762",
   "metadata": {},
   "source": [
    "### Desafio 034\n",
    "Escreva um programa que pergunte o salário de um funcionário e calcule o valor do seu aumento.</P>\n",
    "Para salários superiores a R$ 1.250,00, calcule um aumento de 10%.\n",
    "Para os inferiores ou iguais, o aumento é de 15%."
   ]
  },
  {
   "cell_type": "markdown",
   "id": "91cc38d0",
   "metadata": {},
   "source": [
    "### Desafio 035\n",
    "Desenvolva um programa que leia o comprimeiro de três retas e diga ao usuário se elas podem ou não formar um triângulo."
   ]
  },
  {
   "cell_type": "markdown",
   "id": "411bd435",
   "metadata": {},
   "source": [
    "## <font color = 'green'><a name=\"Aula 11 - Cores no Terminal\">Aula 11 - Cores no Terminal</font>"
   ]
  },
  {
   "cell_type": "code",
   "execution_count": 36,
   "id": "dc8f08e1",
   "metadata": {},
   "outputs": [
    {
     "name": "stdout",
     "output_type": "stream",
     "text": [
      "\u001b[4;30;45mOlá, Mundo!\u001b[m\n"
     ]
    }
   ],
   "source": [
    "print('\\033[4;30;45mOlá, Mundo!\\033[m')"
   ]
  },
  {
   "cell_type": "code",
   "execution_count": 37,
   "id": "7a90a6a1",
   "metadata": {},
   "outputs": [
    {
     "name": "stdout",
     "output_type": "stream",
     "text": [
      "Os valores são \u001b[32m3 e \u001b[31m5\n"
     ]
    }
   ],
   "source": [
    "a = 3\n",
    "b = 5\n",
    "print('Os valores são \\033[32m{} e \\033[31m{}'.format(a, b))"
   ]
  },
  {
   "cell_type": "code",
   "execution_count": 38,
   "id": "e9dd90f1",
   "metadata": {},
   "outputs": [
    {
     "name": "stdout",
     "output_type": "stream",
     "text": [
      "Os valores são \u001b[32m3\u001b[m e \u001b[31m5\n"
     ]
    }
   ],
   "source": [
    "a = 3\n",
    "b = 5\n",
    "print('Os valores são \\033[32m{}\\33[m e \\033[31m{}'.format(a, b))"
   ]
  },
  {
   "cell_type": "code",
   "execution_count": 39,
   "id": "bf7229a6",
   "metadata": {},
   "outputs": [
    {
     "name": "stdout",
     "output_type": "stream",
     "text": [
      "Os valores são \u001b[32;46m3\u001b[m e \u001b[31m5\n"
     ]
    }
   ],
   "source": [
    "a = 3\n",
    "b = 5\n",
    "print('Os valores são \\033[32;46m{}\\33[m e \\033[31m{}'.format(a, b))"
   ]
  },
  {
   "cell_type": "code",
   "execution_count": 40,
   "id": "7100f214",
   "metadata": {},
   "outputs": [
    {
     "name": "stdout",
     "output_type": "stream",
     "text": [
      "Olá! Muito prazer em te conhecer, \u001b[4;34mBruno\u001b[m!\n"
     ]
    }
   ],
   "source": [
    "#Colocando as cores no format\n",
    "nome = 'Bruno'\n",
    "print('Olá! Muito prazer em te conhecer, {}{}{}!'.format('\\33[4;34m', nome, '\\33[m'))"
   ]
  },
  {
   "cell_type": "code",
   "execution_count": 41,
   "id": "573be646",
   "metadata": {},
   "outputs": [
    {
     "name": "stdout",
     "output_type": "stream",
     "text": [
      "Olá! Muito prazer em te conhecer, \u001b[7;30mBruno\u001b[m!\n"
     ]
    }
   ],
   "source": [
    "#Utilizando dicionários\n",
    "nome = 'Bruno'\n",
    "cores = {'limpa':'\\033[m', 'azul':'\\033[34m',\n",
    "         'amarelo':'\\033[33m', 'pretoebranco':'\\033[7;30m'}\n",
    "print('Olá! Muito prazer em te conhecer, {}{}{}!'.format(cores['pretoebranco'], nome, cores['limpa']))"
   ]
  },
  {
   "cell_type": "markdown",
   "id": "33112c3c",
   "metadata": {},
   "source": [
    "## <font color = 'red'> Desafios 036 a 045 </font>\n",
    "<a href='CV-Python-Desafios-Solu%C3%A7ao.ipynb'> Solução dos Desafios</a></br>\n",
    "Atenção: Tente resolver os desafios antes de verificar as repostas, só assim você irá aprender."
   ]
  },
  {
   "cell_type": "markdown",
   "id": "b9a68358",
   "metadata": {},
   "source": [
    "Refaça todos os Desafios inserindo cores."
   ]
  },
  {
   "cell_type": "markdown",
   "id": "0dca0617",
   "metadata": {},
   "source": [
    "# <font color = 'green'><a name=\"Mundo 2\">Mundo 2 </font>"
   ]
  },
  {
   "cell_type": "markdown",
   "id": "9f83bdca",
   "metadata": {},
   "source": [
    "## <font color = 'green'><a name=\"Aula 12 - Condições Aninhadas\">Aula 12 - Condições Aninhadas</font>"
   ]
  },
  {
   "cell_type": "markdown",
   "id": "501deb00",
   "metadata": {},
   "source": [
    "Usando o <i>if, elif<i/> e <i>else</i>"
   ]
  },
  {
   "cell_type": "code",
   "execution_count": 10,
   "id": "411aa547",
   "metadata": {},
   "outputs": [
    {
     "name": "stdout",
     "output_type": "stream",
     "text": [
      "Digite uma palabra que começe com a letra A.jato\n",
      "Esse nome não começa com a letra A.\n"
     ]
    }
   ],
   "source": [
    "nome = str(input('Digite uma palabra que começe com a letra A. '))\n",
    "if nome[0] == 'A' or nome[0] == 'a':\n",
    "    print('Parabens! {} começa com a letra {}'.format(nome, nome[0]))\n",
    "elif nome == 'Carro' or nome == 'Moto':\n",
    "    print('Esse nome começam com a letra {}.'.format(nome[0]))\n",
    "elif nome in 'Limão Laranja Maça':\n",
    "    print('Essa palavra não começa com a letra A. Ela é uma fruta.')\n",
    "else:\n",
    "    print('Esse nome não começa com a letra A.')"
   ]
  },
  {
   "cell_type": "markdown",
   "id": "04bafec1",
   "metadata": {},
   "source": [
    "## <font color = 'red'> Desafios 036 a 045 </font>\n",
    "<a href='CV-Python-Desafios-Solu%C3%A7ao.ipynb'> Solução dos Desafios</a></br>\n",
    "Atenção: Tente resolver os desafios antes de verificar as repostas, só assim você irá aprender."
   ]
  },
  {
   "cell_type": "markdown",
   "id": "b52a79dd",
   "metadata": {},
   "source": [
    "### Desafio 036\n",
    "Escreva um programa para aprovar o emprétimo bancário para a compra de uma casa. \n",
    "O programa vai perguntar o valor da casa, o salário do comprador e em quantos anos ele vai pagar.\n",
    "Calcule o valor da prestação mensal, sabendo que ela não pode exceder 30% do salário ou o empréstimo será negado."
   ]
  },
  {
   "cell_type": "markdown",
   "id": "fe0482fc",
   "metadata": {},
   "source": [
    "### Desafio 037 (*)\n",
    "Escreva um programa que leia um número inteiro qualquer e peça para o usuário escolher qual será a base de conversão:\n",
    "- 1 para binário\n",
    "- 2 para octal\n",
    "- 3 para hexadecimal"
   ]
  },
  {
   "cell_type": "markdown",
   "id": "c2bf32a3",
   "metadata": {},
   "source": [
    "### Desafio 038\n",
    "Escreva um programa que leia dois números inteiros e compare-os, motrando na tela uma mensagem:\n",
    "- O primeiro valor é maior.\n",
    "- O segundo valor é maior.\n",
    "- Não existe valor maior, os dois são iguais."
   ]
  },
  {
   "cell_type": "markdown",
   "id": "cf68cc03",
   "metadata": {},
   "source": [
    "### Desafio 039\n",
    "Faça um programa que leia o ano de nascimento de um jovem e informe, de  acordo com sua idade:\n",
    "- Se ele ainda vai se alistar no serviço militar.\n",
    "- Se é a hora de se alistar.\n",
    "- Se já passou do tempo do alistamento.\n",
    "\n",
    "Seu programa também deverá mostrar o tempo que falta ou que passou do prazo."
   ]
  },
  {
   "cell_type": "markdown",
   "id": "4994e29c",
   "metadata": {},
   "source": [
    "### Desafio 040\n",
    "Crie um programa que leia duas noteas de um aluno e calcule sua média, mostrando uma mensagem no final, de acordo com a média atingida.\n",
    "- Média abaixo de 5.0: REPROVADO\n",
    "- Média entre 5.0 e 6.9: RECUPERAÇÃO\n",
    "- Média 7.0 ou superior: APROVADO"
   ]
  },
  {
   "cell_type": "markdown",
   "id": "9b7569ae",
   "metadata": {},
   "source": [
    "### Desafio 041\n",
    "A Confederação Nacional de Natação precisa de um programa que leia o ano de nascimento de um atleta e mostre sua categoria, de acordo com a idade:\n",
    "- Até 9 anos: MIRIM\n",
    "- Até 14 anos: INFANTIL\n",
    "- Até 19 anos: JUNIOR\n",
    "- Até 20 anos: SÊNIOR\n",
    "- Acima: MASTER"
   ]
  },
  {
   "cell_type": "markdown",
   "id": "5b1f9915",
   "metadata": {},
   "source": [
    "### Desafio 042 (*)\n",
    "Refaça o Desafio 35 dos triangulos, acrescentando o recurso de mostrar que tipo de triângulo será formado:\n",
    "- Equilátero: todos os lados igual;\n",
    "- Isósceles: dois lados iguais;\n",
    "- Escaleno: todos os lados diferentes."
   ]
  },
  {
   "cell_type": "markdown",
   "id": "d6ac0768",
   "metadata": {},
   "source": [
    "### Desafio 043 \n",
    "Desenvolva uma lógica que leia o peso e a altura de uma pessoa, calcula seu IMC e mostre seu status, de acordo com a tabela abaixo:\n",
    "- Abaixo de 18.5: Abbaixo do Peso\n",
    "- Entre 18.5 e 25: Peso ideal\n",
    "- 25 até 30: Sobrepeso\n",
    "- 30 até 40: Obesidade\n",
    "- Acima de 40: Obesidade mórbida"
   ]
  },
  {
   "cell_type": "markdown",
   "id": "54e78e44",
   "metadata": {},
   "source": [
    "### Desafio 044\n",
    "Elabora um programa que calcule o valor a ser pago por um produto, considerando seu preço normal e condição de pagamento:\n",
    "- À vista dinheiro: 10% de desconto\n",
    "- À vista no cartão: 5% de desconto\n",
    "- até 2x no cartão: preço normal\n",
    "- 3x ou mais no cartão: 20% de juros"
   ]
  },
  {
   "cell_type": "markdown",
   "id": "3c72ef2b",
   "metadata": {},
   "source": [
    "### Desafio 045\n",
    "Crie um programa que faça o computador jogar Jokenpô com você."
   ]
  },
  {
   "cell_type": "markdown",
   "id": "3a70616f",
   "metadata": {},
   "source": [
    "## <font color = 'green'><a name=\"Aula 13 - Estrutura de Repetição (Parte 1)\">Aula 13 - Estrutura de Repetição (Parte 1)</font>"
   ]
  },
  {
   "cell_type": "markdown",
   "id": "69df199c",
   "metadata": {},
   "source": [
    "#### Laço de Repetição for"
   ]
  },
  {
   "cell_type": "markdown",
   "id": "deb74aff",
   "metadata": {},
   "source": [
    "O for é uma estrutura de repetição com variável de controle.</br>\n",
    "A iteração for é muito utilizada quando se sabe o início e fim da repetição."
   ]
  },
  {
   "cell_type": "code",
   "execution_count": 29,
   "id": "074e6d00",
   "metadata": {},
   "outputs": [
    {
     "data": {
      "text/html": [
       "<iframe width=\"560\" height=\"315\" src=\"https://www.youtube.com/embed/cL4YDtFnCt4\" title=\"YouTube video player\" frameborder=\"0\" allow=\"accelerometer; autoplay; clipboard-write; encrypted-media; gyroscope; picture-in-picture\" allowfullscreen></iframe>"
      ],
      "text/plain": [
       "<IPython.core.display.HTML object>"
      ]
     },
     "execution_count": 29,
     "metadata": {},
     "output_type": "execute_result"
    }
   ],
   "source": [
    "HTML ('<iframe width=\"560\" height=\"315\" src=\"https://www.youtube.com/embed/cL4YDtFnCt4\" title=\"YouTube video player\" frameborder=\"0\" allow=\"accelerometer; autoplay; clipboard-write; encrypted-media; gyroscope; picture-in-picture\" allowfullscreen></iframe>')"
   ]
  },
  {
   "cell_type": "code",
   "execution_count": 12,
   "id": "36ff6130",
   "metadata": {},
   "outputs": [
    {
     "name": "stdout",
     "output_type": "stream",
     "text": [
      "Oi\n",
      "Oi\n",
      "Oi\n",
      "Oi\n",
      "Oi\n",
      "Oi\n",
      "FIM\n"
     ]
    }
   ],
   "source": [
    "# Escreve 'Oi' 6 vezes\n",
    "for i in range(0, 6): \n",
    "    print('Oi')\n",
    "print('FIM')"
   ]
  },
  {
   "cell_type": "code",
   "execution_count": 15,
   "id": "f1d6e9ab",
   "metadata": {},
   "outputs": [
    {
     "name": "stdout",
     "output_type": "stream",
     "text": [
      "0\n",
      "2\n",
      "4\n",
      "6\n",
      "FIM\n"
     ]
    }
   ],
   "source": [
    "# Conta de 0 a seis pulando de dois em dois\n",
    "for a in range(0, 7, 2):\n",
    "    print(a)\n",
    "print('FIM')"
   ]
  },
  {
   "cell_type": "code",
   "execution_count": 4,
   "id": "a3fd2071",
   "metadata": {
    "ExecuteTime": {
     "end_time": "2024-09-09T13:35:22.853261Z",
     "start_time": "2024-09-09T13:35:21.142799Z"
    }
   },
   "outputs": [
    {
     "name": "stdout",
     "output_type": "stream",
     "text": [
      "Digite um número: 3\n",
      "0\n",
      "1\n",
      "2\n",
      "FIM\n"
     ]
    }
   ],
   "source": [
    "n = int(input('Digite um número: '))\n",
    "for b in range(0, n):\n",
    "    print(b)\n",
    "print('FIM')"
   ]
  },
  {
   "cell_type": "code",
   "execution_count": 5,
   "id": "49cb4320",
   "metadata": {
    "ExecuteTime": {
     "end_time": "2024-09-09T13:36:04.818657Z",
     "start_time": "2024-09-09T13:36:03.514691Z"
    }
   },
   "outputs": [
    {
     "name": "stdout",
     "output_type": "stream",
     "text": [
      "Digite um número: 3\n",
      "0\n",
      "1\n",
      "2\n",
      "3\n",
      "FIM\n"
     ]
    }
   ],
   "source": [
    "n = int(input('Digite um número: '))\n",
    "for b in range(0, n+1): # Observe que o número 3 não está incluso. Para incluílo use n+1\n",
    "    print(b)\n",
    "print('FIM')"
   ]
  },
  {
   "cell_type": "code",
   "execution_count": 19,
   "id": "239b314b",
   "metadata": {},
   "outputs": [
    {
     "name": "stdout",
     "output_type": "stream",
     "text": [
      "Início: 1\n",
      "Fim: 6\n",
      "Passo: 2\n",
      "1\n",
      "3\n",
      "5\n",
      "FIM\n"
     ]
    }
   ],
   "source": [
    "i = int(input('Início: '))\n",
    "f = int(input('Fim: '))\n",
    "p = int(input('Passo: '))\n",
    "for c in range(i, f+1, p):\n",
    "    print(c)\n",
    "print('FIM')"
   ]
  },
  {
   "cell_type": "code",
   "execution_count": 20,
   "id": "40899698",
   "metadata": {},
   "outputs": [
    {
     "name": "stdout",
     "output_type": "stream",
     "text": [
      "Digite um valor: 1\n",
      "1\n",
      "Digite um valor: 2\n",
      "2\n",
      "Digite um valor: 3\n",
      "3\n",
      "Fim\n"
     ]
    }
   ],
   "source": [
    "for d in range(0,3):\n",
    "    n = int(input('Digite um valor: '))\n",
    "    print(n)\n",
    "print('Fim')"
   ]
  },
  {
   "cell_type": "code",
   "execution_count": 21,
   "id": "f4c81010",
   "metadata": {},
   "outputs": [
    {
     "name": "stdout",
     "output_type": "stream",
     "text": [
      "Digite um valor: 2\n",
      "Digite um valor: 1\n",
      "Digite um valor: 3\n",
      "Digite um valor: 4\n",
      "O somatório de todos o valores é: 10\n"
     ]
    }
   ],
   "source": [
    "s = 0\n",
    "for e in range(0, 4):\n",
    "    n = int(input('Digite um valor: '))\n",
    "    s += n #s = s + n\n",
    "print('O somatório de todos o valores é: {}'.format(s))"
   ]
  },
  {
   "cell_type": "markdown",
   "id": "ff148f5d",
   "metadata": {},
   "source": [
    "## <font color = 'Red'> Desafios 046 a 056 </font>\n",
    "<a href='CV-Python-Desafios-Solu%C3%A7ao.ipynb'> Solução dos Desafios</a></br>\n",
    "Atenção: Tente resolver os desafios antes de verificar as repostas, só assim você irá aprender."
   ]
  },
  {
   "cell_type": "markdown",
   "id": "3e8097eb",
   "metadata": {},
   "source": [
    "### Desafio 046\n",
    "Faça um programa que mostre na tela uma contagem regressiva para o estouro de fogos de artifício, indo de 10 até 0, com uma pausa de 1 segundo entre eles. \n",
    "(No final tente mostrar um emoji de fotos estourando.)"
   ]
  },
  {
   "cell_type": "markdown",
   "id": "dcd8ba42",
   "metadata": {},
   "source": [
    "### Desafio 047\n",
    "Crie um programa que mostre na tela todos os números pare que estão no intervalo entre 1 e 50."
   ]
  },
  {
   "cell_type": "markdown",
   "id": "8c9a53ae",
   "metadata": {},
   "source": [
    "### Desafio 048\n",
    "Faça um programa que calcule a soma entre todos os números ímperes que são múltiplos de três e que se encontram no intervalo de 1 até 500."
   ]
  },
  {
   "cell_type": "markdown",
   "id": "f29a06b6",
   "metadata": {},
   "source": [
    "### Desafio 049\n",
    "Refaça o Desafio 009, mostrando a tabuada de um número que o usuário escolher, só que agora utilizando um laço <i>for</i>."
   ]
  },
  {
   "cell_type": "markdown",
   "id": "110f6740",
   "metadata": {},
   "source": [
    "### Desafio 050\n",
    "Desenvolva um programa que leia seis números inteiros e mostre a soma apenas daqueles que forem pares. Se o valor digitado for ímpas, desconsidere-o."
   ]
  },
  {
   "cell_type": "markdown",
   "id": "e5824d39",
   "metadata": {},
   "source": [
    "### Desafio 051\n",
    "Desenvolva um programa que leia o primeiro terno e a razão de uma Progressão Aritmética (PA). No final, nostre os 10 primeiros termos dessa progressão."
   ]
  },
  {
   "cell_type": "markdown",
   "id": "4bad4b62",
   "metadata": {},
   "source": [
    "### Desafio 052\n",
    "Faça um programa que leia um número interiro e diga se ele é ou não um número primo."
   ]
  },
  {
   "cell_type": "markdown",
   "id": "906b6ac2",
   "metadata": {},
   "source": [
    "### Desafio 053\n",
    "Crie um programa que leia uma frase qualquer e diga se ela é um palíndromo, desconsiderando os espaços.</br>\n",
    "Ex.: </br>\n",
    "APOS A SOPA</br>\n",
    "A SACADA DA CASA</br>\n",
    "A TORRE DA DERROTA</br>\n",
    "O LOBO AMOA O BOLO</br>\n",
    "ANOTARAM A DATA DA MARATONA"
   ]
  },
  {
   "cell_type": "markdown",
   "id": "c35fe16b",
   "metadata": {},
   "source": [
    "### Desafio 054\n",
    "Crie um programa que leia o ano de nascimento de sete pessoas. No final mostre quantas pessoas ainda não atingiram a maioridade e quantas á são maiores.</br>\n",
    "Considere a maioridades = 21 anos."
   ]
  },
  {
   "cell_type": "markdown",
   "id": "98f1f515",
   "metadata": {},
   "source": [
    "### Desafio 055\n",
    "Faça um programa que leia o peso de cinco pessoas. No final, mostre qual foi o maior e o menor peso lidos."
   ]
  },
  {
   "cell_type": "markdown",
   "id": "600d7bb9",
   "metadata": {},
   "source": [
    "### Desafio 056\n",
    "Desenvolva um programa que leia nome, idade e sexo de 4 pessoas. No final do programa, mostre:\n",
    "- A média de idade do grupo\n",
    "- Qual é o nome do homeme mais velho.\n",
    "- Quantas mulheres tem menos de 20 anos."
   ]
  },
  {
   "cell_type": "markdown",
   "id": "fc02a932",
   "metadata": {},
   "source": [
    "## <font color = 'green'><a name=\"Aula 14 - Estrutura de repetição (Parte 2)\">Aula 14 - Estrutura de repetição (Parte 2)</font>"
   ]
  },
  {
   "cell_type": "markdown",
   "id": "5e1cdd80",
   "metadata": {},
   "source": [
    "#### Laço de Repetição while"
   ]
  },
  {
   "cell_type": "markdown",
   "id": "6329ca2f",
   "metadata": {},
   "source": [
    "O while é uma estrutura de repetição com teste lógico.</br>\n",
    "A iteração while geralmente é usada quando existe um comando/garilho de parada. Enquando esse comando/gatilho de parada não for informado, a repetição continua."
   ]
  },
  {
   "cell_type": "code",
   "execution_count": 30,
   "id": "2af94a0c",
   "metadata": {},
   "outputs": [
    {
     "data": {
      "text/html": [
       "<iframe width=\"560\" height=\"315\" src=\"https://www.youtube.com/embed/LH6OIn2lBaI\" title=\"YouTube video player\" frameborder=\"0\" allow=\"accelerometer; autoplay; clipboard-write; encrypted-media; gyroscope; picture-in-picture\" allowfullscreen></iframe>"
      ],
      "text/plain": [
       "<IPython.core.display.HTML object>"
      ]
     },
     "execution_count": 30,
     "metadata": {},
     "output_type": "execute_result"
    }
   ],
   "source": [
    "HTML ('<iframe width=\"560\" height=\"315\" src=\"https://www.youtube.com/embed/LH6OIn2lBaI\" title=\"YouTube video player\" frameborder=\"0\" allow=\"accelerometer; autoplay; clipboard-write; encrypted-media; gyroscope; picture-in-picture\" allowfullscreen></iframe>')"
   ]
  },
  {
   "cell_type": "code",
   "execution_count": 47,
   "id": "0a65541d",
   "metadata": {},
   "outputs": [
    {
     "name": "stdout",
     "output_type": "stream",
     "text": [
      "0-> 1-> 2-> 3-> 4-> Fim\n"
     ]
    }
   ],
   "source": [
    "# Tomando como exemplo o for\n",
    "for a in range (0, 5):\n",
    "    print(a, end='-> ')\n",
    "print('Fim')"
   ]
  },
  {
   "cell_type": "code",
   "execution_count": 46,
   "id": "7b2ba9f2",
   "metadata": {},
   "outputs": [
    {
     "name": "stdout",
     "output_type": "stream",
     "text": [
      "0-> 1-> 2-> 3-> 4-> Fim\n"
     ]
    }
   ],
   "source": [
    "# Usando o while\n",
    "b = 0\n",
    "while b < 5:\n",
    "    print(b, end='-> ')\n",
    "    b += 1\n",
    "print('Fim')"
   ]
  },
  {
   "cell_type": "markdown",
   "id": "da7acb0a",
   "metadata": {},
   "source": [
    "Obs: Se o limite da iteração é conhecido, pode-se usar o for e o while. Contudo, se o limite é desconhecido, só é possível usar o while."
   ]
  },
  {
   "cell_type": "code",
   "execution_count": 34,
   "id": "96116f58",
   "metadata": {},
   "outputs": [
    {
     "name": "stdout",
     "output_type": "stream",
     "text": [
      "Digite um número: 1\n",
      "Digite um número: 2\n",
      "Digite um número: 3\n",
      "Digite um número: 4\n",
      "Digite um número: 456\n",
      "Digite um número: 0\n",
      "Fim\n"
     ]
    }
   ],
   "source": [
    "n = 1\n",
    "while n != 0: # flag ou condição de parada\n",
    "    n = int(input('Digite um número: '))\n",
    "print('Fim')"
   ]
  },
  {
   "cell_type": "code",
   "execution_count": 36,
   "id": "1a95395e",
   "metadata": {},
   "outputs": [
    {
     "name": "stdout",
     "output_type": "stream",
     "text": [
      "Digite um número: 4\n",
      "Quer continuar? [S/N]s\n",
      "Digite um número: 7\n",
      "Quer continuar? [S/N]s\n",
      "Digite um número: 963455\n",
      "Quer continuar? [S/N]n\n",
      "Fim\n"
     ]
    }
   ],
   "source": [
    "r = 'S'\n",
    "while r == \"S\":\n",
    "    n = int(input('Digite um número: '))\n",
    "    r = str(input('Quer continuar? [S/N]')).upper()\n",
    "print('Fim')"
   ]
  },
  {
   "cell_type": "code",
   "execution_count": 39,
   "id": "0d775ca5",
   "metadata": {},
   "outputs": [
    {
     "name": "stdout",
     "output_type": "stream",
     "text": [
      "Digite um número: 1\n",
      "Digite um número: 2\n",
      "Digite um número: 5\n",
      "Digite um número: 4\n",
      "Digite um número: 0\n",
      "Você digitou 2 números pares e 2 números ímpares!\n"
     ]
    }
   ],
   "source": [
    "n = 1\n",
    "par = impar = 0\n",
    "while n!= 0:\n",
    "    n = int(input('Digite um número: '))\n",
    "    if n != 0:\n",
    "        if n % 2 == 0:\n",
    "            par += 1\n",
    "        else:\n",
    "            impar += 1\n",
    "print('Você digitou {} números pares e {} números ímpares!'.format(par, impar))"
   ]
  },
  {
   "cell_type": "markdown",
   "id": "95f9af55",
   "metadata": {},
   "source": [
    "## <font color = 'Red'> Desafios 057 a 065 </font>\n",
    "<a href='CV-Python-Desafios-Solu%C3%A7ao.ipynb'> Solução dos Desafios</a></br>\n",
    "Atenção: Tente resolver os desafios antes de verificar as repostas, só assim você irá aprender."
   ]
  },
  {
   "cell_type": "markdown",
   "id": "8b5d9f90",
   "metadata": {},
   "source": [
    "### Desafio 057\n",
    "Faça um programa que leia o sexo de uma passoa, mas só aceite os valores 'M' ou 'F'. Caso esteja errado peça a digitação novamente até ter um valor correto."
   ]
  },
  {
   "cell_type": "markdown",
   "id": "6ea8e137",
   "metadata": {},
   "source": [
    "### Desafio 058\n",
    "Melhore o jogo do desafio 028 onde o computador vai \"pensar\" em um número entre 0 e 10. Só que agora o jogador vai tentar adivinhar até acertar, mostrado no final quantos palpites foram necessários para vencer."
   ]
  },
  {
   "cell_type": "markdown",
   "id": "f3f9f5a9",
   "metadata": {},
   "source": [
    "### Desafio 059\n",
    "Crie um programa que leia dois valores e mostre um menu na tela:\n",
    "- [1] somar\n",
    "- [2] multiplicar\n",
    "- [3] maior\n",
    "- [4] novos números\n",
    "- [5] sair do programa\n",
    "\n",
    "Seu programa deverá realizar a operação solicitada em cada caso."
   ]
  },
  {
   "cell_type": "markdown",
   "id": "e64bb8d6",
   "metadata": {},
   "source": [
    "### Desafio 060\n",
    "Faça um programa que leia um número qualquer e mostre o seu fatorial. Ex.: 5! = 5x4x3x2x1 = 120"
   ]
  },
  {
   "cell_type": "markdown",
   "id": "f7f70fb5",
   "metadata": {},
   "source": [
    "### Desafio 061\n",
    "Refaça o Desafio 051, lendo o primeiro termo e a razão de uma PA, mostrando os 10 primeiros termos da progressão usando a estrutura while."
   ]
  },
  {
   "cell_type": "markdown",
   "id": "42710496",
   "metadata": {},
   "source": [
    "### Desafio 062\n",
    "Melhore o Desafio 061, perguntando para o usuário se ele quer mostrar mais alguns termos. O programa encerra quando ele disser que quer mostrar 0 termos."
   ]
  },
  {
   "cell_type": "markdown",
   "id": "f1c806a8",
   "metadata": {},
   "source": [
    "### Desafio 063\n",
    "Escreva um programa que leia um número n inteiro qualquer e mostre na tela os n primeiros elementos de uma Sequência de Fibonacci.</br> Ex.: 0 1 1 2 3 5 8"
   ]
  },
  {
   "cell_type": "markdown",
   "id": "92725014",
   "metadata": {},
   "source": [
    "### Desafio 064\n",
    "Crie um programa que leia vários números inteiros pelo teclado. O programa só vai parar quando o usuário digitar o valor 999, que é a condição de parada. No final, mostre quantos números foram digitados e qual foi a soma entre eles. (desconsiferando o flag)."
   ]
  },
  {
   "cell_type": "markdown",
   "id": "5645e77b",
   "metadata": {},
   "source": [
    "### Desafio 065\n",
    "Crie um programa que leia vários números inteiros pelo teclado. No final da execução, mostre a média entre todos os valores e qual foi o maior e menor valores lidos. O programa deve perguntar ao usuário se ele quer ou não continuar a digitar valores."
   ]
  },
  {
   "cell_type": "markdown",
   "id": "6a4e0290",
   "metadata": {},
   "source": [
    "## <font color = 'green'><a name=\"Aula 15 - Estrutura de Repetição (Parte 3)\">Aula 15 - Estrutura de Repetição (Parte 3)</font>"
   ]
  },
  {
   "cell_type": "markdown",
   "id": "fc3bc9ba",
   "metadata": {},
   "source": [
    "#### Interrompedo repetições while"
   ]
  },
  {
   "cell_type": "code",
   "execution_count": 48,
   "id": "c8f03f0e",
   "metadata": {},
   "outputs": [
    {
     "name": "stdout",
     "output_type": "stream",
     "text": [
      "1 -> 2 -> 3 -> 4 -> 5 -> 6 -> 7 -> 8 -> 9 -> 10 -> Acabou\n"
     ]
    }
   ],
   "source": [
    "cont = 1\n",
    "while cont <= 10:\n",
    "    print(cont, '-> ', end='')\n",
    "    cont += 1\n",
    "print('Acabou')"
   ]
  },
  {
   "cell_type": "code",
   "execution_count": 49,
   "id": "53a3be50",
   "metadata": {},
   "outputs": [
    {
     "name": "stdout",
     "output_type": "stream",
     "text": [
      "Digite um número: 2\n",
      "Digite um número: 3\n",
      "Digite um número: 5\n",
      "Digite um número: 999\n",
      "A soma vale 1009\n"
     ]
    }
   ],
   "source": [
    "# Some os números digitados até o comando de parada 999\n",
    "n = s = 0\n",
    "while n != 999:\n",
    "    n = int(input('Digite um número: '))\n",
    "    s += n\n",
    "print('A soma vale {}'.format(s))"
   ]
  },
  {
   "cell_type": "code",
   "execution_count": 51,
   "id": "087d88bb",
   "metadata": {},
   "outputs": [
    {
     "name": "stdout",
     "output_type": "stream",
     "text": [
      "Digite um número: 2\n",
      "Digite um número: 3\n",
      "Digite um número: 5\n",
      "Digite um número: 999\n",
      "A soma vale 10\n"
     ]
    }
   ],
   "source": [
    "# O exemplo acima somou o 999 também.\n",
    "# Para que isso não aconteça muita gente faz a seguinte gambiarra\n",
    "n = s = 0\n",
    "while n != 999:\n",
    "    n = int(input('Digite um número: '))\n",
    "    s += n\n",
    "s -= 999\n",
    "print('A soma vale {}'.format(s))"
   ]
  },
  {
   "cell_type": "code",
   "execution_count": 53,
   "id": "267fc0c5",
   "metadata": {},
   "outputs": [
    {
     "name": "stdout",
     "output_type": "stream",
     "text": [
      "Digite um número: 2\n",
      "Digite um número: 3\n",
      "Digite um número: 5\n",
      "Digite um número: 999\n",
      "Digite um número: 3\n",
      "Digite um número: 5\n"
     ]
    },
    {
     "ename": "KeyboardInterrupt",
     "evalue": "Interrupted by user",
     "output_type": "error",
     "traceback": [
      "\u001b[1;31m---------------------------------------------------------------------------\u001b[0m",
      "\u001b[1;31mKeyboardInterrupt\u001b[0m                         Traceback (most recent call last)",
      "Input \u001b[1;32mIn [53]\u001b[0m, in \u001b[0;36m<cell line: 5>\u001b[1;34m()\u001b[0m\n\u001b[0;32m      3\u001b[0m n \u001b[38;5;241m=\u001b[39m s \u001b[38;5;241m=\u001b[39m \u001b[38;5;241m0\u001b[39m\n\u001b[0;32m      4\u001b[0m \u001b[38;5;28;01mwhile\u001b[39;00m \u001b[38;5;28;01mTrue\u001b[39;00m: \u001b[38;5;66;03m#comando de loop infinito\u001b[39;00m\n\u001b[1;32m----> 5\u001b[0m     n \u001b[38;5;241m=\u001b[39m \u001b[38;5;28mint\u001b[39m(\u001b[38;5;28;43minput\u001b[39;49m\u001b[43m(\u001b[49m\u001b[38;5;124;43m'\u001b[39;49m\u001b[38;5;124;43mDigite um número: \u001b[39;49m\u001b[38;5;124;43m'\u001b[39;49m\u001b[43m)\u001b[49m)\n\u001b[0;32m      6\u001b[0m     s \u001b[38;5;241m+\u001b[39m\u001b[38;5;241m=\u001b[39m n\n\u001b[0;32m      7\u001b[0m \u001b[38;5;28mprint\u001b[39m(\u001b[38;5;124m'\u001b[39m\u001b[38;5;124mA soma vale \u001b[39m\u001b[38;5;132;01m{}\u001b[39;00m\u001b[38;5;124m'\u001b[39m\u001b[38;5;241m.\u001b[39mformat(s))\n",
      "File \u001b[1;32m~\\anaconda3\\lib\\site-packages\\ipykernel\\kernelbase.py:1075\u001b[0m, in \u001b[0;36mKernel.raw_input\u001b[1;34m(self, prompt)\u001b[0m\n\u001b[0;32m   1071\u001b[0m \u001b[38;5;28;01mif\u001b[39;00m \u001b[38;5;129;01mnot\u001b[39;00m \u001b[38;5;28mself\u001b[39m\u001b[38;5;241m.\u001b[39m_allow_stdin:\n\u001b[0;32m   1072\u001b[0m     \u001b[38;5;28;01mraise\u001b[39;00m StdinNotImplementedError(\n\u001b[0;32m   1073\u001b[0m         \u001b[38;5;124m\"\u001b[39m\u001b[38;5;124mraw_input was called, but this frontend does not support input requests.\u001b[39m\u001b[38;5;124m\"\u001b[39m\n\u001b[0;32m   1074\u001b[0m     )\n\u001b[1;32m-> 1075\u001b[0m \u001b[38;5;28;01mreturn\u001b[39;00m \u001b[38;5;28;43mself\u001b[39;49m\u001b[38;5;241;43m.\u001b[39;49m\u001b[43m_input_request\u001b[49m\u001b[43m(\u001b[49m\n\u001b[0;32m   1076\u001b[0m \u001b[43m    \u001b[49m\u001b[38;5;28;43mstr\u001b[39;49m\u001b[43m(\u001b[49m\u001b[43mprompt\u001b[49m\u001b[43m)\u001b[49m\u001b[43m,\u001b[49m\n\u001b[0;32m   1077\u001b[0m \u001b[43m    \u001b[49m\u001b[38;5;28;43mself\u001b[39;49m\u001b[38;5;241;43m.\u001b[39;49m\u001b[43m_parent_ident\u001b[49m\u001b[43m[\u001b[49m\u001b[38;5;124;43m\"\u001b[39;49m\u001b[38;5;124;43mshell\u001b[39;49m\u001b[38;5;124;43m\"\u001b[39;49m\u001b[43m]\u001b[49m\u001b[43m,\u001b[49m\n\u001b[0;32m   1078\u001b[0m \u001b[43m    \u001b[49m\u001b[38;5;28;43mself\u001b[39;49m\u001b[38;5;241;43m.\u001b[39;49m\u001b[43mget_parent\u001b[49m\u001b[43m(\u001b[49m\u001b[38;5;124;43m\"\u001b[39;49m\u001b[38;5;124;43mshell\u001b[39;49m\u001b[38;5;124;43m\"\u001b[39;49m\u001b[43m)\u001b[49m\u001b[43m,\u001b[49m\n\u001b[0;32m   1079\u001b[0m \u001b[43m    \u001b[49m\u001b[43mpassword\u001b[49m\u001b[38;5;241;43m=\u001b[39;49m\u001b[38;5;28;43;01mFalse\u001b[39;49;00m\u001b[43m,\u001b[49m\n\u001b[0;32m   1080\u001b[0m \u001b[43m\u001b[49m\u001b[43m)\u001b[49m\n",
      "File \u001b[1;32m~\\anaconda3\\lib\\site-packages\\ipykernel\\kernelbase.py:1120\u001b[0m, in \u001b[0;36mKernel._input_request\u001b[1;34m(self, prompt, ident, parent, password)\u001b[0m\n\u001b[0;32m   1117\u001b[0m             \u001b[38;5;28;01mbreak\u001b[39;00m\n\u001b[0;32m   1118\u001b[0m \u001b[38;5;28;01mexcept\u001b[39;00m \u001b[38;5;167;01mKeyboardInterrupt\u001b[39;00m:\n\u001b[0;32m   1119\u001b[0m     \u001b[38;5;66;03m# re-raise KeyboardInterrupt, to truncate traceback\u001b[39;00m\n\u001b[1;32m-> 1120\u001b[0m     \u001b[38;5;28;01mraise\u001b[39;00m \u001b[38;5;167;01mKeyboardInterrupt\u001b[39;00m(\u001b[38;5;124m\"\u001b[39m\u001b[38;5;124mInterrupted by user\u001b[39m\u001b[38;5;124m\"\u001b[39m) \u001b[38;5;28;01mfrom\u001b[39;00m \u001b[38;5;28mNone\u001b[39m\n\u001b[0;32m   1121\u001b[0m \u001b[38;5;28;01mexcept\u001b[39;00m \u001b[38;5;167;01mException\u001b[39;00m:\n\u001b[0;32m   1122\u001b[0m     \u001b[38;5;28mself\u001b[39m\u001b[38;5;241m.\u001b[39mlog\u001b[38;5;241m.\u001b[39mwarning(\u001b[38;5;124m\"\u001b[39m\u001b[38;5;124mInvalid Message:\u001b[39m\u001b[38;5;124m\"\u001b[39m, exc_info\u001b[38;5;241m=\u001b[39m\u001b[38;5;28;01mTrue\u001b[39;00m)\n",
      "\u001b[1;31mKeyboardInterrupt\u001b[0m: Interrupted by user"
     ]
    }
   ],
   "source": [
    "# Contudo esta gabirra não é a forma correta de fazer.\n",
    "# Deve-se usar um loop infinito (Observe que será gerado um erro. Abaixo isso será resolvido.)\n",
    "n = s = 0\n",
    "while True: #comando de loop infinito\n",
    "    n = int(input('Digite um número: '))\n",
    "    s += n\n",
    "print('A soma vale {}'.format(s))\n",
    "\n",
    "# Para sair clique no botão interrupt the kernel (stop)"
   ]
  },
  {
   "cell_type": "code",
   "execution_count": 55,
   "id": "9ec9e5a7",
   "metadata": {},
   "outputs": [
    {
     "name": "stdout",
     "output_type": "stream",
     "text": [
      "Digite um número: 2\n",
      "Digite um número: 3\n",
      "Digite um número: 5\n",
      "Digite um número: 999\n",
      "A soma vale 10\n"
     ]
    }
   ],
   "source": [
    "# Usando o break\n",
    "n = s = 0\n",
    "while True: # Comando de loop infinito\n",
    "    n = int(input('Digite um número: '))\n",
    "    if n == 999:\n",
    "        break # Evida que o erro de reperição infinita.\n",
    "    s += n\n",
    "print('A soma vale {}'.format(s))"
   ]
  },
  {
   "cell_type": "markdown",
   "id": "da8c958c",
   "metadata": {},
   "source": [
    "### f strings\n",
    "Quando o Curso em Vídeo de Python começou, ainda não era possível usar as f strings. A partir da atualização para o Python 3.6, este recurso foi implementado.\n",
    "\n",
    "A partir de uma PEP (Python Enhancement Proposal ou “Propostas de Enriquecimento do Python”)\n",
    "PEP 498 - Trata sobre as f strings\n",
    "\n",
    "Quando se usa uma f strings o python usa uma técnica chamada de interpolação dentro strings."
   ]
  },
  {
   "cell_type": "code",
   "execution_count": 56,
   "id": "1e983926",
   "metadata": {},
   "outputs": [
    {
     "name": "stdout",
     "output_type": "stream",
     "text": [
      "Digite um número: 2\n",
      "Digite um número: 3\n",
      "Digite um número: 5\n",
      "Digite um número: 999\n",
      "A soma vale 10\n"
     ]
    }
   ],
   "source": [
    "#repetindo o exemplo anterior\n",
    "n = s = 0\n",
    "while True: #comando de loop infinito\n",
    "    n = int(input('Digite um número: '))\n",
    "    if n == 999:\n",
    "        break\n",
    "    s += n\n",
    "#print('A soma vale {}'.format(s))\n",
    "print(f'A soma vale {s}')"
   ]
  },
  {
   "cell_type": "code",
   "execution_count": 58,
   "id": "504872ed",
   "metadata": {},
   "outputs": [
    {
     "name": "stdout",
     "output_type": "stream",
     "text": [
      "O José tem 33 anos.\n",
      "O José tem 33 anos.\n",
      "O José tem 33 anos.\n"
     ]
    }
   ],
   "source": [
    "nome = 'José'\n",
    "idade = 33\n",
    "print(f'O {nome} tem {idade} anos.') #python 3.6+\n",
    "print('O {} tem {} anos.'.format(nome, idade)) #python 3\n",
    "print('O %s tem %d anos.' % (nome, idade)) #python 2"
   ]
  },
  {
   "cell_type": "code",
   "execution_count": 63,
   "id": "fecf0023",
   "metadata": {},
   "outputs": [
    {
     "name": "stdout",
     "output_type": "stream",
     "text": [
      "O --------JOSÉ-------- tem 33 anos e ganha R$ 987.30.\n"
     ]
    }
   ],
   "source": [
    "nome = 'José'\n",
    "idade = 33\n",
    "salário = 987.3\n",
    "print(f'O {nome.upper():-^20} tem {idade} anos e ganha R$ {salário:.2f}.')"
   ]
  },
  {
   "cell_type": "markdown",
   "id": "13c228e7",
   "metadata": {},
   "source": [
    "## <font color = 'Red'> Desafios 066 a 071 </font>\n",
    "<a href='CV-Python-Desafios-Solu%C3%A7ao.ipynb'> Solução dos Desafios</a></br>\n",
    "Atenção: Tente resolver os desafios antes de verificar as repostas, só assim você irá aprender."
   ]
  },
  {
   "cell_type": "markdown",
   "id": "6319590c",
   "metadata": {},
   "source": [
    "### Desafio 066\n",
    "Crie um programa que leia vários números inteiros pelo teclado. O programa só vai parar quando o usuário digitar o valor 999, que é a condição de parada. No final, mostre quantos números forma digitados e qual foi a soma entre eles. (desconsiderando o flag)."
   ]
  },
  {
   "cell_type": "markdown",
   "id": "85634350",
   "metadata": {},
   "source": [
    "### Desafio 067\n",
    "Faça um programa que mostre a tabuada de vários números, um de cada vez, para cada valor digitados pelo usuários. O programa será interropido quando o número solicitado for negativo."
   ]
  },
  {
   "cell_type": "markdown",
   "id": "b3ad9a8f",
   "metadata": {},
   "source": [
    "### Desafio 068\n",
    "Faça um programa que jogue par ou ímpar com o computador. O jogo só será interrompido quando o jogador PERDER, mostrando o total de vitórias consecutivas que ele conquistou no final do jogo."
   ]
  },
  {
   "cell_type": "markdown",
   "id": "e059c43b",
   "metadata": {},
   "source": [
    "### Desafio 069\n",
    "Crie um programa que leia a idade e o sexo de várias pessoas. A cada pessoa cadastrada, o programa deverá perguntar se o usuário quer ou não continuar. No final, mostre:\n",
    "- A) Quantas pessoas tem mais de 18 anos.\n",
    "- B) Quantos homens foram cadastrados.\n",
    "- C) Quantas mulheres tem menos de 20 anos."
   ]
  },
  {
   "cell_type": "markdown",
   "id": "d6a6c755",
   "metadata": {},
   "source": [
    "### Desafio 070\n",
    "Crie um programa que leia o nome e o preço de vários produtos. O programa deverá perguntar se o usuários vai continuar. No final mostre:\n",
    "- A) Qual é o total gasto na compra.\n",
    "- B) Quantos produtos custam mais de R$ 1000,00.\n",
    "- C) Qual é o nome do produtos mais barato."
   ]
  },
  {
   "cell_type": "markdown",
   "id": "f51d31a1",
   "metadata": {},
   "source": [
    "### Desafio 071\n",
    "Crie um programa que simule o funcionamento de um caixa eletrônico. No início, pergunte ao usuário qual será o valor a ser sacado (número inteiro) e o programa vai informar quantas cédulas de cada valor serão entregues.</br>\n",
    "Obs: Considere que o caixa possui cédulas de 50, 20, 10 e 1 real."
   ]
  },
  {
   "cell_type": "markdown",
   "id": "0b2ec264",
   "metadata": {},
   "source": [
    "# <font color = 'green'><a name=\"Mundo 3\">Mundo 3</font>"
   ]
  },
  {
   "cell_type": "markdown",
   "id": "9e20f160",
   "metadata": {},
   "source": [
    "## <font color = 'green'><a name=\"Aula 16 - Variáveis Compostas (Tuplas)\">Aula 16 - Variáveis Compostas (Tuplas)</font>"
   ]
  },
  {
   "cell_type": "markdown",
   "id": "e564155f",
   "metadata": {},
   "source": [
    "Tuplas são variáveis compostas e são IMUTÁVEIS.</br>\n",
    "Existem outros tipos de variáveis compostas como lista e dicionários.</br>\n",
    " - Tuplas estão entre parênteces ( );\n",
    " - Listas entre couchetes [ ]; e \n",
    " - Dicionários entre chaves { }.\n",
    " \n",
    "Obs.: strings também são variáveis compostas, uma vez que cada letra tem uma posição. Ex.: SOL - S[0], O[1], L[2]"
   ]
  },
  {
   "cell_type": "code",
   "execution_count": 5,
   "id": "c79027a8",
   "metadata": {},
   "outputs": [
    {
     "name": "stdout",
     "output_type": "stream",
     "text": [
      "Bruno\n"
     ]
    }
   ],
   "source": [
    "# Variável simples\n",
    "nome = 'Bruno'\n",
    "print(nome)"
   ]
  },
  {
   "cell_type": "code",
   "execution_count": 12,
   "id": "d71fdcd3",
   "metadata": {},
   "outputs": [
    {
     "name": "stdout",
     "output_type": "stream",
     "text": [
      "('Hamburguer', 'Suco', 'Pizza', 'Pudim')\n",
      "Hamburguer\n",
      "Pudim\n",
      "('Hamburguer', 'Suco')\n",
      "('Hamburguer', 'Suco', 'Pizza')\n",
      "('Pizza', 'Pudim')\n"
     ]
    }
   ],
   "source": [
    "# Variável composta\n",
    "lanche = ('Hamburguer', 'Suco', 'Pizza', 'Pudim')\n",
    "print(lanche)\n",
    "print(lanche[0])\n",
    "print(lanche[-1])\n",
    "print(lanche[:2]) #lembre-se, o último termo não é mostrado\n",
    "print(lanche[0:3])\n",
    "print(lanche[-2:])"
   ]
  },
  {
   "cell_type": "code",
   "execution_count": 13,
   "id": "8138fede",
   "metadata": {},
   "outputs": [
    {
     "ename": "TypeError",
     "evalue": "'tuple' object does not support item assignment",
     "output_type": "error",
     "traceback": [
      "\u001b[1;31m---------------------------------------------------------------------------\u001b[0m",
      "\u001b[1;31mTypeError\u001b[0m                                 Traceback (most recent call last)",
      "Input \u001b[1;32mIn [13]\u001b[0m, in \u001b[0;36m<cell line: 2>\u001b[1;34m()\u001b[0m\n\u001b[0;32m      1\u001b[0m \u001b[38;5;66;03m#tuplas são imutáveis\u001b[39;00m\n\u001b[1;32m----> 2\u001b[0m lanche[\u001b[38;5;241m1\u001b[39m] \u001b[38;5;241m=\u001b[39m \u001b[38;5;124m'\u001b[39m\u001b[38;5;124mRefrigerante\u001b[39m\u001b[38;5;124m'\u001b[39m\n\u001b[0;32m      3\u001b[0m \u001b[38;5;28mprint\u001b[39m(lanche[\u001b[38;5;241m1\u001b[39m])\n",
      "\u001b[1;31mTypeError\u001b[0m: 'tuple' object does not support item assignment"
     ]
    }
   ],
   "source": [
    "# Tuplas são imutáveis (dará uma msg de erro)\n",
    "lanche[1] = 'Refrigerante'\n",
    "print(lanche[1])"
   ]
  },
  {
   "cell_type": "code",
   "execution_count": 17,
   "id": "bd1daa0a",
   "metadata": {},
   "outputs": [
    {
     "name": "stdout",
     "output_type": "stream",
     "text": [
      "Eu vou comer Hamburguer.\n",
      "Eu vou comer Suco.\n",
      "Eu vou comer Pizza.\n",
      "Eu vou comer Pudim.\n",
      "Comi pra caramba.\n",
      "5\n"
     ]
    }
   ],
   "source": [
    "lanche = ('Hamburguer', 'Suco', 'Pizza', 'Pudim')\n",
    "for comida in lanche:\n",
    "    print(f'Eu vou comer {comida}.')\n",
    "print('Comi pra caramba.')\n",
    "print(len(comida))"
   ]
  },
  {
   "cell_type": "code",
   "execution_count": 18,
   "id": "01bfe98b",
   "metadata": {
    "scrolled": true
   },
   "outputs": [
    {
     "name": "stdout",
     "output_type": "stream",
     "text": [
      "Eu vou comer Hamburguer na posição 0.\n",
      "Eu vou comer Suco na posição 1.\n",
      "Eu vou comer Pizza na posição 2.\n",
      "Eu vou comer Pudim na posição 3.\n"
     ]
    }
   ],
   "source": [
    "for cont in range(0, len(lanche)):\n",
    "    print(f'Eu vou comer {lanche[cont]} na posição {cont}.')"
   ]
  },
  {
   "cell_type": "code",
   "execution_count": 20,
   "id": "177111eb",
   "metadata": {},
   "outputs": [
    {
     "name": "stdout",
     "output_type": "stream",
     "text": [
      "Eu vou comer Hamburguer na posição 0\n",
      "Eu vou comer Suco na posição 1\n",
      "Eu vou comer Pizza na posição 2\n",
      "Eu vou comer Pudim na posição 3\n"
     ]
    }
   ],
   "source": [
    "# Muitas vezes, queremos enumerar elementos de uma coleção. Ou seja, além do elemento, queremos o seu índice. \n",
    "for pos, comida in enumerate(lanche):\n",
    "    print(f'Eu vou comer {comida} na posição {pos}')"
   ]
  },
  {
   "cell_type": "code",
   "execution_count": 24,
   "id": "af6dc8fe",
   "metadata": {},
   "outputs": [
    {
     "name": "stdout",
     "output_type": "stream",
     "text": [
      "['Batata Frita', 'Hamburguer', 'Pizza', 'Pudim', 'Suco']\n"
     ]
    }
   ],
   "source": [
    "# Usando a método sorted (organizado, em ordem)\n",
    "lanche = ('Hamburguer', 'Suco', 'Pizza', 'Pudim', 'Batata Frita')\n",
    "print(sorted(lanche))\n"
   ]
  },
  {
   "cell_type": "code",
   "execution_count": 9,
   "id": "abc63aa9",
   "metadata": {
    "ExecuteTime": {
     "end_time": "2024-09-09T13:53:48.854885Z",
     "start_time": "2024-09-09T13:53:48.848862Z"
    },
    "scrolled": true
   },
   "outputs": [
    {
     "name": "stdout",
     "output_type": "stream",
     "text": [
      "(5, 8, 1, 2, 2, 5, 4)\n",
      "(2, 5, 4, 5, 8, 1, 2)\n"
     ]
    }
   ],
   "source": [
    "a = (2, 5, 4)\n",
    "b = (5, 8, 1, 2)\n",
    "c = b + a # Observe que a sequência muda\n",
    "d = a + b # Observe que a sequência muda\n",
    "print(c)\n",
    "print(d)"
   ]
  },
  {
   "cell_type": "code",
   "execution_count": 10,
   "id": "bf065f0a",
   "metadata": {
    "ExecuteTime": {
     "end_time": "2024-09-09T13:54:11.195143Z",
     "start_time": "2024-09-09T13:54:11.191640Z"
    }
   },
   "outputs": [
    {
     "name": "stdout",
     "output_type": "stream",
     "text": [
      "(5, 8, 1, 2, 2, 5, 4)\n",
      "3\n",
      "4\n",
      "7\n"
     ]
    }
   ],
   "source": [
    "print(c)\n",
    "print(len(a))\n",
    "print(len(b))\n",
    "print(len(c))"
   ]
  },
  {
   "cell_type": "code",
   "execution_count": 42,
   "id": "f0e27caa",
   "metadata": {},
   "outputs": [
    {
     "name": "stdout",
     "output_type": "stream",
     "text": [
      "(5, 8, 1, 2, 2, 5, 4)\n",
      "2\n",
      "1\n"
     ]
    }
   ],
   "source": [
    "print(c)\n",
    "print(c.count(2))\n",
    "print(c.count(4))"
   ]
  },
  {
   "cell_type": "code",
   "execution_count": 45,
   "id": "4f5e2031",
   "metadata": {},
   "outputs": [
    {
     "name": "stdout",
     "output_type": "stream",
     "text": [
      "(5, 8, 1, 2, 2, 5, 4)\n",
      "1\n",
      "6\n",
      "0\n",
      "5\n"
     ]
    }
   ],
   "source": [
    "print(c)\n",
    "print(c.index(8))\n",
    "print(c.index(4))\n",
    "print(c.index(5))\n",
    "print(c.index(5, 1)) # Deslocando o início do index"
   ]
  },
  {
   "cell_type": "markdown",
   "id": "a31000a4",
   "metadata": {},
   "source": [
    "Em outras linguagens de programação, como java por exemplo, tuplas só podem ser formadas ou por números ou por strings. Em python, uma tupla pode conter tanto números quanto strings."
   ]
  },
  {
   "cell_type": "code",
   "execution_count": 47,
   "id": "d196233e",
   "metadata": {},
   "outputs": [
    {
     "name": "stdout",
     "output_type": "stream",
     "text": [
      "('Gustavo', 39, 'M', 99.88)\n"
     ]
    }
   ],
   "source": [
    "pessoa = ('Gustavo', 39, 'M', 99.88)\n",
    "print(pessoa)"
   ]
  },
  {
   "cell_type": "code",
   "execution_count": 48,
   "id": "36e3a966",
   "metadata": {},
   "outputs": [
    {
     "ename": "NameError",
     "evalue": "name 'pessoa' is not defined",
     "output_type": "error",
     "traceback": [
      "\u001b[1;31m---------------------------------------------------------------------------\u001b[0m",
      "\u001b[1;31mNameError\u001b[0m                                 Traceback (most recent call last)",
      "Input \u001b[1;32mIn [48]\u001b[0m, in \u001b[0;36m<cell line: 4>\u001b[1;34m()\u001b[0m\n\u001b[0;32m      2\u001b[0m pessoa \u001b[38;5;241m=\u001b[39m (\u001b[38;5;124m'\u001b[39m\u001b[38;5;124mGustavo\u001b[39m\u001b[38;5;124m'\u001b[39m, \u001b[38;5;241m39\u001b[39m, \u001b[38;5;124m'\u001b[39m\u001b[38;5;124mM\u001b[39m\u001b[38;5;124m'\u001b[39m, \u001b[38;5;241m99.88\u001b[39m)\n\u001b[0;32m      3\u001b[0m \u001b[38;5;28;01mdel\u001b[39;00m(pessoa)\n\u001b[1;32m----> 4\u001b[0m \u001b[38;5;28mprint\u001b[39m(\u001b[43mpessoa\u001b[49m)\n",
      "\u001b[1;31mNameError\u001b[0m: name 'pessoa' is not defined"
     ]
    }
   ],
   "source": [
    "# Usando o comando del\n",
    "pessoa = ('Gustavo', 39, 'M', 99.88)\n",
    "del(pessoa)\n",
    "print(pessoa)"
   ]
  },
  {
   "cell_type": "code",
   "execution_count": 49,
   "id": "d716cc73",
   "metadata": {},
   "outputs": [
    {
     "ename": "TypeError",
     "evalue": "'tuple' object doesn't support item deletion",
     "output_type": "error",
     "traceback": [
      "\u001b[1;31m---------------------------------------------------------------------------\u001b[0m",
      "\u001b[1;31mTypeError\u001b[0m                                 Traceback (most recent call last)",
      "Input \u001b[1;32mIn [49]\u001b[0m, in \u001b[0;36m<cell line: 3>\u001b[1;34m()\u001b[0m\n\u001b[0;32m      1\u001b[0m \u001b[38;5;66;03m#em tuplas não é permitido deleter um item\u001b[39;00m\n\u001b[0;32m      2\u001b[0m pessoa \u001b[38;5;241m=\u001b[39m (\u001b[38;5;124m'\u001b[39m\u001b[38;5;124mGustavo\u001b[39m\u001b[38;5;124m'\u001b[39m, \u001b[38;5;241m39\u001b[39m, \u001b[38;5;124m'\u001b[39m\u001b[38;5;124mM\u001b[39m\u001b[38;5;124m'\u001b[39m, \u001b[38;5;241m99.88\u001b[39m)\n\u001b[1;32m----> 3\u001b[0m \u001b[38;5;28;01mdel\u001b[39;00m(pessoa[\u001b[38;5;241m0\u001b[39m])\n\u001b[0;32m      4\u001b[0m \u001b[38;5;28mprint\u001b[39m(pessoa)\n",
      "\u001b[1;31mTypeError\u001b[0m: 'tuple' object doesn't support item deletion"
     ]
    }
   ],
   "source": [
    "# Em tuplas não é permitido deletar um item\n",
    "pessoa = ('Gustavo', 39, 'M', 99.88)\n",
    "del(pessoa[0])\n",
    "print(pessoa)"
   ]
  },
  {
   "cell_type": "markdown",
   "id": "54df470e",
   "metadata": {},
   "source": [
    "## <font color = 'Red'> Desafios 072 a 077 </font>\n",
    "<a href='CV-Python-Desafios-Solu%C3%A7ao.ipynb'> Solução dos Desafios</a></br>\n",
    "Atenção: Tente resolver os desafios antes de verificar as repostas, só assim você irá aprender."
   ]
  },
  {
   "cell_type": "markdown",
   "id": "0531858e",
   "metadata": {},
   "source": [
    "### Desafio 072\n",
    "Crie um programa que tenha uma tupla totalmente preenchida com uma contagem por extenso, de zero até vinte.</br>\n",
    "Seu programa deverá ler um número pelo teclado (entre 0 e 20) e mostra-lo por extenso."
   ]
  },
  {
   "cell_type": "markdown",
   "id": "b5f9c578",
   "metadata": {},
   "source": [
    "### Desafio 073\n",
    "Crie uma tupla preenchida com os 20 primeitos colocado da Tabela do Campeonato Brasileiro de Futebol, na ordem de colocação. Depois mostre:\n",
    "- A) Apenas os 5 primeiros colocados.\n",
    "- B) Os últimos 4 colocados da tabela.\n",
    "- C) Uma lista com os times em ordem alfabética.\n",
    "- D) Em que posição na tabela está o time da Chapecoense?"
   ]
  },
  {
   "cell_type": "markdown",
   "id": "8f731557",
   "metadata": {},
   "source": [
    "### Desafio 074\n",
    "Crie um programa que vai gerar cinco números aleatórios e colocar em uma tupla.</br>\n",
    "Depois disso, mostre a listagem de números gerados e também indique o menor e o maior valor que estão na tupla."
   ]
  },
  {
   "cell_type": "markdown",
   "id": "8a5556cf",
   "metadata": {},
   "source": [
    "### Desafio 075\n",
    "Desenvolva um programa que leia quatro valores pelo teclado e guarde-os em uma tupla. No final, mostre:\n",
    "- A) Quantas vezes apareceu o valor 9.\n",
    "- B) Em que posição foi digitado o primeiro valor 3.\n",
    "- C) Quais foram os números pares."
   ]
  },
  {
   "cell_type": "markdown",
   "id": "63cdc09a",
   "metadata": {},
   "source": [
    "### Desafio 076\n",
    "Crie um programa que tenha uma tupla única com nomes de produtos e seus respectivos preços, na sequência.</br>\n",
    "No final, mostre uma listagem de preços, organizando os dados em forma tabular."
   ]
  },
  {
   "cell_type": "markdown",
   "id": "82160a5a",
   "metadata": {},
   "source": [
    "### Desafio 077\n",
    "Crie um programa que tenha um tupla com várias palavras (não usar acentos). Depois disso, você deve mostrar, para cada palavra, quais são as suas vogais."
   ]
  },
  {
   "cell_type": "markdown",
   "id": "38dd5d8f",
   "metadata": {},
   "source": [
    "## <font color = 'green'><a name=\"Aula 17 - Variáveis Compostas (Listas - Parte 1)\">Aula 17 - Variáveis Compostas (Listas - Parte 1)</font>"
   ]
  },
  {
   "cell_type": "markdown",
   "id": "6f38efd7",
   "metadata": {},
   "source": [
    "Listas, assim como tuplas são variáveis compostas, mas diferenres das tuplas, as lista são <b>MUTÁVEIS</b>, ou seja podem ser alteradas."
   ]
  },
  {
   "cell_type": "code",
   "execution_count": 75,
   "id": "dc2231e6",
   "metadata": {},
   "outputs": [
    {
     "name": "stdout",
     "output_type": "stream",
     "text": [
      "[2, 5, 9, 1]\n",
      "[2, 5, 3, 1]\n"
     ]
    }
   ],
   "source": [
    "# Substituindo valor em uma posição\n",
    "num = [2, 5, 9, 1]\n",
    "print(num)\n",
    "num[2] = 3 \n",
    "print(num)"
   ]
  },
  {
   "cell_type": "code",
   "execution_count": 76,
   "id": "a3d12273",
   "metadata": {},
   "outputs": [
    {
     "name": "stdout",
     "output_type": "stream",
     "text": [
      "[2, 5, 3, 1, 7]\n",
      "[1, 2, 3, 5, 7]\n",
      "[7, 5, 3, 2, 1]\n"
     ]
    }
   ],
   "source": [
    "# Adicionando e organizando\n",
    "num.append(7) \n",
    "print(num)\n",
    "num.sort()\n",
    "print(num)\n",
    "num.sort(reverse=True) # Organizando os valores em ordem inversa\n",
    "print(num)"
   ]
  },
  {
   "cell_type": "code",
   "execution_count": 77,
   "id": "96a29b5f",
   "metadata": {},
   "outputs": [
    {
     "name": "stdout",
     "output_type": "stream",
     "text": [
      "[7, 5, 3, 2, 1]\n",
      "[7, 5, 0, 3, 2, 1]\n"
     ]
    }
   ],
   "source": [
    "#  Adicionando valores em uma posição\n",
    "print(num)\n",
    "num.insert(2, 0)\n",
    "print(num)"
   ]
  },
  {
   "cell_type": "code",
   "execution_count": 78,
   "id": "d7b7bebf",
   "metadata": {},
   "outputs": [
    {
     "name": "stdout",
     "output_type": "stream",
     "text": [
      "[7, 5, 0, 3, 2, 1]\n",
      "[7, 5, 0, 3, 2]\n"
     ]
    }
   ],
   "source": [
    "# Remove o último elemento da lista\n",
    "print(num)\n",
    "num.pop() \n",
    "print(num)"
   ]
  },
  {
   "cell_type": "code",
   "execution_count": 79,
   "id": "62efb477",
   "metadata": {},
   "outputs": [
    {
     "name": "stdout",
     "output_type": "stream",
     "text": [
      "[7, 5, 3, 2]\n"
     ]
    }
   ],
   "source": [
    "# Remove o elemento da posição 2\n",
    "num.pop(2)\n",
    "print(num)"
   ]
  },
  {
   "cell_type": "code",
   "execution_count": 81,
   "id": "87b5ed50",
   "metadata": {},
   "outputs": [
    {
     "name": "stdout",
     "output_type": "stream",
     "text": [
      "[7, 5, 2, 3, 2]\n",
      "[7, 5, 3, 2]\n"
     ]
    }
   ],
   "source": [
    "# Insere o número 2 na posição 2\n",
    "num.insert(2, 2)\n",
    "print(num)\n",
    "\n",
    "# Remove o número na posição 2\n",
    "num.remove(2)\n",
    "print(num)"
   ]
  },
  {
   "cell_type": "code",
   "execution_count": 82,
   "id": "f430f3c2",
   "metadata": {},
   "outputs": [
    {
     "ename": "TypeError",
     "evalue": "list.remove() takes exactly one argument (0 given)",
     "output_type": "error",
     "traceback": [
      "\u001b[1;31m---------------------------------------------------------------------------\u001b[0m",
      "\u001b[1;31mTypeError\u001b[0m                                 Traceback (most recent call last)",
      "Input \u001b[1;32mIn [82]\u001b[0m, in \u001b[0;36m<cell line: 1>\u001b[1;34m()\u001b[0m\n\u001b[1;32m----> 1\u001b[0m \u001b[43mnum\u001b[49m\u001b[38;5;241;43m.\u001b[39;49m\u001b[43mremove\u001b[49m\u001b[43m(\u001b[49m\u001b[43m)\u001b[49m\n\u001b[0;32m      2\u001b[0m \u001b[38;5;28mprint\u001b[39m(num)\n",
      "\u001b[1;31mTypeError\u001b[0m: list.remove() takes exactly one argument (0 given)"
     ]
    }
   ],
   "source": [
    "# Diferente do método pop(), o metódo remove() necessita de um parâmetro\n",
    "num.remove() \n",
    "print(num)"
   ]
  },
  {
   "cell_type": "code",
   "execution_count": 83,
   "id": "bc8a9057",
   "metadata": {},
   "outputs": [
    {
     "name": "stdout",
     "output_type": "stream",
     "text": [
      "Não achei o número 4\n"
     ]
    }
   ],
   "source": [
    "num2 = [2, 5, 9, 1]\n",
    "num2[2] = 3\n",
    "num2.append(7)\n",
    "num2.sort(reverse=True)\n",
    "num2.insert(2, 2)\n",
    "if 4 in num2:\n",
    "    num2.remove(4)\n",
    "else:\n",
    "    print('Não achei o número 4')"
   ]
  },
  {
   "cell_type": "code",
   "execution_count": 84,
   "id": "d0f11b80",
   "metadata": {},
   "outputs": [],
   "source": [
    "# Pode-se criar uma lista de duas formas:\n",
    "# Valores = list()\n",
    "# Valores = []"
   ]
  },
  {
   "cell_type": "code",
   "execution_count": 86,
   "id": "07e6c283",
   "metadata": {},
   "outputs": [
    {
     "name": "stdout",
     "output_type": "stream",
     "text": [
      "[5, 9, 4]\n"
     ]
    }
   ],
   "source": [
    "valores = []\n",
    "valores.append(5)\n",
    "valores.append(9)\n",
    "valores.append(4)\n",
    "print(valores)"
   ]
  },
  {
   "cell_type": "code",
   "execution_count": 91,
   "id": "3c2321ae",
   "metadata": {},
   "outputs": [
    {
     "name": "stdout",
     "output_type": "stream",
     "text": [
      "5\n",
      "9\n",
      "4\n"
     ]
    }
   ],
   "source": [
    "# Melhorando a apresentação\n",
    "valores = []\n",
    "valores.append(5)\n",
    "valores.append(9)\n",
    "valores.append(4)\n",
    "\n",
    "for v in valores2:\n",
    "    print(f'{v}')"
   ]
  },
  {
   "cell_type": "code",
   "execution_count": 97,
   "id": "8db81f02",
   "metadata": {},
   "outputs": [
    {
     "name": "stdout",
     "output_type": "stream",
     "text": [
      "5...9...4..."
     ]
    }
   ],
   "source": [
    "valores = []\n",
    "valores.append(5)\n",
    "valores.append(9)\n",
    "valores.append(4)\n",
    "\n",
    "for v in valores:\n",
    "    print(f'{v}...', end='') #para não quebrar a linha"
   ]
  },
  {
   "cell_type": "code",
   "execution_count": 99,
   "id": "605b4c80",
   "metadata": {},
   "outputs": [
    {
     "name": "stdout",
     "output_type": "stream",
     "text": [
      "Na posição 0 encontrei o valor 5!\n",
      "Na posição 1 encontrei o valor 9!\n",
      "Na posição 2 encontrei o valor 4!\n",
      "Cheguei ao final da lista.\n"
     ]
    }
   ],
   "source": [
    "# Usando função enumerate.\n",
    "# Sintaxe enumerate: for \"chave\", \"valor da posição\" in \"enumerate\" (variável)\n",
    "valores = list() #utilizando list()\n",
    "valores.append(5)\n",
    "valores.append(9)\n",
    "valores.append(4)\n",
    "\n",
    "for c, v in enumerate(valores):\n",
    "    print(f'Na posição {c} encontrei o valor {v}!')\n",
    "print('Cheguei ao final da lista.')"
   ]
  },
  {
   "cell_type": "code",
   "execution_count": 100,
   "id": "14dc5cbc",
   "metadata": {},
   "outputs": [
    {
     "name": "stdout",
     "output_type": "stream",
     "text": [
      "Digite um valor: 4\n",
      "Digite um valor: 8\n",
      "Digite um valor: 9\n",
      "Digite um valor: 1\n",
      "Digite um valor: 3\n",
      "Na posição 0 encontrei o valor 4!\n",
      "Na posição 1 encontrei o valor 8!\n",
      "Na posição 2 encontrei o valor 9!\n",
      "Na posição 3 encontrei o valor 1!\n",
      "Na posição 4 encontrei o valor 3!\n",
      "Cheguie ao final da lista.\n"
     ]
    }
   ],
   "source": [
    "valores = list()\n",
    "for cont in range(0, 5):\n",
    "    valores.append(int(input('Digite um valor: ')))\n",
    "\n",
    "for c, v in enumerate(valores):\n",
    "    print(f'Na posição {c} encontrei o valor {v}!')\n",
    "print('Cheguie ao final da lista.')"
   ]
  },
  {
   "cell_type": "markdown",
   "id": "1d60a004",
   "metadata": {},
   "source": [
    "Se uma lista é igualada a outra, o python cria uma ligação entre elas. Não se trata de uma cópia e sim uma ligação."
   ]
  },
  {
   "cell_type": "code",
   "execution_count": 102,
   "id": "13e7fc85",
   "metadata": {},
   "outputs": [
    {
     "name": "stdout",
     "output_type": "stream",
     "text": [
      "Lista A: [2, 3, 8, 7]\n",
      "Lista B: [2, 3, 8, 7]\n"
     ]
    }
   ],
   "source": [
    "a = [2, 3, 4, 7]\n",
    "b = a\n",
    "b[2] = 8\n",
    "print(f'Lista A: {a}')\n",
    "print(f'Lista B: {b}')"
   ]
  },
  {
   "cell_type": "code",
   "execution_count": 104,
   "id": "c062e68b",
   "metadata": {},
   "outputs": [
    {
     "name": "stdout",
     "output_type": "stream",
     "text": [
      "Lista A: [2, 3, 4, 7]\n",
      "Lista B: [2, 3, 8, 7]\n"
     ]
    }
   ],
   "source": [
    "# Criando uma cópia da lista a na lista b\n",
    "a = [2, 3, 4, 7]\n",
    "b = a[:] # Copia a lista\n",
    "b[2] = 8\n",
    "print(f'Lista A: {a}')\n",
    "print(f'Lista B: {b}')"
   ]
  },
  {
   "cell_type": "markdown",
   "id": "b74f4f55",
   "metadata": {},
   "source": [
    "## <font color = 'Red'> Desafios 078 a 083 </font>\n",
    "<a href='CV-Python-Desafios-Solu%C3%A7ao.ipynb'> Solução dos Desafios</a></br>\n",
    "Atenção: Tente resolver os desafios antes de verificar as repostas, só assim você irá aprender."
   ]
  },
  {
   "cell_type": "markdown",
   "id": "e0db421c",
   "metadata": {},
   "source": [
    "### Desafio 078\n",
    "Faça um programa que leia 5 valores numéricos e guarde-os em uma lista.</br>\n",
    "No final, mostre qual foi o maior e menor valores digitado e as suas respectivas posições na lista."
   ]
  },
  {
   "cell_type": "markdown",
   "id": "977009d7",
   "metadata": {},
   "source": [
    "### Desafio 079\n",
    "Crie um programa onde o usuário possa digitar vários valores numéricos e cadastre-os em uma lista. Caso o número já exista la dentro, ele não será adicionado.</br>\n",
    "No final, serão exibidos todos os valores únicos, digitados, em ordem crescente."
   ]
  },
  {
   "cell_type": "markdown",
   "id": "9a55f19a",
   "metadata": {},
   "source": [
    "### Desafio 080\n",
    "Crie um programa onde o usuário possa digitar cinco valores numéricos e cadastre-os em uma lista, já na posição correta de inserção (sem usar o sort()).</br>\n",
    "No final, mostre a lista ordenada na tela."
   ]
  },
  {
   "cell_type": "markdown",
   "id": "c5dc42f8",
   "metadata": {},
   "source": [
    "### Desafio 081\n",
    "Crie um programa que vai ler vários números e colocar em uma lista.</br>\n",
    "Depois disso, motre:\n",
    "- A) Quantos números foram digitados.\n",
    "- B) A lista de valores, ordenada de forma decrescente.\n",
    "- C) Se o valor 5 foi digitado e está ou não na lista."
   ]
  },
  {
   "cell_type": "markdown",
   "id": "4105b6a2",
   "metadata": {},
   "source": [
    "### Desafio 082\n",
    "Crie um programa que vai ler vários números e colocar em uma lista.\n",
    "\n",
    "Depois disso, crie duas listas extras que vão conter apenas os valores pares e os valores ímpares digitados, respectivamente.</br>\n",
    "\n",
    "Ao final, mostre o conteúdo das três listas geradas."
   ]
  },
  {
   "cell_type": "markdown",
   "id": "27bd51f1",
   "metadata": {},
   "source": [
    "### Desafio 083\n",
    "Crie um programa onde o usuário digite uma expressão qualquer que use parênteses. Seu aplicativo deverá analisar se a expressão passada está com os parênteses abertos e fechados na ordem correta."
   ]
  },
  {
   "cell_type": "markdown",
   "id": "4dae1f24",
   "metadata": {},
   "source": [
    "## <font color = 'green'><a name=\"Aula 18 - Variáveis Compostas (Listas - Parte 2)\">Aula 18 - Variáveis Compostas (Listas - Parte 2)</font>"
   ]
  },
  {
   "cell_type": "code",
   "execution_count": 109,
   "id": "46df4340",
   "metadata": {},
   "outputs": [
    {
     "name": "stdout",
     "output_type": "stream",
     "text": [
      "['Gustavo', 40]\n",
      "[['Gustavo', 40]]\n",
      "[['Maria', 22], ['Maria', 22]]\n"
     ]
    }
   ],
   "source": [
    "teste = list()\n",
    "teste.append('Gustavo')\n",
    "teste.append(40)\n",
    "print(teste)\n",
    "\n",
    "galera = list()\n",
    "galera.append(teste) # Aqui é criado uma ligação entre as listas\n",
    "print(galera)\n",
    "\n",
    "teste[0] = 'Maria'\n",
    "teste[1] = 22\n",
    "\n",
    "galera.append(teste)\n",
    "print(galera)"
   ]
  },
  {
   "cell_type": "code",
   "execution_count": null,
   "id": "cb184863",
   "metadata": {},
   "outputs": [],
   "source": [
    "# Para criar uma cópia deve-se fazer"
   ]
  },
  {
   "cell_type": "code",
   "execution_count": 110,
   "id": "3db7e287",
   "metadata": {},
   "outputs": [
    {
     "name": "stdout",
     "output_type": "stream",
     "text": [
      "['Gustavo', 40]\n",
      "[['Gustavo', 40]]\n",
      "[['Gustavo', 40], ['Maria', 22]]\n"
     ]
    }
   ],
   "source": [
    "teste = list()\n",
    "teste.append('Gustavo')\n",
    "teste.append(40)\n",
    "print(teste)\n",
    "\n",
    "galera = list()\n",
    "galera.append(teste[:]) # Cria uma cópia\n",
    "print(galera)\n",
    "\n",
    "teste[0] = 'Maria'\n",
    "teste[1] = 22\n",
    "galera.append(teste)\n",
    "print(galera)"
   ]
  },
  {
   "cell_type": "code",
   "execution_count": 112,
   "id": "c6009847",
   "metadata": {},
   "outputs": [
    {
     "name": "stdout",
     "output_type": "stream",
     "text": [
      "[['João', 19], ['Ana', 33], ['Joaquim', 13], ['Maria', 45]]\n",
      "['João', 19]\n",
      "João\n"
     ]
    }
   ],
   "source": [
    "galera = [['João', 19], ['Ana', 33], ['Joaquim', 13], ['Maria', 45]]\n",
    "print(galera)\n",
    "print(galera[0])\n",
    "print(galera[0][0])"
   ]
  },
  {
   "cell_type": "code",
   "execution_count": 116,
   "id": "3a6002fa",
   "metadata": {},
   "outputs": [
    {
     "name": "stdout",
     "output_type": "stream",
     "text": [
      "['João', 19]\n",
      "['Ana', 33]\n",
      "['Joaquim', 13]\n",
      "['Maria', 45]\n",
      " \n",
      "19\n",
      "33\n",
      "13\n",
      "45\n",
      " \n",
      "João tem 19 anos de idade.\n",
      "Ana tem 33 anos de idade.\n",
      "Joaquim tem 13 anos de idade.\n",
      "Maria tem 45 anos de idade.\n"
     ]
    }
   ],
   "source": [
    "galera = [['João', 19], ['Ana', 33], ['Joaquim', 13], ['Maria', 45]]\n",
    "for p in galera:\n",
    "    print(p)\n",
    "\n",
    "print(' ')\n",
    "\n",
    "for p in galera:\n",
    "    print(p[1])\n",
    "\n",
    "print(' ')\n",
    "    \n",
    "for p in galera:\n",
    "    print(f'{p[0]} tem {p[1]} anos de idade.')"
   ]
  },
  {
   "cell_type": "code",
   "execution_count": 119,
   "id": "687c0b67",
   "metadata": {},
   "outputs": [
    {
     "name": "stdout",
     "output_type": "stream",
     "text": [
      "Nome: Ana\n",
      "Idade: 11\n",
      "Nome: Ze\n",
      "Idade: 22\n",
      "Nome: Clau\n",
      "Idade: 33\n",
      "[['Ana', 11], ['Ze', 22], ['Clau', 33]]\n"
     ]
    }
   ],
   "source": [
    "galera = list()\n",
    "dado = list()\n",
    "\n",
    "for c in range(0, 3):\n",
    "    dado.append(str(input('Nome: ')))\n",
    "    dado.append(int(input('Idade: ')))\n",
    "    galera.append(dado[:]) # Cria uma cópia de dado na lista galera\n",
    "    dado.clear()\n",
    "print(galera)    "
   ]
  },
  {
   "cell_type": "code",
   "execution_count": 123,
   "id": "9204139e",
   "metadata": {},
   "outputs": [
    {
     "name": "stdout",
     "output_type": "stream",
     "text": [
      "Nome: Cleiton\n",
      "Idade: 23\n",
      "Nome: Eliane\n",
      "Idade: 11\n",
      "Nome: Caio\n",
      "Idade: 35\n",
      "Cleiton é maior de idade.\n",
      "Eliane é menor de idade.\n",
      "Caio é maior de idade.\n",
      "Temos 2 maiores e 1 menores de idade.\n"
     ]
    }
   ],
   "source": [
    "galera = list()\n",
    "dado = list()\n",
    "totmaior = totmenor = 0\n",
    "\n",
    "for c in range(0, 3):\n",
    "    dado.append(str(input('Nome: ')))\n",
    "    dado.append(int(input('Idade: ')))\n",
    "    galera.append(dado[:]) #cria uma cópia\n",
    "    dado.clear()\n",
    "\n",
    "for p in galera:\n",
    "    if p[1] >= 21:\n",
    "        print(f'{p[0]} é maior de idade.')\n",
    "        totmaior += 1\n",
    "    else:\n",
    "        print(f'{p[0]} é menor de idade.')\n",
    "        totmenor += 1\n",
    "        \n",
    "print(f'Temos {totmaior} maiores e {totmenor} menores de idade.')"
   ]
  },
  {
   "cell_type": "markdown",
   "id": "95c2619b",
   "metadata": {},
   "source": [
    "## <font color = 'Red'> Desafios 084 a 089 </font>\n",
    "<a href='CV-Python-Desafios-Solu%C3%A7ao.ipynb'> Solução dos Desafios</a></br>\n",
    "Atenção: Tente resolver os desafios antes de verificar as repostas, só assim você irá aprender."
   ]
  },
  {
   "cell_type": "markdown",
   "id": "4bcca402",
   "metadata": {},
   "source": [
    "### Desafio 084"
   ]
  },
  {
   "cell_type": "markdown",
   "id": "9973c37b",
   "metadata": {},
   "source": [
    "Faça um programa que leia nome e peso de várias pessoas, guardando tudo em uma lista. No final, mostre:\n",
    "- A) Quantas pessoas foram cadastradas;\n",
    "- B) Uma listagem com as pessoas mais pesadas;\n",
    "- C) Uma listagem com as pessoas mais leves;"
   ]
  },
  {
   "cell_type": "markdown",
   "id": "25f7589f",
   "metadata": {},
   "source": [
    "### Desafio 085\n",
    "Cria um programa onde o usuário possa digitar sete valores numéricos e cadastre-os em uma lista única que mantenha separados os valores pares e ímpares. No final, mostre os valores pares e ímpares em ordem crescente."
   ]
  },
  {
   "cell_type": "markdown",
   "id": "a41d7fc4",
   "metadata": {},
   "source": [
    "### Desafio 086\n",
    "Crie um programa que crie uma matriz de dimensão 3x3 e preencha com valores lidos pelo teclado.</br>\n",
    "\n",
    "No final, mostre a matriz na tela, com a formatação correta."
   ]
  },
  {
   "cell_type": "markdown",
   "id": "056ddfda",
   "metadata": {},
   "source": [
    "### Desafio 087\n",
    "Aprimore o desafio anterior, mostra no final:\n",
    "- A) A soma de todos os valores pares digitados;\n",
    "- B) A soma dos valores da terceira coluna.\n",
    "- C) O maoior valor da segunda linha."
   ]
  },
  {
   "cell_type": "markdown",
   "id": "ccbf1496",
   "metadata": {},
   "source": [
    "### Desafio 088\n",
    "Faça um programa que ajude um jogador da MEGA SENA a criar palpites. O programa vai perguntar quantos jogos serão gerados e vai sortear 6 números entre 1 a 60 para cada jogo, cadastrando tudo em uma lista composta."
   ]
  },
  {
   "cell_type": "markdown",
   "id": "73b777b4",
   "metadata": {},
   "source": [
    "### Desafio 089\n",
    "Crie um programa que leia nome e duas notas de vários alunos e guarde tudo em uma lista composta. No final, mostre um boletim contendo a média de cada um e permita que o usuário possa mostrar as notas de cada aluno individualmente."
   ]
  },
  {
   "cell_type": "markdown",
   "id": "d9d704c8",
   "metadata": {},
   "source": [
    "## <font color = 'green'><a name=\"Aula 19 - Variáveis Compostas (Dicionários)\">Aula 19 - Variáveis Compostas (Dicionários)</font>"
   ]
  },
  {
   "cell_type": "code",
   "execution_count": 1,
   "id": "288eba19",
   "metadata": {},
   "outputs": [],
   "source": [
    "# Existe duas formas de declarar um dicionário\n",
    "# Cadastro = dict() #ou\n",
    "# Cadastro = {}"
   ]
  },
  {
   "cell_type": "code",
   "execution_count": 15,
   "id": "beb2634f",
   "metadata": {},
   "outputs": [
    {
     "name": "stdout",
     "output_type": "stream",
     "text": [
      "22\n",
      "O Gustavo tem 22 anos.\n",
      "dict_keys(['nome', 'sexo', 'idade'])\n",
      "dict_values(['Gustavo', 'M', 22])\n",
      "dict_items([('nome', 'Gustavo'), ('sexo', 'M'), ('idade', 22)])\n"
     ]
    }
   ],
   "source": [
    "pessoas = {'nome': 'Gustavo', 'sexo':'M', 'idade': 22}\n",
    "print(pessoas['idade'])\n",
    "\n",
    "# Atenção para o uso de aspas duplas, pois o f já esta usando aspas simples\n",
    "print(f'O {pessoas[\"nome\"]} tem {pessoas[\"idade\"]} anos.')\n",
    "print(pessoas.keys())\n",
    "print(pessoas.values())\n",
    "print(pessoas.items())"
   ]
  },
  {
   "cell_type": "code",
   "execution_count": 19,
   "id": "0bc89684",
   "metadata": {},
   "outputs": [
    {
     "name": "stdout",
     "output_type": "stream",
     "text": [
      "nome\n",
      "sexo\n",
      "idade\n",
      "\n",
      "Gustavo\n",
      "M\n",
      "22\n",
      "\n",
      "nome = Gustavo\n",
      "sexo = M\n",
      "idade = 22\n"
     ]
    }
   ],
   "source": [
    "pessoas = {'nome': 'Gustavo', 'sexo':'M', 'idade': 22}\n",
    "for k in pessoas.keys():\n",
    "    print(k)\n",
    "print()\n",
    "\n",
    "for v in pessoas.values():\n",
    "    print(v)\n",
    "print()\n",
    "\n",
    "for k, v in pessoas.items():\n",
    "    print(f'{k} = {v}')"
   ]
  },
  {
   "cell_type": "code",
   "execution_count": 20,
   "id": "42e6d0de",
   "metadata": {},
   "outputs": [
    {
     "name": "stdout",
     "output_type": "stream",
     "text": [
      "nome = Gustavo\n",
      "idade = 22\n"
     ]
    }
   ],
   "source": [
    "# Apagar elementos\n",
    "pessoas = {'nome': 'Gustavo', 'sexo':'M', 'idade': 22}\n",
    "del pessoas['sexo'] \n",
    "for k, v in pessoas.items():\n",
    "    print(f'{k} = {v}')"
   ]
  },
  {
   "cell_type": "code",
   "execution_count": 21,
   "id": "d0efe062",
   "metadata": {},
   "outputs": [
    {
     "name": "stdout",
     "output_type": "stream",
     "text": [
      "nome = Leandro\n",
      "sexo = M\n",
      "idade = 22\n"
     ]
    }
   ],
   "source": [
    "# Substituir elemento\n",
    "pessoas = {'nome': 'Gustavo', 'sexo':'M', 'idade': 22}\n",
    "pessoas['nome'] = 'Leandro'\n",
    "for k, v in pessoas.items():\n",
    "    print(f'{k} = {v}')"
   ]
  },
  {
   "cell_type": "code",
   "execution_count": 22,
   "id": "eec5b7bb",
   "metadata": {},
   "outputs": [
    {
     "name": "stdout",
     "output_type": "stream",
     "text": [
      "nome = Gustavo\n",
      "sexo = M\n",
      "idade = 22\n",
      "peso = 98.5\n"
     ]
    }
   ],
   "source": [
    "# Adicionar elemento\n",
    "pessoas = {'nome': 'Gustavo', 'sexo':'M', 'idade': 22}\n",
    "pessoas['peso'] = 98.5 \n",
    "for k, v in pessoas.items():\n",
    "    print(f'{k} = {v}')"
   ]
  },
  {
   "cell_type": "code",
   "execution_count": 26,
   "id": "588bb040",
   "metadata": {},
   "outputs": [
    {
     "name": "stdout",
     "output_type": "stream",
     "text": [
      "{'uf': 'Rio de Janeiro', 'sigla': 'RJ'}\n",
      "{'uf': 'São Paulo', 'sigla': 'SP'}\n",
      "[{'uf': 'Rio de Janeiro', 'sigla': 'RJ'}, {'uf': 'São Paulo', 'sigla': 'SP'}]\n",
      "{'uf': 'Rio de Janeiro', 'sigla': 'RJ'}\n",
      "{'uf': 'São Paulo', 'sigla': 'SP'}\n",
      "Rio de Janeiro\n",
      "SP\n"
     ]
    }
   ],
   "source": [
    "# Criando um dicionários dentro de uma lista\n",
    "brasil = list()\n",
    "estado1 = {'uf': 'Rio de Janeiro', 'sigla': 'RJ'}\n",
    "estado2 = {'uf': 'São Paulo', 'sigla': 'SP'}\n",
    "brasil.append(estado1)\n",
    "brasil.append(estado2)\n",
    "\n",
    "print(estado1)\n",
    "print(estado2)\n",
    "print(brasil)\n",
    "print(brasil[0])\n",
    "print(brasil[1])\n",
    "print(brasil[0]['uf'])\n",
    "print(brasil[1]['sigla'])"
   ]
  },
  {
   "cell_type": "code",
   "execution_count": 27,
   "id": "ec6795b3",
   "metadata": {},
   "outputs": [
    {
     "name": "stdout",
     "output_type": "stream",
     "text": [
      "Unidade Federativa: Minas\n",
      "Sigla do Estado: MG\n"
     ]
    },
    {
     "ename": "TypeError",
     "evalue": "unhashable type: 'slice'",
     "output_type": "error",
     "traceback": [
      "\u001b[1;31m---------------------------------------------------------------------------\u001b[0m",
      "\u001b[1;31mTypeError\u001b[0m                                 Traceback (most recent call last)",
      "Input \u001b[1;32mIn [27]\u001b[0m, in \u001b[0;36m<cell line: 4>\u001b[1;34m()\u001b[0m\n\u001b[0;32m      5\u001b[0m     estado[\u001b[38;5;124m'\u001b[39m\u001b[38;5;124muf\u001b[39m\u001b[38;5;124m'\u001b[39m] \u001b[38;5;241m=\u001b[39m \u001b[38;5;28mstr\u001b[39m(\u001b[38;5;28minput\u001b[39m(\u001b[38;5;124m'\u001b[39m\u001b[38;5;124mUnidade Federativa: \u001b[39m\u001b[38;5;124m'\u001b[39m))\n\u001b[0;32m      6\u001b[0m     estado[\u001b[38;5;124m'\u001b[39m\u001b[38;5;124msigla\u001b[39m\u001b[38;5;124m'\u001b[39m] \u001b[38;5;241m=\u001b[39m \u001b[38;5;28mstr\u001b[39m(\u001b[38;5;28minput\u001b[39m(\u001b[38;5;124m'\u001b[39m\u001b[38;5;124mSigla do Estado: \u001b[39m\u001b[38;5;124m'\u001b[39m))\n\u001b[1;32m----> 7\u001b[0m     brasil\u001b[38;5;241m.\u001b[39mappend(\u001b[43mestado\u001b[49m\u001b[43m[\u001b[49m\u001b[43m:\u001b[49m\u001b[43m]\u001b[49m)\n\u001b[0;32m      8\u001b[0m \u001b[38;5;28mprint\u001b[39m(brasil)\n",
      "\u001b[1;31mTypeError\u001b[0m: unhashable type: 'slice'"
     ]
    }
   ],
   "source": [
    "# Em dicionários, não é possível fazer uma cópia usando  fatiamento [:]\n",
    "estado = dict()\n",
    "brasil = list()\n",
    "for c in range (0 ,3):\n",
    "    estado['uf'] = str(input('Unidade Federativa: '))\n",
    "    estado['sigla'] = str(input('Sigla do Estado: '))\n",
    "    brasil.append(estado[:])\n",
    "print(brasil)"
   ]
  },
  {
   "cell_type": "code",
   "execution_count": 30,
   "id": "bcfe3e1a",
   "metadata": {},
   "outputs": [
    {
     "name": "stdout",
     "output_type": "stream",
     "text": [
      "Unidade Federativa: Minas\n",
      "Sigla do Estado: MG\n",
      "Unidade Federativa: Acre\n",
      "Sigla do Estado: AC\n",
      "Unidade Federativa: Goias\n",
      "Sigla do Estado: GO\n",
      "[{'uf': 'Minas', 'sigla': 'MG'}, {'uf': 'Acre', 'sigla': 'AC'}, {'uf': 'Goias', 'sigla': 'GO'}]\n"
     ]
    }
   ],
   "source": [
    "# Para resolver o problema acima deve-se usar o método copy\n",
    "estado = dict()\n",
    "brasil = list()\n",
    "for c in range (0 ,3):\n",
    "    estado['uf'] = str(input('Unidade Federativa: '))\n",
    "    estado['sigla'] = str(input('Sigla do Estado: '))\n",
    "    brasil.append(estado.copy())\n",
    "print(brasil)"
   ]
  },
  {
   "cell_type": "code",
   "execution_count": 31,
   "id": "ff856bb6",
   "metadata": {},
   "outputs": [
    {
     "name": "stdout",
     "output_type": "stream",
     "text": [
      "Unidade Federativa: Minas\n",
      "Sigla do Estado: MG\n",
      "Unidade Federativa: Acre\n",
      "Sigla do Estado: AC\n",
      "Unidade Federativa: Goias\n",
      "Sigla do Estado: GO\n",
      "{'uf': 'Minas', 'sigla': 'MG'}\n",
      "{'uf': 'Acre', 'sigla': 'AC'}\n",
      "{'uf': 'Goias', 'sigla': 'GO'}\n"
     ]
    }
   ],
   "source": [
    "estado = dict()\n",
    "brasil = list()\n",
    "for c in range (0 ,3):\n",
    "    estado['uf'] = str(input('Unidade Federativa: '))\n",
    "    estado['sigla'] = str(input('Sigla do Estado: '))\n",
    "    brasil.append(estado.copy())\n",
    "for e in brasil:\n",
    "    print(e)"
   ]
  },
  {
   "cell_type": "code",
   "execution_count": 33,
   "id": "db71b9a0",
   "metadata": {},
   "outputs": [
    {
     "name": "stdout",
     "output_type": "stream",
     "text": [
      "Unidade Federativa: Minas\n",
      "Sigla do Estado: MG\n",
      "Unidade Federativa: Acre\n",
      "Sigla do Estado: AC\n",
      "Unidade Federativa: Goias\n",
      "Sigla do Estado: GO\n",
      "O campo uf tem o valor Minas.\n",
      "O campo sigla tem o valor MG.\n",
      "O campo uf tem o valor Acre.\n",
      "O campo sigla tem o valor AC.\n",
      "O campo uf tem o valor Goias.\n",
      "O campo sigla tem o valor GO.\n"
     ]
    }
   ],
   "source": [
    "estado = dict()\n",
    "brasil = list()\n",
    "for c in range (0 ,3):\n",
    "    estado['uf'] = str(input('Unidade Federativa: '))\n",
    "    estado['sigla'] = str(input('Sigla do Estado: '))\n",
    "    brasil.append(estado.copy())\n",
    "for e in brasil:\n",
    "    for k, v in e.items():\n",
    "        print(f'O campo {k} tem o valor {v}.')"
   ]
  },
  {
   "cell_type": "code",
   "execution_count": 34,
   "id": "f908557c",
   "metadata": {},
   "outputs": [
    {
     "name": "stdout",
     "output_type": "stream",
     "text": [
      "Unidade Federativa: Minas\n",
      "Sigla do Estado: MG\n",
      "Unidade Federativa: Acre\n",
      "Sigla do Estado: AC\n",
      "Unidade Federativa: Goias\n",
      "Sigla do Estado: Go\n",
      "Minas MG \n",
      "Acre AC \n",
      "Goias Go \n"
     ]
    }
   ],
   "source": [
    "estado = dict()\n",
    "brasil = list()\n",
    "for c in range (0 ,3):\n",
    "    estado['uf'] = str(input('Unidade Federativa: '))\n",
    "    estado['sigla'] = str(input('Sigla do Estado: '))\n",
    "    brasil.append(estado.copy())\n",
    "for e in brasil:\n",
    "    for  v in e.values():\n",
    "        print(v, end = ' ')\n",
    "    print('')"
   ]
  },
  {
   "cell_type": "markdown",
   "id": "fa499818",
   "metadata": {},
   "source": [
    "## <font color = 'Red'> Desafios 090 a 095 </font>\n",
    "<a href='CV-Python-Desafios-Solu%C3%A7ao.ipynb'> Solução dos Desafios</a></br>\n",
    "Atenção: Tente resolver os desafios antes de verificar as repostas, só assim você irá aprender."
   ]
  },
  {
   "cell_type": "markdown",
   "id": "4ee3ecd0",
   "metadata": {},
   "source": [
    "### Desafio 090\n",
    "Faça um programa que leia nome e média de um aluno, guardando também a situação em um dicionário. No final, mostre o conteúdo da estutura na tela."
   ]
  },
  {
   "cell_type": "markdown",
   "id": "1f0828fa",
   "metadata": {},
   "source": [
    "### Desafio 091 (*)\n",
    "Crie um programa onde 4 jogadores joguem um dado e tenham resultados aleatórios. Guarde esses resultados em um dicionário. No final, coloque esse dicionário em ordem, sabendo que o vencedor tirou o maoior número no dado."
   ]
  },
  {
   "cell_type": "markdown",
   "id": "5b418baa",
   "metadata": {},
   "source": [
    "### Desafio 092\n",
    "Crie um programa que leia nome, ano de nascimento e carteira de trabalho e cadastre-os (com idade) em um dicionário se por acaso a CTPS for diferente de ZERO, o dicionários receberá também o ano de contratação e o salário. Calcule e acrescente, além da idade, com quantos anos a pessoa vai se aposentar.</br>\n",
    "(Considerar aposentadoria após 35 anos de contribuição.)"
   ]
  },
  {
   "cell_type": "markdown",
   "id": "59a4f036",
   "metadata": {},
   "source": [
    "### Desafio 093\n",
    "Crie um programa que gerencie o aproveitamento de um jogador de futebol. O programa vai ler o nome do jogador e quantas partidas ele jogou.</br>\n",
    "Depois vai ler a quantidade de gols feitos em cada partida. No final, tudo isso será guardado em um dicionário, incluindo o total de gols feitos durante o campeonato."
   ]
  },
  {
   "cell_type": "markdown",
   "id": "1707d2b1",
   "metadata": {},
   "source": [
    " ### Desafio 094\n",
    "Crie um programa que leia nome, sexo e idade de várias pessoas, guardando os dados de cada pessoa em um dicionário e todos os dicionários em uma lista. No final, mostre:\n",
    "- A) Quantas pessoas foram cadastradas.\n",
    "- B) A média de idade do grupo.\n",
    "- C) Uma lista com todas as mulheres.\n",
    "- D) Uma lista com todas as pessoas com idade acima da média."
   ]
  },
  {
   "cell_type": "markdown",
   "id": "a0830e83",
   "metadata": {},
   "source": [
    "### Desafio 095\n",
    "Aprimore o Desafio 093 para que ele funcione com vários jogadores, incluindo um sistema de visualização de detalhes do aproveitamento de cada jogador.</br>\n",
    "(Use o 999 para parar o programa.)"
   ]
  },
  {
   "cell_type": "markdown",
   "id": "0ea0f586",
   "metadata": {},
   "source": [
    "## <font color = 'green'><a name=\"Aula 20 - Funções (Parte 1)\">Aula 20 - Funções (Parte 1)</font>"
   ]
  },
  {
   "cell_type": "markdown",
   "id": "91a9568c",
   "metadata": {},
   "source": [
    "def --> significa Definição de Função</br>\n",
    "Muito usado quando é necessário criar rotinas."
   ]
  },
  {
   "cell_type": "code",
   "execution_count": 37,
   "id": "ef2a46ea",
   "metadata": {},
   "outputs": [
    {
     "name": "stdout",
     "output_type": "stream",
     "text": [
      "------------------------------\n",
      "   CURSO EM VÍDEO   \n",
      "------------------------------\n",
      "   APRENDA PYTHON   \n",
      "------------------------------\n",
      "   GUSTAVO GUANABARA   \n",
      "------------------------------\n"
     ]
    }
   ],
   "source": [
    "def linha():\n",
    "    print('-' *30)\n",
    "\n",
    "\n",
    "linha()\n",
    "print('   CURSO EM VÍDEO   ')\n",
    "linha()\n",
    "print('   APRENDA PYTHON   ')\n",
    "linha()\n",
    "print('   GUSTAVO GUANABARA   ')\n",
    "linha()"
   ]
  },
  {
   "cell_type": "code",
   "execution_count": 39,
   "id": "53f3bd51",
   "metadata": {},
   "outputs": [
    {
     "name": "stdout",
     "output_type": "stream",
     "text": [
      "------------------------------\n",
      "   CURSO EM VÍDEO   \n",
      "------------------------------\n",
      "------------------------------\n",
      "   APRENDA PYTHON   \n",
      "------------------------------\n",
      "------------------------------\n",
      "   GUSTAVO GUANABARA   \n",
      "------------------------------\n"
     ]
    }
   ],
   "source": [
    "def titulo(txt):\n",
    "    print('-' *30)\n",
    "    print(txt)\n",
    "    print('-' *30)\n",
    "\n",
    "\n",
    "titulo('   CURSO EM VÍDEO   ')\n",
    "titulo('   APRENDA PYTHON   ')\n",
    "titulo('   GUSTAVO GUANABARA   ')"
   ]
  },
  {
   "cell_type": "code",
   "execution_count": 41,
   "id": "5430d2da",
   "metadata": {},
   "outputs": [
    {
     "name": "stdout",
     "output_type": "stream",
     "text": [
      "9\n",
      "17\n",
      "3\n"
     ]
    }
   ],
   "source": [
    "def soma(a, b):\n",
    "    s = a + b\n",
    "    print(s)\n",
    "    \n",
    "\n",
    "soma(a = 4, b = 5)\n",
    "soma(8, 9)\n",
    "soma(2, 1)"
   ]
  },
  {
   "cell_type": "code",
   "execution_count": 46,
   "id": "9d614361",
   "metadata": {
    "ExecuteTime": {
     "end_time": "2024-09-09T16:30:20.672340Z",
     "start_time": "2024-09-09T16:30:20.667220Z"
    }
   },
   "outputs": [
    {
     "name": "stdout",
     "output_type": "stream",
     "text": [
      "4\n",
      "7\n"
     ]
    }
   ],
   "source": [
    "# Funções em Python podem ter valores padrão para seus argumentos.\n",
    "def soma2(a, b=2):\n",
    "    s = a + b\n",
    "    print(s)\n",
    "\n",
    "soma2(2) # O segundo argumento já possui um valor padrão\n",
    "soma2(2, 5) # O segundo argumento foi substituido mesmo tendo um valor padrão"
   ]
  },
  {
   "cell_type": "code",
   "execution_count": 42,
   "id": "4175cee9",
   "metadata": {},
   "outputs": [
    {
     "name": "stdout",
     "output_type": "stream",
     "text": [
      "(2, 1, 7)\n",
      "(8, 0)\n",
      "(4, 4, 7, 6, 2)\n"
     ]
    }
   ],
   "source": [
    "# Caso não seja passado a quantidade de parâmetros use *\n",
    "def contador(*n):\n",
    "    print(n)\n",
    "\n",
    "\n",
    "contador(2, 1, 7)\n",
    "contador(8, 0)\n",
    "contador(4, 4, 7, 6, 2)"
   ]
  },
  {
   "cell_type": "code",
   "execution_count": 47,
   "id": "d62be68e",
   "metadata": {},
   "outputs": [
    {
     "name": "stdout",
     "output_type": "stream",
     "text": [
      "2 1 7 FIM!\n",
      "8 0 FIM!\n",
      "4 4 7 6 2 FIM!\n"
     ]
    }
   ],
   "source": [
    "def contador(*n):\n",
    "    for valor in n:\n",
    "        print(f'{valor} ', end='')\n",
    "    print('FIM!')\n",
    "        \n",
    "\n",
    "contador(2, 1, 7)\n",
    "contador(8, 0)\n",
    "contador(4, 4, 7, 6, 2)"
   ]
  },
  {
   "cell_type": "code",
   "execution_count": 48,
   "id": "bf502b62",
   "metadata": {},
   "outputs": [
    {
     "name": "stdout",
     "output_type": "stream",
     "text": [
      "Recebi os valores (2, 1, 7) e são ao todo 3 números.\n",
      "Recebi os valores (8, 0) e são ao todo 2 números.\n",
      "Recebi os valores (4, 4, 7, 6, 2) e são ao todo 5 números.\n"
     ]
    }
   ],
   "source": [
    "def contador(*n):\n",
    "    tam = len(n)\n",
    "    print(f'Recebi os valores {n} e são ao todo {tam} números.')\n",
    "        \n",
    "\n",
    "contador(2, 1, 7)\n",
    "contador(8, 0)\n",
    "contador(4, 4, 7, 6, 2)"
   ]
  },
  {
   "cell_type": "code",
   "execution_count": 49,
   "id": "368449b1",
   "metadata": {},
   "outputs": [
    {
     "name": "stdout",
     "output_type": "stream",
     "text": [
      "[12, 6, 18, 2, 0, 4]\n"
     ]
    }
   ],
   "source": [
    "def dobra(lst):\n",
    "    pos = 0\n",
    "    while pos < len(lst):\n",
    "        lst[pos] *= 2\n",
    "        pos += 1\n",
    "        \n",
    "        \n",
    "valores = [6, 3, 9, 1, 0, 2]\n",
    "dobra(valores)\n",
    "print(valores)"
   ]
  },
  {
   "cell_type": "markdown",
   "id": "be13da9a",
   "metadata": {
    "ExecuteTime": {
     "end_time": "2024-09-09T16:35:23.171805Z",
     "start_time": "2024-09-09T16:35:23.167639Z"
    }
   },
   "source": [
    "Unpacking dos argumentos </br>\n",
    "O unpacking é o processo que é executado dentro da função, e não na\n",
    "chamada."
   ]
  },
  {
   "cell_type": "code",
   "execution_count": 80,
   "id": "62852f25",
   "metadata": {
    "ExecuteTime": {
     "end_time": "2024-09-09T17:12:58.889563Z",
     "start_time": "2024-09-09T17:12:58.883896Z"
    }
   },
   "outputs": [
    {
     "name": "stdout",
     "output_type": "stream",
     "text": [
      "A soma de 1 + 2 = 3\n",
      "O demais valores são: (3, 4, 5, 6, 7)\n"
     ]
    }
   ],
   "source": [
    "def soma3(*args): # args de argumentos\n",
    "    n1 = args[0]\n",
    "    n2 = args[1]\n",
    "    s = n1 + n2\n",
    "    n3 = args[2:]\n",
    "    print(f'A soma de {n1} + {n2} = {s}')\n",
    "    print(f'O demais valores são: {n3}')\n",
    "    \n",
    "soma3(1, 2, 3, 4, 5, 6, 7)"
   ]
  },
  {
   "cell_type": "markdown",
   "id": "0f4dbea2",
   "metadata": {},
   "source": [
    "## <font color = 'Red'> Desafios 096 a 100 </font>\n",
    "<a href='CV-Python-Desafios-Solu%C3%A7ao.ipynb'> Solução dos Desafios</a></br>\n",
    "Atenção: Tente resolver os desafios antes de verificar as repostas, só assim você irá aprender."
   ]
  },
  {
   "cell_type": "markdown",
   "id": "1f877997",
   "metadata": {},
   "source": [
    "### Desafio 096\n",
    "Faça um programa que tenha uma função chamada área(), que receba as dimensões de um terreno retangular (largura e comprimento) e mostre a área do terreno."
   ]
  },
  {
   "cell_type": "markdown",
   "id": "0e99fc56",
   "metadata": {},
   "source": [
    "### Desafio 097\n",
    "Faça um programa que tenha uma função chamada escreva(), que receba um texto qualquer como parâmetro e mostre uma mensagem com tamanho adaptável.</br>\n",
    "Ex: escreva('Olá, Mundo!')</br>\n",
    "Saída:</br>\n",
    "=-=-=-===-=-=-=-=-=</br>\n",
    "Olá, Mundo!</br>\n",
    "=-=-=-===-=-=-=-=-="
   ]
  },
  {
   "cell_type": "markdown",
   "id": "f93f49db",
   "metadata": {},
   "source": [
    "### Desafio 098\n",
    "Faça um programa que tenha uma função chamda contador(), que receba três parâmetros: início, fim e passo e realize a contagem.</br>\n",
    "Seu programa tem que realizar três contagens através da função criada:\n",
    "- A) De 1 até 10, de 1 em 1.\n",
    "- B) De 10 até 0, de 2 em 2.\n",
    "- C) Uma contagem personalizada."
   ]
  },
  {
   "cell_type": "markdown",
   "id": "b4ca1f50",
   "metadata": {},
   "source": [
    "### Desafio 099\n",
    "Faça um programa que tenha uma função chamda maior(), que receba vários parâmetros com valores inteiros.</br>\n",
    "\n",
    "Seu programa tem que analisar todos os valores e dizer qual deles é maior."
   ]
  },
  {
   "cell_type": "markdown",
   "id": "269b777e",
   "metadata": {},
   "source": [
    "### Desafio 100\n",
    "Faça um programa que tenha uma lista chamda números e duas funções chamadas sorteia() e somaPar(). A primeira função vai sortear 5 números e vai colocá-los dentro da lista e a segunda função vai mostrar a soma entre todos os valores PARES sorteados pela função anterior."
   ]
  },
  {
   "cell_type": "markdown",
   "id": "a40c2cad",
   "metadata": {},
   "source": [
    "## <font color = 'green'><a name=\"Aula 21 - Funções (Parte 2)\">Aula 21 - Funções (Parte 2)</font>"
   ]
  },
  {
   "cell_type": "markdown",
   "id": "917c1ba6",
   "metadata": {},
   "source": [
    "- Interactive Help\n",
    "- docstrings\n",
    "- Argumentos opcionais\n",
    "- Escopo de variáveis\n",
    "- Retorno de resultados"
   ]
  },
  {
   "cell_type": "markdown",
   "id": "6df45cc8",
   "metadata": {},
   "source": [
    "<b>Interactive Help</b></br>\n",
    "help() --> toda função que abre e fecha parênteses depois do nome é um método</br>\n",
    "\n",
    "Dentro do terminal de comando ou o pycharm, digito help() e depois a função que desenho conhecer. Ex: print()"
   ]
  },
  {
   "cell_type": "code",
   "execution_count": 51,
   "id": "874d2056",
   "metadata": {},
   "outputs": [
    {
     "name": "stdout",
     "output_type": "stream",
     "text": [
      "Help on built-in function print in module builtins:\n",
      "\n",
      "print(...)\n",
      "    print(value, ..., sep=' ', end='\\n', file=sys.stdout, flush=False)\n",
      "    \n",
      "    Prints the values to a stream, or to sys.stdout by default.\n",
      "    Optional keyword arguments:\n",
      "    file:  a file-like object (stream); defaults to the current sys.stdout.\n",
      "    sep:   string inserted between values, default a space.\n",
      "    end:   string appended after the last value, default a newline.\n",
      "    flush: whether to forcibly flush the stream.\n",
      "\n"
     ]
    }
   ],
   "source": [
    "help(print)"
   ]
  },
  {
   "cell_type": "markdown",
   "id": "d015dc7c",
   "metadata": {},
   "source": [
    "<b>docstring</b></br>\n",
    "Uma docstring é uma string de documentação, conforme mostrado abaixo. Contudo ela não se restringe somento a informações de função internas do python (built-in). É possível criar docstrings para funções."
   ]
  },
  {
   "cell_type": "code",
   "execution_count": 52,
   "id": "b52f51dc",
   "metadata": {},
   "outputs": [
    {
     "name": "stdout",
     "output_type": "stream",
     "text": [
      "print(value, ..., sep=' ', end='\\n', file=sys.stdout, flush=False)\n",
      "\n",
      "Prints the values to a stream, or to sys.stdout by default.\n",
      "Optional keyword arguments:\n",
      "file:  a file-like object (stream); defaults to the current sys.stdout.\n",
      "sep:   string inserted between values, default a space.\n",
      "end:   string appended after the last value, default a newline.\n",
      "flush: whether to forcibly flush the stream.\n"
     ]
    }
   ],
   "source": [
    "print(print.__doc__)"
   ]
  },
  {
   "cell_type": "code",
   "execution_count": 54,
   "id": "56998630",
   "metadata": {},
   "outputs": [
    {
     "name": "stdout",
     "output_type": "stream",
     "text": [
      "0 20 40 60 80 100 FIM\n"
     ]
    }
   ],
   "source": [
    "def contador(i, f, p):\n",
    "    \"\"\"\n",
    "    -> Faz uma contagem e mostra na tela.\n",
    "    i: início da contagem;\n",
    "    f: fim da contagem;\n",
    "    p: passo da contagem;\n",
    "    return: sem retorno.\n",
    "    \"\"\"\n",
    "    c = i\n",
    "    while c <= f:\n",
    "        print(f'{c} ', end='')\n",
    "        c += p\n",
    "    print('FIM')\n",
    "\n",
    "contador(0, 100, 20)"
   ]
  },
  {
   "cell_type": "code",
   "execution_count": 55,
   "id": "75d36c20",
   "metadata": {},
   "outputs": [
    {
     "name": "stdout",
     "output_type": "stream",
     "text": [
      "Help on function contador in module __main__:\n",
      "\n",
      "contador(i, f, p)\n",
      "    -> Faz uma contagem e mostra na tela.\n",
      "    i: início da contagem;\n",
      "    f: fim da contagem;\n",
      "    p: passo da contagem;\n",
      "    return: sem retorno.\n",
      "\n"
     ]
    }
   ],
   "source": [
    "help(contador)"
   ]
  },
  {
   "cell_type": "markdown",
   "id": "d82a8c7a",
   "metadata": {},
   "source": [
    "<b>Parâmetros Opcionais</b>"
   ]
  },
  {
   "cell_type": "code",
   "execution_count": 12,
   "id": "982af553",
   "metadata": {
    "ExecuteTime": {
     "end_time": "2024-09-09T14:23:28.302973Z",
     "start_time": "2024-09-09T14:23:28.297693Z"
    }
   },
   "outputs": [
    {
     "name": "stdout",
     "output_type": "stream",
     "text": [
      "A soma vale 10\n",
      "\n",
      "Help on function somar in module __main__:\n",
      "\n",
      "somar(a, b, c)\n",
      "    -> Faz a soma de três valores e mostra o resultado na tela.\n",
      "    a: o primeiro valor;\n",
      "    b: o segundo valor;\n",
      "    c: o terceiro valor.\n",
      "\n"
     ]
    }
   ],
   "source": [
    "def somar(a, b, c):\n",
    "    \"\"\"\n",
    "    -> Faz a soma de três valores e mostra o resultado na tela.\n",
    "    a: o primeiro valor;\n",
    "    b: o segundo valor;\n",
    "    c: o terceiro valor.    \n",
    "    \"\"\"\n",
    "    s = a + b + c\n",
    "    print(f'A soma vale {s}')\n",
    "    \n",
    "somar(3, 2, 5)\n",
    "print(\"\")\n",
    "help(somar)"
   ]
  },
  {
   "cell_type": "code",
   "execution_count": 66,
   "id": "e70bf0bf",
   "metadata": {},
   "outputs": [
    {
     "ename": "TypeError",
     "evalue": "somar() missing 1 required positional argument: 'c'",
     "output_type": "error",
     "traceback": [
      "\u001b[1;31m---------------------------------------------------------------------------\u001b[0m",
      "\u001b[1;31mTypeError\u001b[0m                                 Traceback (most recent call last)",
      "Input \u001b[1;32mIn [66]\u001b[0m, in \u001b[0;36m<cell line: 11>\u001b[1;34m()\u001b[0m\n\u001b[0;32m      8\u001b[0m     s \u001b[38;5;241m=\u001b[39m a \u001b[38;5;241m+\u001b[39m b \u001b[38;5;241m+\u001b[39m c\n\u001b[0;32m      9\u001b[0m     \u001b[38;5;28mprint\u001b[39m(\u001b[38;5;124mf\u001b[39m\u001b[38;5;124m'\u001b[39m\u001b[38;5;124mA soma vale \u001b[39m\u001b[38;5;132;01m{\u001b[39;00ms\u001b[38;5;132;01m}\u001b[39;00m\u001b[38;5;124m'\u001b[39m)\n\u001b[1;32m---> 11\u001b[0m \u001b[43msomar\u001b[49m\u001b[43m(\u001b[49m\u001b[38;5;241;43m3\u001b[39;49m\u001b[43m,\u001b[49m\u001b[43m \u001b[49m\u001b[38;5;241;43m2\u001b[39;49m\u001b[43m)\u001b[49m\n",
      "\u001b[1;31mTypeError\u001b[0m: somar() missing 1 required positional argument: 'c'"
     ]
    }
   ],
   "source": [
    "def somar(a, b, c):\n",
    "    \"\"\"\n",
    "    -> Faz a soma de três valores e mostra o resultado na tela.\n",
    "    a: o primeiro valor;\n",
    "    b: o segundo valor;\n",
    "    c: o terceiro valor.    \n",
    "    \"\"\"\n",
    "    s = a + b + c\n",
    "    print(f'A soma vale {s}')\n",
    "    \n",
    "somar(3, 2) # Vai dar erro, porque o parâmetro c não foi indormado"
   ]
  },
  {
   "cell_type": "code",
   "execution_count": 64,
   "id": "d366a7b8",
   "metadata": {},
   "outputs": [
    {
     "name": "stdout",
     "output_type": "stream",
     "text": [
      "A soma vale 5\n"
     ]
    }
   ],
   "source": [
    "# Para evitar esse tipo de erro, pode-se usar a seguinte parâmetro opcional\n",
    "def somar(a=0, b=0, c=0):\n",
    "    \"\"\"\n",
    "    -> Faz a soma de três valores e mostra o resultado na tela.\n",
    "    a: o primeiro valor;\n",
    "    b: o segundo valor;\n",
    "    c: o terceiro valor.    \n",
    "    \"\"\"\n",
    "    s = a + b + c\n",
    "    print(f'A soma vale {s}')\n",
    "    \n",
    "somar(3, 2)"
   ]
  },
  {
   "cell_type": "markdown",
   "id": "7494e44b",
   "metadata": {},
   "source": [
    "<b>Escopo de Variáveis</b>"
   ]
  },
  {
   "cell_type": "code",
   "execution_count": 69,
   "id": "b6690c72",
   "metadata": {},
   "outputs": [
    {
     "name": "stdout",
     "output_type": "stream",
     "text": [
      "No programa principal, n vale 2.\n",
      "Na função teste, n vale 2\n",
      "Na função teste, x vale 8\n"
     ]
    },
    {
     "ename": "NameError",
     "evalue": "name 'x' is not defined",
     "output_type": "error",
     "traceback": [
      "\u001b[1;31m---------------------------------------------------------------------------\u001b[0m",
      "\u001b[1;31mNameError\u001b[0m                                 Traceback (most recent call last)",
      "Input \u001b[1;32mIn [69]\u001b[0m, in \u001b[0;36m<cell line: 11>\u001b[1;34m()\u001b[0m\n\u001b[0;32m      9\u001b[0m \u001b[38;5;28mprint\u001b[39m(\u001b[38;5;124mf\u001b[39m\u001b[38;5;124m'\u001b[39m\u001b[38;5;124mNo programa principal, n vale \u001b[39m\u001b[38;5;132;01m{\u001b[39;00mn\u001b[38;5;132;01m}\u001b[39;00m\u001b[38;5;124m.\u001b[39m\u001b[38;5;124m'\u001b[39m)\n\u001b[0;32m     10\u001b[0m teste()\n\u001b[1;32m---> 11\u001b[0m \u001b[38;5;28mprint\u001b[39m(\u001b[38;5;124mf\u001b[39m\u001b[38;5;124m'\u001b[39m\u001b[38;5;124mNo programa principal, x vale \u001b[39m\u001b[38;5;132;01m{\u001b[39;00mx\u001b[38;5;132;01m}\u001b[39;00m\u001b[38;5;124m.\u001b[39m\u001b[38;5;124m'\u001b[39m)\n",
      "\u001b[1;31mNameError\u001b[0m: name 'x' is not defined"
     ]
    }
   ],
   "source": [
    "def teste():\n",
    "    x = 8\n",
    "    print(f'Na função teste, n vale {n}') # Variável de escopo local\n",
    "    print(f'Na função teste, x vale {x}') # Variável de escopo local\n",
    "\n",
    "\n",
    "# Programa principal\n",
    "n = 2 # Variável de escopo global\n",
    "print(f'No programa principal, n vale {n}.')\n",
    "teste()\n",
    "print(f'No programa principal, x vale {x}.') \n",
    "\n",
    "# Variável local, por isso o erro abaixo."
   ]
  },
  {
   "cell_type": "code",
   "execution_count": 70,
   "id": "f2b57249",
   "metadata": {},
   "outputs": [
    {
     "name": "stdout",
     "output_type": "stream",
     "text": [
      "N1 dentro vale 4.\n",
      "N1 fora vale 2.\n"
     ]
    }
   ],
   "source": [
    "def teste2():\n",
    "    n1 = 4\n",
    "    print(f'N1 dentro vale {n1}.')\n",
    "    \n",
    "\n",
    "n1 = 2\n",
    "teste2()\n",
    "print(f'N1 fora vale {n1}.')"
   ]
  },
  {
   "cell_type": "code",
   "execution_count": 28,
   "id": "47fec304",
   "metadata": {
    "ExecuteTime": {
     "end_time": "2024-09-09T15:15:44.838959Z",
     "start_time": "2024-09-09T15:15:44.833870Z"
    }
   },
   "outputs": [
    {
     "name": "stdout",
     "output_type": "stream",
     "text": [
      "A dentro vale 8\n",
      "A dentro vale 9\n",
      "A dentro vale 2\n",
      "\n",
      "A fora vale 8\n"
     ]
    }
   ],
   "source": [
    "# Usando uma variável de escopo global dentro do def\n",
    "def teste3(b):\n",
    "    global a\n",
    "    a = 8\n",
    "    b += 4\n",
    "    c = 2\n",
    "    print(f'A dentro vale {a}')\n",
    "    print(f'A dentro vale {b}')\n",
    "    print(f'A dentro vale {c}')\n",
    "    \n",
    "\n",
    "a = 5\n",
    "teste3(a)\n",
    "print('')\n",
    "print(f'A fora vale {a}')"
   ]
  },
  {
   "cell_type": "markdown",
   "id": "124c908b",
   "metadata": {},
   "source": [
    "<b>Retorno de valores</b>"
   ]
  },
  {
   "cell_type": "code",
   "execution_count": 30,
   "id": "a896a4eb",
   "metadata": {
    "ExecuteTime": {
     "end_time": "2024-09-09T15:16:30.456981Z",
     "start_time": "2024-09-09T15:16:30.451746Z"
    }
   },
   "outputs": [
    {
     "name": "stdout",
     "output_type": "stream",
     "text": [
      "Os resultados foram 10, 4 e 6.\n",
      "<class 'function'>\n",
      "<class 'int'>\n"
     ]
    }
   ],
   "source": [
    "def somar(a=0, b=0, c=0):\n",
    "    s = a + b + c\n",
    "    return s\n",
    "\n",
    "\n",
    "r1 = somar(3, 2, 5)\n",
    "r2 = somar(2, 2)\n",
    "r3 = somar(6)\n",
    "\n",
    "print(f'Os resultados foram {r1}, {r2} e {r3}.')\n",
    "print(type(somar))\n",
    "print(type(somar()))"
   ]
  },
  {
   "cell_type": "code",
   "execution_count": 79,
   "id": "304edf0e",
   "metadata": {},
   "outputs": [
    {
     "name": "stdout",
     "output_type": "stream",
     "text": [
      "Digite um número: 5\n",
      "O fatorial de 5 é igual a 120.\n"
     ]
    }
   ],
   "source": [
    "def fatorial(num = 1): # Parâmetro opcional\n",
    "    f = 1\n",
    "    for c in range(num, 0, -1):\n",
    "        f *= c\n",
    "    return f\n",
    "\n",
    "\n",
    "n = int(input('Digite um número: '))\n",
    "print(f'O fatorial de {n} é igual a {fatorial(n)}.')"
   ]
  },
  {
   "cell_type": "code",
   "execution_count": 81,
   "id": "5e22c2ac",
   "metadata": {},
   "outputs": [
    {
     "name": "stdout",
     "output_type": "stream",
     "text": [
      "Digite um número: 16\n",
      "É par!\n"
     ]
    }
   ],
   "source": [
    "def par(n = 0):\n",
    "    if n % 2 == 0:\n",
    "        return True\n",
    "    else:\n",
    "        return False\n",
    "\n",
    "    \n",
    "num = int(input('Digite um número: '))\n",
    "if par(num):\n",
    "    print('É par!')\n",
    "else:\n",
    "    print('Não é par!')"
   ]
  },
  {
   "cell_type": "markdown",
   "id": "d4c39cf7",
   "metadata": {},
   "source": [
    "## <font color = 'Red'> Desafios 101 a 106 </font>\n",
    "<a href='CV-Python-Desafios-Solu%C3%A7ao.ipynb'> Solução dos Desafios</a></br>\n",
    "Atenção: Tente resolver os desafios antes de verificar as repostas, só assim você irá aprender."
   ]
  },
  {
   "cell_type": "markdown",
   "id": "7bf02ea6",
   "metadata": {},
   "source": [
    "### Desafio 101\n",
    "Crie um programa que tenha uma função chamada voto() que vai receber como parâmetro o ano de nascimento de uma pessoa, retornando um valor litral indicando se uma pessoa tem voto NEGADO, OPCIONAL ou OBRIGATÓRIO nas eleições."
   ]
  },
  {
   "cell_type": "markdown",
   "id": "3975e2d4",
   "metadata": {},
   "source": [
    "### Desafio 102\n",
    "Crie um programa que tenha uma função fatorial() que receba dois parâmetros: o primeiro que indique o número a calcular e o outro chamado show, que será um valor lógico (opcional) indicando se será mostrado ou não na tela o processo cálculo do fatorial."
   ]
  },
  {
   "cell_type": "markdown",
   "id": "46f598bc",
   "metadata": {},
   "source": [
    "### Desafio 103\n",
    "Faça um programa que tenha uma função chamada ficha(), que receba dois parâmetros opcionais: o nome de um jogador e quantos gols ele marcou.</br>\n",
    "O programa deverá ser  capaz de mostrar a ficha do jogador, mesmo que algum dado não tenha sido informado corretamente."
   ]
  },
  {
   "cell_type": "markdown",
   "id": "9c0f3392",
   "metadata": {},
   "source": [
    "### Desafio 104\n",
    "Crie um programa que tenha a função leiaInt(), que vai funcionar de forma semelhante à função input() do Python, só que fazendo a validação para aceitar apenas um valor numérico.</br>\n",
    "Ex: n = leiaInt('Digite um número: \")"
   ]
  },
  {
   "cell_type": "markdown",
   "id": "e7b149fe",
   "metadata": {},
   "source": [
    "### Desafio 105\n",
    "Faça um programa que tenha uma função notas() que pode receber várias notas de alunos e vai retornar um dicionário com as seguintes informações:\n",
    "- Quantidade de notas\n",
    "- A maoior nota\n",
    "- A menot nota\n",
    "- A média da turma\n",
    "- A situação (opcional)\n",
    "\n",
    "Adicione também as docstrings da função."
   ]
  },
  {
   "cell_type": "markdown",
   "id": "ac74aed2",
   "metadata": {},
   "source": [
    "### Desafio 106\n",
    "Faça um minisistema que utilize o Interactive Help do Python. O usuário vai digitar o comando e o manual para aparecer. Quando o usuário digitar a palavra 'FIM', o programa se encerrará. Obs: use cores."
   ]
  },
  {
   "cell_type": "markdown",
   "id": "133414ba",
   "metadata": {},
   "source": [
    "## <font color = 'green'><a name=\"Aula 22 - Módulos e Pacotes\">Aula 22 - Módulos e Pacotes</font>"
   ]
  },
  {
   "cell_type": "markdown",
   "id": "c9728ef4",
   "metadata": {},
   "source": [
    "<b>Modularização</b>\n",
    "- Surgiu no início da década de 60;\n",
    "- Sistema ficando cada vez maiores;\n",
    "- Foco: dividir um programa grande;\n",
    "- Foco: aumentar a legibilidade;\n",
    "- Foco: facilitar a manutenção."
   ]
  },
  {
   "cell_type": "code",
   "execution_count": 117,
   "id": "d9ad8b15",
   "metadata": {},
   "outputs": [
    {
     "name": "stdout",
     "output_type": "stream",
     "text": [
      "Digite um número: 5\n",
      "O fatorial de 5 é 120.\n",
      "O dobro de 5 é 10.\n",
      "O tripo de 5 é 15.\n"
     ]
    }
   ],
   "source": [
    "import uteis\n",
    "\n",
    "num = int(input('Digite um número: '))\n",
    "fat = uteis.fatorial(num) # Evitar criar uma função para calcular o fatorial.\n",
    "print(f'O fatorial de {num} é {fat}.')\n",
    "print(f'O dobro de {num} é {uteis.dobro(num)}.') # Calcular o dobro de um número\n",
    "print(f'O tripo de {num} é {uteis.tripo(num)}.') # Calcular o tripo de um número"
   ]
  },
  {
   "cell_type": "markdown",
   "id": "3060da9f",
   "metadata": {},
   "source": [
    "<b>Vantagens da Modularização</b>\n",
    "- Organização do código;\n",
    "- Facilidade na manutenção;\n",
    "- Ocultação de código detalhado;\n",
    "- Reutulização em outros projetos."
   ]
  },
  {
   "cell_type": "markdown",
   "id": "057fd391",
   "metadata": {},
   "source": [
    "## <font color = 'Red'> Desafios 107 a 112 </font>\n",
    "<a href='CV-Python-Desafios-Solu%C3%A7ao.ipynb'> Solução dos Desafios</a></br>\n",
    "Atenção: Tente resolver os desafios antes de verificar as repostas, só assim você irá aprender."
   ]
  },
  {
   "cell_type": "markdown",
   "id": "e3a8c70e",
   "metadata": {},
   "source": [
    "### Desafio 107\n",
    "Crie um módulo chamado moeda.py que tenha as punções incporporadas aumentar(), diminuir( ), dobra( ) e metade( ).</br>\n",
    "\n",
    "Faça também um programa que importe esse módulo e use algumas dessas funções."
   ]
  },
  {
   "cell_type": "markdown",
   "id": "709119f6",
   "metadata": {},
   "source": [
    "### Desafio 108\n",
    "Adapte o código do desafio 107, criando uma função adicional chamada moeda( ) que consiga mostrar os valoes com um valor monterário formatado."
   ]
  },
  {
   "cell_type": "markdown",
   "id": "f0e48b39",
   "metadata": {},
   "source": [
    "### Desafio 109\n",
    "Modifique as funções que foram criadas no Desafio 107 para que elas aceitem um parâmetro a mais, informando se o valor ternornado por elas vai ser ou não formadado pela função modeda( ), desenvolvida no Desafio 108."
   ]
  },
  {
   "cell_type": "markdown",
   "id": "36ae0206",
   "metadata": {},
   "source": [
    "### Desafio 110\n",
    "Adicione ao módulo moeda.py criado nos desafios anteriores, uma função chamada resumo( ), que mostre na tela algumas informações geradas pelas funções que já temos no módulo criado até aqui."
   ]
  },
  {
   "cell_type": "markdown",
   "id": "7d438f76",
   "metadata": {},
   "source": [
    "### Desafio 111\n",
    "Crie um pacote chamado utilidadesCeV que tenha dois módulos internos chamados moeda e dado.</br>\n",
    "\n",
    "Transfira todas as funções utilizadas no desafios 107, 108 e 109 para o primeiro pacote e mantenha tudo funcionando."
   ]
  },
  {
   "cell_type": "markdown",
   "id": "7e3f9475",
   "metadata": {},
   "source": [
    "### Desafio 112\n",
    "Dentro do pacote utilidadesCeV que criamos no Desafio 111, temos um módulo chamado dado. Crie uma função chamada leiaDinheiro( ) que seja capaz de funcionar como a função input( ), mas com a validação de dados para aceitar apenas valores que sejam monteráios."
   ]
  },
  {
   "cell_type": "markdown",
   "id": "4cc7fe23",
   "metadata": {},
   "source": [
    "## <font color = 'green'><a name=\"Aula 23 - Tratamento de Erros e Exceções\">Aula 23 - Tratamento de Erros e Exceções</font>"
   ]
  },
  {
   "cell_type": "code",
   "execution_count": 34,
   "id": "a2267b65",
   "metadata": {
    "ExecuteTime": {
     "end_time": "2024-09-09T15:26:05.274057Z",
     "start_time": "2024-09-09T15:26:03.237067Z"
    }
   },
   "outputs": [
    {
     "name": "stdout",
     "output_type": "stream",
     "text": [
      "Numerador: Teste\n",
      "O que foi digitado não é um número inteiro.\n"
     ]
    },
    {
     "ename": "NameError",
     "evalue": "name 'r' is not defined",
     "output_type": "error",
     "traceback": [
      "\u001b[1;31m---------------------------------------------------------------------------\u001b[0m",
      "\u001b[1;31mNameError\u001b[0m                                 Traceback (most recent call last)",
      "Cell \u001b[1;32mIn[34], line 10\u001b[0m\n\u001b[0;32m      7\u001b[0m \u001b[38;5;28;01mexcept\u001b[39;00m:\n\u001b[0;32m      8\u001b[0m     \u001b[38;5;28mprint\u001b[39m(\u001b[38;5;124m'\u001b[39m\u001b[38;5;124mO que foi digitado não é um número inteiro.\u001b[39m\u001b[38;5;124m'\u001b[39m)\n\u001b[1;32m---> 10\u001b[0m \u001b[38;5;28mprint\u001b[39m(\u001b[38;5;124mf\u001b[39m\u001b[38;5;124m'\u001b[39m\u001b[38;5;124mO resuldado é \u001b[39m\u001b[38;5;132;01m{\u001b[39;00m\u001b[43mr\u001b[49m\u001b[38;5;132;01m:\u001b[39;00m\u001b[38;5;124m.1f\u001b[39m\u001b[38;5;132;01m}\u001b[39;00m\u001b[38;5;124m'\u001b[39m)\n",
      "\u001b[1;31mNameError\u001b[0m: name 'r' is not defined"
     ]
    }
   ],
   "source": [
    "# O uso do try auxiliar o usuário a entender o que pode ter acontecido de errado.\n",
    "\n",
    "try:\n",
    "    a = int(input('Numerador: '))\n",
    "    b = int(input('Denominador: '))\n",
    "    r = a / b\n",
    "except:\n",
    "    print('O que foi digitado não é um número inteiro.')\n",
    "\n",
    "print(f'O resuldado é {r:.1f}')"
   ]
  },
  {
   "cell_type": "code",
   "execution_count": 8,
   "id": "978bf290",
   "metadata": {},
   "outputs": [
    {
     "name": "stdout",
     "output_type": "stream",
     "text": [
      "Numerador: 10\n",
      "Denominador: 3\n",
      "O resuldado é 3.3\n"
     ]
    }
   ],
   "source": [
    "# Se o try deu certo, pode-se usar else\n",
    "try:\n",
    "    a = int(input('Numerador: '))\n",
    "    b = int(input('Denominador: '))\n",
    "    r = a / b\n",
    "except:\n",
    "    print('O que foi digitado não é um número inteiro.')\n",
    "else: #opcional\n",
    "    print(f'O resuldado é {r:.1f}')"
   ]
  },
  {
   "cell_type": "code",
   "execution_count": 33,
   "id": "08beb4cb",
   "metadata": {
    "ExecuteTime": {
     "end_time": "2024-09-09T15:25:08.693124Z",
     "start_time": "2024-09-09T15:25:05.995234Z"
    }
   },
   "outputs": [
    {
     "name": "stdout",
     "output_type": "stream",
     "text": [
      "Numerador: Teste\n",
      "O que foi digitado não é um número inteito.\n",
      "Volte sempre! Muito Obrigado!\n"
     ]
    }
   ],
   "source": [
    "# Usando o finally\n",
    "try:\n",
    "    a = int(input('Numerador: '))\n",
    "    b = int(input('Denominador: '))\n",
    "    r = a / b\n",
    "except:\n",
    "    print('O que foi digitado não é um número inteiro.')\n",
    "else: #opcional\n",
    "    print(f'O resuldado é {r:.1f}')\n",
    "finally:\n",
    "    print('Volte sempre! Muito Obrigado!')\n",
    "    #essa msg irá aparecer idenpendete se der certo ou errado."
   ]
  },
  {
   "cell_type": "code",
   "execution_count": 37,
   "id": "55e7f34f",
   "metadata": {
    "ExecuteTime": {
     "end_time": "2024-09-09T15:27:42.043961Z",
     "start_time": "2024-09-09T15:27:38.381447Z"
    }
   },
   "outputs": [
    {
     "name": "stdout",
     "output_type": "stream",
     "text": [
      "Numerador: 10\n",
      "Denominador: 0\n",
      "Problema encontrdo foi <class 'ZeroDivisionError'>\n",
      "Volte sempre! Muito Obrigado!\n"
     ]
    }
   ],
   "source": [
    "# Mostrando o tipo de erro com o Exception\n",
    "try:\n",
    "    a = int(input('Numerador: '))\n",
    "    b = int(input('Denominador: '))\n",
    "    r = a / b\n",
    "except Exception as erro:\n",
    "    print(f'Problema encontrdo foi {erro.__class__}')\n",
    "else: #opcional\n",
    "    print(f'O resuldado é {r:.1f}')\n",
    "finally:\n",
    "    print(f'Volte sempre! Muito Obrigado!')\n",
    "    #essa msg irá aparecer idenpendete se der certo ou errado."
   ]
  },
  {
   "cell_type": "code",
   "execution_count": 1,
   "id": "fde95785",
   "metadata": {},
   "outputs": [],
   "source": [
    "# Um mesmo try pode ter mais de um exception.\n",
    "# ex: exception TypeError:, exception ValeuError:, exception OSError:, ..."
   ]
  },
  {
   "cell_type": "code",
   "execution_count": 38,
   "id": "383a3bc7",
   "metadata": {
    "ExecuteTime": {
     "end_time": "2024-09-09T15:28:54.043369Z",
     "start_time": "2024-09-09T15:28:53.241920Z"
    }
   },
   "outputs": [
    {
     "name": "stdout",
     "output_type": "stream",
     "text": [
      "Numerador: \n",
      "Tivemos um problema com os tipo de dados que você digitou.\n",
      "Volte sempre! Muito Obrigado!\n"
     ]
    }
   ],
   "source": [
    "try:\n",
    "    a = int(input('Numerador: '))\n",
    "    b = int(input('Denominador: '))\n",
    "    r = a / b\n",
    "except (ValueError, TypeError):\n",
    "    print(f'Tivemos um problema com os tipo de dados que você digitou.')\n",
    "except ZeroDivisionError:\n",
    "    print(f'Não foi possível dividir um número por zero.')\n",
    "except KeyboardInterrupt:\n",
    "    print(f'O usuário preferiu não informar os dados!')\n",
    "except Exception as erro:\n",
    "    print(f'O erro encontrado foi {erro.__cause__}')\n",
    "else:\n",
    "    print(f'O resuldado é {r:.1f}')\n",
    "finally:\n",
    "    print(f'Volte sempre! Muito Obrigado!')"
   ]
  },
  {
   "cell_type": "markdown",
   "id": "94655020",
   "metadata": {},
   "source": [
    "## <font color = 'Red'> Desafios 113 a 115 </font>\n",
    "<a href='CV-Python-Desafios-Solu%C3%A7ao.ipynb'> Solução dos Desafios</a></br>\n",
    "Atenção: Tente resolver os desafios antes de verificar as repostas, só assim você irá aprender."
   ]
  },
  {
   "cell_type": "markdown",
   "id": "8c5e719f",
   "metadata": {},
   "source": [
    "### Desafio 113\n",
    "Reescreva a função leiaInt que fizemos no desafio 104, incluindo agora a possibilidade da digitação de um número de tipo inválido. Aproveite e crie também uma função leiaFloat( ) com a mesma funcionalidade."
   ]
  },
  {
   "cell_type": "markdown",
   "id": "77b6e13a",
   "metadata": {},
   "source": [
    "### Desafio 114\n",
    "Crie um código em Python que teste se o site Pudim está acessível pelo computador usado."
   ]
  },
  {
   "cell_type": "markdown",
   "id": "084c02cc",
   "metadata": {},
   "source": [
    "### Desafio 115 (Resolução em 3 partes)\n",
    "Crie um pequeno sistema modularizado que permita cadastrar pessoas pelo seu nome e idade em um arquivo de texto simples.</br>\n",
    "\n",
    "O sistema só vai ter 2 opções: cadastrar uma nova pessoa e listar todas as pessoas cadastradoas."
   ]
  }
 ],
 "metadata": {
  "kernelspec": {
   "display_name": "Python 3 (ipykernel)",
   "language": "python",
   "name": "python3"
  },
  "language_info": {
   "codemirror_mode": {
    "name": "ipython",
    "version": 3
   },
   "file_extension": ".py",
   "mimetype": "text/x-python",
   "name": "python",
   "nbconvert_exporter": "python",
   "pygments_lexer": "ipython3",
   "version": "3.12.4"
  },
  "toc": {
   "base_numbering": 1,
   "nav_menu": {},
   "number_sections": true,
   "sideBar": true,
   "skip_h1_title": false,
   "title_cell": "Table of Contents",
   "title_sidebar": "Contents",
   "toc_cell": false,
   "toc_position": {
    "height": "calc(100% - 180px)",
    "left": "10px",
    "top": "150px",
    "width": "307.2px"
   },
   "toc_section_display": true,
   "toc_window_display": false
  },
  "varInspector": {
   "cols": {
    "lenName": 16,
    "lenType": 16,
    "lenVar": 40
   },
   "kernels_config": {
    "python": {
     "delete_cmd_postfix": "",
     "delete_cmd_prefix": "del ",
     "library": "var_list.py",
     "varRefreshCmd": "print(var_dic_list())"
    },
    "r": {
     "delete_cmd_postfix": ") ",
     "delete_cmd_prefix": "rm(",
     "library": "var_list.r",
     "varRefreshCmd": "cat(var_dic_list()) "
    }
   },
   "types_to_exclude": [
    "module",
    "function",
    "builtin_function_or_method",
    "instance",
    "_Feature"
   ],
   "window_display": false
  }
 },
 "nbformat": 4,
 "nbformat_minor": 5
}
